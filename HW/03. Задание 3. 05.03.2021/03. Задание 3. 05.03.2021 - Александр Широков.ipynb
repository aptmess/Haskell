{
 "cells": [
  {
   "cell_type": "markdown",
   "id": "endless-expense",
   "metadata": {},
   "source": [
    "# Задание 3\n",
    "\n",
    "<div style=\"text-align: right\"> \n",
    "    \n",
    "    Домашнее задание III до 05/03/21 \n",
    "    \n",
    "    Широков Александр, ПМ-1701\n",
    "    \n",
    "    improfeo@yandex.ru\n",
    "</div> "
   ]
  },
  {
   "cell_type": "markdown",
   "id": "subsequent-scottish",
   "metadata": {},
   "source": [
    "Определим новый тип данных [*«префиксное дерево»*](https://ru.wikipedia.org/wiki/%D0%9F%D1%80%D0%B5%D1%84%D0%B8%D0%BA%D1%81%D0%BD%D0%BE%D0%B5_%D0%B4%D0%B5%D1%80%D0%B5%D0%B2%D0%BE) (Trie, бор). \n",
    "\n",
    "Словарь на основе префиксного дерева содержит пары **(ключ, значение)**, где ключом является слово, а значением - «словарная статья» - объект некоторого типа. \n",
    "\n",
    "Каждый узел дерева представляет собой пару из словарной статьи (её может и не быть!) и списка дуг, помеченных символом и узлом-потомком."
   ]
  },
  {
   "cell_type": "code",
   "execution_count": null,
   "id": "hindu-branch",
   "metadata": {},
   "outputs": [],
   "source": [
    "newtype Arc a = Arc (Char, Node a) -- узел дерева\n",
    "newtype Node a = Node (Maybe a, [Arc a])"
   ]
  },
  {
   "cell_type": "markdown",
   "id": "august-scale",
   "metadata": {},
   "source": [
    "Словарь, содержащий три слова *“a”*, *“b”* и *“be”* (соответствующие им словарные стьти – это строки **“word a”**, **“word b”** и **“word be”**), может быть представлен следующим значением:"
   ]
  },
  {
   "cell_type": "code",
   "execution_count": null,
   "id": "polyphonic-compact",
   "metadata": {},
   "outputs": [],
   "source": [
    "dictionary = Node (Nothing, [Arc ('a', Node (Just \"word a\", [])), \n",
    "                Arc ('b', Node (Just \"word b\", \n",
    "                           [Arc ('e', Node (Just \"word be\", []))]))])"
   ]
  },
  {
   "cell_type": "markdown",
   "id": "impossible-democracy",
   "metadata": {},
   "source": [
    "Пустое дерево будет представлено значением:"
   ]
  },
  {
   "cell_type": "code",
   "execution_count": null,
   "id": "identical-senate",
   "metadata": {},
   "outputs": [],
   "source": [
    "clearTree = Node (Nothing, [])"
   ]
  },
  {
   "cell_type": "markdown",
   "id": "hungry-silly",
   "metadata": {},
   "source": [
    "Написать две функции:\n",
    "\n",
    "- ```haskell\n",
    "getEntries :: Node a -> [(String, a)] \n",
    "```\n",
    "\n",
    "    - выдает список пар (слово, словарная статья), содержащихся в дереве.\n",
    "    \n"
   ]
  },
  {
   "cell_type": "code",
   "execution_count": null,
   "id": "modified-creator",
   "metadata": {},
   "outputs": [],
   "source": [
    "import Data.Maybe"
   ]
  },
  {
   "cell_type": "code",
   "execution_count": null,
   "id": "every-diesel",
   "metadata": {},
   "outputs": [],
   "source": [
    "getEntries :: Node a -> [(String, a)]\n",
    "getEntries (Node (Nothing, [])) = [] -- пустое дерево\n",
    "getEntries start = currentKey start \"\" -- начинаем с пустого ключа\n",
    "currentKey :: Node a -> String -> [(String, a)]\n",
    "currentKey  (Node (word, article)) k | isNothing word = concatMap (nextKey k) article \n",
    "                                     | isJust word = (k, fromJust word) : concatMap (nextKey k) article --конкатенируем в список\n",
    "nextKey :: String -> Arc a -> [(String, a)]\n",
    "nextKey key (Arc (k, v)) = currentKey v (key ++ [k]) -- проходим вниз по дереву"
   ]
  },
  {
   "cell_type": "code",
   "execution_count": 6,
   "id": "spoken-dryer",
   "metadata": {},
   "outputs": [
    {
     "data": {
      "text/plain": [
       "[(\"a\",\"word a\"),(\"b\",\"word b\"),(\"be\",\"word be\")]"
      ]
     },
     "metadata": {},
     "output_type": "display_data"
    }
   ],
   "source": [
    "getEntries dictionary"
   ]
  },
  {
   "cell_type": "code",
   "execution_count": 7,
   "id": "interstate-astrology",
   "metadata": {},
   "outputs": [
    {
     "data": {
      "text/plain": [
       "[]"
      ]
     },
     "metadata": {},
     "output_type": "display_data"
    }
   ],
   "source": [
    "getEntries clearTree"
   ]
  },
  {
   "cell_type": "markdown",
   "id": "aware-stuff",
   "metadata": {},
   "source": [
    "- ```haskell\n",
    "add :: (String, a) -> Node a -> Node a\n",
    "```\n",
    "    - должна добавлять слово со словарной статьёй в дерево"
   ]
  },
  {
   "cell_type": "code",
   "execution_count": null,
   "id": "interested-killing",
   "metadata": {},
   "outputs": [],
   "source": [
    "add :: (String, a) -> Node a -> Node a\n",
    "add(x:ls, value) (Node (word, article)) | isNothing word = add (x:ls, new)\n",
    "                                              | k == x and = add (ls new)"
   ]
  },
  {
   "cell_type": "code",
   "execution_count": null,
   "id": "existing-house",
   "metadata": {},
   "outputs": [],
   "source": [
    "let y = add (\"bec\", \"word bec\") dictionary\n",
    "let d = add (\"ab\", \"word ab\") y"
   ]
  },
  {
   "cell_type": "code",
   "execution_count": 85,
   "id": "seasonal-siemens",
   "metadata": {},
   "outputs": [
    {
     "data": {
      "text/plain": [
       "[(\"a\",\"word a\"),(\"b\",\"word b\"),(\"be\",\"word be\"),(\"bec\",\"word bec\")]"
      ]
     },
     "metadata": {},
     "output_type": "display_data"
    }
   ],
   "source": [
    "getEntries y"
   ]
  },
  {
   "cell_type": "code",
   "execution_count": 84,
   "id": "excited-astrology",
   "metadata": {},
   "outputs": [
    {
     "data": {
      "text/plain": [
       "[(\"a\",\"word a\"),(\"ab\",\"word ab\"),(\"b\",\"word b\"),(\"be\",\"word be\"),(\"bec\",\"word bec\")]"
      ]
     },
     "metadata": {},
     "output_type": "display_data"
    }
   ],
   "source": [
    "getEntries d"
   ]
  }
 ],
 "metadata": {
  "kernelspec": {
   "display_name": "Haskell",
   "language": "haskell",
   "name": "haskell"
  },
  "language_info": {
   "codemirror_mode": "ihaskell",
   "file_extension": ".hs",
   "mimetype": "text/x-haskell",
   "name": "haskell",
   "pygments_lexer": "Haskell",
   "version": "8.8.4"
  }
 },
 "nbformat": 4,
 "nbformat_minor": 5
}
