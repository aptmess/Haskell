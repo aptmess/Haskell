{
 "cells": [
  {
   "cell_type": "markdown",
   "id": "supported-hanging",
   "metadata": {},
   "source": [
    "# Задание 1\n",
    "\n",
    "<div style=\"text-align: right\"> \n",
    "    \n",
    "    Домашнее задание I до 18/02/21 \n",
    "    \n",
    "    Широков Александр, ПМ-1701\n",
    "    \n",
    "    improfeo@yandex.ru\n",
    "</div> "
   ]
  },
  {
   "cell_type": "markdown",
   "id": "therapeutic-evening",
   "metadata": {},
   "source": [
    "1.\tНаписать функцию `bitOnes :: Integer -> Int`, которая выдает количество единиц в битовом представлении заданного натурального числа. Например, число `36` имеет битовое представление `100100`, поэтому `bitOnes 36 => 2`. Для решения пользуйтесь арифметическими операциями с целыми числами."
   ]
  },
  {
   "cell_type": "code",
   "execution_count": 1,
   "id": "printable-lloyd",
   "metadata": {},
   "outputs": [],
   "source": [
    "bitOnes :: Integer -> Int\n",
    "bitOnes 0 = 0\n",
    "bitOnes x = fromIntegral x `mod` 2 + bitOnes (x `div` 2)"
   ]
  },
  {
   "cell_type": "markdown",
   "id": "animated-parade",
   "metadata": {},
   "source": [
    "Тестирование"
   ]
  },
  {
   "cell_type": "code",
   "execution_count": 2,
   "id": "adverse-pearl",
   "metadata": {},
   "outputs": [
    {
     "data": {
      "text/plain": [
       "[0,1,1,2,1,2,2,3,1,2,2]"
      ]
     },
     "metadata": {},
     "output_type": "display_data"
    }
   ],
   "source": [
    "map bitOnes [0..10]"
   ]
  },
  {
   "cell_type": "code",
   "execution_count": 3,
   "id": "olympic-seafood",
   "metadata": {},
   "outputs": [
    {
     "data": {
      "text/plain": [
       "7"
      ]
     },
     "metadata": {},
     "output_type": "display_data"
    }
   ],
   "source": [
    "bitOnes 127"
   ]
  },
  {
   "cell_type": "code",
   "execution_count": 4,
   "id": "eleven-vinyl",
   "metadata": {},
   "outputs": [
    {
     "data": {
      "text/plain": [
       "1"
      ]
     },
     "metadata": {},
     "output_type": "display_data"
    }
   ],
   "source": [
    "bitOnes 128"
   ]
  },
  {
   "cell_type": "code",
   "execution_count": 5,
   "id": "white-fight",
   "metadata": {},
   "outputs": [
    {
     "data": {
      "text/plain": [
       "2"
      ]
     },
     "metadata": {},
     "output_type": "display_data"
    }
   ],
   "source": [
    "bitOnes 36"
   ]
  },
  {
   "attachments": {
    "image.png": {
     "image/png": "[encoded data removed]"
    }
   },
   "cell_type": "markdown",
   "id": "dated-border",
   "metadata": {},
   "source": [
    "2.\tНаписать функцию `ch :: Double -> Int -> Double`, которая должна вычислять значение *гиперболического косинуса* в заданной точке путем суммирования некоторого числа первых членов ряда в разложении этой функции в ряд Тейлора. Количество суммируемых членов задается вторым аргументом функции.\n",
    "\n",
    "*Указание*: для проверки правильности результатов можно воспользоваться стандартной функцией `cosh`.\n",
    "\n",
    "![image.png](attachment:image.png)"
   ]
  },
  {
   "cell_type": "code",
   "execution_count": 6,
   "id": "substantial-musician",
   "metadata": {},
   "outputs": [],
   "source": [
    "factorial :: Integer -> Integer\n",
    "factorial n | n == 0 = 1 -- если равно нулю, то единица\n",
    "            | n > 0  = n * factorial(n-1)"
   ]
  },
  {
   "cell_type": "code",
   "execution_count": 7,
   "id": "indie-seattle",
   "metadata": {},
   "outputs": [],
   "source": [
    "-- Аргументы\n",
    "    --- x - Double\n",
    "    --- n - количество суммируемых членов, Int\n",
    "ch :: Double -> Int -> Double\n",
    "ch x 0 = 1\n",
    "ch x n = x ** fromIntegral(2*n) / fromIntegral(factorial (2 * toInteger n)) + ch x (fromIntegral n-1) "
   ]
  },
  {
   "cell_type": "markdown",
   "id": "automated-nylon",
   "metadata": {},
   "source": [
    "Тестирование"
   ]
  },
  {
   "cell_type": "code",
   "execution_count": 8,
   "id": "fuzzy-statistics",
   "metadata": {},
   "outputs": [
    {
     "data": {
      "text/plain": [
       "3.762195691083632"
      ]
     },
     "metadata": {},
     "output_type": "display_data"
    }
   ],
   "source": [
    "ch 2 20"
   ]
  },
  {
   "cell_type": "code",
   "execution_count": 9,
   "id": "digital-software",
   "metadata": {},
   "outputs": [
    {
     "data": {
      "text/plain": [
       "3.7621956910836314"
      ]
     },
     "metadata": {},
     "output_type": "display_data"
    }
   ],
   "source": [
    "cosh 2"
   ]
  },
  {
   "cell_type": "code",
   "execution_count": 10,
   "id": "documentary-version",
   "metadata": {},
   "outputs": [
    {
     "data": {
      "text/plain": [
       "1.5430555555555556"
      ]
     },
     "metadata": {},
     "output_type": "display_data"
    }
   ],
   "source": [
    "ch 1 3"
   ]
  },
  {
   "cell_type": "code",
   "execution_count": 11,
   "id": "independent-instruction",
   "metadata": {},
   "outputs": [
    {
     "data": {
      "text/plain": [
       "1.543080634815244"
      ]
     },
     "metadata": {},
     "output_type": "display_data"
    }
   ],
   "source": [
    "ch 1 10"
   ]
  },
  {
   "cell_type": "code",
   "execution_count": 12,
   "id": "killing-employer",
   "metadata": {},
   "outputs": [
    {
     "data": {
      "text/plain": [
       "1.5430806348152437"
      ]
     },
     "metadata": {},
     "output_type": "display_data"
    }
   ],
   "source": [
    "cosh 1"
   ]
  },
  {
   "cell_type": "markdown",
   "id": "quiet-venezuela",
   "metadata": {},
   "source": [
    "3. Написать функцию `segmEquals :: Eq a => [a] -> [a]`, которая в списке значений находит отрезок максимальной длины подряд стоящих равных значений. Например, в списке `[1,3,3,6,7,3]` таким отрезком будет `[3,3]`, а в списке `[5,5,5,1,1,1]` результатом может быть любой из двух списков `[5,5,5]` или `[1,1,1]`. Для пустого списка результатом будет также пустой список..\n",
    "\n",
    "*Замечание*. `Eq a` – ограничение на тип, которое позволяет для сравнения значений использовать операции `(==)` и `(/=)`\n",
    "\n",
    "Будем хранить список текущих повторяющихся элементов, список оставшихся чисел и лучший список повторяющихся чисел. Если текущий элемент равен следующему элементу (`x == head t`), то добавим в список текущих элементов и продолжим рекурсию. Если же мы дойдем до момента, когда элементы перестанут повторяться, то если этот результат лучше предыдущего наилучшего, то запишем это решение в лучшее (`current_num`)."
   ]
  },
  {
   "cell_type": "code",
   "execution_count": 13,
   "id": "decimal-guitar",
   "metadata": {},
   "outputs": [],
   "source": [
    "-- s2\n",
    "-- Arguments\n",
    "    -- x - текущий список оставшихся чисел\n",
    "    -- current_num - текущий список повторяющихся чисел\n",
    "    -- best_num - текущий лучший список повторяющихся чисел\n",
    "    \n",
    "-- sumEquals\n",
    "-- Argument\n",
    "    -- x - входной список\n",
    "\n",
    "s2 :: Eq a => [a] -> [a] -> [a] -> [a]\n",
    "s2 [] _ best_num  = best_num\n",
    "s2 [x] current_num best_num = if length current_num > length best_num then current_num else best_num\n",
    "s2 (x:t) current_num best_num | x == head t = s2 t (x:current_num) best_num\n",
    "                              | length current_num > length best_num = s2 t [head t] current_num \n",
    "                              | otherwise = s2 t [head t] best_num\n",
    "                                     \n",
    "sumEquals :: Eq a => [a] -> [a]\n",
    "sumEquals [] = []\n",
    "sumEquals x = s2 x [] []"
   ]
  },
  {
   "cell_type": "code",
   "execution_count": 14,
   "id": "recognized-assault",
   "metadata": {},
   "outputs": [
    {
     "data": {
      "text/plain": [
       "[3,3]"
      ]
     },
     "metadata": {},
     "output_type": "display_data"
    }
   ],
   "source": [
    "sumEquals [1, 3, 3, 6, 7, 3]"
   ]
  },
  {
   "cell_type": "code",
   "execution_count": 15,
   "id": "sixth-pursuit",
   "metadata": {},
   "outputs": [
    {
     "data": {
      "text/plain": [
       "[7,7,7,7]"
      ]
     },
     "metadata": {},
     "output_type": "display_data"
    }
   ],
   "source": [
    "sumEquals [1, 3, 3, 6, 7, 7, 7, 7, 3]"
   ]
  },
  {
   "cell_type": "code",
   "execution_count": 16,
   "id": "recovered-dragon",
   "metadata": {},
   "outputs": [
    {
     "data": {
      "text/plain": [
       "[7,7,7,7,7]"
      ]
     },
     "metadata": {},
     "output_type": "display_data"
    }
   ],
   "source": [
    "sumEquals [1, 3, 3, 3, 6, 7, 7, 7, 7, 7, 3, 8, 8, 8, 8]"
   ]
  },
  {
   "cell_type": "code",
   "execution_count": 17,
   "id": "dense-knock",
   "metadata": {},
   "outputs": [
    {
     "data": {
      "text/plain": [
       "[7,7,7]"
      ]
     },
     "metadata": {},
     "output_type": "display_data"
    }
   ],
   "source": [
    "sumEquals [1,3,3,6,7,7,7,3]"
   ]
  },
  {
   "cell_type": "code",
   "execution_count": 18,
   "id": "widespread-running",
   "metadata": {},
   "outputs": [
    {
     "data": {
      "text/plain": [
       "[1,1,1]"
      ]
     },
     "metadata": {},
     "output_type": "display_data"
    }
   ],
   "source": [
    "sumEquals [5,5,5,1,1,1]"
   ]
  },
  {
   "cell_type": "code",
   "execution_count": 19,
   "id": "postal-inflation",
   "metadata": {},
   "outputs": [
    {
     "data": {
      "text/plain": [
       "[]"
      ]
     },
     "metadata": {},
     "output_type": "display_data"
    }
   ],
   "source": [
    "sumEquals []"
   ]
  },
  {
   "cell_type": "code",
   "execution_count": 20,
   "id": "signed-belize",
   "metadata": {},
   "outputs": [
    {
     "data": {
      "text/plain": [
       "[1,1,1]"
      ]
     },
     "metadata": {},
     "output_type": "display_data"
    }
   ],
   "source": [
    "sumEquals [5,5,5,1,1,1,2,2]"
   ]
  }
 ],
 "metadata": {
  "kernelspec": {
   "display_name": "Haskell",
   "language": "haskell",
   "name": "haskell"
  },
  "language_info": {
   "codemirror_mode": "ihaskell",
   "file_extension": ".hs",
   "mimetype": "text/x-haskell",
   "name": "haskell",
   "pygments_lexer": "Haskell",
   "version": "8.8.4"
  }
 },
 "nbformat": 4,
 "nbformat_minor": 5
}
