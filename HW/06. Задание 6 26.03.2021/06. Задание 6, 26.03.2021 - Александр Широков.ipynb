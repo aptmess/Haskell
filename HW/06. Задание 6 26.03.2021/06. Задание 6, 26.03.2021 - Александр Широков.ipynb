{
 "cells": [
  {
   "cell_type": "markdown",
   "id": "center-substance",
   "metadata": {},
   "source": [
    "# 1.\n",
    "\n",
    "Написать функцию `anagrams :: String -> [String] -> [[String]]`, которая:\n",
    "\n",
    "- по заданной строке, состоящей из слов, разделенных пробелами (слова состоят только из строчных латинских букв)\n",
    "- словарю (слова в словаре также состоят из строчных латинских букв и не содержат пробелов) \n",
    "\n",
    "находит все наборы слов из словаря (анаграммы исходной строки) такие, что каждый получившийся набор состоит из всех букв исходной строки. \n",
    "\n",
    "Например:\n",
    "\n",
    "> ```haskell \n",
    "anagrams \"madonna louise ciccone\"[\"come\",\"cool\",\"dance\",\"in\",\"income\",\"musician\",\"nude\",\"occasional\",\"one\",\"two\"]\n",
    "\n",
    "должен выдать список анаграмм\n",
    "\n",
    "> ```haskell\n",
    "[[\"income\",\"nude\",\"occasional\"],[\"cool\",\"dance\",\"musician\",\"one\"],[\"come\",\"in\",\"nude\",\"occasional\"]]\n",
    "\n",
    "Слова из словаря могут входить в анаграмму неоднократно. Конечно, список может оказаться и пустым. Функция должна работать за приемлемое время на тестах, подобных вышеприведенному примеру."
   ]
  },
  {
   "cell_type": "code",
   "execution_count": 1,
   "id": "recovered-leeds",
   "metadata": {},
   "outputs": [],
   "source": [
    "-- TASK1\n",
    "\n",
    "--сортирую список кортежей по количеству символов\n",
    "\n",
    "sortBy :: [(Char,Int)] -> [(Char,Int)]\n",
    "sortBy [] = []\n",
    "sortBy x = mix : sortBy xx\n",
    "           where mix = foldl (\\ a p -> if fst a > fst p then p else a) (head x) x\n",
    "                 xx  = filter (/= mix) x\n",
    "                 \n",
    "-- сравниваю два списка кортежей между собой\n",
    "\n",
    "compare (x:xs) (y:ys) = (x == y) && compare xs ys\n",
    "compare [] [] = True\n",
    "compare _ _ = False\n",
    "\n",
    "-- считаю количество букв в строке\n",
    "               \n",
    "countChars :: String -> [(Char,Int)]\n",
    "countChars \"\"     = []\n",
    "countChars (s:ss) =  (s,n) : countChars ww   \n",
    "                       where ww = filter (/= s) ss\n",
    "                             n  = length ss-length ww+1\n",
    "                             \n",
    "subset :: [String] -> [[String]]\n",
    "subset [x] = [[x], []]\n",
    "subset (x:ls) = current ++ map (x:) current\n",
    "            where current = subset ls               \n",
    " \n",
    "-- проверяю на соответствие встречаемости символов в исходной строке string для множества слов, выбираю лишь совпадающие\n",
    "anagrams :: String -> [String] ->[[String]]\n",
    "anagrams string dict =  filter (isEqual inp_string) subsets     \n",
    "                        where subsets = subset dict\n",
    "                              inp_string = sortBy $ countChars (head (cutWhitespace [string]))\n",
    "                              isEqual s1 s2 = compare s1 (sortBy $ countChars (concat s2)) \n",
    "                              cutWhitespace (x:ls) = filter (/=' ') x:ls"
   ]
  },
  {
   "cell_type": "code",
   "execution_count": 2,
   "id": "secure-chess",
   "metadata": {},
   "outputs": [
    {
     "data": {
      "text/plain": [
       "[[\"income\",\"nude\",\"occasional\"],[\"cool\",\"dance\",\"musician\",\"one\"],[\"come\",\"in\",\"nude\",\"occasional\"]]"
      ]
     },
     "metadata": {},
     "output_type": "display_data"
    }
   ],
   "source": [
    "let input_string = \"madonna louise ciccone\"\n",
    "let dictionary = [\"come\",\"cool\",\"dance\",\"in\",\"income\",\"musician\",\"nude\",\"occasional\",\"one\",\"two\"]\n",
    "anagrams input_string dictionary"
   ]
  },
  {
   "cell_type": "markdown",
   "id": "electoral-indianapolis",
   "metadata": {},
   "source": [
    "# 2.\n",
    "\n",
    "Написать функцию `operations :: Integer -> Maybe String`, которая пытается расставить знаки '+' и '-' между цифрами `1, 2, 3, 4, 5, 6, 7, 8, 9` так, чтобы получилось заданное число. \n",
    "\n",
    "Между цифрами может не оказаться никакого знака, тогда цифры объединяются в число.\n",
    "\n",
    "Например, один из вариантов расстановки для числа 118 - это `123+45-67+8+9`. \n",
    "\n",
    "Если знаки расставить удается, то результат выдается в виде строки с конструктором Just, так что operations 118 может выдать строку `Just \"123+45-67+8+9\"` или Just `\"1+2+34+5-6-7+89\"`. \n",
    "\n",
    "Если расставить знаки подходящим образом невозможно, то функция должна выдавать `Nothing`, например, вызов функции operations `2013` выдаст `Nothing`."
   ]
  },
  {
   "cell_type": "code",
   "execution_count": 3,
   "id": "active-moment",
   "metadata": {},
   "outputs": [
    {
     "data": {
      "text/html": [
       "<style>/* Styles used for the Hoogle display in the pager */\n",
       ".hoogle-doc {\n",
       "display: block;\n",
       "padding-bottom: 1.3em;\n",
       "padding-left: 0.4em;\n",
       "}\n",
       ".hoogle-code {\n",
       "display: block;\n",
       "font-family: monospace;\n",
       "white-space: pre;\n",
       "}\n",
       ".hoogle-text {\n",
       "display: block;\n",
       "}\n",
       ".hoogle-name {\n",
       "color: green;\n",
       "font-weight: bold;\n",
       "}\n",
       ".hoogle-head {\n",
       "font-weight: bold;\n",
       "}\n",
       ".hoogle-sub {\n",
       "display: block;\n",
       "margin-left: 0.4em;\n",
       "}\n",
       ".hoogle-package {\n",
       "font-weight: bold;\n",
       "font-style: italic;\n",
       "}\n",
       ".hoogle-module {\n",
       "font-weight: bold;\n",
       "}\n",
       ".hoogle-class {\n",
       "font-weight: bold;\n",
       "}\n",
       ".get-type {\n",
       "color: green;\n",
       "font-weight: bold;\n",
       "font-family: monospace;\n",
       "display: block;\n",
       "white-space: pre-wrap;\n",
       "}\n",
       ".show-type {\n",
       "color: green;\n",
       "font-weight: bold;\n",
       "font-family: monospace;\n",
       "margin-left: 1em;\n",
       "}\n",
       ".mono {\n",
       "font-family: monospace;\n",
       "display: block;\n",
       "}\n",
       ".err-msg {\n",
       "color: red;\n",
       "font-style: italic;\n",
       "font-family: monospace;\n",
       "white-space: pre;\n",
       "display: block;\n",
       "}\n",
       "#unshowable {\n",
       "color: red;\n",
       "font-weight: bold;\n",
       "}\n",
       ".err-msg.in.collapse {\n",
       "padding-top: 0.7em;\n",
       "}\n",
       ".highlight-code {\n",
       "white-space: pre;\n",
       "font-family: monospace;\n",
       "}\n",
       ".suggestion-warning { \n",
       "font-weight: bold;\n",
       "color: rgb(200, 130, 0);\n",
       "}\n",
       ".suggestion-error { \n",
       "font-weight: bold;\n",
       "color: red;\n",
       "}\n",
       ".suggestion-name {\n",
       "font-weight: bold;\n",
       "}\n",
       "</style><div class=\"suggestion-name\" style=\"clear:both;\">Use foldr</div><div class=\"suggestion-row\" style=\"float: left;\"><div class=\"suggestion-warning\">Found:</div><div class=\"highlight-code\" id=\"haskell\">minus [] = 0\n",
       "minus (x : ls) = - (read x) - (minus ls)</div></div><div class=\"suggestion-row\" style=\"float: left;\"><div class=\"suggestion-warning\">Why Not:</div><div class=\"highlight-code\" id=\"haskell\">minus ls = foldr (\\ x -> (-) (- (read x))) 0 ls</div></div><div class=\"suggestion-name\" style=\"clear:both;\">Redundant bracket</div><div class=\"suggestion-row\" style=\"float: left;\"><div class=\"suggestion-warning\">Found:</div><div class=\"highlight-code\" id=\"haskell\">- (read x) - (minus ls)</div></div><div class=\"suggestion-row\" style=\"float: left;\"><div class=\"suggestion-warning\">Why Not:</div><div class=\"highlight-code\" id=\"haskell\">- (read x) - minus ls</div></div><div class=\"suggestion-name\" style=\"clear:both;\">Use elemIndex</div><div class=\"suggestion-row\" style=\"float: left;\"><div class=\"suggestion-warning\">Found:</div><div class=\"highlight-code\" id=\"haskell\">findIndex (== p)</div></div><div class=\"suggestion-row\" style=\"float: left;\"><div class=\"suggestion-warning\">Why Not:</div><div class=\"highlight-code\" id=\"haskell\">elemIndex p</div></div>"
      ],
      "text/plain": [
       "Line 45: Use foldr\n",
       "Found:\n",
       "minus [] = 0\n",
       "minus (x : ls) = - (read x) - (minus ls)\n",
       "Why not:\n",
       "minus ls = foldr (\\ x -> (-) (- (read x))) 0 lsLine 46: Redundant bracket\n",
       "Found:\n",
       "- (read x) - (minus ls)\n",
       "Why not:\n",
       "- (read x) - minus lsLine 66: Use elemIndex\n",
       "Found:\n",
       "findIndex (== p)\n",
       "Why not:\n",
       "elemIndex p"
      ]
     },
     "metadata": {},
     "output_type": "display_data"
    }
   ],
   "source": [
    "import Data.List\n",
    "import Data.List.Split\n",
    "\n",
    "\n",
    "-- вспомогательная функция - разделения для дерева\n",
    "splits :: Eq a => [a] -> [([a], [a])]\n",
    "splits xs = [ (as,bs) | (as,bs) <- zip (inits xs) (tails xs), as /= [], bs /= [] ]\n",
    "\n",
    "\n",
    "-- операции + - и слияние\n",
    "type Operation = Char\n",
    "oper :: [Operation]\n",
    "oper = ['+', '-', '\\0'] \n",
    "\n",
    "\n",
    "\n",
    "-- Наше дерево выражений, в котором будут храниться значения и операции между ними\n",
    "data Node = Value Integer  -- лист дерева с некоторым числовым значением \n",
    "            | Op Operation Node Node -- узел дерева: операция и два поддерева\n",
    "            deriving Show\n",
    "\n",
    "-- генерация всевозможных последовательность из цифр 1..9, +,- и слияния\n",
    "gen :: [Integer] -> [Node]\n",
    "gen [] = []\n",
    "gen [x] = [Value x]\n",
    "gen xs = [ Op op leftNode rightNode | (leftList,rightList) <- splits xs, \n",
    "                 leftNode <- gen leftList, \n",
    "                 rightNode <- gen rightList,\n",
    "                 op <- oper]\n",
    "\n",
    "-- для визуализации ответа - собираем дерево \n",
    "mynode :: Node -> String\n",
    "mynode (Value a) = show a\n",
    "mynode (Op op left right) | op == '\\0' = mynode left ++ \"\" ++ mynode right\n",
    "                            | otherwise = mynode left ++ [op] ++ mynode right\n",
    "\n",
    "-- дополнительная функция для подсчета result - по строке \"1+2+3-45..\" высчитать результат\n",
    "result2 :: [String] -> Integer\n",
    "result2 [] = 0\n",
    "result2 (x:ls) | length (splitOn \"-\" x) /= 1 = -minus (splitOn \"-\" x) + result2 ls\n",
    "              | otherwise = (read x :: Integer) + result2 ls\n",
    "\n",
    "-- дополнительная функция для result - для минуса\n",
    "minus :: [String] -> Integer\n",
    "minus [] = 0\n",
    "minus (x:ls) = - (read x) - (minus ls)\n",
    "\n",
    "-- дополнительная функция для result - для плюса\n",
    "plus :: [String] -> Integer\n",
    "plus = foldr (\\ x -> (+) (read x :: Integer)) 0\n",
    "\n",
    "-- по строке \"1+2+3-45..\" высчитать результат\n",
    "result :: String -> Integer\n",
    "result x | x == \"123456789\" = 123456789\n",
    "         | length (splitOn \"-\" x) == 1 = plus (splitOn \"+\" x)\n",
    "         | length (splitOn \"+\" x) == 1 = (read (head (splitOn \"-\" x)) :: Integer) - plus (tail (splitOn \"-\" x))\n",
    "         | otherwise = result2 (splitOn \"+\" x)\n",
    "\n",
    "-- ищем по индексу ответ в сгененированном списке gen\n",
    "findIndex p xs = case [ i | (x, i) <- zip (map result xs) [0..], p x ] of\n",
    "    [] -> Nothing\n",
    "    e:_ -> Just (xs !! e)\n",
    "\n",
    "-- результат\n",
    "operations :: Integer -> Maybe String\n",
    "operations p = findIndex (== p) (map mynode (gen [1..9]))"
   ]
  },
  {
   "cell_type": "code",
   "execution_count": 4,
   "id": "bigger-fighter",
   "metadata": {},
   "outputs": [
    {
     "data": {
      "text/plain": [
       "Just \"1+2+34+5-6+78+9\""
      ]
     },
     "metadata": {},
     "output_type": "display_data"
    }
   ],
   "source": [
    "operations 123"
   ]
  },
  {
   "cell_type": "code",
   "execution_count": 5,
   "id": "thorough-animal",
   "metadata": {},
   "outputs": [
    {
     "data": {
      "text/plain": [
       "Just \"12+3+4-5+6-7+8+9\""
      ]
     },
     "metadata": {},
     "output_type": "display_data"
    }
   ],
   "source": [
    "operations 30"
   ]
  },
  {
   "cell_type": "code",
   "execution_count": 6,
   "id": "motivated-notice",
   "metadata": {},
   "outputs": [
    {
     "data": {
      "text/plain": [
       "Just \"1+23-4+56+7+8+9\""
      ]
     },
     "metadata": {},
     "output_type": "display_data"
    }
   ],
   "source": [
    "operations 100"
   ]
  }
 ],
 "metadata": {
  "kernelspec": {
   "display_name": "Haskell",
   "language": "haskell",
   "name": "haskell"
  },
  "language_info": {
   "codemirror_mode": "ihaskell",
   "file_extension": ".hs",
   "mimetype": "text/x-haskell",
   "name": "haskell",
   "pygments_lexer": "Haskell",
   "version": "8.8.4"
  }
 },
 "nbformat": 4,
 "nbformat_minor": 5
}
