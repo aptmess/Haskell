{
 "cells": [
  {
   "cell_type": "code",
   "execution_count": null,
   "id": "concerned-journal",
   "metadata": {},
   "outputs": [],
   "source": [
    "-- Основная функция.\n",
    "-- Аргументы: str - строка, dictionary - словарь.\n",
    "-- Идея: смотрим, с каких слов словаря может начинаться строка,\n",
    "-- потом каждое из этих слов присоединяем к результату рекурсивного вызова функции для остатка строки.\n",
    "dict :: String -> [String] -> [[String]]\n",
    "dict \"\" dictionary = [[]]\n",
    "dict str [] = [[str]]\n",
    "dict str dictionary | null (getPrefixes str dictionary) = []\n",
    "        | otherwise = concatMap app (getPrefixes str dictionary)\n",
    "        where app word = map (word:) (dict (drop (length word) str) dictionary)\n",
    "\n",
    "-- Вспомогательные функции.\n",
    "\n",
    "-- Функция, определяющая, является ли слово word префиксом строки str.\n",
    "isPrefix :: String -> String -> Bool\n",
    "isPrefix str word = (length word <= length str) && (take (length word) str == word)\n",
    "\n",
    "-- Функция выдает список слов из словаря dictionary, с которых начинается строка str (т.е. список всех префиксов str, входящих в dictionary).\n",
    "getPrefixes :: String -> [String] -> [String]\n",
    "getPrefixes str dictionary = filter (isPrefix str) dictionary\n",
    "\n",
    "-- Тест.\n",
    "test = (dict \"to be or not to be\" [\" \", \"a\", \"be\", \"is\", \"or\", \"one\", \"not\", \"that\", \"to\"], dict \"\" [\"some\", \"dictionary\"], dict \"some string\" [])"
   ]
  },
  {
   "cell_type": "code",
   "execution_count": null,
   "id": "medium-plaintiff",
   "metadata": {},
   "outputs": [],
   "source": [
    "dict \"madonna louise ciccone\" [\"come\",\"cool\",\"dance\",\"in\",\"income\",\"musician\",\"nude\",\"occasional\",\"one\",\"two\"]"
   ]
  },
  {
   "cell_type": "code",
   "execution_count": 17,
   "id": "solar-barbados",
   "metadata": {},
   "outputs": [
    {
     "data": {
      "text/html": [
       "<style>/* Styles used for the Hoogle display in the pager */\n",
       ".hoogle-doc {\n",
       "display: block;\n",
       "padding-bottom: 1.3em;\n",
       "padding-left: 0.4em;\n",
       "}\n",
       ".hoogle-code {\n",
       "display: block;\n",
       "font-family: monospace;\n",
       "white-space: pre;\n",
       "}\n",
       ".hoogle-text {\n",
       "display: block;\n",
       "}\n",
       ".hoogle-name {\n",
       "color: green;\n",
       "font-weight: bold;\n",
       "}\n",
       ".hoogle-head {\n",
       "font-weight: bold;\n",
       "}\n",
       ".hoogle-sub {\n",
       "display: block;\n",
       "margin-left: 0.4em;\n",
       "}\n",
       ".hoogle-package {\n",
       "font-weight: bold;\n",
       "font-style: italic;\n",
       "}\n",
       ".hoogle-module {\n",
       "font-weight: bold;\n",
       "}\n",
       ".hoogle-class {\n",
       "font-weight: bold;\n",
       "}\n",
       ".get-type {\n",
       "color: green;\n",
       "font-weight: bold;\n",
       "font-family: monospace;\n",
       "display: block;\n",
       "white-space: pre-wrap;\n",
       "}\n",
       ".show-type {\n",
       "color: green;\n",
       "font-weight: bold;\n",
       "font-family: monospace;\n",
       "margin-left: 1em;\n",
       "}\n",
       ".mono {\n",
       "font-family: monospace;\n",
       "display: block;\n",
       "}\n",
       ".err-msg {\n",
       "color: red;\n",
       "font-style: italic;\n",
       "font-family: monospace;\n",
       "white-space: pre;\n",
       "display: block;\n",
       "}\n",
       "#unshowable {\n",
       "color: red;\n",
       "font-weight: bold;\n",
       "}\n",
       ".err-msg.in.collapse {\n",
       "padding-top: 0.7em;\n",
       "}\n",
       ".highlight-code {\n",
       "white-space: pre;\n",
       "font-family: monospace;\n",
       "}\n",
       ".suggestion-warning { \n",
       "font-weight: bold;\n",
       "color: rgb(200, 130, 0);\n",
       "}\n",
       ".suggestion-error { \n",
       "font-weight: bold;\n",
       "color: red;\n",
       "}\n",
       ".suggestion-name {\n",
       "font-weight: bold;\n",
       "}\n",
       "</style><div class=\"suggestion-name\" style=\"clear:both;\">Redundant bracket</div><div class=\"suggestion-row\" style=\"float: left;\"><div class=\"suggestion-warning\">Found:</div><div class=\"highlight-code\" id=\"haskell\">(flip splitAt) ls</div></div><div class=\"suggestion-row\" style=\"float: left;\"><div class=\"suggestion-warning\">Why Not:</div><div class=\"highlight-code\" id=\"haskell\">flip splitAt ls</div></div><div class=\"suggestion-name\" style=\"clear:both;\">Use concatMap</div><div class=\"suggestion-row\" style=\"float: left;\"><div class=\"suggestion-warning\">Found:</div><div class=\"highlight-code\" id=\"haskell\">concat (map (insertOp ls) ['+', '-', 'l'])</div></div><div class=\"suggestion-row\" style=\"float: left;\"><div class=\"suggestion-warning\">Why Not:</div><div class=\"highlight-code\" id=\"haskell\">concatMap (insertOp ls) ['+', '-', 'l']</div></div><div class=\"suggestion-name\" style=\"clear:both;\">Use concatMap</div><div class=\"suggestion-row\" style=\"float: left;\"><div class=\"suggestion-warning\">Found:</div><div class=\"highlight-code\" id=\"haskell\">concat (map descartesTree (allTriples ls))</div></div><div class=\"suggestion-row\" style=\"float: left;\"><div class=\"suggestion-warning\">Why Not:</div><div class=\"highlight-code\" id=\"haskell\">concatMap descartesTree (allTriples ls)</div></div><div class=\"suggestion-name\" style=\"clear:both;\">Move map inside list comprehension</div><div class=\"suggestion-row\" style=\"float: left;\"><div class=\"suggestion-warning\">Found:</div><div class=\"highlight-code\" id=\"haskell\">map (build op) [(t1, t2) | t1 <- allTrees ls1, t2 <- allTrees ls2]</div></div><div class=\"suggestion-row\" style=\"float: left;\"><div class=\"suggestion-warning\">Why Not:</div><div class=\"highlight-code\" id=\"haskell\">[(build op) (t1, t2) | t1 <- allTrees ls1, t2 <- allTrees ls2]</div></div>"
      ],
      "text/plain": [
       "Line 30: Redundant bracket\n",
       "Found:\n",
       "(flip splitAt) ls\n",
       "Why not:\n",
       "flip splitAt lsLine 38: Use concatMap\n",
       "Found:\n",
       "concat (map (insertOp ls) ['+', '-', 'l'])\n",
       "Why not:\n",
       "concatMap (insertOp ls) ['+', '-', 'l']Line 43: Use concatMap\n",
       "Found:\n",
       "concat (map descartesTree (allTriples ls))\n",
       "Why not:\n",
       "concatMap descartesTree (allTriples ls)Line 45: Move map inside list comprehension\n",
       "Found:\n",
       "map (build op) [(t1, t2) | t1 <- allTrees ls1, t2 <- allTrees ls2]\n",
       "Why not:\n",
       "[(build op) (t1, t2) | t1 <- allTrees ls1, t2 <- allTrees ls2]"
      ]
     },
     "metadata": {},
     "output_type": "display_data"
    }
   ],
   "source": [
    "fromDigits = foldl addDigit 0\n",
    "   where addDigit num d = 10*num + d\n",
    "   \n",
    "digs :: Integral x => x -> [x]\n",
    "digs 0 = []\n",
    "digs x = digs (x `div` 10) ++ [x `mod` 10]\n",
    "\n",
    "-- Идея: представляем все возможные выражения в виде двоичного дерева.\n",
    "data Tree = Num Int | Op Tree Char Tree\n",
    "-- (Красивый) вывод дерева такого типа.\n",
    "instance Show Tree where\n",
    "  showsPrec _ (Num n) = (show n ++)\n",
    "  showsPrec _ (Op t1 op t2) | op == '-' =  ('(':) . shows t1 . (op:) . shows t2 . (')':)\n",
    "                            | op == '+' = shows t1 . (op:) . shows t2\n",
    "                            | op == 'l' = shows t1 . shows t2\n",
    "\n",
    "-- Функция, вычисляющая выражение в дереве.\n",
    "calculate :: Tree -> Integer\n",
    "calculate (Num a) = fromIntegral a -- приведение типов!\n",
    "calculate (Op t1 operation t2) | operation == '+' = calculate t1 + calculate t2\n",
    "\t| operation == '-' = calculate t1 - calculate t2\n",
    "--    | operation == 'l' = fromDigits ((calculate t1) : (digs (calculate t2)))\n",
    "    | operation == 'l' = fromDigits[calculate t1, calculate t2]\n",
    "--   | operation == 'l' = fromDigits[calculate t1, calculate t2]\n",
    "--    | operation == 'l' =  fromDigits (calculate t1:digs (calculate t2))\n",
    "\n",
    "\n",
    "-- Строим все разбиения списка целых чисел на два его подсписка (т.е. \"разбивающий\" элемент пробегает по нашему списку).\n",
    "allPairs :: [Int] -> [([Int], [Int])]\n",
    "allPairs ls = map ((flip splitAt) ls) [1..(length ls - 1)]\n",
    "\n",
    "-- Вставляем в пару подсписков заданный во втором аргументе знак операции.\n",
    "insertOp :: [Int] -> Char -> [([Int], Char, [Int])]\n",
    "insertOp ls operation = map (\\(a,b) -> (a, operation, b)) (allPairs ls)\n",
    "\n",
    "-- Строим все тройки из подсписков и операций '+', '-', '*'.\n",
    "allTriples :: [Int] -> [([Int], Char, [Int])]\n",
    "allTriples ls = concat (map (insertOp ls) ['+', '-', 'l'])\n",
    "\n",
    "-- Строим все деревья указанного выше типа, в листьях которых стоят числа из заданного в первом аргументе списка.\n",
    "allTrees :: [Int] -> [Tree]\n",
    "allTrees [a]  = [Num a]\n",
    "allTrees ls = concat (map descartesTree (allTriples ls))\n",
    "                 where build op (t1, t2) = Op t1 op t2\n",
    "                       descartesTree (ls1, op, ls2) = map (build op) [(t1, t2) | t1 <- allTrees ls1, t2 <- allTrees ls2] -- TODO: красиво ? чтобы не падало на больших числах ??\n",
    "\n",
    "-- Вспомогательная функция.\n",
    "-- Нужна для того, чтобы взять первое решение (т.е. подходящую расстановку знаков) из списка всех вариантов.\n",
    "-- Берём из списка ls первый элемент, удовлетворяющий заданному (в первом аргументе) условию f.\n",
    "find :: (a -> Bool) -> [a] -> Maybe a\n",
    "find f ls = lookup True (zip (map f ls) ls) -- TODO: как сделать красиво ?\n",
    "\n",
    "-- Стартовая функция solve.\n",
    "solve' (Just res) = show res\n",
    "solve' Nothing = \"impossible\"\n",
    "solve n = solve' (find (\\t -> calculate t == n) (allTrees [1..9]))"
   ]
  },
  {
   "cell_type": "code",
   "execution_count": 24,
   "id": "median-standard",
   "metadata": {},
   "outputs": [
    {
     "data": {
      "text/plain": [
       "\"1+2+3+(4-5)+(6-7)8+9\""
      ]
     },
     "metadata": {},
     "output_type": "display_data"
    }
   ],
   "source": [
    "solve 12"
   ]
  },
  {
   "cell_type": "code",
   "execution_count": 23,
   "id": "exempt-breakfast",
   "metadata": {},
   "outputs": [
    {
     "data": {
      "text/plain": [
       "275"
      ]
     },
     "metadata": {},
     "output_type": "display_data"
    }
   ],
   "source": [
    "fromDigits [2, 3, 45]"
   ]
  },
  {
   "cell_type": "code",
   "execution_count": null,
   "id": "molecular-surname",
   "metadata": {},
   "outputs": [],
   "source": [
    "solve 1"
   ]
  },
  {
   "cell_type": "code",
   "execution_count": null,
   "id": "bronze-florist",
   "metadata": {},
   "outputs": [],
   "source": []
  },
  {
   "cell_type": "code",
   "execution_count": null,
   "id": "considered-proportion",
   "metadata": {},
   "outputs": [],
   "source": [
    "fromDigits (5 : (digs 67))"
   ]
  },
  {
   "cell_type": "code",
   "execution_count": null,
   "id": "handmade-broadway",
   "metadata": {},
   "outputs": [],
   "source": [
    "digs :: Integral x => x -> [x]\n",
    "digs 0 = []\n",
    "digs x = digs (x `div` 10) ++ [x `mod` 10]"
   ]
  },
  {
   "cell_type": "code",
   "execution_count": null,
   "id": "attached-japanese",
   "metadata": {},
   "outputs": [],
   "source": [
    "digs 67"
   ]
  },
  {
   "cell_type": "code",
   "execution_count": null,
   "id": "becoming-islam",
   "metadata": {},
   "outputs": [],
   "source": [
    "1 + 2 + 3 + 4 + 5 + 6 + 7 - (8+9)"
   ]
  },
  {
   "cell_type": "code",
   "execution_count": null,
   "id": "adjacent-council",
   "metadata": {},
   "outputs": [],
   "source": [
    "concat [1, 2, 3, 4"
   ]
  },
  {
   "cell_type": "code",
   "execution_count": null,
   "id": "forbidden-produce",
   "metadata": {},
   "outputs": [],
   "source": [
    "fromDigits [1, 24, 5, 6]"
   ]
  },
  {
   "cell_type": "code",
   "execution_count": null,
   "id": "august-federal",
   "metadata": {},
   "outputs": [],
   "source": [
    "let a = 1\n",
    "let b = 37\n",
    "fromDigits [a, b]"
   ]
  },
  {
   "cell_type": "code",
   "execution_count": null,
   "id": "informative-patent",
   "metadata": {},
   "outputs": [],
   "source": []
  },
  {
   "cell_type": "code",
   "execution_count": null,
   "id": "proved-russell",
   "metadata": {},
   "outputs": [],
   "source": [
    "digits 6"
   ]
  },
  {
   "cell_type": "code",
   "execution_count": null,
   "id": "prepared-charge",
   "metadata": {},
   "outputs": [],
   "source": [
    "[1] ++ [2]"
   ]
  },
  {
   "cell_type": "code",
   "execution_count": null,
   "id": "valid-letters",
   "metadata": {},
   "outputs": [],
   "source": [
    "2 :: String"
   ]
  },
  {
   "cell_type": "code",
   "execution_count": null,
   "id": "competitive-franchise",
   "metadata": {},
   "outputs": [],
   "source": [
    "show 3"
   ]
  },
  {
   "cell_type": "code",
   "execution_count": 2,
   "id": "relevant-relationship",
   "metadata": {},
   "outputs": [
    {
     "ename": "",
     "evalue": "",
     "output_type": "error",
     "traceback": [
      "Parse error (line 33, column 94): parse error (possibly incorrect indentation or mismatched brackets)"
     ]
    }
   ],
   "source": [
    "-----\n",
    "-- Калькулятор для вычисления выражений на основе Parsec\n",
    "-- calcExpr \"1+2-3+4*5+6*7-8-9\" = 45\n",
    "calcExpr :: String -> Integer\n",
    "calcExpr str = let Right a = parse expr \"expr\" str in a\n",
    "\n",
    "expr    = buildExpressionParser table (natural haskell)\n",
    "table   = [ [op \"*\" (*) ]\n",
    "          , [op \"+\" (+) , op \"-\" (-) ] ]\n",
    "op name fun = Infix (string name >> return fun) AssocLeft\n",
    "\n",
    "-----\n",
    "-- Вычисляет все разбиения списка на подсписки\n",
    "-- partitions [1,2,3] = [ [[1],[2],[3]], [[1],[2,3]], [[1,2],[3]], [[1,2,3]] ]\n",
    "partitions [] = [ [] ]\n",
    "partitions xs = [ elem : elems \n",
    "                | (elem, rest) <- tail $ zip (inits xs) (tails xs)\n",
    "                , elems        <- partitions rest ]\n",
    "\n",
    "-----\n",
    "-- Все варианты расстановки знаков \"+-*\" в строке str\n",
    "-- variants \"123\" = [\"1+2+3\",\"1+2-3\",\"1+2*3\",\"1-2+3\",\"1-2-3\",\"1-2*3\",\"1*2+3\",\"1*2-3\",\"1*2*3\",\"1+23\",\"1-23\",\"1*23\",\"12+3\",\"12-3\",\"12*3\",\"123\"]\n",
    "variants :: String -> [String]\n",
    "variants str = concat [ map concat $ sequence $ intersperse [\"+\", \"-\", \"*\"] $ map (:[]) p | p <- partitions str ]\n",
    "\n",
    "-----\n",
    "-- Формируем Map (Полученный результат -> Список вариантов расстановки для этого результата)\n",
    "varsMap :: M.Map Integer [String]\n",
    "varsMap = M.fromListWith (++) [ (calcExpr v, [v]) | v <- variants \"123456789\" ]\n",
    "\n",
    "-- Решение задачи\n",
    "task1 = head $ [1..] \\\\ M.keys varsMap\n",
    "task2 = fst $ maximumBy (comparing snd) [ (res, length vars) | (res, vars) <- M.toList varsMa"
   ]
  },
  {
   "cell_type": "code",
   "execution_count": 26,
   "id": "professional-space",
   "metadata": {},
   "outputs": [
    {
     "ename": "",
     "evalue": "",
     "output_type": "error",
     "traceback": [
      "<interactive>:6:49: error: Variable not in scope: intersperse :: [String] -> [[a0]] -> [[[a1]]]\n<interactive>:3:47: error:\n    • Variable not in scope: inits :: [a] -> [a2]\n    • Perhaps you meant ‘init’ (imported from Prelude)\n<interactive>:3:58: error:\n    • Variable not in scope: tails :: [a] -> [[a]]\n    • Perhaps you meant ‘tail’ (imported from Prelude)"
     ]
    }
   ],
   "source": [
    "-- Вычисляет все разбиения списка на подсписки\n",
    "-- partitions [1,2,3] = [ [[1],[2],[3]], [[1],[2,3]], [[1,2],[3]], [[1,2,3]] ]\n",
    "partitions [] = [ [] ]\n",
    "partitions xs = [ elem : elems \n",
    "                | (elem, rest) <- tail $ zip (inits xs) (tails xs)\n",
    "                , elems        <- partitions rest ]\n",
    "\n",
    "-----\n",
    "-- Все варианты расстановки знаков \"+-*\" в строке str\n",
    "-- variants \"123\" = [\"1+2+3\",\"1+2-3\",\"1+2*3\",\"1-2+3\",\"1-2-3\",\"1-2*3\",\"1*2+3\",\"1*2-3\",\"1*2*3\",\"1+23\",\"1-23\",\"1*23\",\"12+3\",\"12-3\",\"12*3\",\"123\"]\n",
    "variants :: String -> [String]\n",
    "variants str = concat [ map concat $ sequence $ intersperse [\"+\", \"-\", \"*\"] $ map (:[]) p | p <- partitions str ]"
   ]
  },
  {
   "cell_type": "code",
   "execution_count": 78,
   "id": "piano-token",
   "metadata": {},
   "outputs": [],
   "source": [
    "quicksort :: Ord a => [a] -> [a]\n",
    "quicksort list = quicksort' list []\n",
    "    where\n",
    "        quicksort' [] list = list\n",
    "        quicksort' (x:xs) list = quicksort' (filter (< x) xs) $\n",
    "                             x : quicksort' (filter (>= x) xs) list\n"
   ]
  },
  {
   "cell_type": "code",
   "execution_count": 83,
   "id": "composed-fraction",
   "metadata": {},
   "outputs": [],
   "source": [
    "fun' :: Integer -> Integer -> [Integer] -> [Bool]\n",
    "fun' l r (x:ls) | null ls = if (min l r + x) == max l r then [True] else [False]\n",
    "                | abs (l - r) > sum (x:ls) = if min l r + sum(x:ls) == max l r then [True] else [False]\n",
    "                | l == r = fun' (l+x) r ls\n",
    "                | otherwise  = fun' (l+x) r ls ++ fun' l (r+x) ls\n",
    "\n",
    "fun :: [Integer] -> Bool\n",
    "fun (x:ls) = or (fun' x 0 ls)"
   ]
  },
  {
   "cell_type": "code",
   "execution_count": 84,
   "id": "dirty-friend",
   "metadata": {},
   "outputs": [
    {
     "data": {
      "text/plain": [
       "True"
      ]
     },
     "metadata": {},
     "output_type": "display_data"
    }
   ],
   "source": [
    "let list = [4465, 4448, 3719, 3402, 3396, 3168,\n",
    "            2576, 2351, 2191, 1679, 250, 4775, \n",
    "            4431, 3573, 3356, 3187, 2952, 2930, \n",
    "            1907, 1555, 1205, 1009, 446, 273, 46]\n",
    "let sorted_reverse_list = reverse $ quicksort list\n",
    "fun sorted_reverse_list"
   ]
  },
  {
   "attachments": {
    "image.png": {
     "image/png": "[encoded data removed]"
    }
   },
   "cell_type": "markdown",
   "id": "creative-genius",
   "metadata": {},
   "source": [
    "![image.png](attachment:image.png)"
   ]
  },
  {
   "cell_type": "code",
   "execution_count": 43,
   "id": "mature-investing",
   "metadata": {},
   "outputs": [],
   "source": [
    "\n"
   ]
  },
  {
   "cell_type": "code",
   "execution_count": 50,
   "id": "driving-newark",
   "metadata": {},
   "outputs": [],
   "source": []
  },
  {
   "cell_type": "code",
   "execution_count": 51,
   "id": "defined-rescue",
   "metadata": {},
   "outputs": [
    {
     "data": {
      "text/plain": [
       "[20,11,8,3,2,0]"
      ]
     },
     "metadata": {},
     "output_type": "display_data"
    }
   ],
   "source": []
  },
  {
   "cell_type": "code",
   "execution_count": null,
   "id": "municipal-assist",
   "metadata": {},
   "outputs": [],
   "source": [
    "data Tree a b = Empty |\n",
    "              Node (Tree a b) a b (Tree a b)\n",
    "              \n",
    "sort    :: (Ord a) => [a] -> [a]\n",
    "build   :: (Ord a) => [a] -> Tree a\n",
    "insert  :: (Ord a) => a -> Tree a -> Tree a --вставление элемента в дерево\n",
    "flatten :: Tree a -> [a]\n",
    "\n",
    "-- сортировка\n",
    "sort ls       =  flatten (build ls)\n",
    "\n",
    "-- построение с хвоста списка дерева\n",
    "build []      =  Empty\n",
    "build (e:ls)  =  insert e (build ls) -- дерево строится с хвоста\n",
    "\n",
    "-- вставка элемента в дерево\n",
    "insert e Empty                    =  Node Empty e Empty\n",
    "insert e (Node t1 n t2) | e < n   =  Node (insert e t1) n t2\n",
    "                        | e >= n  =  Node t1 n (insert e t2)\n",
    "\n",
    "-- получение отсортированного списка\n",
    "flatten Empty = []\n",
    "flatten (Node t1 n t2) = (flatten t1) ++ (n : (flatten t2))\n",
    "-- соединение списков ++\n",
    "-- ++ - разбирает левый список на части, по одному разбирает элементы"
   ]
  },
  {
   "cell_type": "code",
   "execution_count": 1,
   "id": "treated-right",
   "metadata": {},
   "outputs": [
    {
     "data": {
      "text/plain": [
       "[1,2,3,4,5,6,7,8,9,10,8]"
      ]
     },
     "metadata": {},
     "output_type": "display_data"
    }
   ],
   "source": [
    "[1..10]++[8]"
   ]
  },
  {
   "cell_type": "code",
   "execution_count": 4,
   "id": "industrial-bible",
   "metadata": {},
   "outputs": [
    {
     "data": {
      "text/plain": [
       "[1,2,3,4,5,6,7,8,9,10,1]"
      ]
     },
     "metadata": {},
     "output_type": "display_data"
    }
   ],
   "source": [
    "[1..10] ++ [1]"
   ]
  },
  {
   "cell_type": "code",
   "execution_count": 5,
   "id": "timely-buying",
   "metadata": {},
   "outputs": [
    {
     "data": {
      "text/html": [
       "<style>/* Styles used for the Hoogle display in the pager */\n",
       ".hoogle-doc {\n",
       "display: block;\n",
       "padding-bottom: 1.3em;\n",
       "padding-left: 0.4em;\n",
       "}\n",
       ".hoogle-code {\n",
       "display: block;\n",
       "font-family: monospace;\n",
       "white-space: pre;\n",
       "}\n",
       ".hoogle-text {\n",
       "display: block;\n",
       "}\n",
       ".hoogle-name {\n",
       "color: green;\n",
       "font-weight: bold;\n",
       "}\n",
       ".hoogle-head {\n",
       "font-weight: bold;\n",
       "}\n",
       ".hoogle-sub {\n",
       "display: block;\n",
       "margin-left: 0.4em;\n",
       "}\n",
       ".hoogle-package {\n",
       "font-weight: bold;\n",
       "font-style: italic;\n",
       "}\n",
       ".hoogle-module {\n",
       "font-weight: bold;\n",
       "}\n",
       ".hoogle-class {\n",
       "font-weight: bold;\n",
       "}\n",
       ".get-type {\n",
       "color: green;\n",
       "font-weight: bold;\n",
       "font-family: monospace;\n",
       "display: block;\n",
       "white-space: pre-wrap;\n",
       "}\n",
       ".show-type {\n",
       "color: green;\n",
       "font-weight: bold;\n",
       "font-family: monospace;\n",
       "margin-left: 1em;\n",
       "}\n",
       ".mono {\n",
       "font-family: monospace;\n",
       "display: block;\n",
       "}\n",
       ".err-msg {\n",
       "color: red;\n",
       "font-style: italic;\n",
       "font-family: monospace;\n",
       "white-space: pre;\n",
       "display: block;\n",
       "}\n",
       "#unshowable {\n",
       "color: red;\n",
       "font-weight: bold;\n",
       "}\n",
       ".err-msg.in.collapse {\n",
       "padding-top: 0.7em;\n",
       "}\n",
       ".highlight-code {\n",
       "white-space: pre;\n",
       "font-family: monospace;\n",
       "}\n",
       ".suggestion-warning { \n",
       "font-weight: bold;\n",
       "color: rgb(200, 130, 0);\n",
       "}\n",
       ".suggestion-error { \n",
       "font-weight: bold;\n",
       "color: red;\n",
       "}\n",
       ".suggestion-name {\n",
       "font-weight: bold;\n",
       "}\n",
       "</style><div class=\"suggestion-name\" style=\"clear:both;\">Use :</div><div class=\"suggestion-row\" style=\"float: left;\"><div class=\"suggestion-warning\">Found:</div><div class=\"highlight-code\" id=\"haskell\">[1] ++ [1 .. 10]</div></div><div class=\"suggestion-row\" style=\"float: left;\"><div class=\"suggestion-warning\">Why Not:</div><div class=\"highlight-code\" id=\"haskell\">1 : [1 .. 10]</div></div>"
      ],
      "text/plain": [
       "Line 1: Use :\n",
       "Found:\n",
       "[1] ++ [1 .. 10]\n",
       "Why not:\n",
       "1 : [1 .. 10]"
      ]
     },
     "metadata": {},
     "output_type": "display_data"
    },
    {
     "data": {
      "text/plain": [
       "[1,1,2,3,4,5,6,7,8,9,10]"
      ]
     },
     "metadata": {},
     "output_type": "display_data"
    }
   ],
   "source": [
    "[1] ++ [1..10]"
   ]
  },
  {
   "cell_type": "code",
   "execution_count": 10,
   "id": "equipped-yemen",
   "metadata": {},
   "outputs": [
    {
     "data": {
      "text/plain": [
       "0"
      ]
     },
     "metadata": {},
     "output_type": "display_data"
    }
   ],
   "source": [
    "min 1 0"
   ]
  },
  {
   "cell_type": "code",
   "execution_count": null,
   "id": "renewable-product",
   "metadata": {},
   "outputs": [],
   "source": []
  }
 ],
 "metadata": {
  "kernelspec": {
   "display_name": "Haskell",
   "language": "haskell",
   "name": "haskell"
  },
  "language_info": {
   "codemirror_mode": "ihaskell",
   "file_extension": ".hs",
   "mimetype": "text/x-haskell",
   "name": "haskell",
   "pygments_lexer": "Haskell",
   "version": "8.8.4"
  }
 },
 "nbformat": 4,
 "nbformat_minor": 5
}
