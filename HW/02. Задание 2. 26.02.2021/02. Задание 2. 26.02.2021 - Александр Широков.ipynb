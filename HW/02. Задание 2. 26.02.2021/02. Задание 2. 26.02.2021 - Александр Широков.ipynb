{
 "cells": [
  {
   "cell_type": "markdown",
   "id": "sudden-import",
   "metadata": {},
   "source": [
    "# Задание 2\n",
    "\n",
    "<div style=\"text-align: right\"> \n",
    "    \n",
    "    Домашнее задание II до 23/02/21 \n",
    "    \n",
    "    Широков Александр, ПМ-1701\n",
    "    \n",
    "    improfeo@yandex.ru\n",
    "</div> "
   ]
  },
  {
   "cell_type": "markdown",
   "id": "unknown-distribution",
   "metadata": {},
   "source": [
    "## 01. "
   ]
  },
  {
   "cell_type": "markdown",
   "id": "union-release",
   "metadata": {},
   "source": [
    "1.\tНаписать функцию `prodIndices :: [Integer] -> [Int]`, которая по списку целых чисел выдает список индексов тех его элементов, которые являются произведениями двух соседних элементов (если один из соседних элементов отсутствует, то он полагается равным единице). \n",
    "\n",
    "Например, `prodIndices [1, -2, 6, -3, 0, 0]` должен выдать список `[2, 4, 5]`, поскольку элементы с индексами 2, 4 и 5 (и только они) являются произведениями соседних элементов: 6 = (-2)*(-3), 0 = (-3)*0, 0 = 0*1. \n",
    "\n",
    "В этом задании требуется по существу дела использовать функции высших порядков. Решения, основанные на чистой рекурсии без функций высших порядков будут оцениваться ниже."
   ]
  },
  {
   "cell_type": "code",
   "execution_count": 6,
   "id": "broad-equality",
   "metadata": {},
   "outputs": [],
   "source": [
    "-- prodIndices\n",
    "    -- 1. [Integer] - список целых чисел\n",
    "    -- 2. [Int] - список индексов\n",
    "    \n",
    "differences :: [Integer] -> [Integer]\n",
    "differences (x:fs) = zipWith (*) (x:fs) (tail fs)\n",
    "\n",
    "prodIndices :: [Integer] -> [Int]\n",
    "prodIndices list = map fst $ \n",
    "                   filter (\\(i, x) -> x == 0) $ \n",
    "                   zip [0..length list - 1] $ \n",
    "                   zipWith (-) (differences (1:list++[1])) list"
   ]
  },
  {
   "cell_type": "code",
   "execution_count": 7,
   "id": "systematic-limit",
   "metadata": {},
   "outputs": [
    {
     "data": {
      "text/plain": [
       "[2,4,5]"
      ]
     },
     "metadata": {},
     "output_type": "display_data"
    }
   ],
   "source": [
    "prodIndices [1, -2, 6, -3, 0, 0]"
   ]
  },
  {
   "cell_type": "code",
   "execution_count": 8,
   "id": "better-ensemble",
   "metadata": {},
   "outputs": [
    {
     "data": {
      "text/plain": [
       "[0,1,2]"
      ]
     },
     "metadata": {},
     "output_type": "display_data"
    }
   ],
   "source": [
    "prodIndices [1, 1, 1]"
   ]
  },
  {
   "cell_type": "code",
   "execution_count": 9,
   "id": "modern-resource",
   "metadata": {},
   "outputs": [
    {
     "data": {
      "text/plain": [
       "[0]"
      ]
     },
     "metadata": {},
     "output_type": "display_data"
    }
   ],
   "source": [
    "prodIndices [1, 1, 2]"
   ]
  },
  {
   "cell_type": "code",
   "execution_count": 10,
   "id": "personalized-liberty",
   "metadata": {},
   "outputs": [
    {
     "data": {
      "text/plain": [
       "[]"
      ]
     },
     "metadata": {},
     "output_type": "display_data"
    }
   ],
   "source": [
    "prodIndices []"
   ]
  }
 ],
 "metadata": {
  "kernelspec": {
   "display_name": "Haskell",
   "language": "haskell",
   "name": "haskell"
  },
  "language_info": {
   "codemirror_mode": "ihaskell",
   "file_extension": ".hs",
   "mimetype": "text/x-haskell",
   "name": "haskell",
   "pygments_lexer": "Haskell",
   "version": "8.8.4"
  }
 },
 "nbformat": 4,
 "nbformat_minor": 5
}
