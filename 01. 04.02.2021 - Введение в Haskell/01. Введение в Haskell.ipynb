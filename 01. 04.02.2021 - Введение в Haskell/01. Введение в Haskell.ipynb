{
 "cells": [
  {
   "cell_type": "markdown",
   "id": "early-croatia",
   "metadata": {},
   "source": [
    "# 01. Введение в Haskell\n",
    "\n",
    "<div style=\"text-align: right\"> \n",
    "    \n",
    "    Лекция 1.1 04/02/21 \n",
    "    \n",
    "    Кубенский Александр Александрович\n",
    "    \n",
    "    akoubensky@gmail.com\n",
    "</div> "
   ]
  },
  {
   "cell_type": "markdown",
   "id": "direct-watson",
   "metadata": {},
   "source": [
    "## 01.0 Литература\n",
    "\n",
    "1. М. Липовача. Изучай Haskell во имя добра! Издательство: ДМК Пресс, 2012\n",
    "2. А. Кубенский. Функциональное программирование. М.: Юрайт, 2019.\n",
    "\n",
    "**Дополнительная**\n",
    "\n",
    "1. А. Филд, П. Харрисон. Функциональное программирование. М.: Мир, 1993.\n",
    "2. П. Хендерсон. Функциональное программирование. Применение и реализация. М.: Мир, 1983.\n",
    "3. Пол Хьюдак, Джон Петерсон, Джозеф Фасел. Мягкое введение в Haskell. RSDN Magazin, 2006 № 4 и 2007 № - (http://rsdn.ru/article/haskell/haskell_part1.xml,  http://rsdn.ru/article/haskell/haskell_part2.xml)\n",
    "\n",
    "4. Р. В. Душкин Функциональное программирование на языке Haskell (+ CD-ROM) Издательство: ДМК Пресс, 2007 г., Мягкая обложка, 608 стр.\n",
    "5. https://www.haskell.org/documentation/\n",
    "\n",
    "6. [Haskell Jupyter](https://github.com/gibiansky/IHaskell)"
   ]
  },
  {
   "cell_type": "markdown",
   "id": "buried-borough",
   "metadata": {},
   "source": [
    "## 01.1 Отличия функциональого стиля программирования от процедурного\n",
    "\n",
    "В обычном программировании (архитектуре Фон Неймана) предполагается последовательное исполнение инструкций. Соответственно, и все языки программирования, с самого начала ориентировались на данное программирование с изменением переменных:\n",
    "\n",
    "- есть арифметические и логические операции\n",
    "- есть операции присваивания, позволяющие менять значения переменных, лежащих в памяти\n",
    "- алгоритм состоит из последовательных шагов, которые исполняются в строгой последовательности\n",
    "- появились управляющие конструкции, контолирующие последовательность событий программы\n",
    "- появилис функции и процедуры, позволяющие выполнять какие-то связанные куски\n",
    "- модули, исключительные структуры (try/catch), структуры данных и ООП\n",
    "\n",
    "Все это оставалось последовательным программированием с присваиванием. Программа представляла из себя либо алгоритм, либо некоторый ящик.\n",
    "\n",
    "Функциональное программирование *не предполагает* строго исполнения чего-либо, значит возможно распараллеливание, но запрещаются некоторые вполне привичные вещи, такие как *присваивание*, так как это предполагает, что в одной переменной в определенный момент времени находится одно значение, а в другой момент времени - другое.\n",
    "\n",
    "Если наша последовательность действий определяется тем, что можно сделать, а что нельзя и данный отказ дает **очень большие возможности для распараллеливания** - в функциональном программировании нет некоторого `side-effect`. Если что-то можно сделать параллельно, то это и нужно сделать параллельно.\n",
    "\n",
    "Стиль программирования, основанный на архитектуре фон Неймана, имеет ряд недостатков, особенно в современных условиях, когда добиться улучшения производительности процессоров почти невозможно без увеличения числа «ядер» – независимо работающих процессоров.\n",
    "\n",
    "Отсюда:\n",
    "- Параллельное вычисление независимых значений крайне затруднено; необходимо использовать специальные средства «распараллеливания и синхронизации».\n",
    "- Поскольку функции обладают свойством менять внешний контекст («side effect»), то работа с функциональными объектами ограничена.\n",
    "\n",
    "При использовании функционального стиля мы отказываемся от переменных в классическом понимании. Функции становятся «чистыми», описанные выше проблемы исчезают, возникают некоторые дополнительные преимущества, которые мы обсудим позже, то есть функции *не могут изменить* внешний контекст. Функции работают только **со своими локальными данными**, а поэтому их часто можно называть *переменными*.\n",
    "\n",
    "**Недостатки и проблемы использования функционального стиля программирования:**\n",
    "\n",
    "- Невозможно использовать такой важный (и очень привычный!) инструмент программирования, как циклы. Для сложных повторяющихся конструкций используются `рекурсивные функции`.\n",
    "\n",
    "- В реальной жизни невозможно отказаться от «изменения среды», хотя бы при вводе-выводе. Это влечет за собой необходимость жесткого разделения `«функционального»` (*неизменяемого*) и `«процедурного»` (*изменяемого*) миров в реально работающих программах и системах."
   ]
  },
  {
   "cell_type": "markdown",
   "id": "provincial-venture",
   "metadata": {},
   "source": [
    "## 01.2 История создания *Haskell*\n",
    "\n",
    "- начало `1930-х: Church`, формализация функций в λ-исчислении\n",
    "- `1960: John McCarthy, LISP` – первый функциональный язык программирования\n",
    "- `1978: John Backus, FP` – система комбинаторного программирования\n",
    "- конец `1970-х: Edinburgh univ., ML` – meta-language\n",
    "- `1985-1986: David Turner, Miranda` – функциональный язык с «ленивыми» вычислениями\n",
    "- `1990: Ericsson, Erlang` – «коммерческий» функциональный язык\n",
    "- `1988: Paul Hudak, Haskell` – первая версия языка `Haskell`\n",
    "- `1999: Haskell group, Haskell’98` – «стандартная» версия языка `Haskell`"
   ]
  },
  {
   "cell_type": "markdown",
   "id": "automatic-allah",
   "metadata": {},
   "source": [
    "## 01.3 Типы данных и базовые конструкции языка *Haskell*\n",
    "\n",
    "Язык является сторого типизированным и все объекты имеют определённый *тип данных*, но тип не обязаны объявлять **явно** - это тип выводится из контекста. Мы имеем возможность определять явно - для функций рекомендуется *явно* объявлять тип (когда допускается ошибка, то гораздо легче обнаружить её на ранней стадии из-за несоответствия типов).\n",
    "\n",
    "Немножечко потренируемся."
   ]
  },
  {
   "cell_type": "code",
   "execution_count": 6,
   "id": "natural-cloud",
   "metadata": {},
   "outputs": [
    {
     "data": {
      "text/plain": [
       "4"
      ]
     },
     "metadata": {},
     "output_type": "display_data"
    }
   ],
   "source": [
    "2 + 2"
   ]
  },
  {
   "cell_type": "code",
   "execution_count": 12,
   "id": "heated-modem",
   "metadata": {},
   "outputs": [],
   "source": [
    "let a = 4 -- это не присваивание, а обозначение для значения\n",
    "-- let a = a + 1 приведёт к ошибке!\n",
    "-- a - идентификатор обозначает новое значение 4"
   ]
  },
  {
   "cell_type": "code",
   "execution_count": 11,
   "id": "right-trial",
   "metadata": {},
   "outputs": [
    {
     "data": {
      "text/plain": [
       "16"
      ]
     },
     "metadata": {},
     "output_type": "display_data"
    }
   ],
   "source": [
    "a*a"
   ]
  },
  {
   "cell_type": "markdown",
   "id": "smooth-sector",
   "metadata": {},
   "source": [
    "Информация о типах задаётся следующей командой.\n",
    "\n",
    "- `:t` (type) - тип объекта\n",
    "- `:help` - help"
   ]
  },
  {
   "cell_type": "code",
   "execution_count": 14,
   "id": "alternative-discovery",
   "metadata": {},
   "outputs": [
    {
     "data": {
      "text/html": [
       "<style>/* Styles used for the Hoogle display in the pager */\n",
       ".hoogle-doc {\n",
       "display: block;\n",
       "padding-bottom: 1.3em;\n",
       "padding-left: 0.4em;\n",
       "}\n",
       ".hoogle-code {\n",
       "display: block;\n",
       "font-family: monospace;\n",
       "white-space: pre;\n",
       "}\n",
       ".hoogle-text {\n",
       "display: block;\n",
       "}\n",
       ".hoogle-name {\n",
       "color: green;\n",
       "font-weight: bold;\n",
       "}\n",
       ".hoogle-head {\n",
       "font-weight: bold;\n",
       "}\n",
       ".hoogle-sub {\n",
       "display: block;\n",
       "margin-left: 0.4em;\n",
       "}\n",
       ".hoogle-package {\n",
       "font-weight: bold;\n",
       "font-style: italic;\n",
       "}\n",
       ".hoogle-module {\n",
       "font-weight: bold;\n",
       "}\n",
       ".hoogle-class {\n",
       "font-weight: bold;\n",
       "}\n",
       ".get-type {\n",
       "color: green;\n",
       "font-weight: bold;\n",
       "font-family: monospace;\n",
       "display: block;\n",
       "white-space: pre-wrap;\n",
       "}\n",
       ".show-type {\n",
       "color: green;\n",
       "font-weight: bold;\n",
       "font-family: monospace;\n",
       "margin-left: 1em;\n",
       "}\n",
       ".mono {\n",
       "font-family: monospace;\n",
       "display: block;\n",
       "}\n",
       ".err-msg {\n",
       "color: red;\n",
       "font-style: italic;\n",
       "font-family: monospace;\n",
       "white-space: pre;\n",
       "display: block;\n",
       "}\n",
       "#unshowable {\n",
       "color: red;\n",
       "font-weight: bold;\n",
       "}\n",
       ".err-msg.in.collapse {\n",
       "padding-top: 0.7em;\n",
       "}\n",
       ".highlight-code {\n",
       "white-space: pre;\n",
       "font-family: monospace;\n",
       "}\n",
       ".suggestion-warning { \n",
       "font-weight: bold;\n",
       "color: rgb(200, 130, 0);\n",
       "}\n",
       ".suggestion-error { \n",
       "font-weight: bold;\n",
       "color: red;\n",
       "}\n",
       ".suggestion-name {\n",
       "font-weight: bold;\n",
       "}\n",
       "</style><span class='get-type'>2 :: forall p. Num p => p</span>"
      ],
      "text/plain": [
       "2 :: forall p. Num p => p"
      ]
     },
     "metadata": {},
     "output_type": "display_data"
    }
   ],
   "source": [
    ":t 2"
   ]
  },
  {
   "cell_type": "code",
   "execution_count": 15,
   "id": "brazilian-knife",
   "metadata": {},
   "outputs": [
    {
     "data": {
      "text/html": [
       "<style>/* Styles used for the Hoogle display in the pager */\n",
       ".hoogle-doc {\n",
       "display: block;\n",
       "padding-bottom: 1.3em;\n",
       "padding-left: 0.4em;\n",
       "}\n",
       ".hoogle-code {\n",
       "display: block;\n",
       "font-family: monospace;\n",
       "white-space: pre;\n",
       "}\n",
       ".hoogle-text {\n",
       "display: block;\n",
       "}\n",
       ".hoogle-name {\n",
       "color: green;\n",
       "font-weight: bold;\n",
       "}\n",
       ".hoogle-head {\n",
       "font-weight: bold;\n",
       "}\n",
       ".hoogle-sub {\n",
       "display: block;\n",
       "margin-left: 0.4em;\n",
       "}\n",
       ".hoogle-package {\n",
       "font-weight: bold;\n",
       "font-style: italic;\n",
       "}\n",
       ".hoogle-module {\n",
       "font-weight: bold;\n",
       "}\n",
       ".hoogle-class {\n",
       "font-weight: bold;\n",
       "}\n",
       ".get-type {\n",
       "color: green;\n",
       "font-weight: bold;\n",
       "font-family: monospace;\n",
       "display: block;\n",
       "white-space: pre-wrap;\n",
       "}\n",
       ".show-type {\n",
       "color: green;\n",
       "font-weight: bold;\n",
       "font-family: monospace;\n",
       "margin-left: 1em;\n",
       "}\n",
       ".mono {\n",
       "font-family: monospace;\n",
       "display: block;\n",
       "}\n",
       ".err-msg {\n",
       "color: red;\n",
       "font-style: italic;\n",
       "font-family: monospace;\n",
       "white-space: pre;\n",
       "display: block;\n",
       "}\n",
       "#unshowable {\n",
       "color: red;\n",
       "font-weight: bold;\n",
       "}\n",
       ".err-msg.in.collapse {\n",
       "padding-top: 0.7em;\n",
       "}\n",
       ".highlight-code {\n",
       "white-space: pre;\n",
       "font-family: monospace;\n",
       "}\n",
       ".suggestion-warning { \n",
       "font-weight: bold;\n",
       "color: rgb(200, 130, 0);\n",
       "}\n",
       ".suggestion-error { \n",
       "font-weight: bold;\n",
       "color: red;\n",
       "}\n",
       ".suggestion-name {\n",
       "font-weight: bold;\n",
       "}\n",
       "</style><span class='get-type'>a :: forall p. Num p => p</span>"
      ],
      "text/plain": [
       "a :: forall p. Num p => p"
      ]
     },
     "metadata": {},
     "output_type": "display_data"
    }
   ],
   "source": [
    ":t a"
   ]
  },
  {
   "cell_type": "markdown",
   "id": "immediate-maker",
   "metadata": {},
   "source": [
    "Данная запись возникает из-за того, что число может трактоваться по-разному.\n",
    "\n",
    "Можно задать переменную типа `Integer`."
   ]
  },
  {
   "cell_type": "code",
   "execution_count": 23,
   "id": "becoming-spiritual",
   "metadata": {},
   "outputs": [],
   "source": [
    "let nn = 2 :: Integer"
   ]
  },
  {
   "cell_type": "code",
   "execution_count": 24,
   "id": "romantic-military",
   "metadata": {},
   "outputs": [
    {
     "data": {
      "text/html": [
       "<style>/* Styles used for the Hoogle display in the pager */\n",
       ".hoogle-doc {\n",
       "display: block;\n",
       "padding-bottom: 1.3em;\n",
       "padding-left: 0.4em;\n",
       "}\n",
       ".hoogle-code {\n",
       "display: block;\n",
       "font-family: monospace;\n",
       "white-space: pre;\n",
       "}\n",
       ".hoogle-text {\n",
       "display: block;\n",
       "}\n",
       ".hoogle-name {\n",
       "color: green;\n",
       "font-weight: bold;\n",
       "}\n",
       ".hoogle-head {\n",
       "font-weight: bold;\n",
       "}\n",
       ".hoogle-sub {\n",
       "display: block;\n",
       "margin-left: 0.4em;\n",
       "}\n",
       ".hoogle-package {\n",
       "font-weight: bold;\n",
       "font-style: italic;\n",
       "}\n",
       ".hoogle-module {\n",
       "font-weight: bold;\n",
       "}\n",
       ".hoogle-class {\n",
       "font-weight: bold;\n",
       "}\n",
       ".get-type {\n",
       "color: green;\n",
       "font-weight: bold;\n",
       "font-family: monospace;\n",
       "display: block;\n",
       "white-space: pre-wrap;\n",
       "}\n",
       ".show-type {\n",
       "color: green;\n",
       "font-weight: bold;\n",
       "font-family: monospace;\n",
       "margin-left: 1em;\n",
       "}\n",
       ".mono {\n",
       "font-family: monospace;\n",
       "display: block;\n",
       "}\n",
       ".err-msg {\n",
       "color: red;\n",
       "font-style: italic;\n",
       "font-family: monospace;\n",
       "white-space: pre;\n",
       "display: block;\n",
       "}\n",
       "#unshowable {\n",
       "color: red;\n",
       "font-weight: bold;\n",
       "}\n",
       ".err-msg.in.collapse {\n",
       "padding-top: 0.7em;\n",
       "}\n",
       ".highlight-code {\n",
       "white-space: pre;\n",
       "font-family: monospace;\n",
       "}\n",
       ".suggestion-warning { \n",
       "font-weight: bold;\n",
       "color: rgb(200, 130, 0);\n",
       "}\n",
       ".suggestion-error { \n",
       "font-weight: bold;\n",
       "color: red;\n",
       "}\n",
       ".suggestion-name {\n",
       "font-weight: bold;\n",
       "}\n",
       "</style><span class='get-type'>nn :: Integer</span>"
      ],
      "text/plain": [
       "nn :: Integer"
      ]
     },
     "metadata": {},
     "output_type": "display_data"
    }
   ],
   "source": [
    ":t nn"
   ]
  },
  {
   "cell_type": "markdown",
   "id": "musical-thunder",
   "metadata": {},
   "source": [
    "## 01.4 Типы данных\n",
    "\n",
    "- `Integer` - больше всего похоже на `BigInteger` - неограниченные целые, если памяти хватает для размещения данного числа, то оно будет размещено\n",
    "- `Int` - короткие целые значения, помещающиеся в слово\n",
    "\n",
    "Во многих функциях результат имеет вид `Integer`, а не `Int`.\n",
    "\n",
    "- `Float` - вещественные значения\n",
    "- `Double` - вещественные значения\n",
    "\n",
    "- `Char` - символьные значения (особые значения, в отличии от Java или C, где они являются целыми). (`'A', '*','4'`)\n",
    "- `Bool` (Boolean в других языках) - логические значения (True, False).\n",
    "\n",
    "**Важно**: все идентификаторы зависят от того, в каком регистре написаны символы. *Все типы, стандартные типы и нестандартные типы* должны быть с заглавных букв.\n",
    "\n",
    "Если значения обозначены идентификаторами, то они должны быть тоже с *заглавной буквы*. Переменные обозначаются *строчными буквами*.\n",
    "\n",
    "Идентификаторы: `fact, fActOrial, fact_1, fact''`. Апостроф - обозначает вспомогательные функции.\n",
    "\n",
    "- знаки операций - `+, -, *, <, ==`\n",
    "\n",
    "Идентификаторы применяются для обозначения констант - значений разных типов (простых, составных функций) и типов. Любому идентификатору можно сопоставить тип и значение.\n",
    "\n",
    "Значения могут быть более сложными, составленными из других значений - так называемых **конструкторов** - способ сделать составное значение из простых. Функция - простое значение."
   ]
  },
  {
   "cell_type": "code",
   "execution_count": 26,
   "id": "fabulous-athletics",
   "metadata": {},
   "outputs": [],
   "source": [
    "school :: Integer --идентификатору сопоставляется тип\n",
    "school = 239 -- значение"
   ]
  },
  {
   "cell_type": "code",
   "execution_count": 27,
   "id": "incomplete-machine",
   "metadata": {},
   "outputs": [
    {
     "data": {
      "text/plain": [
       "239"
      ]
     },
     "metadata": {},
     "output_type": "display_data"
    }
   ],
   "source": [
    "school"
   ]
  },
  {
   "cell_type": "markdown",
   "id": "gross-patio",
   "metadata": {},
   "source": [
    "Если идентификатору не был назначен тип, то тип будет выведен в дальнейшем в зависимости от того, что мы обозначаем."
   ]
  },
  {
   "cell_type": "code",
   "execution_count": 28,
   "id": "found-crossing",
   "metadata": {},
   "outputs": [],
   "source": [
    "piHalf :: Double\n",
    "piHalf = 3.1415926536 / 2"
   ]
  },
  {
   "cell_type": "code",
   "execution_count": 29,
   "id": "developed-cyprus",
   "metadata": {},
   "outputs": [
    {
     "data": {
      "text/plain": [
       "1.5707963268"
      ]
     },
     "metadata": {},
     "output_type": "display_data"
    }
   ],
   "source": [
    "piHalf"
   ]
  },
  {
   "cell_type": "markdown",
   "id": "tender-conditions",
   "metadata": {},
   "source": [
    "**Кортеж**\n",
    "\n",
    "Значения могут объединяться в более сложные с помощью кортежирования.\n",
    "\n",
    "Например:"
   ]
  },
  {
   "cell_type": "code",
   "execution_count": 37,
   "id": "short-atmosphere",
   "metadata": {},
   "outputs": [],
   "source": [
    "pair :: (Double, Double)\n",
    "pair = (2.7, 3.14)"
   ]
  },
  {
   "cell_type": "markdown",
   "id": "documented-doctor",
   "metadata": {},
   "source": [
    "Кортежа из одного элемента не существует!"
   ]
  },
  {
   "cell_type": "code",
   "execution_count": 41,
   "id": "deadly-fabric",
   "metadata": {},
   "outputs": [
    {
     "data": {
      "text/html": [
       "<style>/* Styles used for the Hoogle display in the pager */\n",
       ".hoogle-doc {\n",
       "display: block;\n",
       "padding-bottom: 1.3em;\n",
       "padding-left: 0.4em;\n",
       "}\n",
       ".hoogle-code {\n",
       "display: block;\n",
       "font-family: monospace;\n",
       "white-space: pre;\n",
       "}\n",
       ".hoogle-text {\n",
       "display: block;\n",
       "}\n",
       ".hoogle-name {\n",
       "color: green;\n",
       "font-weight: bold;\n",
       "}\n",
       ".hoogle-head {\n",
       "font-weight: bold;\n",
       "}\n",
       ".hoogle-sub {\n",
       "display: block;\n",
       "margin-left: 0.4em;\n",
       "}\n",
       ".hoogle-package {\n",
       "font-weight: bold;\n",
       "font-style: italic;\n",
       "}\n",
       ".hoogle-module {\n",
       "font-weight: bold;\n",
       "}\n",
       ".hoogle-class {\n",
       "font-weight: bold;\n",
       "}\n",
       ".get-type {\n",
       "color: green;\n",
       "font-weight: bold;\n",
       "font-family: monospace;\n",
       "display: block;\n",
       "white-space: pre-wrap;\n",
       "}\n",
       ".show-type {\n",
       "color: green;\n",
       "font-weight: bold;\n",
       "font-family: monospace;\n",
       "margin-left: 1em;\n",
       "}\n",
       ".mono {\n",
       "font-family: monospace;\n",
       "display: block;\n",
       "}\n",
       ".err-msg {\n",
       "color: red;\n",
       "font-style: italic;\n",
       "font-family: monospace;\n",
       "white-space: pre;\n",
       "display: block;\n",
       "}\n",
       "#unshowable {\n",
       "color: red;\n",
       "font-weight: bold;\n",
       "}\n",
       ".err-msg.in.collapse {\n",
       "padding-top: 0.7em;\n",
       "}\n",
       ".highlight-code {\n",
       "white-space: pre;\n",
       "font-family: monospace;\n",
       "}\n",
       ".suggestion-warning { \n",
       "font-weight: bold;\n",
       "color: rgb(200, 130, 0);\n",
       "}\n",
       ".suggestion-error { \n",
       "font-weight: bold;\n",
       "color: red;\n",
       "}\n",
       ".suggestion-name {\n",
       "font-weight: bold;\n",
       "}\n",
       "</style><div class=\"suggestion-name\" style=\"clear:both;\">Redundant bracket</div><div class=\"suggestion-row\" style=\"float: left;\"><div class=\"suggestion-warning\">Found:</div><div class=\"highlight-code\" id=\"haskell\">(2)</div></div><div class=\"suggestion-row\" style=\"float: left;\"><div class=\"suggestion-warning\">Why Not:</div><div class=\"highlight-code\" id=\"haskell\">2</div></div>"
      ],
      "text/plain": [
       "Line 1: Redundant bracket\n",
       "Found:\n",
       "(2)\n",
       "Why not:\n",
       "2"
      ]
     },
     "metadata": {},
     "output_type": "display_data"
    }
   ],
   "source": [
    "p = (2)"
   ]
  },
  {
   "cell_type": "code",
   "execution_count": 42,
   "id": "selected-client",
   "metadata": {},
   "outputs": [],
   "source": [
    "attributes :: (Char, (Int, Int, Int), Bool)\n",
    "attributes = ('M', (17, 4, 1955), True)"
   ]
  },
  {
   "cell_type": "code",
   "execution_count": 45,
   "id": "generous-albert",
   "metadata": {},
   "outputs": [
    {
     "data": {
      "text/html": [
       "<style>/* Styles used for the Hoogle display in the pager */\n",
       ".hoogle-doc {\n",
       "display: block;\n",
       "padding-bottom: 1.3em;\n",
       "padding-left: 0.4em;\n",
       "}\n",
       ".hoogle-code {\n",
       "display: block;\n",
       "font-family: monospace;\n",
       "white-space: pre;\n",
       "}\n",
       ".hoogle-text {\n",
       "display: block;\n",
       "}\n",
       ".hoogle-name {\n",
       "color: green;\n",
       "font-weight: bold;\n",
       "}\n",
       ".hoogle-head {\n",
       "font-weight: bold;\n",
       "}\n",
       ".hoogle-sub {\n",
       "display: block;\n",
       "margin-left: 0.4em;\n",
       "}\n",
       ".hoogle-package {\n",
       "font-weight: bold;\n",
       "font-style: italic;\n",
       "}\n",
       ".hoogle-module {\n",
       "font-weight: bold;\n",
       "}\n",
       ".hoogle-class {\n",
       "font-weight: bold;\n",
       "}\n",
       ".get-type {\n",
       "color: green;\n",
       "font-weight: bold;\n",
       "font-family: monospace;\n",
       "display: block;\n",
       "white-space: pre-wrap;\n",
       "}\n",
       ".show-type {\n",
       "color: green;\n",
       "font-weight: bold;\n",
       "font-family: monospace;\n",
       "margin-left: 1em;\n",
       "}\n",
       ".mono {\n",
       "font-family: monospace;\n",
       "display: block;\n",
       "}\n",
       ".err-msg {\n",
       "color: red;\n",
       "font-style: italic;\n",
       "font-family: monospace;\n",
       "white-space: pre;\n",
       "display: block;\n",
       "}\n",
       "#unshowable {\n",
       "color: red;\n",
       "font-weight: bold;\n",
       "}\n",
       ".err-msg.in.collapse {\n",
       "padding-top: 0.7em;\n",
       "}\n",
       ".highlight-code {\n",
       "white-space: pre;\n",
       "font-family: monospace;\n",
       "}\n",
       ".suggestion-warning { \n",
       "font-weight: bold;\n",
       "color: rgb(200, 130, 0);\n",
       "}\n",
       ".suggestion-error { \n",
       "font-weight: bold;\n",
       "color: red;\n",
       "}\n",
       ".suggestion-name {\n",
       "font-weight: bold;\n",
       "}\n",
       "</style><span class='get-type'>attributes :: (Char, (Int, Int, Int), Bool)</span>"
      ],
      "text/plain": [
       "attributes :: (Char, (Int, Int, Int), Bool)"
      ]
     },
     "metadata": {},
     "output_type": "display_data"
    }
   ],
   "source": [
    ":type attributes"
   ]
  },
  {
   "cell_type": "code",
   "execution_count": 46,
   "id": "endless-rover",
   "metadata": {},
   "outputs": [
    {
     "ename": "",
     "evalue": "",
     "output_type": "error",
     "traceback": [
      "<interactive>:1:5: error: Illegal tuple section: use TupleSections"
     ]
    }
   ],
   "source": [
    "p = (2.5, ) -- нельзя"
   ]
  },
  {
   "cell_type": "markdown",
   "id": "spanish-routine",
   "metadata": {},
   "source": [
    "Тип функции определяется типами аргументов и результата, например:"
   ]
  },
  {
   "cell_type": "code",
   "execution_count": 68,
   "id": "extraordinary-credit",
   "metadata": {},
   "outputs": [
    {
     "ename": "",
     "evalue": "",
     "output_type": "error",
     "traceback": [
      "<interactive>:3:1: error: The type signature for ‘divMoid’ lacks an accompanying binding\n<interactive>:2:1: error: The type signature for ‘plusInt’ lacks an accompanying binding\n<interactive>:1:1: error:\n    The type signature for ‘sin’ lacks an accompanying binding\n      (The type signature must be given where ‘sin’ is declared)"
     ]
    }
   ],
   "source": [
    "sin :: Double -> Double -- аргумент и результат типа Double\n",
    "plusInt :: Int -> Int -> Int -- два аргумента типа Int, результат Int\n",
    "divMoid :: (Int, Int) -> (Int, Int) --аргумент и результат - кортежи"
   ]
  },
  {
   "cell_type": "markdown",
   "id": "mathematical-satisfaction",
   "metadata": {},
   "source": [
    "Выражения составляются из констант применением операций и функций. Функции применяются к аргументу, идентификатор функции отделяется от идентификаторов аргументов пробелом. Пробел - применение функции к аргументу (тоже операция).\n",
    "\n",
    "*Применение функции к аргументу* - **наивысшая** по приоритету операция."
   ]
  },
  {
   "cell_type": "code",
   "execution_count": 76,
   "id": "expensive-concern",
   "metadata": {},
   "outputs": [
    {
     "data": {
      "text/plain": [
       "-1.7928919201405265"
      ]
     },
     "metadata": {},
     "output_type": "display_data"
    }
   ],
   "source": [
    "result = sin(3.1416 / 4) - 2.5\n",
    "result"
   ]
  },
  {
   "cell_type": "markdown",
   "id": "convenient-samba",
   "metadata": {},
   "source": [
    "```haskell\n",
    "pair = divMod(1458, plusInt 176 192)\n",
    "```"
   ]
  },
  {
   "cell_type": "code",
   "execution_count": 79,
   "id": "living-little",
   "metadata": {},
   "outputs": [
    {
     "data": {
      "text/plain": [
       "-0.989678057907231"
      ]
     },
     "metadata": {},
     "output_type": "display_data"
    }
   ],
   "source": [
    "result = sin $ 3.1416 / 4 - 2.5\n",
    "result"
   ]
  },
  {
   "cell_type": "markdown",
   "id": "norman-miracle",
   "metadata": {},
   "source": [
    "Операции и функции отличаются только формой записи. Следующие выражения эквивалентны:"
   ]
  },
  {
   "cell_type": "code",
   "execution_count": 84,
   "id": "continent-speed",
   "metadata": {},
   "outputs": [
    {
     "data": {
      "text/plain": [
       "11"
      ]
     },
     "metadata": {},
     "output_type": "display_data"
    }
   ],
   "source": [
    "3 + 8"
   ]
  },
  {
   "cell_type": "code",
   "execution_count": 85,
   "id": "built-writing",
   "metadata": {},
   "outputs": [
    {
     "data": {
      "text/plain": [
       "11"
      ]
     },
     "metadata": {},
     "output_type": "display_data"
    }
   ],
   "source": [
    "(+) 3 8"
   ]
  },
  {
   "cell_type": "markdown",
   "id": "express-consumption",
   "metadata": {},
   "source": [
    "Если хотим применить операцию функции (плюс), то функцию необходимо вынести в скобки."
   ]
  },
  {
   "cell_type": "code",
   "execution_count": 87,
   "id": "acceptable-withdrawal",
   "metadata": {},
   "outputs": [
    {
     "data": {
      "text/plain": [
       "6"
      ]
     },
     "metadata": {},
     "output_type": "display_data"
    }
   ],
   "source": [
    "27 `div` 4 -- бинарная операция, символ - обратые опострафы, где Ё\n",
    "-- данный вид называется префиксным"
   ]
  },
  {
   "cell_type": "code",
   "execution_count": 88,
   "id": "aggregate-shape",
   "metadata": {},
   "outputs": [
    {
     "data": {
      "text/plain": [
       "6"
      ]
     },
     "metadata": {},
     "output_type": "display_data"
    }
   ],
   "source": [
    "div 27 4 -- инфиксный вид"
   ]
  },
  {
   "cell_type": "code",
   "execution_count": 95,
   "id": "bright-client",
   "metadata": {},
   "outputs": [
    {
     "ename": "",
     "evalue": "",
     "output_type": "error",
     "traceback": [
      "<interactive>:1:1: error:\n    • Non type-variable argument in the constraint: Num (t1 -> t2)\n      (Use FlexibleContexts to permit this)\n    • When checking the inferred type\n        it :: forall t1 t2. (Num t1, Num (t1 -> t2)) => t2"
     ]
    }
   ],
   "source": [
    "2 `negate` 3"
   ]
  },
  {
   "cell_type": "markdown",
   "id": "specific-stone",
   "metadata": {},
   "source": [
    "## 01.5 Определение функций с помощью уравнений"
   ]
  },
  {
   "cell_type": "markdown",
   "id": "retired-cornell",
   "metadata": {},
   "source": [
    "Уравнения задают правила, по которым происходит вычисление функции, то есть каким образом результат получается из аргументов функции.\n",
    "\n",
    "Слева мы пишем **образцы** (ввод чисел a и b, например)."
   ]
  },
  {
   "cell_type": "code",
   "execution_count": 104,
   "id": "elementary-assistant",
   "metadata": {},
   "outputs": [],
   "source": [
    "plusInt :: Int -> Int -> Int\n",
    "plusInt a b = a + b"
   ]
  },
  {
   "cell_type": "code",
   "execution_count": 98,
   "id": "intellectual-enforcement",
   "metadata": {},
   "outputs": [
    {
     "data": {
      "text/plain": [
       "9"
      ]
     },
     "metadata": {},
     "output_type": "display_data"
    }
   ],
   "source": [
    "plusInt 4 5"
   ]
  },
  {
   "cell_type": "code",
   "execution_count": 117,
   "id": "funky-house",
   "metadata": {},
   "outputs": [
    {
     "ename": "",
     "evalue": "",
     "output_type": "error",
     "traceback": [
      "<interactive>:2:1: error: Illegal type signature: ‘(a, b)’ Type signatures are only allowed in patterns with ScopedTypeVariables"
     ]
    }
   ],
   "source": [
    "divMode :: (Int, Int) -> (Int, Int)\n",
    "divMode :: (a, b) = (a `div` b, a `mod` b)"
   ]
  },
  {
   "cell_type": "markdown",
   "id": "solved-security",
   "metadata": {},
   "source": [
    "В образце можем отдельным идентифакотором обозначить обе части"
   ]
  },
  {
   "cell_type": "code",
   "execution_count": 114,
   "id": "shared-wyoming",
   "metadata": {},
   "outputs": [
    {
     "ename": "",
     "evalue": "",
     "output_type": "error",
     "traceback": [
      "Parse error (line 1, column 1): Unknown directive: '{'."
     ]
    },
    {
     "ename": "",
     "evalue": "",
     "output_type": "error",
     "traceback": [
      "Parse error (line 4, column 1): Unknown directive: '}'."
     ]
    }
   ],
   "source": [
    ":{\n",
    "    plusInt :: Int -> Int -> Int\n",
    "    plusInt a b = a + b\n",
    ":}"
   ]
  },
  {
   "cell_type": "markdown",
   "id": "specified-italy",
   "metadata": {},
   "source": [
    "Эти определения можно было записать в отдельный файл с расширением `.hs` и загрузить данный модуль. Когда функций становится много, то запись становится всё сложнее.\n",
    "\n",
    "Уравнения могут содержать\n",
    "- условные выражения. `if` - не условный оператор, а средство выбора выражения - `тернарный оператор ?:` - в зависимости от условия выбирается выражение\n",
    "- рекурсивные обращения\n",
    "\n",
    "Отступы важны - все независимые друг от друга конструкции должны записывать с одной и той же конструкции. Всё, что записывается вправо - будет считаться продолжением конструкции."
   ]
  },
  {
   "cell_type": "markdown",
   "id": "yellow-integrity",
   "metadata": {},
   "source": [
    "**Функция для факториала**"
   ]
  },
  {
   "cell_type": "code",
   "execution_count": 125,
   "id": "exciting-moses",
   "metadata": {},
   "outputs": [],
   "source": [
    "factorial :: Integer -> Integer\n",
    "factorial n = if n == 0 then 1 \n",
    "                        else n * factorial (n-1)"
   ]
  },
  {
   "cell_type": "code",
   "execution_count": 126,
   "id": "touched-minority",
   "metadata": {},
   "outputs": [
    {
     "data": {
      "text/plain": [
       "120"
      ]
     },
     "metadata": {},
     "output_type": "display_data"
    }
   ],
   "source": [
    "factorial 5"
   ]
  },
  {
   "cell_type": "markdown",
   "id": "going-operator",
   "metadata": {},
   "source": [
    "**Сумма n чисел**"
   ]
  },
  {
   "cell_type": "code",
   "execution_count": 131,
   "id": "talented-switch",
   "metadata": {},
   "outputs": [],
   "source": [
    "sums :: Integer -> Integer\n",
    "sums n = n + if n == 0 then 0 \n",
    "                       else sums(n-1)"
   ]
  },
  {
   "cell_type": "code",
   "execution_count": 133,
   "id": "marine-potato",
   "metadata": {},
   "outputs": [
    {
     "data": {
      "text/plain": [
       "21"
      ]
     },
     "metadata": {},
     "output_type": "display_data"
    }
   ],
   "source": [
    "sums 6"
   ]
  },
  {
   "cell_type": "code",
   "execution_count": 134,
   "id": "seeing-insured",
   "metadata": {},
   "outputs": [
    {
     "ename": "",
     "evalue": "",
     "output_type": "error",
     "traceback": [
      "Parse error (line 1, column 1): parse error on input ‘module’"
     ]
    }
   ],
   "source": [
    "module test where"
   ]
  },
  {
   "cell_type": "code",
   "execution_count": 145,
   "id": "configured-avatar",
   "metadata": {},
   "outputs": [
    {
     "ename": "",
     "evalue": "",
     "output_type": "error",
     "traceback": [
      "\"Test.hs\".hs: openFile: does not exist (No such file or directory)"
     ]
    }
   ],
   "source": [
    ":load \"Test.hs\""
   ]
  },
  {
   "cell_type": "code",
   "execution_count": 146,
   "id": "fleet-forestry",
   "metadata": {},
   "outputs": [
    {
     "data": {
      "text/plain": [
       "3628800"
      ]
     },
     "metadata": {},
     "output_type": "display_data"
    }
   ],
   "source": [
    "factorial 10"
   ]
  },
  {
   "cell_type": "code",
   "execution_count": 147,
   "id": "uniform-milwaukee",
   "metadata": {},
   "outputs": [
    {
     "data": {
      "text/plain": [
       "93326215443944152681699238856266700490715968264381621468592963895217599993229915608941463976156518286253697920827223758251185210916864000000000000000000000000"
      ]
     },
     "metadata": {},
     "output_type": "display_data"
    }
   ],
   "source": [
    "factorial 100"
   ]
  },
  {
   "cell_type": "markdown",
   "id": "parliamentary-pepper",
   "metadata": {},
   "source": [
    "## 01.6 **Условные уравнения**\n",
    "\n",
    "Используются сторожи (`guards` |)"
   ]
  },
  {
   "cell_type": "code",
   "execution_count": 152,
   "id": "coastal-chuck",
   "metadata": {},
   "outputs": [],
   "source": [
    "factorial1 :: Integer -> Integer\n",
    "factorial1 n | n == 0 = 1 -- если равно нулю, то единица\n",
    "            | n > 0  = n * factorial1(n-1)"
   ]
  },
  {
   "cell_type": "code",
   "execution_count": 153,
   "id": "structured-college",
   "metadata": {},
   "outputs": [
    {
     "data": {
      "text/plain": [
       "93326215443944152681699238856266700490715968264381621468592963895217599993229915608941463976156518286253697920827223758251185210916864000000000000000000000000"
      ]
     },
     "metadata": {},
     "output_type": "display_data"
    }
   ],
   "source": [
    "factorial1 100"
   ]
  },
  {
   "cell_type": "code",
   "execution_count": 156,
   "id": "balanced-stone",
   "metadata": {},
   "outputs": [
    {
     "ename": "",
     "evalue": "",
     "output_type": "error",
     "traceback": [
      "<interactive>:(2,1)-(3,42): Non-exhaustive patterns in function factorial1"
     ]
    }
   ],
   "source": [
    "factorial1 (-10) -- не нашлось подходящего образца, \n",
    "-- не нашли сторожа подходящего"
   ]
  },
  {
   "cell_type": "markdown",
   "id": "threaded-compatibility",
   "metadata": {},
   "source": [
    "Заметим, что в данном варианте будет выдано сообщение об ошибке при отрицательном значении, а в предыдущем - зациклится.\n",
    "\n",
    "- `:r` - команда reload в интерпретаторе\n",
    "- `:load \"test.hs\"` - загрузка модуля\n",
    "\n",
    "Уравнение для одной функции может быть несколько, тогда аргументы последовательно *сопоставляются с образцами*, в котором **важна последовательность** сопоставления образцам. При отрицательном аргументе снова зациклимся."
   ]
  },
  {
   "cell_type": "code",
   "execution_count": 159,
   "id": "destroyed-antarctica",
   "metadata": {},
   "outputs": [],
   "source": [
    "factorial2 :: Integer -> Integer\n",
    "factorial2 0 = 1\n",
    "factorial2 n = n * factorial2(n-1)"
   ]
  },
  {
   "cell_type": "code",
   "execution_count": 160,
   "id": "obvious-ideal",
   "metadata": {},
   "outputs": [
    {
     "data": {
      "text/plain": [
       "3628800"
      ]
     },
     "metadata": {},
     "output_type": "display_data"
    }
   ],
   "source": [
    "factorial2 10"
   ]
  },
  {
   "attachments": {
    "image-2.png": {
     "image/png": "[encoded data removed]"
    }
   },
   "cell_type": "markdown",
   "id": "curious-antibody",
   "metadata": {},
   "source": [
    "## 01.7 Подготовка и запуск программ\n",
    "\n",
    "### 01.7.1 Краткий синтаксис\n",
    "\n",
    "В лекциях всюду используется «краткий» синтаксис, при котором каждое новое определение начинается с новой строки. Этот синтаксис очень чувствителен к расположению строк. Каждое новое «предложение» должно начинаться ровно в той же позиции, что и предыдущее.\n",
    "\n",
    "Если требуется разместить «предложение» на нескольких строках, то «продолжения» должны начинаться с отступом от позиции предыдущей строки\n",
    "\n",
    "![image-2.png](attachment:image-2.png)\n",
    "\n",
    "### 01.7.2 Полный синтаксис\n",
    "\n",
    "«Полный» синтаксис подразумевает, что последовательность «предложений» заключается в фигурные скобки, а отдельные предложения отделяются друг от друга точками с запятой. В случае использования «полного» синтаксиса соблюдать отступы не обязательно.\n",
    "\n",
    "Можно писать как угодно с отступами, если использовать скобки"
   ]
  },
  {
   "cell_type": "code",
   "execution_count": 162,
   "id": "taken-merchandise",
   "metadata": {},
   "outputs": [
    {
     "ename": "",
     "evalue": "",
     "output_type": "error",
     "traceback": [
      "Parse error (line 1, column 1): parse error on input ‘{’"
     ]
    },
    {
     "ename": "",
     "evalue": "",
     "output_type": "error",
     "traceback": [
      "Parse error (line 4, column 23): parse error on input ‘}’"
     ]
    }
   ],
   "source": [
    "{ factorial :: Integer -> Integer;\n",
    "     factorial n | n == 0  = 1\n",
    "               | n > 0   =\n",
    "n * (factorial (n-1)) }"
   ]
  },
  {
   "cell_type": "markdown",
   "id": "bronze-working",
   "metadata": {},
   "source": [
    "В программе можно смешивать полный и краткий синтаксис. Анализатор переключается между ними по следующим правилам:\n",
    "\n",
    "- анализ начинается в режиме полного синтаксиса;\n",
    "- если там, где нужна открывающая фигурная скобка, ее нет, то она автоматически вставляется, а анализатор переходит в режим краткого синтаксиса;\n",
    "- если в режиме краткого синтаксиса очередная строка начинается с той же позиции, что и начало всего предложения, то перед ней автоматически вставляется точка с запятой;\n",
    "- если очередная строка начинается с отступом влево от начала текущего предложения, то вставляется закрывающая фигурная скобка;\n",
    "- если очередная строка начинается с отступом вправо, то это – продолжение предыдущей строки (ничего не вставляется)"
   ]
  },
  {
   "cell_type": "markdown",
   "id": "developmental-thomas",
   "metadata": {},
   "source": [
    "## 01.8 Исполнение программ с помощью текстовой подстановки\n",
    "\n",
    "Пусть есть следующая программа."
   ]
  },
  {
   "cell_type": "code",
   "execution_count": 163,
   "id": "external-gasoline",
   "metadata": {},
   "outputs": [],
   "source": [
    "factorial1 :: Integer -> Integer\n",
    "factorial1 n | n == 0 = 1 -- если равно нулю, то единица\n",
    "            | n > 0  = n * factorial1(n-1)"
   ]
  },
  {
   "attachments": {
    "image-2.png": {
     "image/png": "[encoded data removed]"
    }
   },
   "cell_type": "markdown",
   "id": "contrary-princeton",
   "metadata": {},
   "source": [
    "Можно считать, что вычисление происходит в качестве **текстовой подстановки** - ищем тот случай, когда подходит для образец.\n",
    "\n",
    "![image-2.png](attachment:image-2.png)"
   ]
  },
  {
   "cell_type": "markdown",
   "id": "breathing-weather",
   "metadata": {},
   "source": [
    "Данный метод называется *редукцией* - мы подставляем в выражения то, что на самом деле определено в нашем уравненях. В конце концов мы пришли к выражению, которое не *редуцируется* - пришли к **нормальной формы** (в $\\lambda$-исчислении), которое можно представить в текстовом виде."
   ]
  },
  {
   "cell_type": "markdown",
   "id": "oriental-working",
   "metadata": {},
   "source": [
    "## 01.9 Несколько определений простых арифметических функций\n"
   ]
  },
  {
   "cell_type": "markdown",
   "id": "cleared-merit",
   "metadata": {},
   "source": [
    "**Вычисление наибольшего общего делителя двух натуральных чисел**\n",
    "\n",
    "- `error` - по существу у этой функции нет результата, она прерывает программу, выдавая сообщение - используется для дебага."
   ]
  },
  {
   "cell_type": "code",
   "execution_count": 166,
   "id": "japanese-novelty",
   "metadata": {},
   "outputs": [],
   "source": [
    "-- Вычисление наибольшего общего делителя двух натуральных чисел\n",
    "gcd              :: Integer -> Integer -> Integer -- определяю тип\n",
    "gcd m n | m < n  =  gcd n m  -- переставляю элементы\n",
    "        | n < 0  =  error \"gcd: Wrong argument\" -- исключение\n",
    "gcd m 0          =  m \n",
    "gcd m n          =  gcd n (m `mod` n) "
   ]
  },
  {
   "cell_type": "code",
   "execution_count": 165,
   "id": "chemical-circular",
   "metadata": {},
   "outputs": [
    {
     "data": {
      "text/plain": [
       "2"
      ]
     },
     "metadata": {},
     "output_type": "display_data"
    }
   ],
   "source": [
    "gcd 10 6"
   ]
  },
  {
   "cell_type": "markdown",
   "id": "focal-alcohol",
   "metadata": {},
   "source": [
    "**Проверка заданного натурального числа на простоту**\n",
    "\n",
    "Будем пользоваться вспомогательной функцией, так как рекурсию удобно сделать, если есть два аргумента. Мы бы ввели переменную - делитель - и увеличивали бы, пока не обнаружили бы, что число простое.\n",
    "\n",
    "Но данную переменную ввести никак невозможно в функциональном программировании, поэтому вводится дополнительная переменная `d`.\n",
    "\n",
    "- `otherwise` - в противном случае - *если ни один сторож не подошёл*"
   ]
  },
  {
   "cell_type": "code",
   "execution_count": 167,
   "id": "confirmed-lithuania",
   "metadata": {},
   "outputs": [],
   "source": [
    "-- Проверка заданного натурального числа на простоту\n",
    "\n",
    "-- d - делитель\n",
    "-- p - число\n",
    "prime             :: Integer -> Bool \n",
    "prime'            :: Integer -> Integer -> Bool \n",
    "prime p    | p <= 0          =  error \"prime: Non-positive argument\"\n",
    "           | otherwise       =  prime' 2 p -- вводим подобие локальной переменной\n",
    "prime' d p | d * d > p       =  True\n",
    "           | p `mod` d == 0  =  False -- если разделилось, то число не простое\n",
    "           | otherwise       =  prime' (d+1) p -- рекурсивный вызов"
   ]
  },
  {
   "cell_type": "markdown",
   "id": "behavioral-disability",
   "metadata": {},
   "source": [
    "Такие аргументы, как `d` называют **накапливающими аргументами** (увеличивают свое значение)."
   ]
  },
  {
   "cell_type": "markdown",
   "id": "damaged-affiliate",
   "metadata": {},
   "source": [
    "## 01.10 Немного о явных и неявных преобразованиях типов"
   ]
  },
  {
   "cell_type": "markdown",
   "id": "aboriginal-acoustic",
   "metadata": {},
   "source": [
    "Язык `Haskell` – строго типизированный. Это означает, что во время *компиляции* **тип** любого выражения **известен и контролируется** (синтаксически). Если есть несоответствие типов, то программа просто не скомпилируется. Тем не менее, многие функции и операции допускают в качестве аргументов (операндов) значения разных типов.\n",
    "\n",
    "- Сложение целых"
   ]
  },
  {
   "cell_type": "code",
   "execution_count": 170,
   "id": "sound-jimmy",
   "metadata": {},
   "outputs": [
    {
     "data": {
      "text/plain": [
       "7"
      ]
     },
     "metadata": {},
     "output_type": "display_data"
    }
   ],
   "source": [
    "2 + 5 -- сложение целых, будет точно целым"
   ]
  },
  {
   "cell_type": "markdown",
   "id": "external-invasion",
   "metadata": {},
   "source": [
    "- Сложение вещественных чисел"
   ]
  },
  {
   "cell_type": "code",
   "execution_count": 172,
   "id": "loose-peninsula",
   "metadata": {},
   "outputs": [
    {
     "data": {
      "text/plain": [
       "6.0"
      ]
     },
     "metadata": {},
     "output_type": "display_data"
    }
   ],
   "source": [
    "2.5 + 3.5 --результат - вещественная 6"
   ]
  },
  {
   "cell_type": "markdown",
   "id": "closed-breast",
   "metadata": {},
   "source": [
    "- Вещественное и целое - запись `2 + 3.5` двойка будет представлена в качестве вещественной двойки. Преобразования типов не происходит."
   ]
  },
  {
   "cell_type": "code",
   "execution_count": 174,
   "id": "resident-cricket",
   "metadata": {},
   "outputs": [
    {
     "data": {
      "text/plain": [
       "5.5"
      ]
     },
     "metadata": {},
     "output_type": "display_data"
    }
   ],
   "source": [
    "2 + 3.5 -- сложение вещественных (первый операнд рассматривается как вещественное);\n"
   ]
  },
  {
   "cell_type": "markdown",
   "id": "offensive-trouble",
   "metadata": {},
   "source": [
    "- сложение вещественных (тип первого операнда выводится как вещественное)"
   ]
  },
  {
   "cell_type": "code",
   "execution_count": 176,
   "id": "surface-trunk",
   "metadata": {},
   "outputs": [
    {
     "data": {
      "text/plain": [
       "5.5"
      ]
     },
     "metadata": {},
     "output_type": "display_data"
    }
   ],
   "source": [
    "let n = 2 in n + 3.5 -- опять производится вывод типов"
   ]
  },
  {
   "cell_type": "code",
   "execution_count": 178,
   "id": "interim-trade",
   "metadata": {},
   "outputs": [
    {
     "ename": "",
     "evalue": "",
     "output_type": "error",
     "traceback": [
      "<interactive>:1:25: error:\n    • No instance for (Fractional Int) arising from the literal ‘3.5’\n    • In the second argument of ‘(+)’, namely ‘3.5’\n      In the expression: n + 3.5\n      In the expression: let n = 2 :: Int in n + 3.5"
     ]
    }
   ],
   "source": [
    "let n = 2 :: Int in n + 3.5 -- видим, что нет операций, которое бы сложило\n",
    "-- целое число и вещественное \n",
    "       -- ошибка (тип первого операнда явно указан как целый);"
   ]
  },
  {
   "cell_type": "markdown",
   "id": "fundamental-wagner",
   "metadata": {},
   "source": [
    "Это показывает, что **неявных** преобразований в *Haskell* **нет**. Правда можно написать функцию `fromIntegral` - преобразует целое число в то, что **нужно по контексту**"
   ]
  },
  {
   "cell_type": "code",
   "execution_count": 179,
   "id": "specific-pendant",
   "metadata": {},
   "outputs": [
    {
     "data": {
      "text/plain": [
       "5.5"
      ]
     },
     "metadata": {},
     "output_type": "display_data"
    }
   ],
   "source": [
    "let n = 2 :: Int in fromIntegral n + 3.5\n",
    "-- сложение вещественных (тип первого операнда явно преобразован);"
   ]
  },
  {
   "cell_type": "markdown",
   "id": "bottom-medium",
   "metadata": {},
   "source": [
    "Неявных преобразований из `Int` в `Integer`, об этом будет сообщать компилятор, поэтому используем функции преобразования по контексту:"
   ]
  },
  {
   "cell_type": "code",
   "execution_count": 180,
   "id": "illegal-wisdom",
   "metadata": {},
   "outputs": [
    {
     "ename": "",
     "evalue": "",
     "output_type": "error",
     "traceback": [
      "<interactive>:1:48: error:\n    • Couldn't match expected type ‘Int’ with actual type ‘Integer’\n    • In the second argument of ‘(+)’, namely ‘b’\n      In the expression: a + b\n      In the expression:\n        let\n          a = 2 :: Int\n          b = 12 :: Integer\n        in a + b"
     ]
    }
   ],
   "source": [
    "let { a = 2 :: Int; b = 12 :: Integer } in a + b\n",
    "-- ошибка (операнды имеют разные типы);"
   ]
  },
  {
   "cell_type": "code",
   "execution_count": 182,
   "id": "monetary-material",
   "metadata": {},
   "outputs": [
    {
     "data": {
      "text/plain": [
       "14"
      ]
     },
     "metadata": {},
     "output_type": "display_data"
    }
   ],
   "source": [
    "let { a = 2 :: Int; b = 12 :: Integer } in a + fromIntegral b \n",
    "    -- сложение коротких целых;"
   ]
  },
  {
   "cell_type": "markdown",
   "id": "aggregate-mountain",
   "metadata": {},
   "source": [
    "**Функции преобразования типов**:\n",
    "\n",
    "- `fromIntegral`\n",
    "- `fromRational`\n",
    "- `fromEnum`\n",
    "- `toInteger` - значение другого типа в `Integer`\n",
    "- `toRational` - обобщённый вещественный тип\n",
    "- `truncate` (ближайшее целое)\n",
    "- `round` (округление)\n",
    "- `ceiling` (вверх)\n",
    "- `floor` (вниз"
   ]
  },
  {
   "cell_type": "markdown",
   "id": "random-australian",
   "metadata": {},
   "source": [
    "## 01.11 Эффективность рекурсивных функций. Концевая рекурсия\n",
    "\n",
    "Вычислим числа Фибоначчи"
   ]
  },
  {
   "cell_type": "code",
   "execution_count": 183,
   "id": "extreme-anthony",
   "metadata": {},
   "outputs": [],
   "source": [
    "-- Вычисление числа Фибоначчи, заданного порядковым номером\n",
    "fib        :: Integer -> Integer\n",
    "fib 1      =  1\n",
    "fib 2      =  1\n",
    "fib n      =  fib (n-1) + fib (n-2)"
   ]
  },
  {
   "cell_type": "code",
   "execution_count": 184,
   "id": "higher-matrix",
   "metadata": {},
   "outputs": [
    {
     "data": {
      "text/plain": [
       "8"
      ]
     },
     "metadata": {},
     "output_type": "display_data"
    }
   ],
   "source": [
    "fib 6"
   ]
  },
  {
   "attachments": {
    "image.png": {
     "image/png": "[encoded data removed]"
    }
   },
   "cell_type": "markdown",
   "id": "perceived-current",
   "metadata": {},
   "source": [
    "![image.png](attachment:image.png)"
   ]
  },
  {
   "cell_type": "markdown",
   "id": "developing-butterfly",
   "metadata": {},
   "source": [
    "Очень долго - введём дополнительные переменные."
   ]
  },
  {
   "cell_type": "code",
   "execution_count": 185,
   "id": "liquid-breast",
   "metadata": {},
   "outputs": [],
   "source": [
    "-- k номер очередного числа Фибоначчи\n",
    "-- fk - k-e число Фибоначчи \n",
    "-- fk1 - k-1-e число Фибоначчи\n",
    "fib   :: Integer -> Integer\n",
    "fib'  :: Integer -> Integer -> Integer -> Integer -> Integer\n",
    "fib'  n k fk fk1 | k == n  =  fk\n",
    "                 | k < n   =  fib' n (k+1) (fk+fk1) fk  \n",
    "fib 1 = 1\n",
    "fib n = fib' n 2 1 1"
   ]
  },
  {
   "cell_type": "code",
   "execution_count": 187,
   "id": "viral-insider",
   "metadata": {},
   "outputs": [
    {
     "data": {
      "text/plain": [
       "8"
      ]
     },
     "metadata": {},
     "output_type": "display_data"
    }
   ],
   "source": [
    "fib 6"
   ]
  },
  {
   "attachments": {
    "image.png": {
     "image/png": "[encoded data removed]"
    }
   },
   "cell_type": "markdown",
   "id": "structural-helen",
   "metadata": {},
   "source": [
    "![image.png](attachment:image.png)"
   ]
  },
  {
   "cell_type": "markdown",
   "id": "powered-renewal",
   "metadata": {},
   "source": [
    "Используется **концевая рекурсия** - рекурсивный вызов - **последняя операция** в правой части уравнения. Некоторые компиляторы могут увидеть, что рекурсия концевая (которая не всегда выгодна, растёт стек вызовов), поэтому фактически концевая рекурсия - цикл и компилятор может распознать концевую рекурсию и сделать гораздо более вычислительно быстрее."
   ]
  },
  {
   "cell_type": "code",
   "execution_count": 191,
   "id": "first-refund",
   "metadata": {},
   "outputs": [],
   "source": [
    "-- f - вычисленное значение факториала\n",
    "-- n - сколько осталось вычислить\n",
    "\n",
    "factorial  :: Integer -> Integer\n",
    "factorial' :: Integer -> Integer -> Integer\n",
    "factorial n = factorial' n 1               -- (factorial' n f) == (f * n!)\n",
    "factorial' n f | n == 0  =  f\n",
    "               | n > 0   =  factorial' (n-1) (n*f)"
   ]
  },
  {
   "cell_type": "code",
   "execution_count": 190,
   "id": "systematic-problem",
   "metadata": {},
   "outputs": [
    {
     "data": {
      "text/plain": [
       "93326215443944152681699238856266700490715968264381621468592963895217599993229915608941463976156518286253697920827223758251185210916864000000000000000000000000"
      ]
     },
     "metadata": {},
     "output_type": "display_data"
    }
   ],
   "source": [
    "factorial 100"
   ]
  },
  {
   "cell_type": "markdown",
   "id": "forty-herald",
   "metadata": {},
   "source": [
    "Сама форма остаётся той же самой, и концевую рекурсию можно легко преобразовать в цикл вычислений.\n",
    "\n",
    "Еще раз обратим внимание, что переменных нет и нет локальных изменений - функции чистые и переменная не может измениться."
   ]
  }
 ],
 "metadata": {
  "kernelspec": {
   "display_name": "Haskell",
   "language": "haskell",
   "name": "haskell"
  },
  "language_info": {
   "codemirror_mode": "ihaskell",
   "file_extension": ".hs",
   "mimetype": "text/x-haskell",
   "name": "haskell",
   "pygments_lexer": "Haskell",
   "version": "8.8.4"
  }
 },
 "nbformat": 4,
 "nbformat_minor": 5
}
