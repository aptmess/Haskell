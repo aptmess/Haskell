{
 "cells": [
  {
   "cell_type": "markdown",
   "id": "intended-speed",
   "metadata": {},
   "source": [
    "# 02. Списки и деревья\n",
    "\n",
    "<div style=\"text-align: right\"> \n",
    "    \n",
    "    Лекция 1.2 04/02/21 \n",
    "    \n",
    "    Кубенский Александр Александрович\n",
    "    \n",
    "    akoubensky@gmail.com\n",
    "</div> "
   ]
  },
  {
   "cell_type": "markdown",
   "id": "eleven-crossing",
   "metadata": {},
   "source": [
    "## 02.1 Списки в языке Haskell\n",
    "\n",
    "Используются именно списки, а не массивы, поэтому операция индексации происходит гораздо более медленнее, чем в массивах (`O(n)` вместо `O(1)`).\n",
    "\n",
    "- `[]` - пустой список, пустая ссылка в других языках программирования\n",
    "- списки являются однородной структурой, элементы должны быть одного и того же типа"
   ]
  },
  {
   "cell_type": "code",
   "execution_count": 2,
   "id": "annoying-bahamas",
   "metadata": {},
   "outputs": [
    {
     "data": {
      "text/plain": [
       "[1,2,3]"
      ]
     },
     "metadata": {},
     "output_type": "display_data"
    }
   ],
   "source": [
    "[1, 2, 3]"
   ]
  },
  {
   "cell_type": "markdown",
   "id": "apparent-decimal",
   "metadata": {},
   "source": [
    "- `1:[2,3]` - конструктор - присоединение головного элемента к списку.\n",
    "\n",
    "**Конструктор** не делает никаких преобразований над значениями - получившуюся конструкцию всегда можно разобрать - мы всегда сможем присоединить и , что более важно, отсоъединить голову.\n",
    "\n",
    "**Функции** - выдают совершенно новый объект, который нельзя разделить машинным образом."
   ]
  },
  {
   "cell_type": "code",
   "execution_count": 3,
   "id": "bulgarian-signature",
   "metadata": {},
   "outputs": [
    {
     "data": {
      "text/plain": [
       "[1,2,3]"
      ]
     },
     "metadata": {},
     "output_type": "display_data"
    }
   ],
   "source": [
    "1:[2,3]"
   ]
  },
  {
   "cell_type": "markdown",
   "id": "burning-adult",
   "metadata": {},
   "source": [
    "`1:(2:(3:[]))`  -- создание списка с помощью конструктора ':' и пустого списка. В некотором смысле константы являются *костнукторами* - **конструкторами констант**"
   ]
  },
  {
   "cell_type": "code",
   "execution_count": 4,
   "id": "vocal-bundle",
   "metadata": {},
   "outputs": [
    {
     "data": {
      "text/html": [
       "<style>/* Styles used for the Hoogle display in the pager */\n",
       ".hoogle-doc {\n",
       "display: block;\n",
       "padding-bottom: 1.3em;\n",
       "padding-left: 0.4em;\n",
       "}\n",
       ".hoogle-code {\n",
       "display: block;\n",
       "font-family: monospace;\n",
       "white-space: pre;\n",
       "}\n",
       ".hoogle-text {\n",
       "display: block;\n",
       "}\n",
       ".hoogle-name {\n",
       "color: green;\n",
       "font-weight: bold;\n",
       "}\n",
       ".hoogle-head {\n",
       "font-weight: bold;\n",
       "}\n",
       ".hoogle-sub {\n",
       "display: block;\n",
       "margin-left: 0.4em;\n",
       "}\n",
       ".hoogle-package {\n",
       "font-weight: bold;\n",
       "font-style: italic;\n",
       "}\n",
       ".hoogle-module {\n",
       "font-weight: bold;\n",
       "}\n",
       ".hoogle-class {\n",
       "font-weight: bold;\n",
       "}\n",
       ".get-type {\n",
       "color: green;\n",
       "font-weight: bold;\n",
       "font-family: monospace;\n",
       "display: block;\n",
       "white-space: pre-wrap;\n",
       "}\n",
       ".show-type {\n",
       "color: green;\n",
       "font-weight: bold;\n",
       "font-family: monospace;\n",
       "margin-left: 1em;\n",
       "}\n",
       ".mono {\n",
       "font-family: monospace;\n",
       "display: block;\n",
       "}\n",
       ".err-msg {\n",
       "color: red;\n",
       "font-style: italic;\n",
       "font-family: monospace;\n",
       "white-space: pre;\n",
       "display: block;\n",
       "}\n",
       "#unshowable {\n",
       "color: red;\n",
       "font-weight: bold;\n",
       "}\n",
       ".err-msg.in.collapse {\n",
       "padding-top: 0.7em;\n",
       "}\n",
       ".highlight-code {\n",
       "white-space: pre;\n",
       "font-family: monospace;\n",
       "}\n",
       ".suggestion-warning { \n",
       "font-weight: bold;\n",
       "color: rgb(200, 130, 0);\n",
       "}\n",
       ".suggestion-error { \n",
       "font-weight: bold;\n",
       "color: red;\n",
       "}\n",
       ".suggestion-name {\n",
       "font-weight: bold;\n",
       "}\n",
       "</style><div class=\"suggestion-name\" style=\"clear:both;\">Use list literal</div><div class=\"suggestion-row\" style=\"float: left;\"><div class=\"suggestion-warning\">Found:</div><div class=\"highlight-code\" id=\"haskell\">1 : (2 : (3 : []))</div></div><div class=\"suggestion-row\" style=\"float: left;\"><div class=\"suggestion-warning\">Why Not:</div><div class=\"highlight-code\" id=\"haskell\">[1, 2, 3]</div></div>"
      ],
      "text/plain": [
       "Line 1: Use list literal\n",
       "Found:\n",
       "1 : (2 : (3 : []))\n",
       "Why not:\n",
       "[1, 2, 3]"
      ]
     },
     "metadata": {},
     "output_type": "display_data"
    },
    {
     "data": {
      "text/plain": [
       "[1,2,3]"
      ]
     },
     "metadata": {},
     "output_type": "display_data"
    }
   ],
   "source": [
    "1:(2:(3:[]))"
   ]
  },
  {
   "cell_type": "markdown",
   "id": "separated-south",
   "metadata": {},
   "source": [
    "- `[1..n]` - создание списка с помощью арифметической прогрессии, шаг единица\n",
    "\n",
    "- `[2, 4..20]` - арифметическая прогрессия с заданной разностью, которая задаётся **2**-мя первыми элементами\n",
    "\n",
    "Кортежи содержат определенное количество элементов, в списке мы не знаем количества элементов заранее."
   ]
  },
  {
   "cell_type": "markdown",
   "id": "handmade-installation",
   "metadata": {},
   "source": [
    "**Типы списков**\n",
    "\n",
    "- `[Integer]` - список и целых чисел: `[1..10]`\n",
    "- `[Char]` - список из символов (строка: `\"List\" == ['L','i','s','t']`)\n",
    "- `[(Char, Int)]` - список из кортежей: `[('L', 1), ('i', 2), ('s', 3)]`\n",
    "- `[[Int]]`      -- список из списков: `[[1, 2], [3, 5..10], []]`"
   ]
  },
  {
   "cell_type": "markdown",
   "id": "judicial-james",
   "metadata": {},
   "source": [
    "**Функция суммирования элементов списка**\n",
    "\n",
    "Сами можем описывать функции обработки списков. В качестве образцов будем использовать **конструкторы**."
   ]
  },
  {
   "cell_type": "code",
   "execution_count": 6,
   "id": "subsequent-behavior",
   "metadata": {},
   "outputs": [
    {
     "data": {
      "text/html": [
       "<style>/* Styles used for the Hoogle display in the pager */\n",
       ".hoogle-doc {\n",
       "display: block;\n",
       "padding-bottom: 1.3em;\n",
       "padding-left: 0.4em;\n",
       "}\n",
       ".hoogle-code {\n",
       "display: block;\n",
       "font-family: monospace;\n",
       "white-space: pre;\n",
       "}\n",
       ".hoogle-text {\n",
       "display: block;\n",
       "}\n",
       ".hoogle-name {\n",
       "color: green;\n",
       "font-weight: bold;\n",
       "}\n",
       ".hoogle-head {\n",
       "font-weight: bold;\n",
       "}\n",
       ".hoogle-sub {\n",
       "display: block;\n",
       "margin-left: 0.4em;\n",
       "}\n",
       ".hoogle-package {\n",
       "font-weight: bold;\n",
       "font-style: italic;\n",
       "}\n",
       ".hoogle-module {\n",
       "font-weight: bold;\n",
       "}\n",
       ".hoogle-class {\n",
       "font-weight: bold;\n",
       "}\n",
       ".get-type {\n",
       "color: green;\n",
       "font-weight: bold;\n",
       "font-family: monospace;\n",
       "display: block;\n",
       "white-space: pre-wrap;\n",
       "}\n",
       ".show-type {\n",
       "color: green;\n",
       "font-weight: bold;\n",
       "font-family: monospace;\n",
       "margin-left: 1em;\n",
       "}\n",
       ".mono {\n",
       "font-family: monospace;\n",
       "display: block;\n",
       "}\n",
       ".err-msg {\n",
       "color: red;\n",
       "font-style: italic;\n",
       "font-family: monospace;\n",
       "white-space: pre;\n",
       "display: block;\n",
       "}\n",
       "#unshowable {\n",
       "color: red;\n",
       "font-weight: bold;\n",
       "}\n",
       ".err-msg.in.collapse {\n",
       "padding-top: 0.7em;\n",
       "}\n",
       ".highlight-code {\n",
       "white-space: pre;\n",
       "font-family: monospace;\n",
       "}\n",
       ".suggestion-warning { \n",
       "font-weight: bold;\n",
       "color: rgb(200, 130, 0);\n",
       "}\n",
       ".suggestion-error { \n",
       "font-weight: bold;\n",
       "color: red;\n",
       "}\n",
       ".suggestion-name {\n",
       "font-weight: bold;\n",
       "}\n",
       "</style><div class=\"suggestion-name\" style=\"clear:both;\">Use foldr</div><div class=\"suggestion-row\" style=\"float: left;\"><div class=\"suggestion-warning\">Found:</div><div class=\"highlight-code\" id=\"haskell\">sumList [] = 0\n",
       "sumList (x : s) = x + sumList s</div></div><div class=\"suggestion-row\" style=\"float: left;\"><div class=\"suggestion-warning\">Why Not:</div><div class=\"highlight-code\" id=\"haskell\">sumList s = foldr (+) 0 s</div></div>"
      ],
      "text/plain": [
       "Line 2: Use foldr\n",
       "Found:\n",
       "sumList [] = 0\n",
       "sumList (x : s) = x + sumList s\n",
       "Why not:\n",
       "sumList s = foldr (+) 0 s"
      ]
     },
     "metadata": {},
     "output_type": "display_data"
    }
   ],
   "source": [
    "sumList       ::  [Integer] -> Integer\n",
    "sumList []    =   0 -- если пустой список, то 0\n",
    "sumList (x:s) =   x + sumList s -- если результат составлен с помощью конструктора\n",
    "-- голова:хвост (кроме пустого), то выделяем голову и хвост"
   ]
  },
  {
   "attachments": {
    "image.png": {
     "image/png": "[encoded data removed]"
    }
   },
   "cell_type": "markdown",
   "id": "married-honolulu",
   "metadata": {},
   "source": [
    "![image.png](attachment:image.png)\n",
    "\n",
    "Так производится сопоставление образцов."
   ]
  },
  {
   "cell_type": "code",
   "execution_count": 8,
   "id": "human-click",
   "metadata": {},
   "outputs": [
    {
     "data": {
      "text/plain": [
       "5050"
      ]
     },
     "metadata": {},
     "output_type": "display_data"
    }
   ],
   "source": [
    "sumList [1..100]"
   ]
  },
  {
   "cell_type": "markdown",
   "id": "acute-setup",
   "metadata": {},
   "source": [
    "**Кортеж** - тоже конструктор."
   ]
  },
  {
   "cell_type": "code",
   "execution_count": 9,
   "id": "noted-sandwich",
   "metadata": {},
   "outputs": [
    {
     "data": {
      "text/html": [
       "<style>/* Styles used for the Hoogle display in the pager */\n",
       ".hoogle-doc {\n",
       "display: block;\n",
       "padding-bottom: 1.3em;\n",
       "padding-left: 0.4em;\n",
       "}\n",
       ".hoogle-code {\n",
       "display: block;\n",
       "font-family: monospace;\n",
       "white-space: pre;\n",
       "}\n",
       ".hoogle-text {\n",
       "display: block;\n",
       "}\n",
       ".hoogle-name {\n",
       "color: green;\n",
       "font-weight: bold;\n",
       "}\n",
       ".hoogle-head {\n",
       "font-weight: bold;\n",
       "}\n",
       ".hoogle-sub {\n",
       "display: block;\n",
       "margin-left: 0.4em;\n",
       "}\n",
       ".hoogle-package {\n",
       "font-weight: bold;\n",
       "font-style: italic;\n",
       "}\n",
       ".hoogle-module {\n",
       "font-weight: bold;\n",
       "}\n",
       ".hoogle-class {\n",
       "font-weight: bold;\n",
       "}\n",
       ".get-type {\n",
       "color: green;\n",
       "font-weight: bold;\n",
       "font-family: monospace;\n",
       "display: block;\n",
       "white-space: pre-wrap;\n",
       "}\n",
       ".show-type {\n",
       "color: green;\n",
       "font-weight: bold;\n",
       "font-family: monospace;\n",
       "margin-left: 1em;\n",
       "}\n",
       ".mono {\n",
       "font-family: monospace;\n",
       "display: block;\n",
       "}\n",
       ".err-msg {\n",
       "color: red;\n",
       "font-style: italic;\n",
       "font-family: monospace;\n",
       "white-space: pre;\n",
       "display: block;\n",
       "}\n",
       "#unshowable {\n",
       "color: red;\n",
       "font-weight: bold;\n",
       "}\n",
       ".err-msg.in.collapse {\n",
       "padding-top: 0.7em;\n",
       "}\n",
       ".highlight-code {\n",
       "white-space: pre;\n",
       "font-family: monospace;\n",
       "}\n",
       ".suggestion-warning { \n",
       "font-weight: bold;\n",
       "color: rgb(200, 130, 0);\n",
       "}\n",
       ".suggestion-error { \n",
       "font-weight: bold;\n",
       "color: red;\n",
       "}\n",
       ".suggestion-name {\n",
       "font-weight: bold;\n",
       "}\n",
       "</style><div class=\"suggestion-name\" style=\"clear:both;\">Use foldl</div><div class=\"suggestion-row\" style=\"float: left;\"><div class=\"suggestion-warning\">Found:</div><div class=\"highlight-code\" id=\"haskell\">prodList' [] p = p\n",
       "prodList' (x : ls) p = prodList' ls (p * x)</div></div><div class=\"suggestion-row\" style=\"float: left;\"><div class=\"suggestion-warning\">Why Not:</div><div class=\"highlight-code\" id=\"haskell\">prodList' ls p = foldl (*) p ls</div></div>"
      ],
      "text/plain": [
       "Line 4: Use foldl\n",
       "Found:\n",
       "prodList' [] p = p\n",
       "prodList' (x : ls) p = prodList' ls (p * x)\n",
       "Why not:\n",
       "prodList' ls p = foldl (*) p ls"
      ]
     },
     "metadata": {},
     "output_type": "display_data"
    }
   ],
   "source": [
    "factorial          ::  Integer -> Integer\n",
    "prodList'          ::  [Integer] -> Integer -> Integer\n",
    "factorial n         =  prodList' [1..n] 1\n",
    "prodList' [] p      =  p\n",
    "prodList' (x:ls) p  =  prodList' ls (p*x)     -- концевая рекурсия"
   ]
  },
  {
   "cell_type": "markdown",
   "id": "combined-guess",
   "metadata": {},
   "source": [
    "**Несколько стандартных операций над списком и их определения.**"
   ]
  },
  {
   "cell_type": "markdown",
   "id": "sealed-beauty",
   "metadata": {},
   "source": [
    "- голова списка"
   ]
  },
  {
   "cell_type": "code",
   "execution_count": 13,
   "id": "subtle-narrow",
   "metadata": {},
   "outputs": [],
   "source": [
    "head          :: [a] -> a -- на вход список, на выходе - число\n",
    "head (x:ls)   =  x -- выдаем голову\n",
    "head []       =  error \"head: empty list\""
   ]
  },
  {
   "cell_type": "markdown",
   "id": "allied-documentary",
   "metadata": {},
   "source": [
    "- хвост списка (всё без головы)"
   ]
  },
  {
   "cell_type": "code",
   "execution_count": 14,
   "id": "popular-counter",
   "metadata": {},
   "outputs": [],
   "source": [
    "tail          :: [a] -> [a] -- хвост списка\n",
    "tail (x:ls)   =  ls\n",
    "tail []       =  error \"tail: empty list\""
   ]
  },
  {
   "cell_type": "markdown",
   "id": "dirty-provincial",
   "metadata": {},
   "source": [
    "- длина списка"
   ]
  },
  {
   "cell_type": "code",
   "execution_count": 15,
   "id": "modular-punishment",
   "metadata": {},
   "outputs": [
    {
     "data": {
      "text/html": [
       "<style>/* Styles used for the Hoogle display in the pager */\n",
       ".hoogle-doc {\n",
       "display: block;\n",
       "padding-bottom: 1.3em;\n",
       "padding-left: 0.4em;\n",
       "}\n",
       ".hoogle-code {\n",
       "display: block;\n",
       "font-family: monospace;\n",
       "white-space: pre;\n",
       "}\n",
       ".hoogle-text {\n",
       "display: block;\n",
       "}\n",
       ".hoogle-name {\n",
       "color: green;\n",
       "font-weight: bold;\n",
       "}\n",
       ".hoogle-head {\n",
       "font-weight: bold;\n",
       "}\n",
       ".hoogle-sub {\n",
       "display: block;\n",
       "margin-left: 0.4em;\n",
       "}\n",
       ".hoogle-package {\n",
       "font-weight: bold;\n",
       "font-style: italic;\n",
       "}\n",
       ".hoogle-module {\n",
       "font-weight: bold;\n",
       "}\n",
       ".hoogle-class {\n",
       "font-weight: bold;\n",
       "}\n",
       ".get-type {\n",
       "color: green;\n",
       "font-weight: bold;\n",
       "font-family: monospace;\n",
       "display: block;\n",
       "white-space: pre-wrap;\n",
       "}\n",
       ".show-type {\n",
       "color: green;\n",
       "font-weight: bold;\n",
       "font-family: monospace;\n",
       "margin-left: 1em;\n",
       "}\n",
       ".mono {\n",
       "font-family: monospace;\n",
       "display: block;\n",
       "}\n",
       ".err-msg {\n",
       "color: red;\n",
       "font-style: italic;\n",
       "font-family: monospace;\n",
       "white-space: pre;\n",
       "display: block;\n",
       "}\n",
       "#unshowable {\n",
       "color: red;\n",
       "font-weight: bold;\n",
       "}\n",
       ".err-msg.in.collapse {\n",
       "padding-top: 0.7em;\n",
       "}\n",
       ".highlight-code {\n",
       "white-space: pre;\n",
       "font-family: monospace;\n",
       "}\n",
       ".suggestion-warning { \n",
       "font-weight: bold;\n",
       "color: rgb(200, 130, 0);\n",
       "}\n",
       ".suggestion-error { \n",
       "font-weight: bold;\n",
       "color: red;\n",
       "}\n",
       ".suggestion-name {\n",
       "font-weight: bold;\n",
       "}\n",
       "</style><div class=\"suggestion-name\" style=\"clear:both;\">Use foldr</div><div class=\"suggestion-row\" style=\"float: left;\"><div class=\"suggestion-warning\">Found:</div><div class=\"highlight-code\" id=\"haskell\">length (x : ls) = 1 + length ls\n",
       "length [] = 0</div></div><div class=\"suggestion-row\" style=\"float: left;\"><div class=\"suggestion-warning\">Why Not:</div><div class=\"highlight-code\" id=\"haskell\">length ls = foldr (\\ x -> (+) 1) 0 ls</div></div>"
      ],
      "text/plain": [
       "Line 2: Use foldr\n",
       "Found:\n",
       "length (x : ls) = 1 + length ls\n",
       "length [] = 0\n",
       "Why not:\n",
       "length ls = foldr (\\ x -> (+) 1) 0 ls"
      ]
     },
     "metadata": {},
     "output_type": "display_data"
    }
   ],
   "source": [
    "length        :: [a] -> Int -- количество элементов\n",
    "length (x:ls) =  1 + length ls\n",
    "length []     =  0"
   ]
  },
  {
   "cell_type": "markdown",
   "id": "genuine-player",
   "metadata": {},
   "source": [
    "Время работы пропорционально длине списка.\n",
    "\n",
    "- пустой или нет список"
   ]
  },
  {
   "cell_type": "code",
   "execution_count": 17,
   "id": "alpine-antenna",
   "metadata": {},
   "outputs": [],
   "source": [
    "null          :: [a] -> Bool -- пустой список или нет\n",
    "null (x:ls)   =  False\n",
    "null []       =  True"
   ]
  },
  {
   "cell_type": "markdown",
   "id": "polish-zealand",
   "metadata": {},
   "source": [
    "- последний элемент списка"
   ]
  },
  {
   "cell_type": "code",
   "execution_count": 18,
   "id": "adopted-aberdeen",
   "metadata": {},
   "outputs": [],
   "source": [
    "last          :: [a] -> a --последний элемент списка\n",
    "last []       =  error \"last: empty list\"\n",
    "last [x]      =  x -- если список из одного элемента, то возвращаем последний\n",
    "last (x:ls)   =  last ls -- рекурсивный вызов"
   ]
  },
  {
   "cell_type": "code",
   "execution_count": 10,
   "id": "listed-bench",
   "metadata": {},
   "outputs": [
    {
     "data": {
      "text/plain": [
       "3"
      ]
     },
     "metadata": {},
     "output_type": "display_data"
    }
   ],
   "source": [
    "last [4, 7, 10, 3]"
   ]
  },
  {
   "cell_type": "markdown",
   "id": "conservative-homeless",
   "metadata": {},
   "source": [
    "- без последнего элемента"
   ]
  },
  {
   "cell_type": "code",
   "execution_count": 19,
   "id": "suited-kentucky",
   "metadata": {},
   "outputs": [],
   "source": [
    "init          :: [a] -> [a] -- удалить последний\n",
    "init []       =  error \"init: empty list\"\n",
    "init [x]      =  []\n",
    "init (x:ls)   =  x : init ls"
   ]
  },
  {
   "cell_type": "code",
   "execution_count": 8,
   "id": "intimate-tower",
   "metadata": {},
   "outputs": [
    {
     "data": {
      "text/plain": [
       "[1,2,3,4,5,6,7,8,9]"
      ]
     },
     "metadata": {},
     "output_type": "display_data"
    }
   ],
   "source": [
    "init [1..10]"
   ]
  },
  {
   "cell_type": "markdown",
   "id": "adjustable-retail",
   "metadata": {},
   "source": [
    "- индексация списка"
   ]
  },
  {
   "cell_type": "code",
   "execution_count": 18,
   "id": "correct-territory",
   "metadata": {},
   "outputs": [],
   "source": [
    "(!!)          :: [a] -> Int -> a -- индексация, a - переменная типа\n",
    "[] !! _       =  error \"(!!): empty list\"\n",
    "(x:ls) !! 0   =  x\n",
    "(x:ls) !! n   =  ls !! (n-1)"
   ]
  },
  {
   "cell_type": "code",
   "execution_count": 19,
   "id": "adult-framing",
   "metadata": {},
   "outputs": [
    {
     "data": {
      "text/plain": [
       "2"
      ]
     },
     "metadata": {},
     "output_type": "display_data"
    }
   ],
   "source": [
    "[1,2,3] !! 1"
   ]
  },
  {
   "cell_type": "markdown",
   "id": "communist-deviation",
   "metadata": {},
   "source": [
    "\n",
    "- список индексируется коротким целым `Int`!!\n",
    "- нумерация начинается с нуля\n",
    "- если больше длины списка, то ошибка\n",
    "- в обозначение типа используется Переменные типа"
   ]
  },
  {
   "cell_type": "markdown",
   "id": "specialized-preparation",
   "metadata": {},
   "source": [
    "- конкатенация\n",
    "\n",
    "в качестве первого операнда берем более короткий, второй операнд становится неизменным"
   ]
  },
  {
   "cell_type": "code",
   "execution_count": 25,
   "id": "focused-middle",
   "metadata": {},
   "outputs": [],
   "source": [
    "(++)          :: [a] -> [a] -> [a] --соединение списка\n",
    "[] ++ ls      =  ls\n",
    "(x:l1) ++ l2  =  x : (l1 ++ l2)"
   ]
  },
  {
   "cell_type": "code",
   "execution_count": 21,
   "id": "little-latin",
   "metadata": {},
   "outputs": [
    {
     "data": {
      "text/plain": [
       "[1,2,3,4,10]"
      ]
     },
     "metadata": {},
     "output_type": "display_data"
    }
   ],
   "source": [
    "[1,2,3] ++ [4,10]"
   ]
  },
  {
   "cell_type": "code",
   "execution_count": 28,
   "id": "active-litigation",
   "metadata": {},
   "outputs": [
    {
     "data": {
      "text/plain": [
       "[4,10,1,2,3]"
      ]
     },
     "metadata": {},
     "output_type": "display_data"
    }
   ],
   "source": [
    "[4, 10] ++ [1, 2, 3]"
   ]
  },
  {
   "cell_type": "markdown",
   "id": "verified-lying",
   "metadata": {},
   "source": [
    "- разворот списка"
   ]
  },
  {
   "cell_type": "code",
   "execution_count": 29,
   "id": "trained-complexity",
   "metadata": {},
   "outputs": [
    {
     "data": {
      "text/html": [
       "<style>/* Styles used for the Hoogle display in the pager */\n",
       ".hoogle-doc {\n",
       "display: block;\n",
       "padding-bottom: 1.3em;\n",
       "padding-left: 0.4em;\n",
       "}\n",
       ".hoogle-code {\n",
       "display: block;\n",
       "font-family: monospace;\n",
       "white-space: pre;\n",
       "}\n",
       ".hoogle-text {\n",
       "display: block;\n",
       "}\n",
       ".hoogle-name {\n",
       "color: green;\n",
       "font-weight: bold;\n",
       "}\n",
       ".hoogle-head {\n",
       "font-weight: bold;\n",
       "}\n",
       ".hoogle-sub {\n",
       "display: block;\n",
       "margin-left: 0.4em;\n",
       "}\n",
       ".hoogle-package {\n",
       "font-weight: bold;\n",
       "font-style: italic;\n",
       "}\n",
       ".hoogle-module {\n",
       "font-weight: bold;\n",
       "}\n",
       ".hoogle-class {\n",
       "font-weight: bold;\n",
       "}\n",
       ".get-type {\n",
       "color: green;\n",
       "font-weight: bold;\n",
       "font-family: monospace;\n",
       "display: block;\n",
       "white-space: pre-wrap;\n",
       "}\n",
       ".show-type {\n",
       "color: green;\n",
       "font-weight: bold;\n",
       "font-family: monospace;\n",
       "margin-left: 1em;\n",
       "}\n",
       ".mono {\n",
       "font-family: monospace;\n",
       "display: block;\n",
       "}\n",
       ".err-msg {\n",
       "color: red;\n",
       "font-style: italic;\n",
       "font-family: monospace;\n",
       "white-space: pre;\n",
       "display: block;\n",
       "}\n",
       "#unshowable {\n",
       "color: red;\n",
       "font-weight: bold;\n",
       "}\n",
       ".err-msg.in.collapse {\n",
       "padding-top: 0.7em;\n",
       "}\n",
       ".highlight-code {\n",
       "white-space: pre;\n",
       "font-family: monospace;\n",
       "}\n",
       ".suggestion-warning { \n",
       "font-weight: bold;\n",
       "color: rgb(200, 130, 0);\n",
       "}\n",
       ".suggestion-error { \n",
       "font-weight: bold;\n",
       "color: red;\n",
       "}\n",
       ".suggestion-name {\n",
       "font-weight: bold;\n",
       "}\n",
       "</style><div class=\"suggestion-name\" style=\"clear:both;\">Use foldl</div><div class=\"suggestion-row\" style=\"float: left;\"><div class=\"suggestion-warning\">Found:</div><div class=\"highlight-code\" id=\"haskell\">reverse' [] l = l\n",
       "reverse' (x : ls) l = reverse' ls (x : l)</div></div><div class=\"suggestion-row\" style=\"float: left;\"><div class=\"suggestion-warning\">Why Not:</div><div class=\"highlight-code\" id=\"haskell\">reverse' ls l = foldl (flip (:)) l ls</div></div>"
      ],
      "text/plain": [
       "Line 4: Use foldl\n",
       "Found:\n",
       "reverse' [] l = l\n",
       "reverse' (x : ls) l = reverse' ls (x : l)\n",
       "Why not:\n",
       "reverse' ls l = foldl (flip (:)) l ls"
      ]
     },
     "metadata": {},
     "output_type": "display_data"
    }
   ],
   "source": [
    "reverse       :: [a] -> [a] --развернуть список\n",
    "reverse'      :: [a] -> [a] -> [a] \n",
    "reverse ls         = reverse' ls []\n",
    "reverse' [] l      = l\n",
    "reverse' (x:ls) l  = reverse' ls (x:l)"
   ]
  },
  {
   "cell_type": "code",
   "execution_count": 30,
   "id": "naked-cathedral",
   "metadata": {},
   "outputs": [
    {
     "data": {
      "text/plain": [
       "[10,9,8,7,6,5,4,3,2,1]"
      ]
     },
     "metadata": {},
     "output_type": "display_data"
    }
   ],
   "source": [
    "reverse [1..10]"
   ]
  },
  {
   "cell_type": "markdown",
   "id": "written-adelaide",
   "metadata": {},
   "source": [
    "Списки в Haskell - аналогия `LinkedList`. Все значения представлены указателями."
   ]
  },
  {
   "cell_type": "markdown",
   "id": "spread-savage",
   "metadata": {},
   "source": [
    "- суммирование\n",
    "\n",
    "- `Num a=> [a] -> a` - сторож, тип a принадлежит классу Num, если операция разрешена, то можно складывать"
   ]
  },
  {
   "cell_type": "code",
   "execution_count": 31,
   "id": "light-register",
   "metadata": {},
   "outputs": [
    {
     "data": {
      "text/html": [
       "<style>/* Styles used for the Hoogle display in the pager */\n",
       ".hoogle-doc {\n",
       "display: block;\n",
       "padding-bottom: 1.3em;\n",
       "padding-left: 0.4em;\n",
       "}\n",
       ".hoogle-code {\n",
       "display: block;\n",
       "font-family: monospace;\n",
       "white-space: pre;\n",
       "}\n",
       ".hoogle-text {\n",
       "display: block;\n",
       "}\n",
       ".hoogle-name {\n",
       "color: green;\n",
       "font-weight: bold;\n",
       "}\n",
       ".hoogle-head {\n",
       "font-weight: bold;\n",
       "}\n",
       ".hoogle-sub {\n",
       "display: block;\n",
       "margin-left: 0.4em;\n",
       "}\n",
       ".hoogle-package {\n",
       "font-weight: bold;\n",
       "font-style: italic;\n",
       "}\n",
       ".hoogle-module {\n",
       "font-weight: bold;\n",
       "}\n",
       ".hoogle-class {\n",
       "font-weight: bold;\n",
       "}\n",
       ".get-type {\n",
       "color: green;\n",
       "font-weight: bold;\n",
       "font-family: monospace;\n",
       "display: block;\n",
       "white-space: pre-wrap;\n",
       "}\n",
       ".show-type {\n",
       "color: green;\n",
       "font-weight: bold;\n",
       "font-family: monospace;\n",
       "margin-left: 1em;\n",
       "}\n",
       ".mono {\n",
       "font-family: monospace;\n",
       "display: block;\n",
       "}\n",
       ".err-msg {\n",
       "color: red;\n",
       "font-style: italic;\n",
       "font-family: monospace;\n",
       "white-space: pre;\n",
       "display: block;\n",
       "}\n",
       "#unshowable {\n",
       "color: red;\n",
       "font-weight: bold;\n",
       "}\n",
       ".err-msg.in.collapse {\n",
       "padding-top: 0.7em;\n",
       "}\n",
       ".highlight-code {\n",
       "white-space: pre;\n",
       "font-family: monospace;\n",
       "}\n",
       ".suggestion-warning { \n",
       "font-weight: bold;\n",
       "color: rgb(200, 130, 0);\n",
       "}\n",
       ".suggestion-error { \n",
       "font-weight: bold;\n",
       "color: red;\n",
       "}\n",
       ".suggestion-name {\n",
       "font-weight: bold;\n",
       "}\n",
       "</style><div class=\"suggestion-name\" style=\"clear:both;\">Use foldr</div><div class=\"suggestion-row\" style=\"float: left;\"><div class=\"suggestion-warning\">Found:</div><div class=\"highlight-code\" id=\"haskell\">sum [] = 0\n",
       "sum (x : t) = x + sum t</div></div><div class=\"suggestion-row\" style=\"float: left;\"><div class=\"suggestion-warning\">Why Not:</div><div class=\"highlight-code\" id=\"haskell\">sum t = foldr (+) 0 t</div></div>"
      ],
      "text/plain": [
       "Line 2: Use foldr\n",
       "Found:\n",
       "sum [] = 0\n",
       "sum (x : t) = x + sum t\n",
       "Why not:\n",
       "sum t = foldr (+) 0 t"
      ]
     },
     "metadata": {},
     "output_type": "display_data"
    }
   ],
   "source": [
    "sum         :: Num a => [a] -> a \n",
    "sum []       =  0\n",
    "sum (x:t)    =  x + sum t"
   ]
  },
  {
   "cell_type": "code",
   "execution_count": 32,
   "id": "about-pizza",
   "metadata": {},
   "outputs": [
    {
     "data": {
      "text/plain": [
       "6"
      ]
     },
     "metadata": {},
     "output_type": "display_data"
    }
   ],
   "source": [
    "sum [1, 2, 3]"
   ]
  },
  {
   "cell_type": "markdown",
   "id": "unauthorized-charleston",
   "metadata": {},
   "source": [
    "- взять `n` элементов списка"
   ]
  },
  {
   "cell_type": "code",
   "execution_count": 62,
   "id": "early-maple",
   "metadata": {},
   "outputs": [],
   "source": [
    "take              :: Int -> [a] -> [a]\n",
    "take _ []          =  [] -- первый аргумент - количество\n",
    "take n _ | n <= 0  =  [] -- если n < 0\n",
    "take n (x:t)       =  x : take (n-1) t"
   ]
  },
  {
   "cell_type": "code",
   "execution_count": 65,
   "id": "promotional-portable",
   "metadata": {},
   "outputs": [
    {
     "data": {
      "text/html": [
       "<style>/* Styles used for the Hoogle display in the pager */\n",
       ".hoogle-doc {\n",
       "display: block;\n",
       "padding-bottom: 1.3em;\n",
       "padding-left: 0.4em;\n",
       "}\n",
       ".hoogle-code {\n",
       "display: block;\n",
       "font-family: monospace;\n",
       "white-space: pre;\n",
       "}\n",
       ".hoogle-text {\n",
       "display: block;\n",
       "}\n",
       ".hoogle-name {\n",
       "color: green;\n",
       "font-weight: bold;\n",
       "}\n",
       ".hoogle-head {\n",
       "font-weight: bold;\n",
       "}\n",
       ".hoogle-sub {\n",
       "display: block;\n",
       "margin-left: 0.4em;\n",
       "}\n",
       ".hoogle-package {\n",
       "font-weight: bold;\n",
       "font-style: italic;\n",
       "}\n",
       ".hoogle-module {\n",
       "font-weight: bold;\n",
       "}\n",
       ".hoogle-class {\n",
       "font-weight: bold;\n",
       "}\n",
       ".get-type {\n",
       "color: green;\n",
       "font-weight: bold;\n",
       "font-family: monospace;\n",
       "display: block;\n",
       "white-space: pre-wrap;\n",
       "}\n",
       ".show-type {\n",
       "color: green;\n",
       "font-weight: bold;\n",
       "font-family: monospace;\n",
       "margin-left: 1em;\n",
       "}\n",
       ".mono {\n",
       "font-family: monospace;\n",
       "display: block;\n",
       "}\n",
       ".err-msg {\n",
       "color: red;\n",
       "font-style: italic;\n",
       "font-family: monospace;\n",
       "white-space: pre;\n",
       "display: block;\n",
       "}\n",
       "#unshowable {\n",
       "color: red;\n",
       "font-weight: bold;\n",
       "}\n",
       ".err-msg.in.collapse {\n",
       "padding-top: 0.7em;\n",
       "}\n",
       ".highlight-code {\n",
       "white-space: pre;\n",
       "font-family: monospace;\n",
       "}\n",
       ".suggestion-warning { \n",
       "font-weight: bold;\n",
       "color: rgb(200, 130, 0);\n",
       "}\n",
       ".suggestion-error { \n",
       "font-weight: bold;\n",
       "color: red;\n",
       "}\n",
       ".suggestion-name {\n",
       "font-weight: bold;\n",
       "}\n",
       "</style><div class=\"suggestion-name\" style=\"clear:both;\">Take on a non-positive</div><div class=\"suggestion-row\" style=\"float: left;\"><div class=\"suggestion-warning\">Found:</div><div class=\"highlight-code\" id=\"haskell\">take (- 1) [1, 2, 3]</div></div><div class=\"suggestion-row\" style=\"float: left;\"><div class=\"suggestion-warning\">Why Not:</div><div class=\"highlight-code\" id=\"haskell\">[]</div></div>"
      ],
      "text/plain": [
       "Line 1: Take on a non-positive\n",
       "Found:\n",
       "take (- 1) [1, 2, 3]\n",
       "Why not:\n",
       "[]"
      ]
     },
     "metadata": {},
     "output_type": "display_data"
    },
    {
     "data": {
      "text/plain": [
       "[]"
      ]
     },
     "metadata": {},
     "output_type": "display_data"
    }
   ],
   "source": [
    "take (-1) [1,2,3]"
   ]
  },
  {
   "cell_type": "markdown",
   "id": "heard-dispute",
   "metadata": {},
   "source": [
    "- взять максимум списка\n",
    "\n",
    "Максимального элемента у пустого списка не существует. Используется функция - `max(a, b)` - максимум из двух."
   ]
  },
  {
   "cell_type": "code",
   "execution_count": 67,
   "id": "finished-vertical",
   "metadata": {},
   "outputs": [],
   "source": [
    "maximum        :: Ord a => [a] -> a\n",
    "maximum []      =  error \"maximum: empty list\"\n",
    "maximum [x]     =  x\n",
    "maximum (x:t)   =  max x (maximum t)"
   ]
  },
  {
   "cell_type": "markdown",
   "id": "level-agriculture",
   "metadata": {},
   "source": [
    "- соединение в пары `zip`, часто используется"
   ]
  },
  {
   "cell_type": "code",
   "execution_count": 68,
   "id": "induced-airplane",
   "metadata": {},
   "outputs": [],
   "source": [
    "zip                  :: [a] -> [b] -> [(a, b)]\n",
    "zip [] _             =  []\n",
    "zip _ []             =  []\n",
    "zip (e1:t1) (e2:t2)  =  (e1, e2) : zip t1 t2"
   ]
  },
  {
   "cell_type": "code",
   "execution_count": 69,
   "id": "given-cherry",
   "metadata": {},
   "outputs": [
    {
     "data": {
      "text/plain": [
       "[(1,'a'),(2,'b'),(3,'z')]"
      ]
     },
     "metadata": {},
     "output_type": "display_data"
    }
   ],
   "source": [
    "zip [1, 2, 3] ['a', 'b', 'z']"
   ]
  },
  {
   "cell_type": "code",
   "execution_count": 70,
   "id": "interpreted-instrument",
   "metadata": {},
   "outputs": [
    {
     "data": {
      "text/plain": [
       "[(1,'a'),(2,'b')]"
      ]
     },
     "metadata": {},
     "output_type": "display_data"
    }
   ],
   "source": [
    "zip [1, 2, 3] ['a', 'b']"
   ]
  },
  {
   "cell_type": "markdown",
   "id": "visible-program",
   "metadata": {},
   "source": [
    "- список из пар\n",
    "\n",
    "Используется конструкция `where`, локально сопоставимая с образцом.\n",
    "\n",
    "- `fst`, `scnd` - first и second"
   ]
  },
  {
   "cell_type": "code",
   "execution_count": 3,
   "id": "double-parking",
   "metadata": {},
   "outputs": [],
   "source": [
    "unzip             :: [(a,b)] -> ([a],[b]) \n",
    "unzip []           = ([], [])\n",
    "unzip ((e1,e2):t)  = (e1:tail1, e2:tail2) where (tail1,tail2) = unzip t"
   ]
  },
  {
   "cell_type": "code",
   "execution_count": 4,
   "id": "approximate-designation",
   "metadata": {},
   "outputs": [
    {
     "data": {
      "text/plain": [
       "([1,2,3],\"abc\")"
      ]
     },
     "metadata": {},
     "output_type": "display_data"
    }
   ],
   "source": [
    "cor = unzip (zip [1, 2, 3] ['a', 'b', 'c', 'd'])\n",
    "cor"
   ]
  },
  {
   "cell_type": "code",
   "execution_count": 5,
   "id": "level-democrat",
   "metadata": {},
   "outputs": [
    {
     "data": {
      "text/html": [
       "<style>/* Styles used for the Hoogle display in the pager */\n",
       ".hoogle-doc {\n",
       "display: block;\n",
       "padding-bottom: 1.3em;\n",
       "padding-left: 0.4em;\n",
       "}\n",
       ".hoogle-code {\n",
       "display: block;\n",
       "font-family: monospace;\n",
       "white-space: pre;\n",
       "}\n",
       ".hoogle-text {\n",
       "display: block;\n",
       "}\n",
       ".hoogle-name {\n",
       "color: green;\n",
       "font-weight: bold;\n",
       "}\n",
       ".hoogle-head {\n",
       "font-weight: bold;\n",
       "}\n",
       ".hoogle-sub {\n",
       "display: block;\n",
       "margin-left: 0.4em;\n",
       "}\n",
       ".hoogle-package {\n",
       "font-weight: bold;\n",
       "font-style: italic;\n",
       "}\n",
       ".hoogle-module {\n",
       "font-weight: bold;\n",
       "}\n",
       ".hoogle-class {\n",
       "font-weight: bold;\n",
       "}\n",
       ".get-type {\n",
       "color: green;\n",
       "font-weight: bold;\n",
       "font-family: monospace;\n",
       "display: block;\n",
       "white-space: pre-wrap;\n",
       "}\n",
       ".show-type {\n",
       "color: green;\n",
       "font-weight: bold;\n",
       "font-family: monospace;\n",
       "margin-left: 1em;\n",
       "}\n",
       ".mono {\n",
       "font-family: monospace;\n",
       "display: block;\n",
       "}\n",
       ".err-msg {\n",
       "color: red;\n",
       "font-style: italic;\n",
       "font-family: monospace;\n",
       "white-space: pre;\n",
       "display: block;\n",
       "}\n",
       "#unshowable {\n",
       "color: red;\n",
       "font-weight: bold;\n",
       "}\n",
       ".err-msg.in.collapse {\n",
       "padding-top: 0.7em;\n",
       "}\n",
       ".highlight-code {\n",
       "white-space: pre;\n",
       "font-family: monospace;\n",
       "}\n",
       ".suggestion-warning { \n",
       "font-weight: bold;\n",
       "color: rgb(200, 130, 0);\n",
       "}\n",
       ".suggestion-error { \n",
       "font-weight: bold;\n",
       "color: red;\n",
       "}\n",
       ".suggestion-name {\n",
       "font-weight: bold;\n",
       "}\n",
       "</style><span class='get-type'>cor :: forall a. Num a => ([a], [Char])</span>"
      ],
      "text/plain": [
       "cor :: forall a. Num a => ([a], [Char])"
      ]
     },
     "metadata": {},
     "output_type": "display_data"
    }
   ],
   "source": [
    ":t cor"
   ]
  },
  {
   "cell_type": "code",
   "execution_count": null,
   "id": "respected-round",
   "metadata": {},
   "outputs": [],
   "source": []
  }
 ],
 "metadata": {
  "kernelspec": {
   "display_name": "Haskell",
   "language": "haskell",
   "name": "haskell"
  },
  "language_info": {
   "codemirror_mode": "ihaskell",
   "file_extension": ".hs",
   "mimetype": "text/x-haskell",
   "name": "haskell",
   "pygments_lexer": "Haskell",
   "version": "8.8.4"
  }
 },
 "nbformat": 4,
 "nbformat_minor": 5
}
