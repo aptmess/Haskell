{
 "cells": [
  {
   "cell_type": "markdown",
   "id": "confirmed-subscription",
   "metadata": {},
   "source": [
    "# 02. Списки и деревья\n",
    "\n",
    "<div style=\"text-align: right\"> \n",
    "    \n",
    "    Лекция 1.2 04/02/21 \n",
    "    \n",
    "    Кубенский Александр Александрович\n",
    "    \n",
    "    akoubensky@gmail.com\n",
    "</div> "
   ]
  },
  {
   "cell_type": "markdown",
   "id": "competent-forty",
   "metadata": {},
   "source": [
    "## 02.1 Списки в языке Haskell\n",
    "\n",
    "Используются именно списки, а не массивы, поэтому операция индексации происходит гораздо более медленнее, чем в массивах (`O(n)` вместо `O(1)`).\n",
    "\n",
    "- `[]` - пустой список, пустая ссылка в других языках программирования\n",
    "- списки являются однородной структурой, элементы должны быть одного и того же типа"
   ]
  },
  {
   "cell_type": "code",
   "execution_count": 1,
   "id": "portuguese-first",
   "metadata": {},
   "outputs": [
    {
     "data": {
      "text/plain": [
       "[1,2,3]"
      ]
     },
     "metadata": {},
     "output_type": "display_data"
    }
   ],
   "source": [
    "[1, 2, 3]"
   ]
  },
  {
   "cell_type": "markdown",
   "id": "australian-insertion",
   "metadata": {},
   "source": [
    "- `1:[2,3]` - конструктор - присоединение головного элемента к списку.\n",
    "\n",
    "**Конструктор** не делает никаких преобразований над значениями - получившуюся конструкцию всегда можно разобрать - мы всегда сможем присоединить и , что более важно, отсоъединить голову.\n",
    "\n",
    "**Функции** - выдают совершенно новый объект, который нельзя разделить машинным образом."
   ]
  },
  {
   "cell_type": "code",
   "execution_count": 2,
   "id": "hollow-rating",
   "metadata": {},
   "outputs": [
    {
     "data": {
      "text/plain": [
       "[1,2,3]"
      ]
     },
     "metadata": {},
     "output_type": "display_data"
    }
   ],
   "source": [
    "1:[2,3]"
   ]
  },
  {
   "cell_type": "markdown",
   "id": "unusual-azerbaijan",
   "metadata": {},
   "source": [
    "`1:(2:(3:[]))`  -- создание списка с помощью конструктора ':' и пустого списка. В некотором смысле константы являются *костнукторами* - **конструкторами констант**"
   ]
  },
  {
   "cell_type": "code",
   "execution_count": 3,
   "id": "thousand-skirt",
   "metadata": {},
   "outputs": [
    {
     "data": {
      "text/html": [
       "<style>/* Styles used for the Hoogle display in the pager */\n",
       ".hoogle-doc {\n",
       "display: block;\n",
       "padding-bottom: 1.3em;\n",
       "padding-left: 0.4em;\n",
       "}\n",
       ".hoogle-code {\n",
       "display: block;\n",
       "font-family: monospace;\n",
       "white-space: pre;\n",
       "}\n",
       ".hoogle-text {\n",
       "display: block;\n",
       "}\n",
       ".hoogle-name {\n",
       "color: green;\n",
       "font-weight: bold;\n",
       "}\n",
       ".hoogle-head {\n",
       "font-weight: bold;\n",
       "}\n",
       ".hoogle-sub {\n",
       "display: block;\n",
       "margin-left: 0.4em;\n",
       "}\n",
       ".hoogle-package {\n",
       "font-weight: bold;\n",
       "font-style: italic;\n",
       "}\n",
       ".hoogle-module {\n",
       "font-weight: bold;\n",
       "}\n",
       ".hoogle-class {\n",
       "font-weight: bold;\n",
       "}\n",
       ".get-type {\n",
       "color: green;\n",
       "font-weight: bold;\n",
       "font-family: monospace;\n",
       "display: block;\n",
       "white-space: pre-wrap;\n",
       "}\n",
       ".show-type {\n",
       "color: green;\n",
       "font-weight: bold;\n",
       "font-family: monospace;\n",
       "margin-left: 1em;\n",
       "}\n",
       ".mono {\n",
       "font-family: monospace;\n",
       "display: block;\n",
       "}\n",
       ".err-msg {\n",
       "color: red;\n",
       "font-style: italic;\n",
       "font-family: monospace;\n",
       "white-space: pre;\n",
       "display: block;\n",
       "}\n",
       "#unshowable {\n",
       "color: red;\n",
       "font-weight: bold;\n",
       "}\n",
       ".err-msg.in.collapse {\n",
       "padding-top: 0.7em;\n",
       "}\n",
       ".highlight-code {\n",
       "white-space: pre;\n",
       "font-family: monospace;\n",
       "}\n",
       ".suggestion-warning { \n",
       "font-weight: bold;\n",
       "color: rgb(200, 130, 0);\n",
       "}\n",
       ".suggestion-error { \n",
       "font-weight: bold;\n",
       "color: red;\n",
       "}\n",
       ".suggestion-name {\n",
       "font-weight: bold;\n",
       "}\n",
       "</style><div class=\"suggestion-name\" style=\"clear:both;\">Use list literal</div><div class=\"suggestion-row\" style=\"float: left;\"><div class=\"suggestion-warning\">Found:</div><div class=\"highlight-code\" id=\"haskell\">1 : (2 : (3 : []))</div></div><div class=\"suggestion-row\" style=\"float: left;\"><div class=\"suggestion-warning\">Why Not:</div><div class=\"highlight-code\" id=\"haskell\">[1, 2, 3]</div></div>"
      ],
      "text/plain": [
       "Line 1: Use list literal\n",
       "Found:\n",
       "1 : (2 : (3 : []))\n",
       "Why not:\n",
       "[1, 2, 3]"
      ]
     },
     "metadata": {},
     "output_type": "display_data"
    },
    {
     "data": {
      "text/plain": [
       "[1,2,3]"
      ]
     },
     "metadata": {},
     "output_type": "display_data"
    }
   ],
   "source": [
    "1:(2:(3:[]))"
   ]
  },
  {
   "cell_type": "markdown",
   "id": "employed-enlargement",
   "metadata": {},
   "source": [
    "- `[1..n]` - создание списка с помощью арифметической прогрессии, шаг единица\n",
    "\n",
    "- `[2, 4..20]` - арифметическая прогрессия с заданной разностью, которая задаётся **2**-мя первыми элементами\n",
    "\n",
    "Кортежи содержат определенное количество элементов, в списке мы не знаем количества элементов заранее."
   ]
  },
  {
   "cell_type": "markdown",
   "id": "central-roberts",
   "metadata": {},
   "source": [
    "**Типы списков**\n",
    "\n",
    "- `[Integer]` - список и целых чисел: `[1..10]`\n",
    "- `[Char]` - список из символов (строка: `\"List\" == ['L','i','s','t']`)\n",
    "- `[(Char, Int)]` - список из кортежей: `[('L', 1), ('i', 2), ('s', 3)]`\n",
    "- `[[Int]]`      -- список из списков: `[[1, 2], [3, 5..10], []]`"
   ]
  },
  {
   "cell_type": "markdown",
   "id": "stable-inside",
   "metadata": {},
   "source": [
    "**Функция суммирования элементов списка**\n",
    "\n",
    "Сами можем описывать функции обработки списков. В качестве образцов будем использовать **конструкторы**."
   ]
  },
  {
   "cell_type": "code",
   "execution_count": 4,
   "id": "several-october",
   "metadata": {},
   "outputs": [
    {
     "data": {
      "text/html": [
       "<style>/* Styles used for the Hoogle display in the pager */\n",
       ".hoogle-doc {\n",
       "display: block;\n",
       "padding-bottom: 1.3em;\n",
       "padding-left: 0.4em;\n",
       "}\n",
       ".hoogle-code {\n",
       "display: block;\n",
       "font-family: monospace;\n",
       "white-space: pre;\n",
       "}\n",
       ".hoogle-text {\n",
       "display: block;\n",
       "}\n",
       ".hoogle-name {\n",
       "color: green;\n",
       "font-weight: bold;\n",
       "}\n",
       ".hoogle-head {\n",
       "font-weight: bold;\n",
       "}\n",
       ".hoogle-sub {\n",
       "display: block;\n",
       "margin-left: 0.4em;\n",
       "}\n",
       ".hoogle-package {\n",
       "font-weight: bold;\n",
       "font-style: italic;\n",
       "}\n",
       ".hoogle-module {\n",
       "font-weight: bold;\n",
       "}\n",
       ".hoogle-class {\n",
       "font-weight: bold;\n",
       "}\n",
       ".get-type {\n",
       "color: green;\n",
       "font-weight: bold;\n",
       "font-family: monospace;\n",
       "display: block;\n",
       "white-space: pre-wrap;\n",
       "}\n",
       ".show-type {\n",
       "color: green;\n",
       "font-weight: bold;\n",
       "font-family: monospace;\n",
       "margin-left: 1em;\n",
       "}\n",
       ".mono {\n",
       "font-family: monospace;\n",
       "display: block;\n",
       "}\n",
       ".err-msg {\n",
       "color: red;\n",
       "font-style: italic;\n",
       "font-family: monospace;\n",
       "white-space: pre;\n",
       "display: block;\n",
       "}\n",
       "#unshowable {\n",
       "color: red;\n",
       "font-weight: bold;\n",
       "}\n",
       ".err-msg.in.collapse {\n",
       "padding-top: 0.7em;\n",
       "}\n",
       ".highlight-code {\n",
       "white-space: pre;\n",
       "font-family: monospace;\n",
       "}\n",
       ".suggestion-warning { \n",
       "font-weight: bold;\n",
       "color: rgb(200, 130, 0);\n",
       "}\n",
       ".suggestion-error { \n",
       "font-weight: bold;\n",
       "color: red;\n",
       "}\n",
       ".suggestion-name {\n",
       "font-weight: bold;\n",
       "}\n",
       "</style><div class=\"suggestion-name\" style=\"clear:both;\">Use foldr</div><div class=\"suggestion-row\" style=\"float: left;\"><div class=\"suggestion-warning\">Found:</div><div class=\"highlight-code\" id=\"haskell\">sumList [] = 0\n",
       "sumList (x : s) = x + sumList s</div></div><div class=\"suggestion-row\" style=\"float: left;\"><div class=\"suggestion-warning\">Why Not:</div><div class=\"highlight-code\" id=\"haskell\">sumList s = foldr (+) 0 s</div></div>"
      ],
      "text/plain": [
       "Line 2: Use foldr\n",
       "Found:\n",
       "sumList [] = 0\n",
       "sumList (x : s) = x + sumList s\n",
       "Why not:\n",
       "sumList s = foldr (+) 0 s"
      ]
     },
     "metadata": {},
     "output_type": "display_data"
    }
   ],
   "source": [
    "sumList       ::  [Integer] -> Integer\n",
    "sumList []    =   0 -- если пустой список, то 0\n",
    "sumList (x:s) =   x + sumList s -- если результат составлен с помощью конструктора\n",
    "-- голова:хвост (кроме пустого), то выделяем голову и хвост"
   ]
  },
  {
   "attachments": {
    "image.png": {
     "image/png": "[encoded data removed]"
    }
   },
   "cell_type": "markdown",
   "id": "romantic-asian",
   "metadata": {},
   "source": [
    "![image.png](attachment:image.png)\n",
    "\n",
    "Так производится сопоставление образцов."
   ]
  },
  {
   "cell_type": "code",
   "execution_count": 5,
   "id": "hollywood-reservation",
   "metadata": {},
   "outputs": [
    {
     "data": {
      "text/plain": [
       "5050"
      ]
     },
     "metadata": {},
     "output_type": "display_data"
    }
   ],
   "source": [
    "sumList [1..100]"
   ]
  },
  {
   "cell_type": "markdown",
   "id": "virtual-angel",
   "metadata": {},
   "source": [
    "**Кортеж** - тоже конструктор."
   ]
  },
  {
   "cell_type": "code",
   "execution_count": 6,
   "id": "composed-episode",
   "metadata": {},
   "outputs": [
    {
     "data": {
      "text/html": [
       "<style>/* Styles used for the Hoogle display in the pager */\n",
       ".hoogle-doc {\n",
       "display: block;\n",
       "padding-bottom: 1.3em;\n",
       "padding-left: 0.4em;\n",
       "}\n",
       ".hoogle-code {\n",
       "display: block;\n",
       "font-family: monospace;\n",
       "white-space: pre;\n",
       "}\n",
       ".hoogle-text {\n",
       "display: block;\n",
       "}\n",
       ".hoogle-name {\n",
       "color: green;\n",
       "font-weight: bold;\n",
       "}\n",
       ".hoogle-head {\n",
       "font-weight: bold;\n",
       "}\n",
       ".hoogle-sub {\n",
       "display: block;\n",
       "margin-left: 0.4em;\n",
       "}\n",
       ".hoogle-package {\n",
       "font-weight: bold;\n",
       "font-style: italic;\n",
       "}\n",
       ".hoogle-module {\n",
       "font-weight: bold;\n",
       "}\n",
       ".hoogle-class {\n",
       "font-weight: bold;\n",
       "}\n",
       ".get-type {\n",
       "color: green;\n",
       "font-weight: bold;\n",
       "font-family: monospace;\n",
       "display: block;\n",
       "white-space: pre-wrap;\n",
       "}\n",
       ".show-type {\n",
       "color: green;\n",
       "font-weight: bold;\n",
       "font-family: monospace;\n",
       "margin-left: 1em;\n",
       "}\n",
       ".mono {\n",
       "font-family: monospace;\n",
       "display: block;\n",
       "}\n",
       ".err-msg {\n",
       "color: red;\n",
       "font-style: italic;\n",
       "font-family: monospace;\n",
       "white-space: pre;\n",
       "display: block;\n",
       "}\n",
       "#unshowable {\n",
       "color: red;\n",
       "font-weight: bold;\n",
       "}\n",
       ".err-msg.in.collapse {\n",
       "padding-top: 0.7em;\n",
       "}\n",
       ".highlight-code {\n",
       "white-space: pre;\n",
       "font-family: monospace;\n",
       "}\n",
       ".suggestion-warning { \n",
       "font-weight: bold;\n",
       "color: rgb(200, 130, 0);\n",
       "}\n",
       ".suggestion-error { \n",
       "font-weight: bold;\n",
       "color: red;\n",
       "}\n",
       ".suggestion-name {\n",
       "font-weight: bold;\n",
       "}\n",
       "</style><div class=\"suggestion-name\" style=\"clear:both;\">Use foldl</div><div class=\"suggestion-row\" style=\"float: left;\"><div class=\"suggestion-warning\">Found:</div><div class=\"highlight-code\" id=\"haskell\">prodList' [] p = p\n",
       "prodList' (x : ls) p = prodList' ls (p * x)</div></div><div class=\"suggestion-row\" style=\"float: left;\"><div class=\"suggestion-warning\">Why Not:</div><div class=\"highlight-code\" id=\"haskell\">prodList' ls p = foldl (*) p ls</div></div>"
      ],
      "text/plain": [
       "Line 4: Use foldl\n",
       "Found:\n",
       "prodList' [] p = p\n",
       "prodList' (x : ls) p = prodList' ls (p * x)\n",
       "Why not:\n",
       "prodList' ls p = foldl (*) p ls"
      ]
     },
     "metadata": {},
     "output_type": "display_data"
    }
   ],
   "source": [
    "factorial          ::  Integer -> Integer\n",
    "prodList'          ::  [Integer] -> Integer -> Integer\n",
    "factorial n         =  prodList' [1..n] 1\n",
    "prodList' [] p      =  p\n",
    "prodList' (x:ls) p  =  prodList' ls (p*x)     -- концевая рекурсия"
   ]
  },
  {
   "cell_type": "markdown",
   "id": "toxic-airport",
   "metadata": {},
   "source": [
    "**Несколько стандартных операций над списком и их определения.**"
   ]
  },
  {
   "cell_type": "markdown",
   "id": "welcome-recruitment",
   "metadata": {},
   "source": [
    "- голова списка"
   ]
  },
  {
   "cell_type": "code",
   "execution_count": 7,
   "id": "sapphire-reset",
   "metadata": {},
   "outputs": [],
   "source": [
    "head          :: [a] -> a -- на вход список, на выходе - число\n",
    "head (x:ls)   =  x -- выдаем голову\n",
    "head []       =  error \"head: empty list\""
   ]
  },
  {
   "cell_type": "markdown",
   "id": "helpful-modern",
   "metadata": {},
   "source": [
    "- хвост списка (всё без головы)"
   ]
  },
  {
   "cell_type": "code",
   "execution_count": 8,
   "id": "inside-cowboy",
   "metadata": {},
   "outputs": [],
   "source": [
    "tail          :: [a] -> [a] -- хвост списка\n",
    "tail (x:ls)   =  ls\n",
    "tail []       =  error \"tail: empty list\""
   ]
  },
  {
   "cell_type": "markdown",
   "id": "bigger-words",
   "metadata": {},
   "source": [
    "- длина списка"
   ]
  },
  {
   "cell_type": "code",
   "execution_count": 9,
   "id": "structured-shooting",
   "metadata": {},
   "outputs": [
    {
     "data": {
      "text/html": [
       "<style>/* Styles used for the Hoogle display in the pager */\n",
       ".hoogle-doc {\n",
       "display: block;\n",
       "padding-bottom: 1.3em;\n",
       "padding-left: 0.4em;\n",
       "}\n",
       ".hoogle-code {\n",
       "display: block;\n",
       "font-family: monospace;\n",
       "white-space: pre;\n",
       "}\n",
       ".hoogle-text {\n",
       "display: block;\n",
       "}\n",
       ".hoogle-name {\n",
       "color: green;\n",
       "font-weight: bold;\n",
       "}\n",
       ".hoogle-head {\n",
       "font-weight: bold;\n",
       "}\n",
       ".hoogle-sub {\n",
       "display: block;\n",
       "margin-left: 0.4em;\n",
       "}\n",
       ".hoogle-package {\n",
       "font-weight: bold;\n",
       "font-style: italic;\n",
       "}\n",
       ".hoogle-module {\n",
       "font-weight: bold;\n",
       "}\n",
       ".hoogle-class {\n",
       "font-weight: bold;\n",
       "}\n",
       ".get-type {\n",
       "color: green;\n",
       "font-weight: bold;\n",
       "font-family: monospace;\n",
       "display: block;\n",
       "white-space: pre-wrap;\n",
       "}\n",
       ".show-type {\n",
       "color: green;\n",
       "font-weight: bold;\n",
       "font-family: monospace;\n",
       "margin-left: 1em;\n",
       "}\n",
       ".mono {\n",
       "font-family: monospace;\n",
       "display: block;\n",
       "}\n",
       ".err-msg {\n",
       "color: red;\n",
       "font-style: italic;\n",
       "font-family: monospace;\n",
       "white-space: pre;\n",
       "display: block;\n",
       "}\n",
       "#unshowable {\n",
       "color: red;\n",
       "font-weight: bold;\n",
       "}\n",
       ".err-msg.in.collapse {\n",
       "padding-top: 0.7em;\n",
       "}\n",
       ".highlight-code {\n",
       "white-space: pre;\n",
       "font-family: monospace;\n",
       "}\n",
       ".suggestion-warning { \n",
       "font-weight: bold;\n",
       "color: rgb(200, 130, 0);\n",
       "}\n",
       ".suggestion-error { \n",
       "font-weight: bold;\n",
       "color: red;\n",
       "}\n",
       ".suggestion-name {\n",
       "font-weight: bold;\n",
       "}\n",
       "</style><div class=\"suggestion-name\" style=\"clear:both;\">Use foldr</div><div class=\"suggestion-row\" style=\"float: left;\"><div class=\"suggestion-warning\">Found:</div><div class=\"highlight-code\" id=\"haskell\">length (x : ls) = 1 + length ls\n",
       "length [] = 0</div></div><div class=\"suggestion-row\" style=\"float: left;\"><div class=\"suggestion-warning\">Why Not:</div><div class=\"highlight-code\" id=\"haskell\">length ls = foldr (\\ x -> (+) 1) 0 ls</div></div>"
      ],
      "text/plain": [
       "Line 2: Use foldr\n",
       "Found:\n",
       "length (x : ls) = 1 + length ls\n",
       "length [] = 0\n",
       "Why not:\n",
       "length ls = foldr (\\ x -> (+) 1) 0 ls"
      ]
     },
     "metadata": {},
     "output_type": "display_data"
    }
   ],
   "source": [
    "length        :: [a] -> Int -- количество элементов\n",
    "length (x:ls) =  1 + length ls\n",
    "length []     =  0"
   ]
  },
  {
   "cell_type": "markdown",
   "id": "macro-huntington",
   "metadata": {},
   "source": [
    "Время работы пропорционально длине списка.\n",
    "\n",
    "- пустой или нет список"
   ]
  },
  {
   "cell_type": "code",
   "execution_count": 10,
   "id": "functioning-strand",
   "metadata": {},
   "outputs": [],
   "source": [
    "null          :: [a] -> Bool -- пустой список или нет\n",
    "null (x:ls)   =  False\n",
    "null []       =  True"
   ]
  },
  {
   "cell_type": "markdown",
   "id": "protecting-extreme",
   "metadata": {},
   "source": [
    "- последний элемент списка"
   ]
  },
  {
   "cell_type": "code",
   "execution_count": 11,
   "id": "smoking-lexington",
   "metadata": {},
   "outputs": [],
   "source": [
    "last          :: [a] -> a --последний элемент списка\n",
    "last []       =  error \"last: empty list\"\n",
    "last [x]      =  x -- если список из одного элемента, то возвращаем последний\n",
    "last (x:ls)   =  last ls -- рекурсивный вызов"
   ]
  },
  {
   "cell_type": "code",
   "execution_count": 12,
   "id": "rapid-trademark",
   "metadata": {},
   "outputs": [
    {
     "data": {
      "text/plain": [
       "3"
      ]
     },
     "metadata": {},
     "output_type": "display_data"
    }
   ],
   "source": [
    "last [4, 7, 10, 3]"
   ]
  },
  {
   "cell_type": "markdown",
   "id": "unknown-password",
   "metadata": {},
   "source": [
    "- без последнего элемента"
   ]
  },
  {
   "cell_type": "code",
   "execution_count": 13,
   "id": "broken-lucas",
   "metadata": {},
   "outputs": [],
   "source": [
    "init          :: [a] -> [a] -- удалить последний\n",
    "init []       =  error \"init: empty list\"\n",
    "init [x]      =  []\n",
    "init (x:ls)   =  x : init ls"
   ]
  },
  {
   "cell_type": "code",
   "execution_count": 14,
   "id": "correct-portrait",
   "metadata": {},
   "outputs": [
    {
     "data": {
      "text/plain": [
       "[1,2,3,4,5,6,7,8,9]"
      ]
     },
     "metadata": {},
     "output_type": "display_data"
    }
   ],
   "source": [
    "init [1..10]"
   ]
  },
  {
   "cell_type": "markdown",
   "id": "practical-server",
   "metadata": {},
   "source": [
    "- индексация списка"
   ]
  },
  {
   "cell_type": "code",
   "execution_count": 15,
   "id": "elementary-publisher",
   "metadata": {},
   "outputs": [],
   "source": [
    "(!!)          :: [a] -> Int -> a -- индексация, a - переменная типа\n",
    "[] !! _       =  error \"(!!): empty list\"\n",
    "(x:ls) !! 0   =  x\n",
    "(x:ls) !! n   =  ls !! (n-1)"
   ]
  },
  {
   "cell_type": "code",
   "execution_count": 16,
   "id": "introductory-directive",
   "metadata": {},
   "outputs": [
    {
     "data": {
      "text/plain": [
       "2"
      ]
     },
     "metadata": {},
     "output_type": "display_data"
    }
   ],
   "source": [
    "[1,2,3] !! 1"
   ]
  },
  {
   "cell_type": "markdown",
   "id": "southwest-correspondence",
   "metadata": {},
   "source": [
    "\n",
    "- список индексируется коротким целым `Int`!!\n",
    "- нумерация начинается с нуля\n",
    "- если больше длины списка, то ошибка\n",
    "- в обозначение типа используется Переменные типа"
   ]
  },
  {
   "cell_type": "markdown",
   "id": "rough-search",
   "metadata": {},
   "source": [
    "- конкатенация\n",
    "\n",
    "в качестве первого операнда берем более короткий, второй операнд становится неизменным"
   ]
  },
  {
   "cell_type": "code",
   "execution_count": 17,
   "id": "laughing-wrong",
   "metadata": {},
   "outputs": [],
   "source": [
    "(++)          :: [a] -> [a] -> [a] --соединение списка\n",
    "[] ++ ls      =  ls\n",
    "(x:l1) ++ l2  =  x : (l1 ++ l2)"
   ]
  },
  {
   "cell_type": "code",
   "execution_count": 18,
   "id": "corrected-checkout",
   "metadata": {},
   "outputs": [
    {
     "data": {
      "text/plain": [
       "[1,2,3,4,10]"
      ]
     },
     "metadata": {},
     "output_type": "display_data"
    }
   ],
   "source": [
    "[1,2,3] ++ [4,10]"
   ]
  },
  {
   "cell_type": "code",
   "execution_count": 19,
   "id": "medical-cutting",
   "metadata": {},
   "outputs": [
    {
     "data": {
      "text/plain": [
       "[4,10,1,2,3]"
      ]
     },
     "metadata": {},
     "output_type": "display_data"
    }
   ],
   "source": [
    "[4, 10] ++ [1, 2, 3]"
   ]
  },
  {
   "cell_type": "markdown",
   "id": "sophisticated-barbados",
   "metadata": {},
   "source": [
    "- разворот списка"
   ]
  },
  {
   "cell_type": "code",
   "execution_count": 20,
   "id": "common-adaptation",
   "metadata": {},
   "outputs": [
    {
     "data": {
      "text/html": [
       "<style>/* Styles used for the Hoogle display in the pager */\n",
       ".hoogle-doc {\n",
       "display: block;\n",
       "padding-bottom: 1.3em;\n",
       "padding-left: 0.4em;\n",
       "}\n",
       ".hoogle-code {\n",
       "display: block;\n",
       "font-family: monospace;\n",
       "white-space: pre;\n",
       "}\n",
       ".hoogle-text {\n",
       "display: block;\n",
       "}\n",
       ".hoogle-name {\n",
       "color: green;\n",
       "font-weight: bold;\n",
       "}\n",
       ".hoogle-head {\n",
       "font-weight: bold;\n",
       "}\n",
       ".hoogle-sub {\n",
       "display: block;\n",
       "margin-left: 0.4em;\n",
       "}\n",
       ".hoogle-package {\n",
       "font-weight: bold;\n",
       "font-style: italic;\n",
       "}\n",
       ".hoogle-module {\n",
       "font-weight: bold;\n",
       "}\n",
       ".hoogle-class {\n",
       "font-weight: bold;\n",
       "}\n",
       ".get-type {\n",
       "color: green;\n",
       "font-weight: bold;\n",
       "font-family: monospace;\n",
       "display: block;\n",
       "white-space: pre-wrap;\n",
       "}\n",
       ".show-type {\n",
       "color: green;\n",
       "font-weight: bold;\n",
       "font-family: monospace;\n",
       "margin-left: 1em;\n",
       "}\n",
       ".mono {\n",
       "font-family: monospace;\n",
       "display: block;\n",
       "}\n",
       ".err-msg {\n",
       "color: red;\n",
       "font-style: italic;\n",
       "font-family: monospace;\n",
       "white-space: pre;\n",
       "display: block;\n",
       "}\n",
       "#unshowable {\n",
       "color: red;\n",
       "font-weight: bold;\n",
       "}\n",
       ".err-msg.in.collapse {\n",
       "padding-top: 0.7em;\n",
       "}\n",
       ".highlight-code {\n",
       "white-space: pre;\n",
       "font-family: monospace;\n",
       "}\n",
       ".suggestion-warning { \n",
       "font-weight: bold;\n",
       "color: rgb(200, 130, 0);\n",
       "}\n",
       ".suggestion-error { \n",
       "font-weight: bold;\n",
       "color: red;\n",
       "}\n",
       ".suggestion-name {\n",
       "font-weight: bold;\n",
       "}\n",
       "</style><div class=\"suggestion-name\" style=\"clear:both;\">Use foldl</div><div class=\"suggestion-row\" style=\"float: left;\"><div class=\"suggestion-warning\">Found:</div><div class=\"highlight-code\" id=\"haskell\">reverse' [] l = l\n",
       "reverse' (x : ls) l = reverse' ls (x : l)</div></div><div class=\"suggestion-row\" style=\"float: left;\"><div class=\"suggestion-warning\">Why Not:</div><div class=\"highlight-code\" id=\"haskell\">reverse' ls l = foldl (flip (:)) l ls</div></div>"
      ],
      "text/plain": [
       "Line 4: Use foldl\n",
       "Found:\n",
       "reverse' [] l = l\n",
       "reverse' (x : ls) l = reverse' ls (x : l)\n",
       "Why not:\n",
       "reverse' ls l = foldl (flip (:)) l ls"
      ]
     },
     "metadata": {},
     "output_type": "display_data"
    }
   ],
   "source": [
    "reverse       :: [a] -> [a] --развернуть список\n",
    "reverse'      :: [a] -> [a] -> [a] \n",
    "reverse ls         = reverse' ls []\n",
    "reverse' [] l      = l\n",
    "reverse' (x:ls) l  = reverse' ls (x:l)"
   ]
  },
  {
   "cell_type": "code",
   "execution_count": 21,
   "id": "excellent-freedom",
   "metadata": {},
   "outputs": [
    {
     "data": {
      "text/plain": [
       "[10,9,8,7,6,5,4,3,2,1]"
      ]
     },
     "metadata": {},
     "output_type": "display_data"
    }
   ],
   "source": [
    "reverse [1..10]"
   ]
  },
  {
   "cell_type": "markdown",
   "id": "atmospheric-decline",
   "metadata": {},
   "source": [
    "Списки в Haskell - аналогия `LinkedList`. Все значения представлены указателями."
   ]
  },
  {
   "cell_type": "markdown",
   "id": "balanced-florence",
   "metadata": {},
   "source": [
    "- суммирование\n",
    "\n",
    "- `Num a=> [a] -> a` - сторож, тип a принадлежит классу Num, если операция разрешена, то можно складывать"
   ]
  },
  {
   "cell_type": "code",
   "execution_count": 22,
   "id": "vocational-saying",
   "metadata": {},
   "outputs": [
    {
     "data": {
      "text/html": [
       "<style>/* Styles used for the Hoogle display in the pager */\n",
       ".hoogle-doc {\n",
       "display: block;\n",
       "padding-bottom: 1.3em;\n",
       "padding-left: 0.4em;\n",
       "}\n",
       ".hoogle-code {\n",
       "display: block;\n",
       "font-family: monospace;\n",
       "white-space: pre;\n",
       "}\n",
       ".hoogle-text {\n",
       "display: block;\n",
       "}\n",
       ".hoogle-name {\n",
       "color: green;\n",
       "font-weight: bold;\n",
       "}\n",
       ".hoogle-head {\n",
       "font-weight: bold;\n",
       "}\n",
       ".hoogle-sub {\n",
       "display: block;\n",
       "margin-left: 0.4em;\n",
       "}\n",
       ".hoogle-package {\n",
       "font-weight: bold;\n",
       "font-style: italic;\n",
       "}\n",
       ".hoogle-module {\n",
       "font-weight: bold;\n",
       "}\n",
       ".hoogle-class {\n",
       "font-weight: bold;\n",
       "}\n",
       ".get-type {\n",
       "color: green;\n",
       "font-weight: bold;\n",
       "font-family: monospace;\n",
       "display: block;\n",
       "white-space: pre-wrap;\n",
       "}\n",
       ".show-type {\n",
       "color: green;\n",
       "font-weight: bold;\n",
       "font-family: monospace;\n",
       "margin-left: 1em;\n",
       "}\n",
       ".mono {\n",
       "font-family: monospace;\n",
       "display: block;\n",
       "}\n",
       ".err-msg {\n",
       "color: red;\n",
       "font-style: italic;\n",
       "font-family: monospace;\n",
       "white-space: pre;\n",
       "display: block;\n",
       "}\n",
       "#unshowable {\n",
       "color: red;\n",
       "font-weight: bold;\n",
       "}\n",
       ".err-msg.in.collapse {\n",
       "padding-top: 0.7em;\n",
       "}\n",
       ".highlight-code {\n",
       "white-space: pre;\n",
       "font-family: monospace;\n",
       "}\n",
       ".suggestion-warning { \n",
       "font-weight: bold;\n",
       "color: rgb(200, 130, 0);\n",
       "}\n",
       ".suggestion-error { \n",
       "font-weight: bold;\n",
       "color: red;\n",
       "}\n",
       ".suggestion-name {\n",
       "font-weight: bold;\n",
       "}\n",
       "</style><div class=\"suggestion-name\" style=\"clear:both;\">Use foldr</div><div class=\"suggestion-row\" style=\"float: left;\"><div class=\"suggestion-warning\">Found:</div><div class=\"highlight-code\" id=\"haskell\">sum [] = 0\n",
       "sum (x : t) = x + sum t</div></div><div class=\"suggestion-row\" style=\"float: left;\"><div class=\"suggestion-warning\">Why Not:</div><div class=\"highlight-code\" id=\"haskell\">sum t = foldr (+) 0 t</div></div>"
      ],
      "text/plain": [
       "Line 2: Use foldr\n",
       "Found:\n",
       "sum [] = 0\n",
       "sum (x : t) = x + sum t\n",
       "Why not:\n",
       "sum t = foldr (+) 0 t"
      ]
     },
     "metadata": {},
     "output_type": "display_data"
    }
   ],
   "source": [
    "sum         :: Num a => [a] -> a \n",
    "sum []       =  0\n",
    "sum (x:t)    =  x + sum t"
   ]
  },
  {
   "cell_type": "code",
   "execution_count": 23,
   "id": "light-watts",
   "metadata": {},
   "outputs": [
    {
     "data": {
      "text/plain": [
       "6"
      ]
     },
     "metadata": {},
     "output_type": "display_data"
    }
   ],
   "source": [
    "sum [1, 2, 3]"
   ]
  },
  {
   "cell_type": "markdown",
   "id": "animal-mauritius",
   "metadata": {},
   "source": [
    "- взять `n` элементов списка"
   ]
  },
  {
   "cell_type": "code",
   "execution_count": 24,
   "id": "experienced-brisbane",
   "metadata": {},
   "outputs": [],
   "source": [
    "take              :: Int -> [a] -> [a]\n",
    "take _ []          =  [] -- первый аргумент - количество\n",
    "take n _ | n <= 0  =  [] -- если n < 0\n",
    "take n (x:t)       =  x : take (n-1) t"
   ]
  },
  {
   "cell_type": "code",
   "execution_count": 25,
   "id": "speaking-permit",
   "metadata": {},
   "outputs": [
    {
     "data": {
      "text/html": [
       "<style>/* Styles used for the Hoogle display in the pager */\n",
       ".hoogle-doc {\n",
       "display: block;\n",
       "padding-bottom: 1.3em;\n",
       "padding-left: 0.4em;\n",
       "}\n",
       ".hoogle-code {\n",
       "display: block;\n",
       "font-family: monospace;\n",
       "white-space: pre;\n",
       "}\n",
       ".hoogle-text {\n",
       "display: block;\n",
       "}\n",
       ".hoogle-name {\n",
       "color: green;\n",
       "font-weight: bold;\n",
       "}\n",
       ".hoogle-head {\n",
       "font-weight: bold;\n",
       "}\n",
       ".hoogle-sub {\n",
       "display: block;\n",
       "margin-left: 0.4em;\n",
       "}\n",
       ".hoogle-package {\n",
       "font-weight: bold;\n",
       "font-style: italic;\n",
       "}\n",
       ".hoogle-module {\n",
       "font-weight: bold;\n",
       "}\n",
       ".hoogle-class {\n",
       "font-weight: bold;\n",
       "}\n",
       ".get-type {\n",
       "color: green;\n",
       "font-weight: bold;\n",
       "font-family: monospace;\n",
       "display: block;\n",
       "white-space: pre-wrap;\n",
       "}\n",
       ".show-type {\n",
       "color: green;\n",
       "font-weight: bold;\n",
       "font-family: monospace;\n",
       "margin-left: 1em;\n",
       "}\n",
       ".mono {\n",
       "font-family: monospace;\n",
       "display: block;\n",
       "}\n",
       ".err-msg {\n",
       "color: red;\n",
       "font-style: italic;\n",
       "font-family: monospace;\n",
       "white-space: pre;\n",
       "display: block;\n",
       "}\n",
       "#unshowable {\n",
       "color: red;\n",
       "font-weight: bold;\n",
       "}\n",
       ".err-msg.in.collapse {\n",
       "padding-top: 0.7em;\n",
       "}\n",
       ".highlight-code {\n",
       "white-space: pre;\n",
       "font-family: monospace;\n",
       "}\n",
       ".suggestion-warning { \n",
       "font-weight: bold;\n",
       "color: rgb(200, 130, 0);\n",
       "}\n",
       ".suggestion-error { \n",
       "font-weight: bold;\n",
       "color: red;\n",
       "}\n",
       ".suggestion-name {\n",
       "font-weight: bold;\n",
       "}\n",
       "</style><div class=\"suggestion-name\" style=\"clear:both;\">Take on a non-positive</div><div class=\"suggestion-row\" style=\"float: left;\"><div class=\"suggestion-warning\">Found:</div><div class=\"highlight-code\" id=\"haskell\">take (- 1) [1, 2, 3]</div></div><div class=\"suggestion-row\" style=\"float: left;\"><div class=\"suggestion-warning\">Why Not:</div><div class=\"highlight-code\" id=\"haskell\">[]</div></div>"
      ],
      "text/plain": [
       "Line 1: Take on a non-positive\n",
       "Found:\n",
       "take (- 1) [1, 2, 3]\n",
       "Why not:\n",
       "[]"
      ]
     },
     "metadata": {},
     "output_type": "display_data"
    },
    {
     "data": {
      "text/plain": [
       "[]"
      ]
     },
     "metadata": {},
     "output_type": "display_data"
    }
   ],
   "source": [
    "take (-1) [1,2,3]"
   ]
  },
  {
   "cell_type": "markdown",
   "id": "cheap-drilling",
   "metadata": {},
   "source": [
    "есть еще функция `drop` - отбрасывает первые $n$ элементов. \n",
    "\n",
    "- `_` - анонимная функция"
   ]
  },
  {
   "cell_type": "markdown",
   "id": "historic-chester",
   "metadata": {},
   "source": [
    "- взять максимум списка\n",
    "\n",
    "Максимального элемента у пустого списка не существует. Используется функция - `max(a, b)` - максимум из двух."
   ]
  },
  {
   "cell_type": "code",
   "execution_count": 26,
   "id": "statistical-developer",
   "metadata": {},
   "outputs": [],
   "source": [
    "maximum        :: Ord a => [a] -> a\n",
    "maximum []      =  error \"maximum: empty list\"\n",
    "maximum [x]     =  x\n",
    "maximum (x:t)   =  max x (maximum t)"
   ]
  },
  {
   "cell_type": "markdown",
   "id": "uniform-newman",
   "metadata": {},
   "source": [
    "- соединение в пары `zip`, часто используется. работает за время, пропорциональное длине списка"
   ]
  },
  {
   "cell_type": "code",
   "execution_count": 27,
   "id": "musical-motel",
   "metadata": {},
   "outputs": [],
   "source": [
    "zip                  :: [a] -> [b] -> [(a, b)]\n",
    "zip [] _             =  []\n",
    "zip _ []             =  []\n",
    "zip (e1:t1) (e2:t2)  =  (e1, e2) : zip t1 t2"
   ]
  },
  {
   "cell_type": "code",
   "execution_count": 28,
   "id": "otherwise-bernard",
   "metadata": {},
   "outputs": [
    {
     "data": {
      "text/plain": [
       "[(1,'a'),(2,'b'),(3,'z')]"
      ]
     },
     "metadata": {},
     "output_type": "display_data"
    }
   ],
   "source": [
    "zip [1, 2, 3] ['a', 'b', 'z']"
   ]
  },
  {
   "cell_type": "code",
   "execution_count": 29,
   "id": "rural-session",
   "metadata": {},
   "outputs": [
    {
     "data": {
      "text/plain": [
       "[(1,'a'),(2,'b')]"
      ]
     },
     "metadata": {},
     "output_type": "display_data"
    }
   ],
   "source": [
    "zip [1, 2, 3] ['a', 'b']"
   ]
  },
  {
   "cell_type": "markdown",
   "id": "unavailable-pathology",
   "metadata": {},
   "source": [
    "- список из пар\n",
    "\n",
    "Используется конструкция `where`, локально сопоставимая с образцом.\n",
    "\n",
    "- `fst`, `scnd` - first и second\n",
    "- `where` можно поставить для нескольких уравнений, как идля одного"
   ]
  },
  {
   "cell_type": "code",
   "execution_count": 30,
   "id": "eleven-mountain",
   "metadata": {},
   "outputs": [],
   "source": [
    "unzip             :: [(a,b)] -> ([a],[b]) \n",
    "unzip []           = ([], [])\n",
    "unzip ((e1,e2):t)  = (e1:tail1, e2:tail2) where (tail1,tail2) = unzip t"
   ]
  },
  {
   "cell_type": "code",
   "execution_count": 31,
   "id": "wound-sapphire",
   "metadata": {},
   "outputs": [
    {
     "data": {
      "text/plain": [
       "([1,2,3],\"abc\")"
      ]
     },
     "metadata": {},
     "output_type": "display_data"
    }
   ],
   "source": [
    "cor = unzip (zip [1, 2, 3] ['a', 'b', 'c', 'd'])\n",
    "cor"
   ]
  },
  {
   "cell_type": "code",
   "execution_count": 32,
   "id": "radical-smoke",
   "metadata": {},
   "outputs": [
    {
     "data": {
      "text/html": [
       "<style>/* Styles used for the Hoogle display in the pager */\n",
       ".hoogle-doc {\n",
       "display: block;\n",
       "padding-bottom: 1.3em;\n",
       "padding-left: 0.4em;\n",
       "}\n",
       ".hoogle-code {\n",
       "display: block;\n",
       "font-family: monospace;\n",
       "white-space: pre;\n",
       "}\n",
       ".hoogle-text {\n",
       "display: block;\n",
       "}\n",
       ".hoogle-name {\n",
       "color: green;\n",
       "font-weight: bold;\n",
       "}\n",
       ".hoogle-head {\n",
       "font-weight: bold;\n",
       "}\n",
       ".hoogle-sub {\n",
       "display: block;\n",
       "margin-left: 0.4em;\n",
       "}\n",
       ".hoogle-package {\n",
       "font-weight: bold;\n",
       "font-style: italic;\n",
       "}\n",
       ".hoogle-module {\n",
       "font-weight: bold;\n",
       "}\n",
       ".hoogle-class {\n",
       "font-weight: bold;\n",
       "}\n",
       ".get-type {\n",
       "color: green;\n",
       "font-weight: bold;\n",
       "font-family: monospace;\n",
       "display: block;\n",
       "white-space: pre-wrap;\n",
       "}\n",
       ".show-type {\n",
       "color: green;\n",
       "font-weight: bold;\n",
       "font-family: monospace;\n",
       "margin-left: 1em;\n",
       "}\n",
       ".mono {\n",
       "font-family: monospace;\n",
       "display: block;\n",
       "}\n",
       ".err-msg {\n",
       "color: red;\n",
       "font-style: italic;\n",
       "font-family: monospace;\n",
       "white-space: pre;\n",
       "display: block;\n",
       "}\n",
       "#unshowable {\n",
       "color: red;\n",
       "font-weight: bold;\n",
       "}\n",
       ".err-msg.in.collapse {\n",
       "padding-top: 0.7em;\n",
       "}\n",
       ".highlight-code {\n",
       "white-space: pre;\n",
       "font-family: monospace;\n",
       "}\n",
       ".suggestion-warning { \n",
       "font-weight: bold;\n",
       "color: rgb(200, 130, 0);\n",
       "}\n",
       ".suggestion-error { \n",
       "font-weight: bold;\n",
       "color: red;\n",
       "}\n",
       ".suggestion-name {\n",
       "font-weight: bold;\n",
       "}\n",
       "</style><span class='get-type'>cor :: forall a. Num a => ([a], [Char])</span>"
      ],
      "text/plain": [
       "cor :: forall a. Num a => ([a], [Char])"
      ]
     },
     "metadata": {},
     "output_type": "display_data"
    }
   ],
   "source": [
    ":t cor"
   ]
  },
  {
   "cell_type": "markdown",
   "id": "herbal-findings",
   "metadata": {},
   "source": [
    "Существует еще очень много операций со списками в модуле `Data.List`"
   ]
  },
  {
   "cell_type": "code",
   "execution_count": 34,
   "id": "coordinated-violation",
   "metadata": {},
   "outputs": [],
   "source": [
    "import Data.List"
   ]
  },
  {
   "cell_type": "markdown",
   "id": "restricted-occupation",
   "metadata": {},
   "source": [
    "## 02.2 Определение новых типов данных"
   ]
  },
  {
   "attachments": {},
   "cell_type": "markdown",
   "id": "communist-amplifier",
   "metadata": {},
   "source": [
    "Во-первых, для любого типа можно создать синоним, Обозначив идетификатором уже существующий тип - будет *сокращением для более сложного типа*.\n",
    "\n",
    "- `type String   = [Char]`\n",
    "- `type Coord    = (Double, Double)` - пара двух вещественнных чисел\n",
    "- `type Pair a   = (a, a)` - могут быть **параметризованы** - задаём параметр типа использовать в правой части, где фактический параметр $a$\n",
    "- `type Complex  = Pair Double`"
   ]
  },
  {
   "cell_type": "markdown",
   "id": "suited-tracy",
   "metadata": {},
   "source": [
    "### 02.2.1 Использование синонимов\n",
    "\n",
    "- функция, ищущая символ в строке и выдаёт индекс"
   ]
  },
  {
   "cell_type": "code",
   "execution_count": 54,
   "id": "prime-clock",
   "metadata": {},
   "outputs": [],
   "source": [
    "type String  = [Char]\n",
    "find       :: String -> Char -> Int\n",
    "find [] _                  =  -1 -- если ищу в пустой строке, можно и ''\n",
    "find (x:s) y | x == y      =  0\n",
    "             | otherwise   =  1 + find s y"
   ]
  },
  {
   "cell_type": "code",
   "execution_count": 53,
   "id": "advance-april",
   "metadata": {},
   "outputs": [
    {
     "ename": "",
     "evalue": "",
     "output_type": "error",
     "traceback": [
      "<interactive>:1:16: error:\n    • Couldn't match expected type ‘Char’ with actual type ‘String’\n    • In the second argument of ‘find’, namely ‘\"t\"’\n      In the expression: find \"strtrtr\" \"t\"\n      In an equation for ‘it’: it = find \"strtrtr\" \"t\""
     ]
    }
   ],
   "source": [
    "find \"strtrtr\" \"t\""
   ]
  },
  {
   "cell_type": "code",
   "execution_count": 41,
   "id": "nutritional-system",
   "metadata": {},
   "outputs": [],
   "source": [
    "type Coord    = (Double, Double)\n",
    "distance   :: Coord -> Coord -> Double\n",
    "distance (x1, y1) (x2, y2) = sqrt ((x2-x1) * (x2-x1) + (y2-y1) * (y2-y1))"
   ]
  },
  {
   "cell_type": "code",
   "execution_count": 42,
   "id": "precious-driver",
   "metadata": {},
   "outputs": [
    {
     "data": {
      "text/plain": [
       "1.0"
      ]
     },
     "metadata": {},
     "output_type": "display_data"
    }
   ],
   "source": [
    "distance (4, 5) (4, 6)"
   ]
  },
  {
   "cell_type": "markdown",
   "id": "middle-doubt",
   "metadata": {},
   "source": [
    "Заметим, что плохо, что синонимы задают *один и тот же тип*, но хотелось бы иметь типы, отличающиеся от других (между прочим)."
   ]
  },
  {
   "cell_type": "code",
   "execution_count": 45,
   "id": "extensive-heritage",
   "metadata": {},
   "outputs": [],
   "source": [
    "type Complex  = Pair Double\n",
    "type Pair a   = (a, a)\n",
    "complexAdd :: Complex -> Complex -> Complex\n",
    "complexAdd (r1, i1) (r2, i2)  =  (r1+r2, i1+i2)"
   ]
  },
  {
   "cell_type": "code",
   "execution_count": 46,
   "id": "noble-qualification",
   "metadata": {},
   "outputs": [],
   "source": [
    "swap       :: Pair a -> Pair a\n",
    "swap (x, y)  =  (y, x)"
   ]
  },
  {
   "cell_type": "code",
   "execution_count": 47,
   "id": "exclusive-genius",
   "metadata": {},
   "outputs": [
    {
     "data": {
      "text/plain": [
       "(5,4)"
      ]
     },
     "metadata": {},
     "output_type": "display_data"
    }
   ],
   "source": [
    "swap (4, 5)"
   ]
  },
  {
   "cell_type": "markdown",
   "id": "worth-novelty",
   "metadata": {},
   "source": [
    "### 02.2.3 Опреледение конструкторов\n",
    "\n",
    "Новая конструкция, в которых мы можем задавать конструкторы новых типов данных. У нас уже были конструкторы списков - `[]` и `:`. Можем создавать свои."
   ]
  },
  {
   "cell_type": "code",
   "execution_count": 48,
   "id": "amino-doctor",
   "metadata": {},
   "outputs": [],
   "source": [
    "data WeekDay = Sun | Mon | Tue | Wed | Thu | Fri | Sat\n",
    "data Bool    = False | True"
   ]
  },
  {
   "cell_type": "markdown",
   "id": "north-priority",
   "metadata": {},
   "source": [
    "- через вертикальную черту определяю конструктор\n",
    "- определяем идентификатор `WeekDay` со значениями дней недели...\n",
    "- для целого числа `Int` в качестве конструкторов - огромное количество целых чисел.... - в качестве образца может быть рассмотрен любой конструктор"
   ]
  },
  {
   "cell_type": "markdown",
   "id": "silver-semester",
   "metadata": {},
   "source": [
    "**Использование конструкторов**\n",
    "\n",
    "- определяем выходной день `WeekDay` - именно тип `WeekDay`, нами созданное. Поэтому этот тип является новым и его значения - только те, что определены конструктором\n",
    "- без параметров называется перечислением `Enum`"
   ]
  },
  {
   "cell_type": "code",
   "execution_count": 55,
   "id": "olympic-conflict",
   "metadata": {},
   "outputs": [],
   "source": [
    "weekend       :: WeekDay -> Bool\n",
    "weekend Sun   =  True\n",
    "weekend Sat   =  True\n",
    "weekend _     =  False"
   ]
  },
  {
   "attachments": {},
   "cell_type": "markdown",
   "id": "hazardous-poultry",
   "metadata": {},
   "source": [
    "**Конструкторы с параметром**\n",
    "\n",
    "- значение сформированного конструкторов - набор некоторых значений + некоторый тег - значение x, y и **тэг** Couple\n",
    "\n",
    "- *тэги конструкторов* - представлены возрастающей последовательностью чисел"
   ]
  },
  {
   "cell_type": "code",
   "execution_count": 59,
   "id": "fewer-claim",
   "metadata": {},
   "outputs": [],
   "source": [
    "data Coord   =  Point Double Double -- конструктор Point с двумя вещественными\n",
    "data Pair a  =  Couple a a"
   ]
  },
  {
   "cell_type": "markdown",
   "id": "manufactured-aurora",
   "metadata": {},
   "source": [
    "- значение `Point Double Double` будет иметь значение `Coord`"
   ]
  },
  {
   "cell_type": "markdown",
   "id": "reasonable-greece",
   "metadata": {},
   "source": [
    "**Использование конструкторов с параметрами**"
   ]
  },
  {
   "cell_type": "code",
   "execution_count": 60,
   "id": "biological-external",
   "metadata": {},
   "outputs": [],
   "source": [
    "distance   :: Coord -> Coord -> Double\n",
    "distance (Point x1 y1) (Point x2 y2)  = \n",
    "                             sqrt ((x2-x1) * (x2-x1) + (y2-y1) * (y2-y1))"
   ]
  },
  {
   "cell_type": "code",
   "execution_count": 62,
   "id": "norwegian-republican",
   "metadata": {},
   "outputs": [],
   "source": [
    "swap       :: Pair a -> Pair a\n",
    "swap (Couple x y)    =  Couple y x"
   ]
  },
  {
   "cell_type": "markdown",
   "id": "discrete-geneva",
   "metadata": {},
   "source": [
    "### 02.2.4 Сложные типы данных"
   ]
  },
  {
   "cell_type": "markdown",
   "id": "minimal-technology",
   "metadata": {},
   "source": [
    "Определим заново список из целых чисел."
   ]
  },
  {
   "cell_type": "code",
   "execution_count": 63,
   "id": "surrounded-breach",
   "metadata": {},
   "outputs": [],
   "source": [
    "data IntList = Nil | Cons Integer IntList \n",
    "-- Nil\n",
    "-- Cons Integer IntList - рекурсивное определение типа данных\n",
    "-- в качестве второго аргумента служит список - хвост, указатель на следующий элемент"
   ]
  },
  {
   "cell_type": "code",
   "execution_count": 64,
   "id": "casual-granny",
   "metadata": {},
   "outputs": [],
   "source": [
    "sumList             ::  IntList -> Integer\n",
    "sumList Nil           =  0\n",
    "sumList (Cons e ls)     =  e + sumList ls"
   ]
  },
  {
   "cell_type": "code",
   "execution_count": 82,
   "id": "congressional-cycling",
   "metadata": {},
   "outputs": [
    {
     "ename": "",
     "evalue": "",
     "output_type": "error",
     "traceback": [
      "<interactive>:1:9: error:\n    • Couldn't match expected type ‘IntList’ with actual type ‘[Integer]’\n    • In the expression: [1, 2, 3] :: IntList\n      In an equation for ‘a’: a = [1, 2, 3] :: IntList"
     ]
    }
   ],
   "source": [
    "let a = [1, 2, 3] :: IntList"
   ]
  },
  {
   "cell_type": "markdown",
   "id": "large-blend",
   "metadata": {},
   "source": [
    "- можно еще делать *инфиксные операции* `:+:` - она начинается с двоеточия и заканчивается им"
   ]
  },
  {
   "cell_type": "code",
   "execution_count": 68,
   "id": "after-diploma",
   "metadata": {},
   "outputs": [],
   "source": [
    "data List a = Nil | a :+: (List a)"
   ]
  },
  {
   "cell_type": "code",
   "execution_count": 71,
   "id": "sunrise-deposit",
   "metadata": {},
   "outputs": [],
   "source": [
    "sumList             ::  List Integer -> Integer\n",
    "sumList Nil           =  0\n",
    "sumList (e :+: ls)     =  e + sumList ls"
   ]
  },
  {
   "cell_type": "code",
   "execution_count": 76,
   "id": "green-thirty",
   "metadata": {},
   "outputs": [],
   "source": [
    "sumList             :: (Num a) => List a -> a -- если любым числам\n",
    "sumList Nil           =  0\n",
    "sumList (e :+: ls)     =  e + sumList ls"
   ]
  },
  {
   "cell_type": "code",
   "execution_count": 78,
   "id": "documentary-amsterdam",
   "metadata": {},
   "outputs": [
    {
     "ename": "",
     "evalue": "",
     "output_type": "error",
     "traceback": [
      "Parse error (line 1, column 6): Malformed head of type or class declaration: [a]"
     ]
    }
   ],
   "source": [
    "data [a] = [] | a : [a] --конструктор пустого списка, голова и хвост"
   ]
  },
  {
   "cell_type": "markdown",
   "id": "separate-thompson",
   "metadata": {},
   "source": [
    "*Сортировка списка* - сортировка вставками"
   ]
  },
  {
   "cell_type": "code",
   "execution_count": 80,
   "id": "functioning-intelligence",
   "metadata": {},
   "outputs": [
    {
     "data": {
      "text/html": [
       "<style>/* Styles used for the Hoogle display in the pager */\n",
       ".hoogle-doc {\n",
       "display: block;\n",
       "padding-bottom: 1.3em;\n",
       "padding-left: 0.4em;\n",
       "}\n",
       ".hoogle-code {\n",
       "display: block;\n",
       "font-family: monospace;\n",
       "white-space: pre;\n",
       "}\n",
       ".hoogle-text {\n",
       "display: block;\n",
       "}\n",
       ".hoogle-name {\n",
       "color: green;\n",
       "font-weight: bold;\n",
       "}\n",
       ".hoogle-head {\n",
       "font-weight: bold;\n",
       "}\n",
       ".hoogle-sub {\n",
       "display: block;\n",
       "margin-left: 0.4em;\n",
       "}\n",
       ".hoogle-package {\n",
       "font-weight: bold;\n",
       "font-style: italic;\n",
       "}\n",
       ".hoogle-module {\n",
       "font-weight: bold;\n",
       "}\n",
       ".hoogle-class {\n",
       "font-weight: bold;\n",
       "}\n",
       ".get-type {\n",
       "color: green;\n",
       "font-weight: bold;\n",
       "font-family: monospace;\n",
       "display: block;\n",
       "white-space: pre-wrap;\n",
       "}\n",
       ".show-type {\n",
       "color: green;\n",
       "font-weight: bold;\n",
       "font-family: monospace;\n",
       "margin-left: 1em;\n",
       "}\n",
       ".mono {\n",
       "font-family: monospace;\n",
       "display: block;\n",
       "}\n",
       ".err-msg {\n",
       "color: red;\n",
       "font-style: italic;\n",
       "font-family: monospace;\n",
       "white-space: pre;\n",
       "display: block;\n",
       "}\n",
       "#unshowable {\n",
       "color: red;\n",
       "font-weight: bold;\n",
       "}\n",
       ".err-msg.in.collapse {\n",
       "padding-top: 0.7em;\n",
       "}\n",
       ".highlight-code {\n",
       "white-space: pre;\n",
       "font-family: monospace;\n",
       "}\n",
       ".suggestion-warning { \n",
       "font-weight: bold;\n",
       "color: rgb(200, 130, 0);\n",
       "}\n",
       ".suggestion-error { \n",
       "font-weight: bold;\n",
       "color: red;\n",
       "}\n",
       ".suggestion-name {\n",
       "font-weight: bold;\n",
       "}\n",
       "</style><div class=\"suggestion-name\" style=\"clear:both;\">Redundant bracket</div><div class=\"suggestion-row\" style=\"float: left;\"><div class=\"suggestion-warning\">Found:</div><div class=\"highlight-code\" id=\"haskell\">x : (insert elem s)</div></div><div class=\"suggestion-row\" style=\"float: left;\"><div class=\"suggestion-warning\">Why Not:</div><div class=\"highlight-code\" id=\"haskell\">x : insert elem s</div></div>"
      ],
      "text/plain": [
       "Line 4: Redundant bracket\n",
       "Found:\n",
       "x : (insert elem s)\n",
       "Why not:\n",
       "x : insert elem s"
      ]
     },
     "metadata": {},
     "output_type": "display_data"
    }
   ],
   "source": [
    "insert          :: (Ord a) => a -> [a] -> [a]\n",
    "insert elem []  = [elem]\n",
    "insert elem list@(x:s) | elem < x   = elem:list\n",
    "                       | otherwise  = x:(insert elem s)"
   ]
  },
  {
   "cell_type": "code",
   "execution_count": 81,
   "id": "compact-waterproof",
   "metadata": {},
   "outputs": [
    {
     "data": {
      "text/html": [
       "<style>/* Styles used for the Hoogle display in the pager */\n",
       ".hoogle-doc {\n",
       "display: block;\n",
       "padding-bottom: 1.3em;\n",
       "padding-left: 0.4em;\n",
       "}\n",
       ".hoogle-code {\n",
       "display: block;\n",
       "font-family: monospace;\n",
       "white-space: pre;\n",
       "}\n",
       ".hoogle-text {\n",
       "display: block;\n",
       "}\n",
       ".hoogle-name {\n",
       "color: green;\n",
       "font-weight: bold;\n",
       "}\n",
       ".hoogle-head {\n",
       "font-weight: bold;\n",
       "}\n",
       ".hoogle-sub {\n",
       "display: block;\n",
       "margin-left: 0.4em;\n",
       "}\n",
       ".hoogle-package {\n",
       "font-weight: bold;\n",
       "font-style: italic;\n",
       "}\n",
       ".hoogle-module {\n",
       "font-weight: bold;\n",
       "}\n",
       ".hoogle-class {\n",
       "font-weight: bold;\n",
       "}\n",
       ".get-type {\n",
       "color: green;\n",
       "font-weight: bold;\n",
       "font-family: monospace;\n",
       "display: block;\n",
       "white-space: pre-wrap;\n",
       "}\n",
       ".show-type {\n",
       "color: green;\n",
       "font-weight: bold;\n",
       "font-family: monospace;\n",
       "margin-left: 1em;\n",
       "}\n",
       ".mono {\n",
       "font-family: monospace;\n",
       "display: block;\n",
       "}\n",
       ".err-msg {\n",
       "color: red;\n",
       "font-style: italic;\n",
       "font-family: monospace;\n",
       "white-space: pre;\n",
       "display: block;\n",
       "}\n",
       "#unshowable {\n",
       "color: red;\n",
       "font-weight: bold;\n",
       "}\n",
       ".err-msg.in.collapse {\n",
       "padding-top: 0.7em;\n",
       "}\n",
       ".highlight-code {\n",
       "white-space: pre;\n",
       "font-family: monospace;\n",
       "}\n",
       ".suggestion-warning { \n",
       "font-weight: bold;\n",
       "color: rgb(200, 130, 0);\n",
       "}\n",
       ".suggestion-error { \n",
       "font-weight: bold;\n",
       "color: red;\n",
       "}\n",
       ".suggestion-name {\n",
       "font-weight: bold;\n",
       "}\n",
       "</style><div class=\"suggestion-name\" style=\"clear:both;\">Use foldr</div><div class=\"suggestion-row\" style=\"float: left;\"><div class=\"suggestion-warning\">Found:</div><div class=\"highlight-code\" id=\"haskell\">insSort [] = []\n",
       "insSort (x : s) = insert x (insSort s)</div></div><div class=\"suggestion-row\" style=\"float: left;\"><div class=\"suggestion-warning\">Why Not:</div><div class=\"highlight-code\" id=\"haskell\">insSort s = foldr insert [] s</div></div>"
      ],
      "text/plain": [
       "Line 2: Use foldr\n",
       "Found:\n",
       "insSort [] = []\n",
       "insSort (x : s) = insert x (insSort s)\n",
       "Why not:\n",
       "insSort s = foldr insert [] s"
      ]
     },
     "metadata": {},
     "output_type": "display_data"
    }
   ],
   "source": [
    "insSort          :: (Ord a) => [a] -> [a]\n",
    "insSort []       = []\n",
    "insSort (x:s)    = insert x (insSort s)"
   ]
  },
  {
   "cell_type": "markdown",
   "id": "computational-productivity",
   "metadata": {},
   "source": [
    "- каждый раз мы создаём новый объект при сортировке списка. При сортировке массива мы в памяти меняем индексы. Новые объекты создаются с помощью конструкторов. В процессе этого алгоритма создаются $\\frac{n^2}{2}$ новых объектов - будет столько памяти использоваться."
   ]
  },
  {
   "cell_type": "markdown",
   "id": "mexican-singles",
   "metadata": {},
   "source": [
    "## 02.3 Определени и обработка двоичного дерева"
   ]
  },
  {
   "attachments": {
    "image.png": {
     "image/png": "[encoded data removed]"
    }
   },
   "cell_type": "markdown",
   "id": "figured-convenience",
   "metadata": {},
   "source": [
    "Каждый из узлов может иметь ссылку на левое и правое поддерево.\n",
    "- нужно определить конструктор пустого дерева\n",
    "- конструктор непустого\n",
    "\n",
    "![image.png](attachment:image.png)"
   ]
  },
  {
   "cell_type": "code",
   "execution_count": 83,
   "id": "sacred-celtic",
   "metadata": {},
   "outputs": [],
   "source": [
    "data Tree a = Empty |\n",
    "              Node (Tree a) a (Tree a)"
   ]
  },
  {
   "cell_type": "code",
   "execution_count": 84,
   "id": "electrical-tuesday",
   "metadata": {},
   "outputs": [],
   "source": [
    "myTree  ::  Tree Char\n",
    "myTree  = Node (Node \n",
    "                  (Node Empty 'D' Empty)\n",
    "                  'B'\n",
    "                  Empty)\n",
    "               'A'\n",
    "               (Node\n",
    "                  (Node Empty 'E' Empty)\n",
    "                  'C'\n",
    "                  (Node Empty 'F' Empty))"
   ]
  },
  {
   "cell_type": "markdown",
   "id": "large-stack",
   "metadata": {},
   "source": [
    "- определим высоту дерева"
   ]
  },
  {
   "cell_type": "code",
   "execution_count": 87,
   "id": "sixth-capture",
   "metadata": {},
   "outputs": [],
   "source": [
    "height  ::  Tree a -> Int\n",
    "height Empty           =  0 -- если конструктором Empty, то 0\n",
    "height (Node t1 _ t2)  =  1 + max (height t1) (height t2) -- если другим, то это"
   ]
  },
  {
   "cell_type": "code",
   "execution_count": 88,
   "id": "generous-lithuania",
   "metadata": {},
   "outputs": [
    {
     "data": {
      "text/plain": [
       "3"
      ]
     },
     "metadata": {},
     "output_type": "display_data"
    }
   ],
   "source": [
    "height myTree"
   ]
  },
  {
   "cell_type": "markdown",
   "id": "combined-lodging",
   "metadata": {},
   "source": [
    "### 02.3.1. Сортировка с помощью двоичного дерева"
   ]
  },
  {
   "attachments": {
    "image.png": {
     "image/png": "[encoded data removed]"
    }
   },
   "cell_type": "markdown",
   "id": "civilian-giant",
   "metadata": {},
   "source": [
    "![image.png](attachment:image.png)"
   ]
  },
  {
   "cell_type": "markdown",
   "id": "acceptable-academy",
   "metadata": {},
   "source": [
    "Начнём с последнего элемента списка - берём последний элемент списка, 8 - в правое поддерево, так как больше и.т.д..."
   ]
  },
  {
   "cell_type": "code",
   "execution_count": null,
   "id": "found-rendering",
   "metadata": {},
   "outputs": [],
   "source": [
    "sort    :: (Ord a) => [a] -> [a] -- Сортировка\n",
    "build   :: (Ord a) => [a] -> Tree a -- построение двоичного дерева\n",
    "-- только если можно сравнивать\n",
    "flatten :: Tree a -> [a] -- превращает дерево в плоский список\n",
    "\n",
    "sort ls  =  flatten (build ls) -- суперпозиция двух функций"
   ]
  },
  {
   "cell_type": "markdown",
   "id": "frozen-philadelphia",
   "metadata": {},
   "source": [
    "**Программа сортировки с помощью двоичного дерева**"
   ]
  },
  {
   "cell_type": "code",
   "execution_count": 92,
   "id": "hollow-cooler",
   "metadata": {},
   "outputs": [
    {
     "data": {
      "text/html": [
       "<style>/* Styles used for the Hoogle display in the pager */\n",
       ".hoogle-doc {\n",
       "display: block;\n",
       "padding-bottom: 1.3em;\n",
       "padding-left: 0.4em;\n",
       "}\n",
       ".hoogle-code {\n",
       "display: block;\n",
       "font-family: monospace;\n",
       "white-space: pre;\n",
       "}\n",
       ".hoogle-text {\n",
       "display: block;\n",
       "}\n",
       ".hoogle-name {\n",
       "color: green;\n",
       "font-weight: bold;\n",
       "}\n",
       ".hoogle-head {\n",
       "font-weight: bold;\n",
       "}\n",
       ".hoogle-sub {\n",
       "display: block;\n",
       "margin-left: 0.4em;\n",
       "}\n",
       ".hoogle-package {\n",
       "font-weight: bold;\n",
       "font-style: italic;\n",
       "}\n",
       ".hoogle-module {\n",
       "font-weight: bold;\n",
       "}\n",
       ".hoogle-class {\n",
       "font-weight: bold;\n",
       "}\n",
       ".get-type {\n",
       "color: green;\n",
       "font-weight: bold;\n",
       "font-family: monospace;\n",
       "display: block;\n",
       "white-space: pre-wrap;\n",
       "}\n",
       ".show-type {\n",
       "color: green;\n",
       "font-weight: bold;\n",
       "font-family: monospace;\n",
       "margin-left: 1em;\n",
       "}\n",
       ".mono {\n",
       "font-family: monospace;\n",
       "display: block;\n",
       "}\n",
       ".err-msg {\n",
       "color: red;\n",
       "font-style: italic;\n",
       "font-family: monospace;\n",
       "white-space: pre;\n",
       "display: block;\n",
       "}\n",
       "#unshowable {\n",
       "color: red;\n",
       "font-weight: bold;\n",
       "}\n",
       ".err-msg.in.collapse {\n",
       "padding-top: 0.7em;\n",
       "}\n",
       ".highlight-code {\n",
       "white-space: pre;\n",
       "font-family: monospace;\n",
       "}\n",
       ".suggestion-warning { \n",
       "font-weight: bold;\n",
       "color: rgb(200, 130, 0);\n",
       "}\n",
       ".suggestion-error { \n",
       "font-weight: bold;\n",
       "color: red;\n",
       "}\n",
       ".suggestion-name {\n",
       "font-weight: bold;\n",
       "}\n",
       "</style><div class=\"suggestion-name\" style=\"clear:both;\">Use foldr</div><div class=\"suggestion-row\" style=\"float: left;\"><div class=\"suggestion-warning\">Found:</div><div class=\"highlight-code\" id=\"haskell\">build [] = Empty\n",
       "build (e : ls) = insert e (build ls)</div></div><div class=\"suggestion-row\" style=\"float: left;\"><div class=\"suggestion-warning\">Why Not:</div><div class=\"highlight-code\" id=\"haskell\">build ls = foldr insert Empty ls</div></div><div class=\"suggestion-name\" style=\"clear:both;\">Redundant bracket</div><div class=\"suggestion-row\" style=\"float: left;\"><div class=\"suggestion-warning\">Found:</div><div class=\"highlight-code\" id=\"haskell\">(flatten t1) ++ (n : (flatten t2))</div></div><div class=\"suggestion-row\" style=\"float: left;\"><div class=\"suggestion-warning\">Why Not:</div><div class=\"highlight-code\" id=\"haskell\">flatten t1 ++ (n : (flatten t2))</div></div><div class=\"suggestion-name\" style=\"clear:both;\">Redundant bracket</div><div class=\"suggestion-row\" style=\"float: left;\"><div class=\"suggestion-warning\">Found:</div><div class=\"highlight-code\" id=\"haskell\">n : (flatten t2)</div></div><div class=\"suggestion-row\" style=\"float: left;\"><div class=\"suggestion-warning\">Why Not:</div><div class=\"highlight-code\" id=\"haskell\">n : flatten t2</div></div>"
      ],
      "text/plain": [
       "Line 13: Use foldr\n",
       "Found:\n",
       "build [] = Empty\n",
       "build (e : ls) = insert e (build ls)\n",
       "Why not:\n",
       "build ls = foldr insert Empty lsLine 23: Redundant bracket\n",
       "Found:\n",
       "(flatten t1) ++ (n : (flatten t2))\n",
       "Why not:\n",
       "flatten t1 ++ (n : (flatten t2))Line 23: Redundant bracket\n",
       "Found:\n",
       "n : (flatten t2)\n",
       "Why not:\n",
       "n : flatten t2"
      ]
     },
     "metadata": {},
     "output_type": "display_data"
    }
   ],
   "source": [
    "data Tree a = Empty |\n",
    "              Node (Tree a) a (Tree a)\n",
    "              \n",
    "sort    :: (Ord a) => [a] -> [a]\n",
    "build   :: (Ord a) => [a] -> Tree a\n",
    "insert  :: (Ord a) => a -> Tree a -> Tree a --вставление элемента в дерево\n",
    "flatten :: Tree a -> [a]\n",
    "\n",
    "-- сортировка\n",
    "sort ls       =  flatten (build ls)\n",
    "\n",
    "-- построение с хвоста списка дерева\n",
    "build []      =  Empty\n",
    "build (e:ls)  =  insert e (build ls) -- дерево строится с хвоста\n",
    "\n",
    "-- вставка элемента в дерево\n",
    "insert e Empty                    =  Node Empty e Empty\n",
    "insert e (Node t1 n t2) | e < n   =  Node (insert e t1) n t2\n",
    "                        | e >= n  =  Node t1 n (insert e t2)\n",
    "\n",
    "-- получение отсортированного списка\n",
    "flatten Empty = []\n",
    "flatten (Node t1 n t2) = (flatten t1) ++ (n : (flatten t2))\n",
    "-- соединение списков ++\n",
    "-- ++ - разбирает левый список на части, по одному разбирает элементы"
   ]
  },
  {
   "cell_type": "code",
   "execution_count": 93,
   "id": "aggressive-microphone",
   "metadata": {},
   "outputs": [
    {
     "data": {
      "text/plain": [
       "[1,2,3,3,4,5,6,8]"
      ]
     },
     "metadata": {},
     "output_type": "display_data"
    }
   ],
   "source": [
    "sort [1,5,4,3,8,6,2,3]"
   ]
  },
  {
   "cell_type": "markdown",
   "id": "another-sellers",
   "metadata": {},
   "source": [
    "### 02.3.2. Программа сортировки с помощью двоичного дерева"
   ]
  },
  {
   "cell_type": "code",
   "execution_count": 94,
   "id": "split-peter",
   "metadata": {},
   "outputs": [],
   "source": [
    "merge :: Ord a => [a] -> [a] -> [a]\n",
    "merge [] s2 = s2\n",
    "merge s1 [] = s1\n",
    "merge s1@(x1:t1) s2@(x2:t2) = if x1 < x2 then x1 : merge t1 s2\n",
    "                                         else x2 : merge s1 t2\n",
    "                                    \n",
    "mergeSort :: Ord a => [a] -> [a]\n",
    "mergeSort [] = []\n",
    "mergeSort s@[x] = s\n",
    "mergeSort s = merge (mergeSort s1) (mergeSort s2)\n",
    "        where (s1,s2) = splitAt (length s `div` 2) s"
   ]
  },
  {
   "cell_type": "markdown",
   "id": "formed-patrick",
   "metadata": {},
   "source": [
    "- `splitAt` - разбивает список по данному индексу\n",
    "- `s@[x]` - обозначаю буквой `s` список `[x]`"
   ]
  },
  {
   "attachments": {},
   "cell_type": "markdown",
   "id": "talented-absence",
   "metadata": {},
   "source": [
    "### 02.3.3 Еще один способ объявления нового типа данных\n",
    "\n",
    "Иногда хочется объявить синоним для типа данных, но так, чтобы это был всё же отличающийся от исходного тип.\n",
    "\n",
    "```haskell\n",
    "data Vector a = Vector (a, a)\n",
    "```\n",
    "\n",
    "Однако, представление объектов типа Pair «нагружено» тегом “Pair”. Чтобы сохранить внутреннее представление в виде обычного кортежа, а внешнее представление сделать отличающимся от базового типа, можно написать\n",
    "\n",
    "```haskell\n",
    "newtype Vector a = Vector (a, a)\n",
    "```\n",
    "\n",
    "Одновременно вместе с описанием типа можно указать и «функцию доступа» (getter)\n",
    "\n",
    "```haskell\n",
    "newtype Vector a = Vector { getCoords :: (a, a) }\n",
    "```\n",
    "\n",
    "Функция сложения векторов с числовыми координатами:\n",
    "\n",
    "```haskell\n",
    "vectorAdd :: Num a => Vector a -> Vector a -> Vector a\n",
    "vectorAdd (Vector (x1, y1)) (Vector (x2, y2)) = Vector (x1+x2, y1+y2)\n",
    "```"
   ]
  }
 ],
 "metadata": {
  "kernelspec": {
   "display_name": "Haskell",
   "language": "haskell",
   "name": "haskell"
  },
  "language_info": {
   "codemirror_mode": "ihaskell",
   "file_extension": ".hs",
   "mimetype": "text/x-haskell",
   "name": "haskell",
   "pygments_lexer": "Haskell",
   "version": "8.8.4"
  }
 },
 "nbformat": 4,
 "nbformat_minor": 5
}
