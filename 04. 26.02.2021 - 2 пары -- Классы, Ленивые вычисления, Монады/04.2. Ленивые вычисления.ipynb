{
 "cells": [
  {
   "cell_type": "markdown",
   "id": "global-azerbaijan",
   "metadata": {},
   "source": [
    "# 04. Ленивые вычисления\n",
    "\n",
    "<div style=\"text-align: right\"> \n",
    "    \n",
    "    Лекция 4.2 26/02/21 \n",
    "    \n",
    "    Кубенский Александр Александрович\n",
    "    \n",
    "    akoubensky@gmail.com\n",
    "</div> "
   ]
  },
  {
   "attachments": {},
   "cell_type": "markdown",
   "id": "operational-class",
   "metadata": {},
   "source": [
    "## Введение в ленивые вычисления\n",
    "\n",
    "**Опр**: *дизъюнкция по МакКарти* - безопасная дизъюнкция - сначала проверяется первый операнд, если выполняется, то второй операнд не будет выполняться.\n",
    "\n",
    "```haskell\n",
    "if x == 0 then True else y `div` x > 2\n",
    "```"
   ]
  },
  {
   "cell_type": "code",
   "execution_count": 1,
   "id": "serial-carolina",
   "metadata": {},
   "outputs": [
    {
     "data": {
      "text/html": [
       "<style>/* Styles used for the Hoogle display in the pager */\n",
       ".hoogle-doc {\n",
       "display: block;\n",
       "padding-bottom: 1.3em;\n",
       "padding-left: 0.4em;\n",
       "}\n",
       ".hoogle-code {\n",
       "display: block;\n",
       "font-family: monospace;\n",
       "white-space: pre;\n",
       "}\n",
       ".hoogle-text {\n",
       "display: block;\n",
       "}\n",
       ".hoogle-name {\n",
       "color: green;\n",
       "font-weight: bold;\n",
       "}\n",
       ".hoogle-head {\n",
       "font-weight: bold;\n",
       "}\n",
       ".hoogle-sub {\n",
       "display: block;\n",
       "margin-left: 0.4em;\n",
       "}\n",
       ".hoogle-package {\n",
       "font-weight: bold;\n",
       "font-style: italic;\n",
       "}\n",
       ".hoogle-module {\n",
       "font-weight: bold;\n",
       "}\n",
       ".hoogle-class {\n",
       "font-weight: bold;\n",
       "}\n",
       ".get-type {\n",
       "color: green;\n",
       "font-weight: bold;\n",
       "font-family: monospace;\n",
       "display: block;\n",
       "white-space: pre-wrap;\n",
       "}\n",
       ".show-type {\n",
       "color: green;\n",
       "font-weight: bold;\n",
       "font-family: monospace;\n",
       "margin-left: 1em;\n",
       "}\n",
       ".mono {\n",
       "font-family: monospace;\n",
       "display: block;\n",
       "}\n",
       ".err-msg {\n",
       "color: red;\n",
       "font-style: italic;\n",
       "font-family: monospace;\n",
       "white-space: pre;\n",
       "display: block;\n",
       "}\n",
       "#unshowable {\n",
       "color: red;\n",
       "font-weight: bold;\n",
       "}\n",
       ".err-msg.in.collapse {\n",
       "padding-top: 0.7em;\n",
       "}\n",
       ".highlight-code {\n",
       "white-space: pre;\n",
       "font-family: monospace;\n",
       "}\n",
       ".suggestion-warning { \n",
       "font-weight: bold;\n",
       "color: rgb(200, 130, 0);\n",
       "}\n",
       ".suggestion-error { \n",
       "font-weight: bold;\n",
       "color: red;\n",
       "}\n",
       ".suggestion-name {\n",
       "font-weight: bold;\n",
       "}\n",
       "</style><div class=\"suggestion-name\" style=\"clear:both;\">Redundant if</div><div class=\"suggestion-row\" style=\"float: left;\"><div class=\"suggestion-warning\">Found:</div><div class=\"highlight-code\" id=\"haskell\">if a then True else b</div></div><div class=\"suggestion-row\" style=\"float: left;\"><div class=\"suggestion-warning\">Why Not:</div><div class=\"highlight-code\" id=\"haskell\">a || b</div></div>"
      ],
      "text/plain": [
       "Line 2: Redundant if\n",
       "Found:\n",
       "if a then True else b\n",
       "Why not:\n",
       "a || b"
      ]
     },
     "metadata": {},
     "output_type": "display_data"
    }
   ],
   "source": [
    "(|||)    ::  Bool -> Bool -> Bool\n",
    "a ||| b  =   if a then True else b"
   ]
  },
  {
   "attachments": {},
   "cell_type": "markdown",
   "id": "concrete-truck",
   "metadata": {},
   "source": [
    "Безопасно ли выражение? Пытаясь добиться безопасности, мы повысили опасность.\n",
    "\n",
    "```haskell\n",
    "(x == 0)  |||  (y `div` x > 2)\n",
    "```"
   ]
  },
  {
   "attachments": {},
   "cell_type": "markdown",
   "id": "therapeutic-valley",
   "metadata": {},
   "source": [
    "Аргументы функции всегда вычисляются до того, как начинает работать функция.\n",
    "\n",
    "Способы передачи аргументов в функцию:\n",
    "\n",
    "- **«по значению»** – значение аргумента вычисляется и передается в функцию, перед тем как происходит вычисления\n",
    "- **«по ссылке»** – аргумент – это переменная, имя которой передается в функцию (в функцию передается имя или адрес переменной)\n",
    "- **«по наименованию»** – значение аргумента вычисляется при каждом обращении к нему в теле функции;\n",
    "\n",
    "- *(!) - в функциональном программировании (!)* **«по необходимости»** – значение аргумента вычисляется при первом обращении к нему в теле функции - это будет реализована дизъюнкция по Маккарти - до вычисления *b* вычисление не дойдёт.\n",
    "\n",
    "Если все аргументы во все процедуры передаются по\n",
    "необходимости, то такой способ работы называют **ленивыми\n",
    "вычислениями.**"
   ]
  },
  {
   "cell_type": "code",
   "execution_count": 2,
   "id": "medieval-valuable",
   "metadata": {},
   "outputs": [
    {
     "ename": "",
     "evalue": "",
     "output_type": "error",
     "traceback": [
      "<interactive>:1:1: error: Variable not in scope: f :: Integer -> Integer -> t"
     ]
    }
   ],
   "source": [
    "f 0 2"
   ]
  },
  {
   "cell_type": "markdown",
   "id": "opposite-backing",
   "metadata": {},
   "source": [
    "## Энергичные и ленивые вычисления"
   ]
  },
  {
   "attachments": {},
   "cell_type": "markdown",
   "id": "surrounded-scope",
   "metadata": {},
   "source": [
    "*Энергичные вычисления*: \n",
    "- аргументы всех функций вычисляются до момента входа в функцию; \n",
    "- если аргумент не может быть вычислен, то значение функции не определено (все функции – строгие по всем своим аргументам)."
   ]
  },
  {
   "attachments": {},
   "cell_type": "markdown",
   "id": "communist-flavor",
   "metadata": {},
   "source": [
    "*Ленивые вычисления*: \n",
    "\n",
    "- аргументы функций не вычисляются до момента входа в функцию;\n",
    "- вычисление значения аргумента происходит при первом обращении к аргументу – когда его значение нужно для выполнения примитивной функции или в момент сопоставления с образцом;\n",
    "- если функция не обращается к аргументу, то его значение не вычисляется.\n",
    "\n",
    "**Опр**: говорят, что функция *строгая по какому-нибудь из ее аргументов*, если для ее вычисления требуется обязательное вычисление этого ее аргумента.\n",
    "\n",
    "Если функция строгая по всем своим аргументам, то говорят\n",
    "просто о *строгой функции*. Например, операция логического «или» `(||)`\n",
    "– строгая по первому аргументу и нестрогая по второму.\n",
    "\n",
    "В языке Haskell все функции и конструкторы – нестрогие (ленивые) за исключением примитивных арифметических и логических операций."
   ]
  },
  {
   "cell_type": "code",
   "execution_count": 3,
   "id": "introductory-service",
   "metadata": {},
   "outputs": [],
   "source": [
    "f x y = (x == 0)  ||   (y `div` x > 2)\n",
    "g x y = (x == 0)  |||  (y `div` x > 2)"
   ]
  },
  {
   "attachments": {},
   "cell_type": "markdown",
   "id": "smaller-absolute",
   "metadata": {},
   "source": [
    "«безопасны», так как и встроенная операция (||), и определенная программистом операция (|||) – ленивые."
   ]
  },
  {
   "cell_type": "code",
   "execution_count": 4,
   "id": "dimensional-binding",
   "metadata": {},
   "outputs": [
    {
     "data": {
      "text/plain": [
       "True"
      ]
     },
     "metadata": {},
     "output_type": "display_data"
    },
    {
     "data": {
      "text/plain": [
       "False"
      ]
     },
     "metadata": {},
     "output_type": "display_data"
    },
    {
     "data": {
      "text/plain": [
       "True"
      ]
     },
     "metadata": {},
     "output_type": "display_data"
    },
    {
     "data": {
      "text/plain": [
       "False"
      ]
     },
     "metadata": {},
     "output_type": "display_data"
    }
   ],
   "source": [
    "f 0 10 \n",
    "f 1 0 \n",
    "g 0 9\n",
    "g 1 0"
   ]
  },
  {
   "cell_type": "markdown",
   "id": "armed-carbon",
   "metadata": {},
   "source": [
    "## `Бесконечные списки`"
   ]
  },
  {
   "cell_type": "markdown",
   "id": "historic-relations",
   "metadata": {},
   "source": [
    "Нестрогим является также конструктор списков (:). Конструкторы вообще все и всегда нестрогие по всем своим аргументам. Это позволяет записывать и обрабатывать такие\n",
    "выражения, которые вообще никогда не могли бы быть вычислены до\n",
    "конца при энергичной схеме вычислений. Такова, например, техника\n",
    "обработки потенциально **бесконечных списков**."
   ]
  },
  {
   "cell_type": "markdown",
   "id": "polar-brooks",
   "metadata": {},
   "source": [
    "В случае «ленивых» конструкторов аргумент может понадобиться в момент сопоставления с образцом:"
   ]
  },
  {
   "cell_type": "code",
   "execution_count": 5,
   "id": "quick-malaysia",
   "metadata": {},
   "outputs": [],
   "source": [
    "listFrom    ::  Integer -> [Integer]\n",
    "listFrom n  =   n : listFrom (n+1)"
   ]
  },
  {
   "cell_type": "code",
   "execution_count": 6,
   "id": "protecting-damages",
   "metadata": {},
   "outputs": [],
   "source": [
    "sumFirst   :: Integer -> [Integer] -> Integer\n",
    "sumFirst 0 _       =  0\n",
    "sumFirst n (e:ls)  =  e + sumFirst (n-1) ls"
   ]
  },
  {
   "cell_type": "code",
   "execution_count": 7,
   "id": "included-jamaica",
   "metadata": {},
   "outputs": [
    {
     "data": {
      "text/plain": [
       "18"
      ]
     },
     "metadata": {},
     "output_type": "display_data"
    }
   ],
   "source": [
    "sumFirst 4 (listFrom 3)"
   ]
  },
  {
   "cell_type": "markdown",
   "id": "vertical-pathology",
   "metadata": {},
   "source": [
    "Итак, оказалось, что работа с бесконечным списком окончилась\n",
    "вполне успешно. Это произошло потому, что на самом деле нам *не\n",
    "потребовался бесконечный список*; после вычисления первых четырех\n",
    "элементов остальные не понадобились. Подобная техника может\n",
    "применяться в Haskell всегда, когда это удобно."
   ]
  },
  {
   "attachments": {},
   "cell_type": "markdown",
   "id": "comfortable-monkey",
   "metadata": {},
   "source": [
    "## Значения и функции, приводящие к образованию «бесконечных» списков"
   ]
  },
  {
   "cell_type": "code",
   "execution_count": 8,
   "id": "independent-zambia",
   "metadata": {},
   "outputs": [],
   "source": [
    "let t1 = [2..] -- бесконечная прогрессия\n",
    "let t2 = [3, 6..] -- бесконечная прогрессия с шагом 3\n",
    "let t3 = [x*x | x <- [1..]] -- генератор квадратов чисел\n",
    "\n",
    "repeat    ::  a -> [a]\n",
    "repeat e  =   ls where ls = e : ls\n",
    "-- repeat 5 => [5, 5, 5, 5, ...]\n",
    "\n",
    "let t4 = repeat 5\n",
    "\n",
    "cycle     ::  [a] -> [a]\n",
    "cycle ls  =   lis where lis = ls ++ lis\n",
    "\n",
    "-- cycle [1,2]  =>  [1,2,1,2,...]\n",
    "let t5 = cycle [1, 2]\n",
    "\n",
    "\n",
    "iterate      ::  (a -> a) -> a -> [a]\n",
    "iterate f e  =   e : iterate f (f e)\n",
    "-- iterate (+1) 1  =>  [1,2,3,...]\n",
    "\n",
    "let t6 = iterate (+2) 1"
   ]
  },
  {
   "cell_type": "code",
   "execution_count": 9,
   "id": "recreational-latitude",
   "metadata": {},
   "outputs": [
    {
     "data": {
      "text/plain": [
       "20"
      ]
     },
     "metadata": {},
     "output_type": "display_data"
    },
    {
     "data": {
      "text/plain": [
       "45"
      ]
     },
     "metadata": {},
     "output_type": "display_data"
    },
    {
     "data": {
      "text/plain": [
       "55"
      ]
     },
     "metadata": {},
     "output_type": "display_data"
    },
    {
     "data": {
      "text/plain": [
       "25"
      ]
     },
     "metadata": {},
     "output_type": "display_data"
    },
    {
     "data": {
      "text/plain": [
       "7"
      ]
     },
     "metadata": {},
     "output_type": "display_data"
    },
    {
     "data": {
      "text/plain": [
       "25"
      ]
     },
     "metadata": {},
     "output_type": "display_data"
    }
   ],
   "source": [
    "sumFirst 5 t1\n",
    "sumFirst 5 t2\n",
    "sumFirst 5 t3\n",
    "sumFirst 5 t4\n",
    "sumFirst 5 t5\n",
    "sumFirst 5 t6"
   ]
  },
  {
   "cell_type": "markdown",
   "id": "vanilla-arbor",
   "metadata": {},
   "source": [
    "## Функции, работающие с бесконечными списками"
   ]
  },
  {
   "cell_type": "markdown",
   "id": "foreign-stranger",
   "metadata": {},
   "source": [
    "Большинство стандартных функций обработки списков пригодно также для работы с «бесконечными» списками. Например:"
   ]
  },
  {
   "cell_type": "code",
   "execution_count": 10,
   "id": "nutritional-reynolds",
   "metadata": {},
   "outputs": [
    {
     "data": {
      "text/plain": [
       "[1,2,3,4,5,6,7,8,9,10]"
      ]
     },
     "metadata": {},
     "output_type": "display_data"
    }
   ],
   "source": [
    "take 10 [1..]"
   ]
  },
  {
   "cell_type": "code",
   "execution_count": 11,
   "id": "strategic-rental",
   "metadata": {},
   "outputs": [
    {
     "data": {
      "text/plain": [
       "65"
      ]
     },
     "metadata": {},
     "output_type": "display_data"
    }
   ],
   "source": [
    "sumFirst 5 (drop 10 [1..])\n",
    "\n",
    "-- drop 10 [1..] => [11..]"
   ]
  },
  {
   "cell_type": "code",
   "execution_count": 12,
   "id": "greatest-speed",
   "metadata": {},
   "outputs": [
    {
     "data": {
      "text/plain": [
       "11"
      ]
     },
     "metadata": {},
     "output_type": "display_data"
    }
   ],
   "source": [
    "[1..] !! 10"
   ]
  },
  {
   "cell_type": "code",
   "execution_count": 13,
   "id": "final-teens",
   "metadata": {},
   "outputs": [
    {
     "data": {
      "text/plain": [
       "40"
      ]
     },
     "metadata": {},
     "output_type": "display_data"
    }
   ],
   "source": [
    "-- zipWith (*) [1..] [2..] => [2,6,12,20,...]\n",
    "\n",
    "sumFirst 4 (zipWith (*) [1..] [2..])"
   ]
  },
  {
   "cell_type": "markdown",
   "id": "supported-forestry",
   "metadata": {},
   "source": [
    "Вычисление факториала:"
   ]
  },
  {
   "cell_type": "code",
   "execution_count": 14,
   "id": "oriented-surveillance",
   "metadata": {},
   "outputs": [],
   "source": [
    "factorials :: [Integer]\n",
    "factorials = 1 : zipWith (*) [1..] factorials"
   ]
  },
  {
   "cell_type": "code",
   "execution_count": 15,
   "id": "moved-enemy",
   "metadata": {},
   "outputs": [
    {
     "data": {
      "text/plain": [
       "154"
      ]
     },
     "metadata": {},
     "output_type": "display_data"
    }
   ],
   "source": [
    "sumFirst 6 factorials"
   ]
  },
  {
   "attachments": {},
   "cell_type": "markdown",
   "id": "minor-george",
   "metadata": {},
   "source": [
    "Найдем последовательность, образованную разностями между последовательными квадратами натуральных чисел"
   ]
  },
  {
   "cell_type": "code",
   "execution_count": 16,
   "id": "sufficient-invite",
   "metadata": {},
   "outputs": [],
   "source": [
    "diff      ::  (Num a) => [a] -> [a]\n",
    "diff (x:l@(y:ls))  =  (y-x) : diff l"
   ]
  },
  {
   "cell_type": "code",
   "execution_count": 17,
   "id": "cathedral-gothic",
   "metadata": {},
   "outputs": [
    {
     "data": {
      "text/plain": [
       "[3,5,7,9,11,13,15,17,19,21,23,25,27,29,31,33,35,37,39,41,43,45,47,49,51]"
      ]
     },
     "metadata": {},
     "output_type": "display_data"
    }
   ],
   "source": [
    "take 25 (diff [x*x | x <- [1..]])"
   ]
  },
  {
   "cell_type": "code",
   "execution_count": 18,
   "id": "burning-baghdad",
   "metadata": {},
   "outputs": [
    {
     "data": {
      "text/plain": [
       "[2,2,2,2,2,2,2,2,2,2,2,2,2,2,2,2,2,2,2,2,2,2,2,2,2]"
      ]
     },
     "metadata": {},
     "output_type": "display_data"
    }
   ],
   "source": [
    "take 25 (diff (diff [x*x | x <- [1..]]))"
   ]
  },
  {
   "attachments": {},
   "cell_type": "markdown",
   "id": "bigger-today",
   "metadata": {},
   "source": [
    "## Список простых чисел, полученный способом `решета Эратосфена`"
   ]
  },
  {
   "cell_type": "code",
   "execution_count": 19,
   "id": "specified-cheese",
   "metadata": {},
   "outputs": [
    {
     "data": {
      "text/html": [
       "<style>/* Styles used for the Hoogle display in the pager */\n",
       ".hoogle-doc {\n",
       "display: block;\n",
       "padding-bottom: 1.3em;\n",
       "padding-left: 0.4em;\n",
       "}\n",
       ".hoogle-code {\n",
       "display: block;\n",
       "font-family: monospace;\n",
       "white-space: pre;\n",
       "}\n",
       ".hoogle-text {\n",
       "display: block;\n",
       "}\n",
       ".hoogle-name {\n",
       "color: green;\n",
       "font-weight: bold;\n",
       "}\n",
       ".hoogle-head {\n",
       "font-weight: bold;\n",
       "}\n",
       ".hoogle-sub {\n",
       "display: block;\n",
       "margin-left: 0.4em;\n",
       "}\n",
       ".hoogle-package {\n",
       "font-weight: bold;\n",
       "font-style: italic;\n",
       "}\n",
       ".hoogle-module {\n",
       "font-weight: bold;\n",
       "}\n",
       ".hoogle-class {\n",
       "font-weight: bold;\n",
       "}\n",
       ".get-type {\n",
       "color: green;\n",
       "font-weight: bold;\n",
       "font-family: monospace;\n",
       "display: block;\n",
       "white-space: pre-wrap;\n",
       "}\n",
       ".show-type {\n",
       "color: green;\n",
       "font-weight: bold;\n",
       "font-family: monospace;\n",
       "margin-left: 1em;\n",
       "}\n",
       ".mono {\n",
       "font-family: monospace;\n",
       "display: block;\n",
       "}\n",
       ".err-msg {\n",
       "color: red;\n",
       "font-style: italic;\n",
       "font-family: monospace;\n",
       "white-space: pre;\n",
       "display: block;\n",
       "}\n",
       "#unshowable {\n",
       "color: red;\n",
       "font-weight: bold;\n",
       "}\n",
       ".err-msg.in.collapse {\n",
       "padding-top: 0.7em;\n",
       "}\n",
       ".highlight-code {\n",
       "white-space: pre;\n",
       "font-family: monospace;\n",
       "}\n",
       ".suggestion-warning { \n",
       "font-weight: bold;\n",
       "color: rgb(200, 130, 0);\n",
       "}\n",
       ".suggestion-error { \n",
       "font-weight: bold;\n",
       "color: red;\n",
       "}\n",
       ".suggestion-name {\n",
       "font-weight: bold;\n",
       "}\n",
       "</style><div class=\"suggestion-name\" style=\"clear:both;\">Redundant bracket</div><div class=\"suggestion-row\" style=\"float: left;\"><div class=\"suggestion-warning\">Found:</div><div class=\"highlight-code\" id=\"haskell\">e : (sieve [x | x <- ls, x `mod` e /= 0])</div></div><div class=\"suggestion-row\" style=\"float: left;\"><div class=\"suggestion-warning\">Why Not:</div><div class=\"highlight-code\" id=\"haskell\">e : sieve [x | x <- ls, x `mod` e /= 0]</div></div>"
      ],
      "text/plain": [
       "Line 3: Redundant bracket\n",
       "Found:\n",
       "e : (sieve [x | x <- ls, x `mod` e /= 0])\n",
       "Why not:\n",
       "e : sieve [x | x <- ls, x `mod` e /= 0]"
      ]
     },
     "metadata": {},
     "output_type": "display_data"
    }
   ],
   "source": [
    "primes  :: [Integer]\n",
    "primes  =  sieve [2..] where\n",
    "              sieve (e:ls) = e : (sieve [x | x <- ls, x `mod` e /= 0])"
   ]
  },
  {
   "cell_type": "code",
   "execution_count": 20,
   "id": "wrapped-blogger",
   "metadata": {},
   "outputs": [
    {
     "data": {
      "text/html": [
       "<style>/* Styles used for the Hoogle display in the pager */\n",
       ".hoogle-doc {\n",
       "display: block;\n",
       "padding-bottom: 1.3em;\n",
       "padding-left: 0.4em;\n",
       "}\n",
       ".hoogle-code {\n",
       "display: block;\n",
       "font-family: monospace;\n",
       "white-space: pre;\n",
       "}\n",
       ".hoogle-text {\n",
       "display: block;\n",
       "}\n",
       ".hoogle-name {\n",
       "color: green;\n",
       "font-weight: bold;\n",
       "}\n",
       ".hoogle-head {\n",
       "font-weight: bold;\n",
       "}\n",
       ".hoogle-sub {\n",
       "display: block;\n",
       "margin-left: 0.4em;\n",
       "}\n",
       ".hoogle-package {\n",
       "font-weight: bold;\n",
       "font-style: italic;\n",
       "}\n",
       ".hoogle-module {\n",
       "font-weight: bold;\n",
       "}\n",
       ".hoogle-class {\n",
       "font-weight: bold;\n",
       "}\n",
       ".get-type {\n",
       "color: green;\n",
       "font-weight: bold;\n",
       "font-family: monospace;\n",
       "display: block;\n",
       "white-space: pre-wrap;\n",
       "}\n",
       ".show-type {\n",
       "color: green;\n",
       "font-weight: bold;\n",
       "font-family: monospace;\n",
       "margin-left: 1em;\n",
       "}\n",
       ".mono {\n",
       "font-family: monospace;\n",
       "display: block;\n",
       "}\n",
       ".err-msg {\n",
       "color: red;\n",
       "font-style: italic;\n",
       "font-family: monospace;\n",
       "white-space: pre;\n",
       "display: block;\n",
       "}\n",
       "#unshowable {\n",
       "color: red;\n",
       "font-weight: bold;\n",
       "}\n",
       ".err-msg.in.collapse {\n",
       "padding-top: 0.7em;\n",
       "}\n",
       ".highlight-code {\n",
       "white-space: pre;\n",
       "font-family: monospace;\n",
       "}\n",
       ".suggestion-warning { \n",
       "font-weight: bold;\n",
       "color: rgb(200, 130, 0);\n",
       "}\n",
       ".suggestion-error { \n",
       "font-weight: bold;\n",
       "color: red;\n",
       "}\n",
       ".suggestion-name {\n",
       "font-weight: bold;\n",
       "}\n",
       "</style><div class=\"suggestion-name\" style=\"clear:both;\">Redundant bracket</div><div class=\"suggestion-row\" style=\"float: left;\"><div class=\"suggestion-warning\">Found:</div><div class=\"highlight-code\" id=\"haskell\">(x, y) : (pairs l)</div></div><div class=\"suggestion-row\" style=\"float: left;\"><div class=\"suggestion-warning\">Why Not:</div><div class=\"highlight-code\" id=\"haskell\">(x, y) : pairs l</div></div>"
      ],
      "text/plain": [
       "Line 2: Redundant bracket\n",
       "Found:\n",
       "(x, y) : (pairs l)\n",
       "Why not:\n",
       "(x, y) : pairs l"
      ]
     },
     "metadata": {},
     "output_type": "display_data"
    }
   ],
   "source": [
    "pairs  ::  [Integer] -> [(Integer, Integer)]\n",
    "pairs (x:l@(y:ls))  =  (x,y):(pairs l)"
   ]
  },
  {
   "cell_type": "code",
   "execution_count": 21,
   "id": "designing-apple",
   "metadata": {},
   "outputs": [],
   "source": [
    "twins  ::  [(Integer, Integer)]\n",
    "twins  =   [(x,y) | (x,y) <- pairs primes, y - x == 2]"
   ]
  },
  {
   "cell_type": "code",
   "execution_count": 22,
   "id": "hollow-choir",
   "metadata": {},
   "outputs": [
    {
     "data": {
      "text/plain": [
       "[(3,5),(5,7),(11,13),(17,19),(29,31),(41,43),(59,61),(71,73),(101,103),(107,109)]"
      ]
     },
     "metadata": {},
     "output_type": "display_data"
    }
   ],
   "source": [
    "take 10 twins"
   ]
  }
 ],
 "metadata": {
  "kernelspec": {
   "display_name": "Haskell",
   "language": "haskell",
   "name": "haskell"
  },
  "language_info": {
   "codemirror_mode": "ihaskell",
   "file_extension": ".hs",
   "mimetype": "text/x-haskell",
   "name": "haskell",
   "pygments_lexer": "Haskell",
   "version": "8.8.4"
  }
 },
 "nbformat": 4,
 "nbformat_minor": 5
}
