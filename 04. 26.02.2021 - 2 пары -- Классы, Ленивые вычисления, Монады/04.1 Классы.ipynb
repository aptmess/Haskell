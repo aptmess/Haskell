{
 "cells": [
  {
   "cell_type": "markdown",
   "id": "exposed-miami",
   "metadata": {},
   "source": [
    "# 04. Классы в Haskell\n",
    "\n",
    "<div style=\"text-align: right\"> \n",
    "    \n",
    "    Лекция 4.1 26/02/21 \n",
    "    \n",
    "    Кубенский Александр Александрович\n",
    "    \n",
    "    akoubensky@gmail.com\n",
    "</div> "
   ]
  },
  {
   "cell_type": "markdown",
   "id": "active-collectible",
   "metadata": {},
   "source": [
    "## **Классы в Haskell**"
   ]
  },
  {
   "attachments": {},
   "cell_type": "markdown",
   "id": "specified-width",
   "metadata": {},
   "source": [
    "Новое понятие - *класс*. Тип может принадлежать определённому классу - для этого типа разрешены те или иные функции.\n",
    "\n",
    "Класс *определяет набор функций*. Тип данных принадлежит некоторому классу, если для него определены все функции, объявленные в классе."
   ]
  },
  {
   "cell_type": "markdown",
   "id": "meaning-beginning",
   "metadata": {},
   "source": [
    "В определении класса может быть встречаться параметр `тип` (`t`)."
   ]
  },
  {
   "cell_type": "code",
   "execution_count": 1,
   "id": "close-wallace",
   "metadata": {},
   "outputs": [],
   "source": [
    "class Eq t where\n",
    "    (==), (/=) :: t -> t -> Bool"
   ]
  },
  {
   "cell_type": "markdown",
   "id": "crazy-macedonia",
   "metadata": {},
   "source": [
    "В классе `Eq` есть две функции - `==` и `/=`, возвращающие значение True или False"
   ]
  },
  {
   "attachments": {},
   "cell_type": "markdown",
   "id": "textile-mixer",
   "metadata": {},
   "source": [
    "Мы объявляем, что некоторый тип данных принадлежит этому классу, с помощью определения «экземпляра» класса.\n",
    "\n",
    "По существу это реализация операций - для данного типа есть реализация всех функций класса.\n",
    "\n",
    "Если бы объявляли **экземпляр класса** типа `Bool`, то мы могли бы написать следующее определение"
   ]
  },
  {
   "cell_type": "code",
   "execution_count": 2,
   "id": "monthly-reggae",
   "metadata": {},
   "outputs": [],
   "source": [
    "instance Eq Bool where\n",
    "    True  == True    = True\n",
    "    False == False   = True\n",
    "    _     == _       = False\n",
    "    x     /= y       = not (x == y)"
   ]
  },
  {
   "cell_type": "markdown",
   "id": "sitting-macro",
   "metadata": {},
   "source": [
    "Можно перенести уравнение \n",
    "\n",
    "```haskell \n",
    "x     /= y       = not (x == y)\n",
    "```\n",
    "\n",
    "в класс - тогда оно будет считаться общим для всех экземпляров класса."
   ]
  },
  {
   "cell_type": "code",
   "execution_count": 3,
   "id": "electoral-affiliation",
   "metadata": {},
   "outputs": [
    {
     "data": {
      "text/html": [
       "<style>/* Styles used for the Hoogle display in the pager */\n",
       ".hoogle-doc {\n",
       "display: block;\n",
       "padding-bottom: 1.3em;\n",
       "padding-left: 0.4em;\n",
       "}\n",
       ".hoogle-code {\n",
       "display: block;\n",
       "font-family: monospace;\n",
       "white-space: pre;\n",
       "}\n",
       ".hoogle-text {\n",
       "display: block;\n",
       "}\n",
       ".hoogle-name {\n",
       "color: green;\n",
       "font-weight: bold;\n",
       "}\n",
       ".hoogle-head {\n",
       "font-weight: bold;\n",
       "}\n",
       ".hoogle-sub {\n",
       "display: block;\n",
       "margin-left: 0.4em;\n",
       "}\n",
       ".hoogle-package {\n",
       "font-weight: bold;\n",
       "font-style: italic;\n",
       "}\n",
       ".hoogle-module {\n",
       "font-weight: bold;\n",
       "}\n",
       ".hoogle-class {\n",
       "font-weight: bold;\n",
       "}\n",
       ".get-type {\n",
       "color: green;\n",
       "font-weight: bold;\n",
       "font-family: monospace;\n",
       "display: block;\n",
       "white-space: pre-wrap;\n",
       "}\n",
       ".show-type {\n",
       "color: green;\n",
       "font-weight: bold;\n",
       "font-family: monospace;\n",
       "margin-left: 1em;\n",
       "}\n",
       ".mono {\n",
       "font-family: monospace;\n",
       "display: block;\n",
       "}\n",
       ".err-msg {\n",
       "color: red;\n",
       "font-style: italic;\n",
       "font-family: monospace;\n",
       "white-space: pre;\n",
       "display: block;\n",
       "}\n",
       "#unshowable {\n",
       "color: red;\n",
       "font-weight: bold;\n",
       "}\n",
       ".err-msg.in.collapse {\n",
       "padding-top: 0.7em;\n",
       "}\n",
       ".highlight-code {\n",
       "white-space: pre;\n",
       "font-family: monospace;\n",
       "}\n",
       ".suggestion-warning { \n",
       "font-weight: bold;\n",
       "color: rgb(200, 130, 0);\n",
       "}\n",
       ".suggestion-error { \n",
       "font-weight: bold;\n",
       "color: red;\n",
       "}\n",
       ".suggestion-name {\n",
       "font-weight: bold;\n",
       "}\n",
       "</style><div class=\"suggestion-name\" style=\"clear:both;\">Use /=</div><div class=\"suggestion-row\" style=\"float: left;\"><div class=\"suggestion-warning\">Found:</div><div class=\"highlight-code\" id=\"haskell\">not (x == y)</div></div><div class=\"suggestion-row\" style=\"float: left;\"><div class=\"suggestion-warning\">Why Not:</div><div class=\"highlight-code\" id=\"haskell\">x /= y</div></div>"
      ],
      "text/plain": [
       "Line 3: Use /=\n",
       "Found:\n",
       "not (x == y)\n",
       "Why not:\n",
       "x /= y"
      ]
     },
     "metadata": {},
     "output_type": "display_data"
    }
   ],
   "source": [
    "class Eq t where\n",
    "    (==), (/=) :: t -> t -> Bool\n",
    "    x     /= y       = not (x == y)"
   ]
  },
  {
   "attachments": {},
   "cell_type": "markdown",
   "id": "appointed-freeware",
   "metadata": {},
   "source": [
    "Рассмотрим ещё один экземпляр. Мы считаем, что если у нас есть тип `t` уже принадлежит классу `Eq`, то тогда мы создаём экземпляр класса `[t]` - список из элементов `t`.\n",
    "\n",
    "```haskell\n",
    "\n",
    "instance (Eq t) => Eq [t] where\n",
    "    []      == []       = True -- два пустых списка\n",
    "    (x1:s1) == (x2:s2)  = (x1 == x2) && (s1 == s2) -- равенство головы списков и рекурсивное определение\n",
    "    _       == _        = False\n",
    "```"
   ]
  },
  {
   "cell_type": "code",
   "execution_count": 4,
   "id": "wanted-system",
   "metadata": {},
   "outputs": [
    {
     "data": {},
     "metadata": {},
     "output_type": "display_data"
    }
   ],
   "source": [
    ":info Eq -- можно посмотреть информацию о классе"
   ]
  },
  {
   "cell_type": "markdown",
   "id": "dried-moment",
   "metadata": {},
   "source": [
    "## **Пример: определение операций сравнения над деревьями**"
   ]
  },
  {
   "cell_type": "code",
   "execution_count": 5,
   "id": "breathing-exchange",
   "metadata": {},
   "outputs": [],
   "source": [
    "data Tree a = Empty |\n",
    "              Node (Tree a) a (Tree a)\n",
    "\n",
    "instance (Eq t) => Eq (Tree t) where\n",
    "    Empty              ==  Empty              = True\n",
    "    (Node tl1 n1 tr1)  ==  (Node tl2 n2 tr2)  =  \n",
    "                                (n1 == n2) && (tl1 == tl2) && (tr1 == tr2)\n",
    "    _ == _ = False"
   ]
  },
  {
   "cell_type": "code",
   "execution_count": 6,
   "id": "moral-updating",
   "metadata": {},
   "outputs": [],
   "source": [
    "instance (Eq t) => Eq (Tree t) where\n",
    "    Empty              ==  Empty              = True\n",
    "    (Node tl1 n1 tr1)  ==  (Node tl2 n2 tr2)  =  \n",
    "                   (n1 == n2) && (((tl1 == tl2) && (tr1 == tr2)) ||\n",
    "                                  ((tl1 == tr2) && (tr1 == tl2)))\n",
    "    _ == _ = False\n"
   ]
  },
  {
   "cell_type": "code",
   "execution_count": 7,
   "id": "amateur-texture",
   "metadata": {},
   "outputs": [],
   "source": [
    "t1 = Node (Node Empty 2 Empty) 1 \n",
    "          (Node (Node Empty 4 Empty) 3 \n",
    "                (Node Empty 5 Empty))\n",
    "t2 = Node (Node (Node Empty 5 Empty) 3 \n",
    "                (Node Empty 4 Empty)) 1\n",
    "          (Node Empty 2 Empty)\n"
   ]
  },
  {
   "attachments": {
    "image.png": {
     "image/png": "[encoded data removed]"
    }
   },
   "cell_type": "markdown",
   "id": "dimensional-wellington",
   "metadata": {},
   "source": [
    "![image.png](attachment:image.png)"
   ]
  },
  {
   "cell_type": "markdown",
   "id": "sound-reserve",
   "metadata": {},
   "source": [
    "1. По первому определению деревья *не равны*\n",
    "2. По второму определению деревья *равны*"
   ]
  },
  {
   "cell_type": "markdown",
   "id": "voluntary-christmas",
   "metadata": {},
   "source": [
    "## **Вывод значений различных типов в виде строки:: `Show`**"
   ]
  },
  {
   "attachments": {},
   "cell_type": "markdown",
   "id": "structural-tuesday",
   "metadata": {},
   "source": [
    "Немного упрощенная версия класса для вывода значений в виде строки:"
   ]
  },
  {
   "cell_type": "code",
   "execution_count": 8,
   "id": "ruled-investigator",
   "metadata": {},
   "outputs": [
    {
     "data": {
      "text/html": [
       "<style>/* Styles used for the Hoogle display in the pager */\n",
       ".hoogle-doc {\n",
       "display: block;\n",
       "padding-bottom: 1.3em;\n",
       "padding-left: 0.4em;\n",
       "}\n",
       ".hoogle-code {\n",
       "display: block;\n",
       "font-family: monospace;\n",
       "white-space: pre;\n",
       "}\n",
       ".hoogle-text {\n",
       "display: block;\n",
       "}\n",
       ".hoogle-name {\n",
       "color: green;\n",
       "font-weight: bold;\n",
       "}\n",
       ".hoogle-head {\n",
       "font-weight: bold;\n",
       "}\n",
       ".hoogle-sub {\n",
       "display: block;\n",
       "margin-left: 0.4em;\n",
       "}\n",
       ".hoogle-package {\n",
       "font-weight: bold;\n",
       "font-style: italic;\n",
       "}\n",
       ".hoogle-module {\n",
       "font-weight: bold;\n",
       "}\n",
       ".hoogle-class {\n",
       "font-weight: bold;\n",
       "}\n",
       ".get-type {\n",
       "color: green;\n",
       "font-weight: bold;\n",
       "font-family: monospace;\n",
       "display: block;\n",
       "white-space: pre-wrap;\n",
       "}\n",
       ".show-type {\n",
       "color: green;\n",
       "font-weight: bold;\n",
       "font-family: monospace;\n",
       "margin-left: 1em;\n",
       "}\n",
       ".mono {\n",
       "font-family: monospace;\n",
       "display: block;\n",
       "}\n",
       ".err-msg {\n",
       "color: red;\n",
       "font-style: italic;\n",
       "font-family: monospace;\n",
       "white-space: pre;\n",
       "display: block;\n",
       "}\n",
       "#unshowable {\n",
       "color: red;\n",
       "font-weight: bold;\n",
       "}\n",
       ".err-msg.in.collapse {\n",
       "padding-top: 0.7em;\n",
       "}\n",
       ".highlight-code {\n",
       "white-space: pre;\n",
       "font-family: monospace;\n",
       "}\n",
       ".suggestion-warning { \n",
       "font-weight: bold;\n",
       "color: rgb(200, 130, 0);\n",
       "}\n",
       ".suggestion-error { \n",
       "font-weight: bold;\n",
       "color: red;\n",
       "}\n",
       ".suggestion-name {\n",
       "font-weight: bold;\n",
       "}\n",
       "</style><div class=\"suggestion-name\" style=\"clear:both;\">Use shows</div><div class=\"suggestion-row\" style=\"float: left;\"><div class=\"suggestion-warning\">Found:</div><div class=\"highlight-code\" id=\"haskell\">showsPrec 0</div></div><div class=\"suggestion-row\" style=\"float: left;\"><div class=\"suggestion-warning\">Why Not:</div><div class=\"highlight-code\" id=\"haskell\">shows</div></div>"
      ],
      "text/plain": [
       "Line 4: Use shows\n",
       "Found:\n",
       "showsPrec 0\n",
       "Why not:\n",
       "shows"
      ]
     },
     "metadata": {},
     "output_type": "display_data"
    }
   ],
   "source": [
    "class Show t where\n",
    "    show       ::  t -> String\n",
    "    showsPrec  ::  Int -> t -> String -> String\n",
    "    show v           =   showsPrec 0 v []\n",
    "    showsPrec _ v s  =   show v ++ s"
   ]
  },
  {
   "cell_type": "code",
   "execution_count": 11,
   "id": "guided-gossip",
   "metadata": {},
   "outputs": [],
   "source": [
    "shows :: (Show a) => a -> String -> String \n",
    "shows  =  showsPrec 0"
   ]
  },
  {
   "cell_type": "markdown",
   "id": "several-console",
   "metadata": {},
   "source": [
    "- `showsPrec` - можете решить, показывать ли это значение с помощью парнеров вокруг него или нет - можно задавать, когда строковое представление может быть разным."
   ]
  },
  {
   "cell_type": "code",
   "execution_count": 13,
   "id": "brutal-jacket",
   "metadata": {},
   "outputs": [
    {
     "data": {
      "text/html": [
       "<style>/* Styles used for the Hoogle display in the pager */\n",
       ".hoogle-doc {\n",
       "display: block;\n",
       "padding-bottom: 1.3em;\n",
       "padding-left: 0.4em;\n",
       "}\n",
       ".hoogle-code {\n",
       "display: block;\n",
       "font-family: monospace;\n",
       "white-space: pre;\n",
       "}\n",
       ".hoogle-text {\n",
       "display: block;\n",
       "}\n",
       ".hoogle-name {\n",
       "color: green;\n",
       "font-weight: bold;\n",
       "}\n",
       ".hoogle-head {\n",
       "font-weight: bold;\n",
       "}\n",
       ".hoogle-sub {\n",
       "display: block;\n",
       "margin-left: 0.4em;\n",
       "}\n",
       ".hoogle-package {\n",
       "font-weight: bold;\n",
       "font-style: italic;\n",
       "}\n",
       ".hoogle-module {\n",
       "font-weight: bold;\n",
       "}\n",
       ".hoogle-class {\n",
       "font-weight: bold;\n",
       "}\n",
       ".get-type {\n",
       "color: green;\n",
       "font-weight: bold;\n",
       "font-family: monospace;\n",
       "display: block;\n",
       "white-space: pre-wrap;\n",
       "}\n",
       ".show-type {\n",
       "color: green;\n",
       "font-weight: bold;\n",
       "font-family: monospace;\n",
       "margin-left: 1em;\n",
       "}\n",
       ".mono {\n",
       "font-family: monospace;\n",
       "display: block;\n",
       "}\n",
       ".err-msg {\n",
       "color: red;\n",
       "font-style: italic;\n",
       "font-family: monospace;\n",
       "white-space: pre;\n",
       "display: block;\n",
       "}\n",
       "#unshowable {\n",
       "color: red;\n",
       "font-weight: bold;\n",
       "}\n",
       ".err-msg.in.collapse {\n",
       "padding-top: 0.7em;\n",
       "}\n",
       ".highlight-code {\n",
       "white-space: pre;\n",
       "font-family: monospace;\n",
       "}\n",
       ".suggestion-warning { \n",
       "font-weight: bold;\n",
       "color: rgb(200, 130, 0);\n",
       "}\n",
       ".suggestion-error { \n",
       "font-weight: bold;\n",
       "color: red;\n",
       "}\n",
       ".suggestion-name {\n",
       "font-weight: bold;\n",
       "}\n",
       "</style><div class=\"suggestion-name\" style=\"clear:both;\">Redundant bracket</div><div class=\"suggestion-row\" style=\"float: left;\"><div class=\"suggestion-warning\">Found:</div><div class=\"highlight-code\" id=\"haskell\">(shows tl) . (shows n) . (shows tr) . (')' :)</div></div><div class=\"suggestion-row\" style=\"float: left;\"><div class=\"suggestion-warning\">Why Not:</div><div class=\"highlight-code\" id=\"haskell\">shows tl . (shows n) . (shows tr) . (')' :)</div></div><div class=\"suggestion-name\" style=\"clear:both;\">Redundant bracket</div><div class=\"suggestion-row\" style=\"float: left;\"><div class=\"suggestion-warning\">Found:</div><div class=\"highlight-code\" id=\"haskell\">(shows n) . (shows tr) . (')' :)</div></div><div class=\"suggestion-row\" style=\"float: left;\"><div class=\"suggestion-warning\">Why Not:</div><div class=\"highlight-code\" id=\"haskell\">shows n . (shows tr) . (')' :)</div></div><div class=\"suggestion-name\" style=\"clear:both;\">Redundant bracket</div><div class=\"suggestion-row\" style=\"float: left;\"><div class=\"suggestion-warning\">Found:</div><div class=\"highlight-code\" id=\"haskell\">(shows tr) . (')' :)</div></div><div class=\"suggestion-row\" style=\"float: left;\"><div class=\"suggestion-warning\">Why Not:</div><div class=\"highlight-code\" id=\"haskell\">shows tr . (')' :)</div></div>"
      ],
      "text/plain": [
       "Line 4: Redundant bracket\n",
       "Found:\n",
       "(shows tl) . (shows n) . (shows tr) . (')' :)\n",
       "Why not:\n",
       "shows tl . (shows n) . (shows tr) . (')' :)Line 4: Redundant bracket\n",
       "Found:\n",
       "(shows n) . (shows tr) . (')' :)\n",
       "Why not:\n",
       "shows n . (shows tr) . (')' :)Line 4: Redundant bracket\n",
       "Found:\n",
       "(shows tr) . (')' :)\n",
       "Why not:\n",
       "shows tr . (')' :)"
      ]
     },
     "metadata": {},
     "output_type": "display_data"
    }
   ],
   "source": [
    "instance (Show t) => Show (Tree t) where\n",
    "    showsPrec _ Empty        =  id\n",
    "    showsPrec _ (Node tl n tr)  =\n",
    "                 ('(':) . (shows tl) . (shows n) . (shows tr) . (')':)"
   ]
  },
  {
   "cell_type": "markdown",
   "id": "distinguished-sewing",
   "metadata": {},
   "source": [
    "## Расширение классов"
   ]
  },
  {
   "cell_type": "markdown",
   "id": "measured-withdrawal",
   "metadata": {},
   "source": [
    "Могу написать класс `Ord` написав ограничения для класса - это называется **расширением класса** -- класс, содержаший функции `==` и `/=`. В минимальном определении должны содержаться либо `compare`, либо `==`."
   ]
  },
  {
   "cell_type": "code",
   "execution_count": 15,
   "id": "abandoned-twins",
   "metadata": {},
   "outputs": [
    {
     "data": {
      "text/html": [
       "<style>/* Styles used for the Hoogle display in the pager */\n",
       ".hoogle-doc {\n",
       "display: block;\n",
       "padding-bottom: 1.3em;\n",
       "padding-left: 0.4em;\n",
       "}\n",
       ".hoogle-code {\n",
       "display: block;\n",
       "font-family: monospace;\n",
       "white-space: pre;\n",
       "}\n",
       ".hoogle-text {\n",
       "display: block;\n",
       "}\n",
       ".hoogle-name {\n",
       "color: green;\n",
       "font-weight: bold;\n",
       "}\n",
       ".hoogle-head {\n",
       "font-weight: bold;\n",
       "}\n",
       ".hoogle-sub {\n",
       "display: block;\n",
       "margin-left: 0.4em;\n",
       "}\n",
       ".hoogle-package {\n",
       "font-weight: bold;\n",
       "font-style: italic;\n",
       "}\n",
       ".hoogle-module {\n",
       "font-weight: bold;\n",
       "}\n",
       ".hoogle-class {\n",
       "font-weight: bold;\n",
       "}\n",
       ".get-type {\n",
       "color: green;\n",
       "font-weight: bold;\n",
       "font-family: monospace;\n",
       "display: block;\n",
       "white-space: pre-wrap;\n",
       "}\n",
       ".show-type {\n",
       "color: green;\n",
       "font-weight: bold;\n",
       "font-family: monospace;\n",
       "margin-left: 1em;\n",
       "}\n",
       ".mono {\n",
       "font-family: monospace;\n",
       "display: block;\n",
       "}\n",
       ".err-msg {\n",
       "color: red;\n",
       "font-style: italic;\n",
       "font-family: monospace;\n",
       "white-space: pre;\n",
       "display: block;\n",
       "}\n",
       "#unshowable {\n",
       "color: red;\n",
       "font-weight: bold;\n",
       "}\n",
       ".err-msg.in.collapse {\n",
       "padding-top: 0.7em;\n",
       "}\n",
       ".highlight-code {\n",
       "white-space: pre;\n",
       "font-family: monospace;\n",
       "}\n",
       ".suggestion-warning { \n",
       "font-weight: bold;\n",
       "color: rgb(200, 130, 0);\n",
       "}\n",
       ".suggestion-error { \n",
       "font-weight: bold;\n",
       "color: red;\n",
       "}\n",
       ".suggestion-name {\n",
       "font-weight: bold;\n",
       "}\n",
       "</style><div class=\"suggestion-name\" style=\"clear:both;\">Use <</div><div class=\"suggestion-row\" style=\"float: left;\"><div class=\"suggestion-warning\">Found:</div><div class=\"highlight-code\" id=\"haskell\">not (a >= b)</div></div><div class=\"suggestion-row\" style=\"float: left;\"><div class=\"suggestion-warning\">Why Not:</div><div class=\"highlight-code\" id=\"haskell\">a < b</div></div><div class=\"suggestion-name\" style=\"clear:both;\">Use <=</div><div class=\"suggestion-row\" style=\"float: left;\"><div class=\"suggestion-warning\">Found:</div><div class=\"highlight-code\" id=\"haskell\">not (a > b)</div></div><div class=\"suggestion-row\" style=\"float: left;\"><div class=\"suggestion-warning\">Why Not:</div><div class=\"highlight-code\" id=\"haskell\">a <= b</div></div><div class=\"suggestion-name\" style=\"clear:both;\">Use ></div><div class=\"suggestion-row\" style=\"float: left;\"><div class=\"suggestion-warning\">Found:</div><div class=\"highlight-code\" id=\"haskell\">not (a <= b)</div></div><div class=\"suggestion-row\" style=\"float: left;\"><div class=\"suggestion-warning\">Why Not:</div><div class=\"highlight-code\" id=\"haskell\">a > b</div></div><div class=\"suggestion-name\" style=\"clear:both;\">Use >=</div><div class=\"suggestion-row\" style=\"float: left;\"><div class=\"suggestion-warning\">Found:</div><div class=\"highlight-code\" id=\"haskell\">not (a < b)</div></div><div class=\"suggestion-row\" style=\"float: left;\"><div class=\"suggestion-warning\">Why Not:</div><div class=\"highlight-code\" id=\"haskell\">a >= b</div></div>"
      ],
      "text/plain": [
       "Line 3: Use <\n",
       "Found:\n",
       "not (a >= b)\n",
       "Why not:\n",
       "a < bLine 4: Use <=\n",
       "Found:\n",
       "not (a > b)\n",
       "Why not:\n",
       "a <= bLine 5: Use >\n",
       "Found:\n",
       "not (a <= b)\n",
       "Why not:\n",
       "a > bLine 6: Use >=\n",
       "Found:\n",
       "not (a < b)\n",
       "Why not:\n",
       "a >= b"
      ]
     },
     "metadata": {},
     "output_type": "display_data"
    }
   ],
   "source": [
    "class (Eq t) => Ord t where\n",
    "    (<), (<=), (>), (>=) :: t -> t -> Bool\n",
    "    a <  b = not (a >= b)\n",
    "    a <= b = not (a >  b)\n",
    "    a >  b = not (a <= b)\n",
    "    a >= b = not (a <  b)"
   ]
  },
  {
   "cell_type": "code",
   "execution_count": 16,
   "id": "obvious-revision",
   "metadata": {},
   "outputs": [],
   "source": [
    "instance (Ord t) => Ord (Tree t) where\n",
    "    Empty <= _ = True\n",
    "    (Node tl1 n1 tr1) <= (Node tl2 n2 tr2) =\n",
    "                         (tl1 <= tl2) && (n1 <= n2) && (tr1 <= tr2)\n",
    "    _ <= _ = False\n",
    "    t1 < t2 = (t1 <= t2) && (t1 /= t2)\n"
   ]
  },
  {
   "attachments": {},
   "cell_type": "markdown",
   "id": "olive-conflict",
   "metadata": {},
   "source": [
    "Это «плохое» определение операций сравнения.\n",
    "Так определенные операции не обладают обычными свойствами для операций сравнения."
   ]
  },
  {
   "cell_type": "markdown",
   "id": "limiting-novelty",
   "metadata": {},
   "source": [
    "Если мы записываем стандартные определения класса, то мы можем перечислить в `deriving` классы, для которых хотим сделать стандартные определения сравнения."
   ]
  },
  {
   "cell_type": "markdown",
   "id": "compound-evans",
   "metadata": {},
   "source": [
    "```haskell\n",
    "data Tree a = Empty |\n",
    "              Node (Tree a) a (Tree a)\n",
    "                 deriving (Eq, Ord, Show)\n",
    "```"
   ]
  },
  {
   "attachments": {},
   "cell_type": "markdown",
   "id": "unique-raise",
   "metadata": {},
   "source": [
    "- объекты равны, если равны все составляющие их части!\n",
    "- сравнение происходит в лексикографическом порядке составляющих объекты: конструкторов: `Empty < (Node t1 n t2)` для любых `t1`, `n` и `t2`\n",
    "\n",
    "- преобразование в строку: выводятся имена конструкторов и их аргументы"
   ]
  },
  {
   "cell_type": "code",
   "execution_count": null,
   "id": "supported-morris",
   "metadata": {},
   "outputs": [],
   "source": []
  }
 ],
 "metadata": {
  "kernelspec": {
   "display_name": "Haskell",
   "language": "haskell",
   "name": "haskell"
  },
  "language_info": {
   "codemirror_mode": "ihaskell",
   "file_extension": ".hs",
   "mimetype": "text/x-haskell",
   "name": "haskell",
   "pygments_lexer": "Haskell",
   "version": "8.8.4"
  }
 },
 "nbformat": 4,
 "nbformat_minor": 5
}
