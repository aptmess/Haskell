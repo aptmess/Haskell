{
 "cells": [
  {
   "cell_type": "markdown",
   "id": "danish-footage",
   "metadata": {},
   "source": [
    "# 03. Функции высших порядков\n",
    "\n",
    "<div style=\"text-align: right\"> \n",
    "    \n",
    "    Лекция 2 11/02/21 \n",
    "    \n",
    "    Кубенский Александр Александрович\n",
    "    \n",
    "    akoubensky@gmail.com\n",
    "</div> "
   ]
  },
  {
   "cell_type": "markdown",
   "id": "minute-appreciation",
   "metadata": {},
   "source": [
    "## 03.1 Функция `Map`"
   ]
  },
  {
   "cell_type": "markdown",
   "id": "agreed-medium",
   "metadata": {},
   "source": [
    "Функции - обычные объекты, с которыми можно работать."
   ]
  },
  {
   "cell_type": "code",
   "execution_count": 1,
   "id": "unusual-point",
   "metadata": {},
   "outputs": [],
   "source": [
    "sqr :: Integer -> Integer\n",
    "sqr x = x * x"
   ]
  },
  {
   "cell_type": "code",
   "execution_count": 2,
   "id": "unknown-pension",
   "metadata": {},
   "outputs": [],
   "source": [
    "source = [1, 2, 5, 7, 11]"
   ]
  },
  {
   "cell_type": "markdown",
   "id": "conceptual-kitchen",
   "metadata": {},
   "source": [
    "- хотелось бы сделать применение к каждому элементу, возведя его в квадрат. Такая функция называется **отображением** - `map`. Функция `map` будет применять функцию `sqr` ко всем элементами списка `source`."
   ]
  },
  {
   "cell_type": "code",
   "execution_count": 3,
   "id": "pleasant-scheduling",
   "metadata": {},
   "outputs": [
    {
     "data": {
      "text/plain": [
       "[1,4,25,49,121]"
      ]
     },
     "metadata": {},
     "output_type": "display_data"
    }
   ],
   "source": [
    "map sqr source"
   ]
  },
  {
   "cell_type": "code",
   "execution_count": 8,
   "id": "registered-sigma",
   "metadata": {},
   "outputs": [
    {
     "data": {
      "text/html": [
       "<style>/* Styles used for the Hoogle display in the pager */\n",
       ".hoogle-doc {\n",
       "display: block;\n",
       "padding-bottom: 1.3em;\n",
       "padding-left: 0.4em;\n",
       "}\n",
       ".hoogle-code {\n",
       "display: block;\n",
       "font-family: monospace;\n",
       "white-space: pre;\n",
       "}\n",
       ".hoogle-text {\n",
       "display: block;\n",
       "}\n",
       ".hoogle-name {\n",
       "color: green;\n",
       "font-weight: bold;\n",
       "}\n",
       ".hoogle-head {\n",
       "font-weight: bold;\n",
       "}\n",
       ".hoogle-sub {\n",
       "display: block;\n",
       "margin-left: 0.4em;\n",
       "}\n",
       ".hoogle-package {\n",
       "font-weight: bold;\n",
       "font-style: italic;\n",
       "}\n",
       ".hoogle-module {\n",
       "font-weight: bold;\n",
       "}\n",
       ".hoogle-class {\n",
       "font-weight: bold;\n",
       "}\n",
       ".get-type {\n",
       "color: green;\n",
       "font-weight: bold;\n",
       "font-family: monospace;\n",
       "display: block;\n",
       "white-space: pre-wrap;\n",
       "}\n",
       ".show-type {\n",
       "color: green;\n",
       "font-weight: bold;\n",
       "font-family: monospace;\n",
       "margin-left: 1em;\n",
       "}\n",
       ".mono {\n",
       "font-family: monospace;\n",
       "display: block;\n",
       "}\n",
       ".err-msg {\n",
       "color: red;\n",
       "font-style: italic;\n",
       "font-family: monospace;\n",
       "white-space: pre;\n",
       "display: block;\n",
       "}\n",
       "#unshowable {\n",
       "color: red;\n",
       "font-weight: bold;\n",
       "}\n",
       ".err-msg.in.collapse {\n",
       "padding-top: 0.7em;\n",
       "}\n",
       ".highlight-code {\n",
       "white-space: pre;\n",
       "font-family: monospace;\n",
       "}\n",
       ".suggestion-warning { \n",
       "font-weight: bold;\n",
       "color: rgb(200, 130, 0);\n",
       "}\n",
       ".suggestion-error { \n",
       "font-weight: bold;\n",
       "color: red;\n",
       "}\n",
       ".suggestion-name {\n",
       "font-weight: bold;\n",
       "}\n",
       "</style><div class=\"suggestion-name\" style=\"clear:both;\">Redundant bracket</div><div class=\"suggestion-row\" style=\"float: left;\"><div class=\"suggestion-warning\">Found:</div><div class=\"highlight-code\" id=\"haskell\">(f x) : (maps f ls)</div></div><div class=\"suggestion-row\" style=\"float: left;\"><div class=\"suggestion-warning\">Why Not:</div><div class=\"highlight-code\" id=\"haskell\">f x : (maps f ls)</div></div><div class=\"suggestion-name\" style=\"clear:both;\">Redundant bracket</div><div class=\"suggestion-row\" style=\"float: left;\"><div class=\"suggestion-warning\">Found:</div><div class=\"highlight-code\" id=\"haskell\">(f x) : (maps f ls)</div></div><div class=\"suggestion-row\" style=\"float: left;\"><div class=\"suggestion-warning\">Why Not:</div><div class=\"highlight-code\" id=\"haskell\">(f x) : maps f ls</div></div>"
      ],
      "text/plain": [
       "Line 4: Redundant bracket\n",
       "Found:\n",
       "(f x) : (maps f ls)\n",
       "Why not:\n",
       "f x : (maps f ls)Line 4: Redundant bracket\n",
       "Found:\n",
       "(f x) : (maps f ls)\n",
       "Why not:\n",
       "(f x) : maps f ls"
      ]
     },
     "metadata": {},
     "output_type": "display_data"
    }
   ],
   "source": [
    "-- первый аргумент - функция из целого в целое\n",
    "-- maps :: (a -> b) -> [a] -> [b] можно так определить функцию\n",
    "maps :: (Integer -> Integer) -> [Integer] -> [Integer]\n",
    "maps _ [] = []\n",
    "maps f (x:ls) = (f x) : (maps f ls)\n",
    "-- результирующий список - список типа b"
   ]
  },
  {
   "cell_type": "code",
   "execution_count": 10,
   "id": "attended-enzyme",
   "metadata": {},
   "outputs": [
    {
     "data": {
      "text/plain": [
       "[1,4,25,49,121]"
      ]
     },
     "metadata": {},
     "output_type": "display_data"
    }
   ],
   "source": [
    "maps sqr source"
   ]
  },
  {
   "cell_type": "markdown",
   "id": "greenhouse-health",
   "metadata": {},
   "source": [
    "## 03.2 $\\lambda$-исчисление\n",
    "\n",
    "### 03.2.1 Использование $\\lambda$-функций"
   ]
  },
  {
   "cell_type": "markdown",
   "id": "powered-strength",
   "metadata": {},
   "source": [
    "`lambda` - исчисление Черча - исчисление безымянных функций.\n",
    "\n",
    "sqr : $\\lambda$x.* x x\n",
    "\n",
    "- $\\lambda$x - голова x\n",
    "- после точки - тело - `* x x`\n",
    "\n",
    "В `haskell` можно похожим образом определять безымянную функцию:\n",
    "\n",
    "```haskell\n",
    "sqr = \\x -> (x * x)\n",
    "```\n",
    "\n",
    "- `\\x` - \"лямбда\" x\n",
    "- под знаком $\\lambda$ могут быть образцы\n",
    "- можем написать несколько уравнений с $\\lambda$ образцами\n",
    "\n",
    "Для чего нужны $\\lambda$-функции? В качестве первого аргумента функции `map` я могу задать $\\lambda$ выражени (функция без имени)"
   ]
  },
  {
   "cell_type": "markdown",
   "id": "dominican-poverty",
   "metadata": {},
   "source": [
    "### 03.2.2. Более сложная функция, заданная с помощью $\\lambda$ выражения"
   ]
  },
  {
   "cell_type": "code",
   "execution_count": 12,
   "id": "pursuant-wisdom",
   "metadata": {},
   "outputs": [
    {
     "data": {
      "text/html": [
       "<style>/* Styles used for the Hoogle display in the pager */\n",
       ".hoogle-doc {\n",
       "display: block;\n",
       "padding-bottom: 1.3em;\n",
       "padding-left: 0.4em;\n",
       "}\n",
       ".hoogle-code {\n",
       "display: block;\n",
       "font-family: monospace;\n",
       "white-space: pre;\n",
       "}\n",
       ".hoogle-text {\n",
       "display: block;\n",
       "}\n",
       ".hoogle-name {\n",
       "color: green;\n",
       "font-weight: bold;\n",
       "}\n",
       ".hoogle-head {\n",
       "font-weight: bold;\n",
       "}\n",
       ".hoogle-sub {\n",
       "display: block;\n",
       "margin-left: 0.4em;\n",
       "}\n",
       ".hoogle-package {\n",
       "font-weight: bold;\n",
       "font-style: italic;\n",
       "}\n",
       ".hoogle-module {\n",
       "font-weight: bold;\n",
       "}\n",
       ".hoogle-class {\n",
       "font-weight: bold;\n",
       "}\n",
       ".get-type {\n",
       "color: green;\n",
       "font-weight: bold;\n",
       "font-family: monospace;\n",
       "display: block;\n",
       "white-space: pre-wrap;\n",
       "}\n",
       ".show-type {\n",
       "color: green;\n",
       "font-weight: bold;\n",
       "font-family: monospace;\n",
       "margin-left: 1em;\n",
       "}\n",
       ".mono {\n",
       "font-family: monospace;\n",
       "display: block;\n",
       "}\n",
       ".err-msg {\n",
       "color: red;\n",
       "font-style: italic;\n",
       "font-family: monospace;\n",
       "white-space: pre;\n",
       "display: block;\n",
       "}\n",
       "#unshowable {\n",
       "color: red;\n",
       "font-weight: bold;\n",
       "}\n",
       ".err-msg.in.collapse {\n",
       "padding-top: 0.7em;\n",
       "}\n",
       ".highlight-code {\n",
       "white-space: pre;\n",
       "font-family: monospace;\n",
       "}\n",
       ".suggestion-warning { \n",
       "font-weight: bold;\n",
       "color: rgb(200, 130, 0);\n",
       "}\n",
       ".suggestion-error { \n",
       "font-weight: bold;\n",
       "color: red;\n",
       "}\n",
       ".suggestion-name {\n",
       "font-weight: bold;\n",
       "}\n",
       "</style><div class=\"suggestion-name\" style=\"clear:both;\">Redundant lambda</div><div class=\"suggestion-row\" style=\"float: left;\"><div class=\"suggestion-warning\">Found:</div><div class=\"highlight-code\" id=\"haskell\">factorial\n",
       "  = \\ n\n",
       "      -> case n of\n",
       "           0 -> 1\n",
       "           n -> n * factorial (n - 1)</div></div><div class=\"suggestion-row\" style=\"float: left;\"><div class=\"suggestion-warning\">Why Not:</div><div class=\"highlight-code\" id=\"haskell\">factorial n\n",
       "  = case n of\n",
       "      0 -> 1\n",
       "      n -> n * factorial (n - 1)</div></div><div class=\"suggestion-name\" style=\"clear:both;\">Use lambda-case</div><div class=\"suggestion-row\" style=\"float: left;\"><div class=\"suggestion-warning\">Found:</div><div class=\"highlight-code\" id=\"haskell\">\\ n\n",
       "  -> case n of\n",
       "       0 -> 1\n",
       "       n -> n * factorial (n - 1)</div></div><div class=\"suggestion-row\" style=\"float: left;\"><div class=\"suggestion-warning\">Why Not:</div><div class=\"highlight-code\" id=\"haskell\">\\case\n",
       "  0 -> 1\n",
       "  n -> n * factorial (n - 1)</div></div>"
      ],
      "text/plain": [
       "Line 2: Redundant lambda\n",
       "Found:\n",
       "factorial\n",
       "  = \\ n\n",
       "      -> case n of\n",
       "           0 -> 1\n",
       "           n -> n * factorial (n - 1)\n",
       "Why not:\n",
       "factorial n\n",
       "  = case n of\n",
       "      0 -> 1\n",
       "      n -> n * factorial (n - 1)Line 2: Use lambda-case\n",
       "Found:\n",
       "\\ n\n",
       "  -> case n of\n",
       "       0 -> 1\n",
       "       n -> n * factorial (n - 1)\n",
       "Why not:\n",
       "\\case\n",
       "  0 -> 1\n",
       "  n -> n * factorial (n - 1)"
      ]
     },
     "metadata": {},
     "output_type": "display_data"
    }
   ],
   "source": [
    "factorial :: Integer -> Integer\n",
    "factorial = \\n -> case n of\n",
    "                    0 -> 1\n",
    "                    n -> n * factorial (n-1)"
   ]
  },
  {
   "attachments": {
    "image.png": {
     "image/png": "[encoded data removed]"
    }
   },
   "cell_type": "markdown",
   "id": "checked-opening",
   "metadata": {},
   "source": [
    "- `case` - вычисляет разные выражения, в зависимости от того, с каким образцом сопоставлено определенное полученное выражение\n",
    "\n",
    "![image.png](attachment:image.png)"
   ]
  },
  {
   "cell_type": "markdown",
   "id": "sustainable-logan",
   "metadata": {},
   "source": [
    "Заметим: что если не сработало ни с одним сторожем в `patterne`, то будет выдаваться ошибка"
   ]
  },
  {
   "attachments": {
    "image-2.png": {
     "image/png": "[encoded data removed]"
    },
    "image.png": {
     "image/png": "[encoded data removed]"
    }
   },
   "cell_type": "markdown",
   "id": "heard-romantic",
   "metadata": {},
   "source": [
    "### 03.3.3 Функция свёртки\n",
    "\n",
    "Пусть мы хотим последовательно применять функцию сложения ко всем парам элементов (`func (+)`) списка `source = [1,2,5,7,11]`\n",
    "\n",
    "Возьму зерно `seed=0` и, начиная с этого числа, будем выращивать список.\n",
    "\n",
    "- беру последний элемент списка и прибавляю к нему\n",
    "\n",
    "![image.png](attachment:image.png)\n",
    "\n",
    "- возьму конструктор `func = (:)` и `seed = []`:\n",
    "\n",
    "![image-2.png](attachment:image-2.png)"
   ]
  },
  {
   "cell_type": "markdown",
   "id": "selective-receptor",
   "metadata": {},
   "source": [
    "**Определение**: назовём функцию **свёртки** - `foldr` (`foldl` - с начала списка). Получает бинарную функцию с двумя аргументами:\n",
    "\n",
    "```haskell\n",
    "foldr :: (a->b->b) -> b -> [a] -> b\n",
    "foldr func seed [] = seed\n",
    "foldr func seed (x:ls) = func x (foldr func seed ls)\n",
    "```\n",
    "\n",
    "*бинарная функция* - **функция с двумя аргументами**."
   ]
  },
  {
   "cell_type": "code",
   "execution_count": 13,
   "id": "constant-theory",
   "metadata": {},
   "outputs": [
    {
     "data": {
      "text/html": [
       "<style>/* Styles used for the Hoogle display in the pager */\n",
       ".hoogle-doc {\n",
       "display: block;\n",
       "padding-bottom: 1.3em;\n",
       "padding-left: 0.4em;\n",
       "}\n",
       ".hoogle-code {\n",
       "display: block;\n",
       "font-family: monospace;\n",
       "white-space: pre;\n",
       "}\n",
       ".hoogle-text {\n",
       "display: block;\n",
       "}\n",
       ".hoogle-name {\n",
       "color: green;\n",
       "font-weight: bold;\n",
       "}\n",
       ".hoogle-head {\n",
       "font-weight: bold;\n",
       "}\n",
       ".hoogle-sub {\n",
       "display: block;\n",
       "margin-left: 0.4em;\n",
       "}\n",
       ".hoogle-package {\n",
       "font-weight: bold;\n",
       "font-style: italic;\n",
       "}\n",
       ".hoogle-module {\n",
       "font-weight: bold;\n",
       "}\n",
       ".hoogle-class {\n",
       "font-weight: bold;\n",
       "}\n",
       ".get-type {\n",
       "color: green;\n",
       "font-weight: bold;\n",
       "font-family: monospace;\n",
       "display: block;\n",
       "white-space: pre-wrap;\n",
       "}\n",
       ".show-type {\n",
       "color: green;\n",
       "font-weight: bold;\n",
       "font-family: monospace;\n",
       "margin-left: 1em;\n",
       "}\n",
       ".mono {\n",
       "font-family: monospace;\n",
       "display: block;\n",
       "}\n",
       ".err-msg {\n",
       "color: red;\n",
       "font-style: italic;\n",
       "font-family: monospace;\n",
       "white-space: pre;\n",
       "display: block;\n",
       "}\n",
       "#unshowable {\n",
       "color: red;\n",
       "font-weight: bold;\n",
       "}\n",
       ".err-msg.in.collapse {\n",
       "padding-top: 0.7em;\n",
       "}\n",
       ".highlight-code {\n",
       "white-space: pre;\n",
       "font-family: monospace;\n",
       "}\n",
       ".suggestion-warning { \n",
       "font-weight: bold;\n",
       "color: rgb(200, 130, 0);\n",
       "}\n",
       ".suggestion-error { \n",
       "font-weight: bold;\n",
       "color: red;\n",
       "}\n",
       ".suggestion-name {\n",
       "font-weight: bold;\n",
       "}\n",
       "</style><div class=\"suggestion-name\" style=\"clear:both;\">Use sum</div><div class=\"suggestion-row\" style=\"float: left;\"><div class=\"suggestion-warning\">Found:</div><div class=\"highlight-code\" id=\"haskell\">foldr (+) 0</div></div><div class=\"suggestion-row\" style=\"float: left;\"><div class=\"suggestion-warning\">Why Not:</div><div class=\"highlight-code\" id=\"haskell\">sum</div></div>"
      ],
      "text/plain": [
       "Line 1: Use sum\n",
       "Found:\n",
       "foldr (+) 0\n",
       "Why not:\n",
       "sum"
      ]
     },
     "metadata": {},
     "output_type": "display_data"
    },
    {
     "data": {
      "text/plain": [
       "10"
      ]
     },
     "metadata": {},
     "output_type": "display_data"
    }
   ],
   "source": [
    "foldr (+) 0 [1, 2, 3, 4]"
   ]
  },
  {
   "cell_type": "code",
   "execution_count": 14,
   "id": "ongoing-multimedia",
   "metadata": {},
   "outputs": [
    {
     "data": {
      "text/html": [
       "<style>/* Styles used for the Hoogle display in the pager */\n",
       ".hoogle-doc {\n",
       "display: block;\n",
       "padding-bottom: 1.3em;\n",
       "padding-left: 0.4em;\n",
       "}\n",
       ".hoogle-code {\n",
       "display: block;\n",
       "font-family: monospace;\n",
       "white-space: pre;\n",
       "}\n",
       ".hoogle-text {\n",
       "display: block;\n",
       "}\n",
       ".hoogle-name {\n",
       "color: green;\n",
       "font-weight: bold;\n",
       "}\n",
       ".hoogle-head {\n",
       "font-weight: bold;\n",
       "}\n",
       ".hoogle-sub {\n",
       "display: block;\n",
       "margin-left: 0.4em;\n",
       "}\n",
       ".hoogle-package {\n",
       "font-weight: bold;\n",
       "font-style: italic;\n",
       "}\n",
       ".hoogle-module {\n",
       "font-weight: bold;\n",
       "}\n",
       ".hoogle-class {\n",
       "font-weight: bold;\n",
       "}\n",
       ".get-type {\n",
       "color: green;\n",
       "font-weight: bold;\n",
       "font-family: monospace;\n",
       "display: block;\n",
       "white-space: pre-wrap;\n",
       "}\n",
       ".show-type {\n",
       "color: green;\n",
       "font-weight: bold;\n",
       "font-family: monospace;\n",
       "margin-left: 1em;\n",
       "}\n",
       ".mono {\n",
       "font-family: monospace;\n",
       "display: block;\n",
       "}\n",
       ".err-msg {\n",
       "color: red;\n",
       "font-style: italic;\n",
       "font-family: monospace;\n",
       "white-space: pre;\n",
       "display: block;\n",
       "}\n",
       "#unshowable {\n",
       "color: red;\n",
       "font-weight: bold;\n",
       "}\n",
       ".err-msg.in.collapse {\n",
       "padding-top: 0.7em;\n",
       "}\n",
       ".highlight-code {\n",
       "white-space: pre;\n",
       "font-family: monospace;\n",
       "}\n",
       ".suggestion-warning { \n",
       "font-weight: bold;\n",
       "color: rgb(200, 130, 0);\n",
       "}\n",
       ".suggestion-error { \n",
       "font-weight: bold;\n",
       "color: red;\n",
       "}\n",
       ".suggestion-name {\n",
       "font-weight: bold;\n",
       "}\n",
       "</style><div class=\"suggestion-name\" style=\"clear:both;\">Use product</div><div class=\"suggestion-row\" style=\"float: left;\"><div class=\"suggestion-warning\">Found:</div><div class=\"highlight-code\" id=\"haskell\">foldr (*) 1</div></div><div class=\"suggestion-row\" style=\"float: left;\"><div class=\"suggestion-warning\">Why Not:</div><div class=\"highlight-code\" id=\"haskell\">product</div></div>"
      ],
      "text/plain": [
       "Line 2: Use product\n",
       "Found:\n",
       "foldr (*) 1\n",
       "Why not:\n",
       "product"
      ]
     },
     "metadata": {},
     "output_type": "display_data"
    }
   ],
   "source": [
    "factorial :: Integer -> Integer\n",
    "factorial n = foldr (*) 1 [1..n]"
   ]
  },
  {
   "cell_type": "markdown",
   "id": "aerial-concern",
   "metadata": {},
   "source": [
    "### 03.3.4 Программирование с помощью функций высшего порядка"
   ]
  },
  {
   "cell_type": "markdown",
   "id": "destroyed-belgium",
   "metadata": {},
   "source": [
    "1. **Функция `search`**"
   ]
  },
  {
   "cell_type": "code",
   "execution_count": 43,
   "id": "scenic-throw",
   "metadata": {},
   "outputs": [
    {
     "data": {
      "text/html": [
       "<style>/* Styles used for the Hoogle display in the pager */\n",
       ".hoogle-doc {\n",
       "display: block;\n",
       "padding-bottom: 1.3em;\n",
       "padding-left: 0.4em;\n",
       "}\n",
       ".hoogle-code {\n",
       "display: block;\n",
       "font-family: monospace;\n",
       "white-space: pre;\n",
       "}\n",
       ".hoogle-text {\n",
       "display: block;\n",
       "}\n",
       ".hoogle-name {\n",
       "color: green;\n",
       "font-weight: bold;\n",
       "}\n",
       ".hoogle-head {\n",
       "font-weight: bold;\n",
       "}\n",
       ".hoogle-sub {\n",
       "display: block;\n",
       "margin-left: 0.4em;\n",
       "}\n",
       ".hoogle-package {\n",
       "font-weight: bold;\n",
       "font-style: italic;\n",
       "}\n",
       ".hoogle-module {\n",
       "font-weight: bold;\n",
       "}\n",
       ".hoogle-class {\n",
       "font-weight: bold;\n",
       "}\n",
       ".get-type {\n",
       "color: green;\n",
       "font-weight: bold;\n",
       "font-family: monospace;\n",
       "display: block;\n",
       "white-space: pre-wrap;\n",
       "}\n",
       ".show-type {\n",
       "color: green;\n",
       "font-weight: bold;\n",
       "font-family: monospace;\n",
       "margin-left: 1em;\n",
       "}\n",
       ".mono {\n",
       "font-family: monospace;\n",
       "display: block;\n",
       "}\n",
       ".err-msg {\n",
       "color: red;\n",
       "font-style: italic;\n",
       "font-family: monospace;\n",
       "white-space: pre;\n",
       "display: block;\n",
       "}\n",
       "#unshowable {\n",
       "color: red;\n",
       "font-weight: bold;\n",
       "}\n",
       ".err-msg.in.collapse {\n",
       "padding-top: 0.7em;\n",
       "}\n",
       ".highlight-code {\n",
       "white-space: pre;\n",
       "font-family: monospace;\n",
       "}\n",
       ".suggestion-warning { \n",
       "font-weight: bold;\n",
       "color: rgb(200, 130, 0);\n",
       "}\n",
       ".suggestion-error { \n",
       "font-weight: bold;\n",
       "color: red;\n",
       "}\n",
       ".suggestion-name {\n",
       "font-weight: bold;\n",
       "}\n",
       "</style><div class=\"suggestion-name\" style=\"clear:both;\">Use or</div><div class=\"suggestion-row\" style=\"float: left;\"><div class=\"suggestion-warning\">Found:</div><div class=\"highlight-code\" id=\"haskell\">foldr (||) False</div></div><div class=\"suggestion-row\" style=\"float: left;\"><div class=\"suggestion-warning\">Why Not:</div><div class=\"highlight-code\" id=\"haskell\">or</div></div><div class=\"suggestion-name\" style=\"clear:both;\">Fuse foldr/map</div><div class=\"suggestion-row\" style=\"float: left;\"><div class=\"suggestion-warning\">Found:</div><div class=\"highlight-code\" id=\"haskell\">foldr (||) False (map (\\ x -> x == e) list)</div></div><div class=\"suggestion-row\" style=\"float: left;\"><div class=\"suggestion-warning\">Why Not:</div><div class=\"highlight-code\" id=\"haskell\">foldr ((||) . (\\ x -> x == e)) False list</div></div><div class=\"suggestion-name\" style=\"clear:both;\">Avoid lambda using `infix`</div><div class=\"suggestion-row\" style=\"float: left;\"><div class=\"suggestion-warning\">Found:</div><div class=\"highlight-code\" id=\"haskell\">(\\ x -> x == e)</div></div><div class=\"suggestion-row\" style=\"float: left;\"><div class=\"suggestion-warning\">Why Not:</div><div class=\"highlight-code\" id=\"haskell\">(== e)</div></div>"
      ],
      "text/plain": [
       "Line 2: Use or\n",
       "Found:\n",
       "foldr (||) False\n",
       "Why not:\n",
       "orLine 2: Fuse foldr/map\n",
       "Found:\n",
       "foldr (||) False (map (\\ x -> x == e) list)\n",
       "Why not:\n",
       "foldr ((||) . (\\ x -> x == e)) False listLine 2: Avoid lambda using `infix`\n",
       "Found:\n",
       "(\\ x -> x == e)\n",
       "Why not:\n",
       "(== e)"
      ]
     },
     "metadata": {},
     "output_type": "display_data"
    },
    {
     "ename": "",
     "evalue": "",
     "output_type": "error",
     "traceback": [
      "<interactive>:2:35: error:\n    • Couldn't match type ‘Integer’ with ‘Bool’\n      Expected type: [Bool]\n        Actual type: [Integer]\n    • In the third argument of ‘foldr’, namely ‘(map (\\ x -> x == e) list)’\n      In the expression: foldr (||) False (map (\\ x -> x == e) list)\n      In an equation for ‘search’: search e list = foldr (||) False (map (\\ x -> x == e) list)\n<interactive>:2:47: error:\n    • Couldn't match expected type ‘Integer’ with actual type ‘Bool’\n    • In the expression: x == e\n      In the first argument of ‘map’, namely ‘(\\ x -> x == e)’\n      In the third argument of ‘foldr’, namely ‘(map (\\ x -> x == e) list)’"
     ]
    }
   ],
   "source": [
    "search :: (Eq a) => a -> [a] -> Bool\n",
    "search e list = foldr (||) False (map (\\ x -> x == e) list)\n",
    "search 5 [1, 2, 5, 7, 11]"
   ]
  },
  {
   "attachments": {
    "image-2.png": {
     "image/png": "[encoded data removed]"
    }
   },
   "cell_type": "markdown",
   "id": "vocational-indonesia",
   "metadata": {},
   "source": [
    "- `доллар` - применение к аргументу\n",
    "\n",
    "> Haskell - ленивый язык - если результат получен, то сравнения не будет\n",
    "\n",
    "![image-2.png](attachment:image-2.png)"
   ]
  },
  {
   "cell_type": "markdown",
   "id": "exciting-massage",
   "metadata": {},
   "source": [
    "2. **Функция `any`**\n",
    "\n",
    "- стандартное функцональное программирование - не будет вычислять аргумент, если второй результат уже `True`"
   ]
  },
  {
   "cell_type": "code",
   "execution_count": 19,
   "id": "arctic-sender",
   "metadata": {},
   "outputs": [
    {
     "data": {
      "text/html": [
       "<style>/* Styles used for the Hoogle display in the pager */\n",
       ".hoogle-doc {\n",
       "display: block;\n",
       "padding-bottom: 1.3em;\n",
       "padding-left: 0.4em;\n",
       "}\n",
       ".hoogle-code {\n",
       "display: block;\n",
       "font-family: monospace;\n",
       "white-space: pre;\n",
       "}\n",
       ".hoogle-text {\n",
       "display: block;\n",
       "}\n",
       ".hoogle-name {\n",
       "color: green;\n",
       "font-weight: bold;\n",
       "}\n",
       ".hoogle-head {\n",
       "font-weight: bold;\n",
       "}\n",
       ".hoogle-sub {\n",
       "display: block;\n",
       "margin-left: 0.4em;\n",
       "}\n",
       ".hoogle-package {\n",
       "font-weight: bold;\n",
       "font-style: italic;\n",
       "}\n",
       ".hoogle-module {\n",
       "font-weight: bold;\n",
       "}\n",
       ".hoogle-class {\n",
       "font-weight: bold;\n",
       "}\n",
       ".get-type {\n",
       "color: green;\n",
       "font-weight: bold;\n",
       "font-family: monospace;\n",
       "display: block;\n",
       "white-space: pre-wrap;\n",
       "}\n",
       ".show-type {\n",
       "color: green;\n",
       "font-weight: bold;\n",
       "font-family: monospace;\n",
       "margin-left: 1em;\n",
       "}\n",
       ".mono {\n",
       "font-family: monospace;\n",
       "display: block;\n",
       "}\n",
       ".err-msg {\n",
       "color: red;\n",
       "font-style: italic;\n",
       "font-family: monospace;\n",
       "white-space: pre;\n",
       "display: block;\n",
       "}\n",
       "#unshowable {\n",
       "color: red;\n",
       "font-weight: bold;\n",
       "}\n",
       ".err-msg.in.collapse {\n",
       "padding-top: 0.7em;\n",
       "}\n",
       ".highlight-code {\n",
       "white-space: pre;\n",
       "font-family: monospace;\n",
       "}\n",
       ".suggestion-warning { \n",
       "font-weight: bold;\n",
       "color: rgb(200, 130, 0);\n",
       "}\n",
       ".suggestion-error { \n",
       "font-weight: bold;\n",
       "color: red;\n",
       "}\n",
       ".suggestion-name {\n",
       "font-weight: bold;\n",
       "}\n",
       "</style><div class=\"suggestion-name\" style=\"clear:both;\">Redundant bracket</div><div class=\"suggestion-row\" style=\"float: left;\"><div class=\"suggestion-warning\">Found:</div><div class=\"highlight-code\" id=\"haskell\">f x || (anyOldStyle f ls)</div></div><div class=\"suggestion-row\" style=\"float: left;\"><div class=\"suggestion-warning\">Why Not:</div><div class=\"highlight-code\" id=\"haskell\">f x || anyOldStyle f ls</div></div>"
      ],
      "text/plain": [
       "Line 3: Redundant bracket\n",
       "Found:\n",
       "f x || (anyOldStyle f ls)\n",
       "Why not:\n",
       "f x || anyOldStyle f ls"
      ]
     },
     "metadata": {},
     "output_type": "display_data"
    }
   ],
   "source": [
    "anyOldStyle :: (a -> Bool) -> [a] -> Bool\n",
    "anyOldStyle _ [] = False\n",
    "anyOldStyle f (x:ls) = f x || (anyOldStyle f ls)"
   ]
  },
  {
   "cell_type": "markdown",
   "id": "honest-scholar",
   "metadata": {},
   "source": [
    "- `foldr`"
   ]
  },
  {
   "cell_type": "code",
   "execution_count": 21,
   "id": "resident-direction",
   "metadata": {},
   "outputs": [
    {
     "data": {
      "text/html": [
       "<style>/* Styles used for the Hoogle display in the pager */\n",
       ".hoogle-doc {\n",
       "display: block;\n",
       "padding-bottom: 1.3em;\n",
       "padding-left: 0.4em;\n",
       "}\n",
       ".hoogle-code {\n",
       "display: block;\n",
       "font-family: monospace;\n",
       "white-space: pre;\n",
       "}\n",
       ".hoogle-text {\n",
       "display: block;\n",
       "}\n",
       ".hoogle-name {\n",
       "color: green;\n",
       "font-weight: bold;\n",
       "}\n",
       ".hoogle-head {\n",
       "font-weight: bold;\n",
       "}\n",
       ".hoogle-sub {\n",
       "display: block;\n",
       "margin-left: 0.4em;\n",
       "}\n",
       ".hoogle-package {\n",
       "font-weight: bold;\n",
       "font-style: italic;\n",
       "}\n",
       ".hoogle-module {\n",
       "font-weight: bold;\n",
       "}\n",
       ".hoogle-class {\n",
       "font-weight: bold;\n",
       "}\n",
       ".get-type {\n",
       "color: green;\n",
       "font-weight: bold;\n",
       "font-family: monospace;\n",
       "display: block;\n",
       "white-space: pre-wrap;\n",
       "}\n",
       ".show-type {\n",
       "color: green;\n",
       "font-weight: bold;\n",
       "font-family: monospace;\n",
       "margin-left: 1em;\n",
       "}\n",
       ".mono {\n",
       "font-family: monospace;\n",
       "display: block;\n",
       "}\n",
       ".err-msg {\n",
       "color: red;\n",
       "font-style: italic;\n",
       "font-family: monospace;\n",
       "white-space: pre;\n",
       "display: block;\n",
       "}\n",
       "#unshowable {\n",
       "color: red;\n",
       "font-weight: bold;\n",
       "}\n",
       ".err-msg.in.collapse {\n",
       "padding-top: 0.7em;\n",
       "}\n",
       ".highlight-code {\n",
       "white-space: pre;\n",
       "font-family: monospace;\n",
       "}\n",
       ".suggestion-warning { \n",
       "font-weight: bold;\n",
       "color: rgb(200, 130, 0);\n",
       "}\n",
       ".suggestion-error { \n",
       "font-weight: bold;\n",
       "color: red;\n",
       "}\n",
       ".suggestion-name {\n",
       "font-weight: bold;\n",
       "}\n",
       "</style><div class=\"suggestion-name\" style=\"clear:both;\">Eta reduce</div><div class=\"suggestion-row\" style=\"float: left;\"><div class=\"suggestion-warning\">Found:</div><div class=\"highlight-code\" id=\"haskell\">any f list = foldr (\\ x b -> f x || b) False list</div></div><div class=\"suggestion-row\" style=\"float: left;\"><div class=\"suggestion-warning\">Why Not:</div><div class=\"highlight-code\" id=\"haskell\">any f = foldr (\\ x b -> f x || b) False</div></div>"
      ],
      "text/plain": [
       "Line 2: Eta reduce\n",
       "Found:\n",
       "any f list = foldr (\\ x b -> f x || b) False list\n",
       "Why not:\n",
       "any f = foldr (\\ x b -> f x || b) False"
      ]
     },
     "metadata": {},
     "output_type": "display_data"
    }
   ],
   "source": [
    "any :: (a -> Bool) -> [a] -> Bool\n",
    "any f list = foldr (\\x b -> f x || b) False list"
   ]
  },
  {
   "cell_type": "code",
   "execution_count": 22,
   "id": "painful-blind",
   "metadata": {},
   "outputs": [
    {
     "data": {
      "text/html": [
       "<style>/* Styles used for the Hoogle display in the pager */\n",
       ".hoogle-doc {\n",
       "display: block;\n",
       "padding-bottom: 1.3em;\n",
       "padding-left: 0.4em;\n",
       "}\n",
       ".hoogle-code {\n",
       "display: block;\n",
       "font-family: monospace;\n",
       "white-space: pre;\n",
       "}\n",
       ".hoogle-text {\n",
       "display: block;\n",
       "}\n",
       ".hoogle-name {\n",
       "color: green;\n",
       "font-weight: bold;\n",
       "}\n",
       ".hoogle-head {\n",
       "font-weight: bold;\n",
       "}\n",
       ".hoogle-sub {\n",
       "display: block;\n",
       "margin-left: 0.4em;\n",
       "}\n",
       ".hoogle-package {\n",
       "font-weight: bold;\n",
       "font-style: italic;\n",
       "}\n",
       ".hoogle-module {\n",
       "font-weight: bold;\n",
       "}\n",
       ".hoogle-class {\n",
       "font-weight: bold;\n",
       "}\n",
       ".get-type {\n",
       "color: green;\n",
       "font-weight: bold;\n",
       "font-family: monospace;\n",
       "display: block;\n",
       "white-space: pre-wrap;\n",
       "}\n",
       ".show-type {\n",
       "color: green;\n",
       "font-weight: bold;\n",
       "font-family: monospace;\n",
       "margin-left: 1em;\n",
       "}\n",
       ".mono {\n",
       "font-family: monospace;\n",
       "display: block;\n",
       "}\n",
       ".err-msg {\n",
       "color: red;\n",
       "font-style: italic;\n",
       "font-family: monospace;\n",
       "white-space: pre;\n",
       "display: block;\n",
       "}\n",
       "#unshowable {\n",
       "color: red;\n",
       "font-weight: bold;\n",
       "}\n",
       ".err-msg.in.collapse {\n",
       "padding-top: 0.7em;\n",
       "}\n",
       ".highlight-code {\n",
       "white-space: pre;\n",
       "font-family: monospace;\n",
       "}\n",
       ".suggestion-warning { \n",
       "font-weight: bold;\n",
       "color: rgb(200, 130, 0);\n",
       "}\n",
       ".suggestion-error { \n",
       "font-weight: bold;\n",
       "color: red;\n",
       "}\n",
       ".suggestion-name {\n",
       "font-weight: bold;\n",
       "}\n",
       "</style><div class=\"suggestion-name\" style=\"clear:both;\">Eta reduce</div><div class=\"suggestion-row\" style=\"float: left;\"><div class=\"suggestion-warning\">Found:</div><div class=\"highlight-code\" id=\"haskell\">all f list = foldr (\\ x b -> f x && b) True list</div></div><div class=\"suggestion-row\" style=\"float: left;\"><div class=\"suggestion-warning\">Why Not:</div><div class=\"highlight-code\" id=\"haskell\">all f = foldr (\\ x b -> f x && b) True</div></div>"
      ],
      "text/plain": [
       "Line 2: Eta reduce\n",
       "Found:\n",
       "all f list = foldr (\\ x b -> f x && b) True list\n",
       "Why not:\n",
       "all f = foldr (\\ x b -> f x && b) True"
      ]
     },
     "metadata": {},
     "output_type": "display_data"
    }
   ],
   "source": [
    "all :: (a -> Bool) -> [a] -> Bool\n",
    "all f list = foldr (\\x b -> f x && b) True list"
   ]
  },
  {
   "cell_type": "code",
   "execution_count": 24,
   "id": "advance-place",
   "metadata": {},
   "outputs": [
    {
     "data": {
      "text/html": [
       "<style>/* Styles used for the Hoogle display in the pager */\n",
       ".hoogle-doc {\n",
       "display: block;\n",
       "padding-bottom: 1.3em;\n",
       "padding-left: 0.4em;\n",
       "}\n",
       ".hoogle-code {\n",
       "display: block;\n",
       "font-family: monospace;\n",
       "white-space: pre;\n",
       "}\n",
       ".hoogle-text {\n",
       "display: block;\n",
       "}\n",
       ".hoogle-name {\n",
       "color: green;\n",
       "font-weight: bold;\n",
       "}\n",
       ".hoogle-head {\n",
       "font-weight: bold;\n",
       "}\n",
       ".hoogle-sub {\n",
       "display: block;\n",
       "margin-left: 0.4em;\n",
       "}\n",
       ".hoogle-package {\n",
       "font-weight: bold;\n",
       "font-style: italic;\n",
       "}\n",
       ".hoogle-module {\n",
       "font-weight: bold;\n",
       "}\n",
       ".hoogle-class {\n",
       "font-weight: bold;\n",
       "}\n",
       ".get-type {\n",
       "color: green;\n",
       "font-weight: bold;\n",
       "font-family: monospace;\n",
       "display: block;\n",
       "white-space: pre-wrap;\n",
       "}\n",
       ".show-type {\n",
       "color: green;\n",
       "font-weight: bold;\n",
       "font-family: monospace;\n",
       "margin-left: 1em;\n",
       "}\n",
       ".mono {\n",
       "font-family: monospace;\n",
       "display: block;\n",
       "}\n",
       ".err-msg {\n",
       "color: red;\n",
       "font-style: italic;\n",
       "font-family: monospace;\n",
       "white-space: pre;\n",
       "display: block;\n",
       "}\n",
       "#unshowable {\n",
       "color: red;\n",
       "font-weight: bold;\n",
       "}\n",
       ".err-msg.in.collapse {\n",
       "padding-top: 0.7em;\n",
       "}\n",
       ".highlight-code {\n",
       "white-space: pre;\n",
       "font-family: monospace;\n",
       "}\n",
       ".suggestion-warning { \n",
       "font-weight: bold;\n",
       "color: rgb(200, 130, 0);\n",
       "}\n",
       ".suggestion-error { \n",
       "font-weight: bold;\n",
       "color: red;\n",
       "}\n",
       ".suggestion-name {\n",
       "font-weight: bold;\n",
       "}\n",
       "</style><div class=\"suggestion-name\" style=\"clear:both;\">Eta reduce</div><div class=\"suggestion-row\" style=\"float: left;\"><div class=\"suggestion-warning\">Found:</div><div class=\"highlight-code\" id=\"haskell\">search e list = any (\\ x -> x == e) list</div></div><div class=\"suggestion-row\" style=\"float: left;\"><div class=\"suggestion-warning\">Why Not:</div><div class=\"highlight-code\" id=\"haskell\">search e = any (\\ x -> x == e)</div></div><div class=\"suggestion-name\" style=\"clear:both;\">Avoid lambda using `infix`</div><div class=\"suggestion-row\" style=\"float: left;\"><div class=\"suggestion-warning\">Found:</div><div class=\"highlight-code\" id=\"haskell\">(\\ x -> x == e)</div></div><div class=\"suggestion-row\" style=\"float: left;\"><div class=\"suggestion-warning\">Why Not:</div><div class=\"highlight-code\" id=\"haskell\">(== e)</div></div>"
      ],
      "text/plain": [
       "Line 1: Eta reduce\n",
       "Found:\n",
       "search e list = any (\\ x -> x == e) list\n",
       "Why not:\n",
       "search e = any (\\ x -> x == e)Line 1: Avoid lambda using `infix`\n",
       "Found:\n",
       "(\\ x -> x == e)\n",
       "Why not:\n",
       "(== e)"
      ]
     },
     "metadata": {},
     "output_type": "display_data"
    }
   ],
   "source": [
    "search e list = any (\\x -> x ==e ) list"
   ]
  },
  {
   "cell_type": "markdown",
   "id": "arabic-sword",
   "metadata": {},
   "source": [
    "- операция `++`"
   ]
  },
  {
   "cell_type": "code",
   "execution_count": 25,
   "id": "played-cedar",
   "metadata": {},
   "outputs": [
    {
     "data": {
      "text/html": [
       "<style>/* Styles used for the Hoogle display in the pager */\n",
       ".hoogle-doc {\n",
       "display: block;\n",
       "padding-bottom: 1.3em;\n",
       "padding-left: 0.4em;\n",
       "}\n",
       ".hoogle-code {\n",
       "display: block;\n",
       "font-family: monospace;\n",
       "white-space: pre;\n",
       "}\n",
       ".hoogle-text {\n",
       "display: block;\n",
       "}\n",
       ".hoogle-name {\n",
       "color: green;\n",
       "font-weight: bold;\n",
       "}\n",
       ".hoogle-head {\n",
       "font-weight: bold;\n",
       "}\n",
       ".hoogle-sub {\n",
       "display: block;\n",
       "margin-left: 0.4em;\n",
       "}\n",
       ".hoogle-package {\n",
       "font-weight: bold;\n",
       "font-style: italic;\n",
       "}\n",
       ".hoogle-module {\n",
       "font-weight: bold;\n",
       "}\n",
       ".hoogle-class {\n",
       "font-weight: bold;\n",
       "}\n",
       ".get-type {\n",
       "color: green;\n",
       "font-weight: bold;\n",
       "font-family: monospace;\n",
       "display: block;\n",
       "white-space: pre-wrap;\n",
       "}\n",
       ".show-type {\n",
       "color: green;\n",
       "font-weight: bold;\n",
       "font-family: monospace;\n",
       "margin-left: 1em;\n",
       "}\n",
       ".mono {\n",
       "font-family: monospace;\n",
       "display: block;\n",
       "}\n",
       ".err-msg {\n",
       "color: red;\n",
       "font-style: italic;\n",
       "font-family: monospace;\n",
       "white-space: pre;\n",
       "display: block;\n",
       "}\n",
       "#unshowable {\n",
       "color: red;\n",
       "font-weight: bold;\n",
       "}\n",
       ".err-msg.in.collapse {\n",
       "padding-top: 0.7em;\n",
       "}\n",
       ".highlight-code {\n",
       "white-space: pre;\n",
       "font-family: monospace;\n",
       "}\n",
       ".suggestion-warning { \n",
       "font-weight: bold;\n",
       "color: rgb(200, 130, 0);\n",
       "}\n",
       ".suggestion-error { \n",
       "font-weight: bold;\n",
       "color: red;\n",
       "}\n",
       ".suggestion-name {\n",
       "font-weight: bold;\n",
       "}\n",
       "</style><div class=\"suggestion-name\" style=\"clear:both;\">Use foldr</div><div class=\"suggestion-row\" style=\"float: left;\"><div class=\"suggestion-warning\">Found:</div><div class=\"highlight-code\" id=\"haskell\">join1 [] list = list\n",
       "join1 (x : ls) list = x : (join1 ls list)</div></div><div class=\"suggestion-row\" style=\"float: left;\"><div class=\"suggestion-warning\">Why Not:</div><div class=\"highlight-code\" id=\"haskell\">join1 ls list = foldr (:) list ls</div></div><div class=\"suggestion-name\" style=\"clear:both;\">Redundant bracket</div><div class=\"suggestion-row\" style=\"float: left;\"><div class=\"suggestion-warning\">Found:</div><div class=\"highlight-code\" id=\"haskell\">x : (join1 ls list)</div></div><div class=\"suggestion-row\" style=\"float: left;\"><div class=\"suggestion-warning\">Why Not:</div><div class=\"highlight-code\" id=\"haskell\">x : join1 ls list</div></div>"
      ],
      "text/plain": [
       "Line 2: Use foldr\n",
       "Found:\n",
       "join1 [] list = list\n",
       "join1 (x : ls) list = x : (join1 ls list)\n",
       "Why not:\n",
       "join1 ls list = foldr (:) list lsLine 3: Redundant bracket\n",
       "Found:\n",
       "x : (join1 ls list)\n",
       "Why not:\n",
       "x : join1 ls list"
      ]
     },
     "metadata": {},
     "output_type": "display_data"
    }
   ],
   "source": [
    "join1 :: [a] -> [a] -> [a]\n",
    "join1 [] list = list\n",
    "join1 (x:ls) list = x : (join1 ls list)"
   ]
  },
  {
   "cell_type": "code",
   "execution_count": 26,
   "id": "permanent-falls",
   "metadata": {},
   "outputs": [],
   "source": [
    "join2 :: [a] -> [a] -> [a]\n",
    "join2 lis1 lis2 = foldr (:) lis2 lis1"
   ]
  },
  {
   "cell_type": "markdown",
   "id": "institutional-shelter",
   "metadata": {},
   "source": [
    "- `foldl` - левая вставка - ещё один способ свёртки списка\n",
    "    - будем обрабатывать вызов сначала, а не с конца - кольцевая рекурсия"
   ]
  },
  {
   "cell_type": "code",
   "execution_count": 42,
   "id": "devoted-remainder",
   "metadata": {},
   "outputs": [],
   "source": [
    "foldl :: (b -> a -> b) -> b -> [a] -> b\n",
    "foldl _ seed [] = seed\n",
    "foldl f seed (x:ls) = foldl f (f seed x) ls"
   ]
  },
  {
   "cell_type": "markdown",
   "id": "elder-michigan",
   "metadata": {},
   "source": [
    "- `reverse`\n",
    "    - `app` - перестановка элементов местами"
   ]
  },
  {
   "cell_type": "code",
   "execution_count": 44,
   "id": "wound-management",
   "metadata": {},
   "outputs": [
    {
     "data": {
      "text/html": [
       "<style>/* Styles used for the Hoogle display in the pager */\n",
       ".hoogle-doc {\n",
       "display: block;\n",
       "padding-bottom: 1.3em;\n",
       "padding-left: 0.4em;\n",
       "}\n",
       ".hoogle-code {\n",
       "display: block;\n",
       "font-family: monospace;\n",
       "white-space: pre;\n",
       "}\n",
       ".hoogle-text {\n",
       "display: block;\n",
       "}\n",
       ".hoogle-name {\n",
       "color: green;\n",
       "font-weight: bold;\n",
       "}\n",
       ".hoogle-head {\n",
       "font-weight: bold;\n",
       "}\n",
       ".hoogle-sub {\n",
       "display: block;\n",
       "margin-left: 0.4em;\n",
       "}\n",
       ".hoogle-package {\n",
       "font-weight: bold;\n",
       "font-style: italic;\n",
       "}\n",
       ".hoogle-module {\n",
       "font-weight: bold;\n",
       "}\n",
       ".hoogle-class {\n",
       "font-weight: bold;\n",
       "}\n",
       ".get-type {\n",
       "color: green;\n",
       "font-weight: bold;\n",
       "font-family: monospace;\n",
       "display: block;\n",
       "white-space: pre-wrap;\n",
       "}\n",
       ".show-type {\n",
       "color: green;\n",
       "font-weight: bold;\n",
       "font-family: monospace;\n",
       "margin-left: 1em;\n",
       "}\n",
       ".mono {\n",
       "font-family: monospace;\n",
       "display: block;\n",
       "}\n",
       ".err-msg {\n",
       "color: red;\n",
       "font-style: italic;\n",
       "font-family: monospace;\n",
       "white-space: pre;\n",
       "display: block;\n",
       "}\n",
       "#unshowable {\n",
       "color: red;\n",
       "font-weight: bold;\n",
       "}\n",
       ".err-msg.in.collapse {\n",
       "padding-top: 0.7em;\n",
       "}\n",
       ".highlight-code {\n",
       "white-space: pre;\n",
       "font-family: monospace;\n",
       "}\n",
       ".suggestion-warning { \n",
       "font-weight: bold;\n",
       "color: rgb(200, 130, 0);\n",
       "}\n",
       ".suggestion-error { \n",
       "font-weight: bold;\n",
       "color: red;\n",
       "}\n",
       ".suggestion-name {\n",
       "font-weight: bold;\n",
       "}\n",
       "</style><div class=\"suggestion-name\" style=\"clear:both;\">Eta reduce</div><div class=\"suggestion-row\" style=\"float: left;\"><div class=\"suggestion-warning\">Found:</div><div class=\"highlight-code\" id=\"haskell\">reverse list = foldl app [] list</div></div><div class=\"suggestion-row\" style=\"float: left;\"><div class=\"suggestion-warning\">Why Not:</div><div class=\"highlight-code\" id=\"haskell\">reverse = foldl app []</div></div>"
      ],
      "text/plain": [
       "Line 2: Eta reduce\n",
       "Found:\n",
       "reverse list = foldl app [] list\n",
       "Why not:\n",
       "reverse = foldl app []"
      ]
     },
     "metadata": {},
     "output_type": "display_data"
    }
   ],
   "source": [
    "reverse :: [a] -> [a]\n",
    "reverse list = foldl app [] list where app l x = x:l"
   ]
  },
  {
   "cell_type": "markdown",
   "id": "analyzed-formula",
   "metadata": {},
   "source": [
    "- `flip` - берет функцию аргументов, но превращает ее в функцию, которая с теми же аргументами делает функцию, только в другом порядке"
   ]
  },
  {
   "cell_type": "code",
   "execution_count": 46,
   "id": "warming-xerox",
   "metadata": {},
   "outputs": [],
   "source": [
    "flip :: (a->b->c) -> (b -> a -> c) -- возвращает в качестве результата функцию!!\n",
    "flip f = f' where f' x y = f y x"
   ]
  },
  {
   "cell_type": "code",
   "execution_count": 47,
   "id": "active-capability",
   "metadata": {},
   "outputs": [
    {
     "data": {
      "text/html": [
       "<style>/* Styles used for the Hoogle display in the pager */\n",
       ".hoogle-doc {\n",
       "display: block;\n",
       "padding-bottom: 1.3em;\n",
       "padding-left: 0.4em;\n",
       "}\n",
       ".hoogle-code {\n",
       "display: block;\n",
       "font-family: monospace;\n",
       "white-space: pre;\n",
       "}\n",
       ".hoogle-text {\n",
       "display: block;\n",
       "}\n",
       ".hoogle-name {\n",
       "color: green;\n",
       "font-weight: bold;\n",
       "}\n",
       ".hoogle-head {\n",
       "font-weight: bold;\n",
       "}\n",
       ".hoogle-sub {\n",
       "display: block;\n",
       "margin-left: 0.4em;\n",
       "}\n",
       ".hoogle-package {\n",
       "font-weight: bold;\n",
       "font-style: italic;\n",
       "}\n",
       ".hoogle-module {\n",
       "font-weight: bold;\n",
       "}\n",
       ".hoogle-class {\n",
       "font-weight: bold;\n",
       "}\n",
       ".get-type {\n",
       "color: green;\n",
       "font-weight: bold;\n",
       "font-family: monospace;\n",
       "display: block;\n",
       "white-space: pre-wrap;\n",
       "}\n",
       ".show-type {\n",
       "color: green;\n",
       "font-weight: bold;\n",
       "font-family: monospace;\n",
       "margin-left: 1em;\n",
       "}\n",
       ".mono {\n",
       "font-family: monospace;\n",
       "display: block;\n",
       "}\n",
       ".err-msg {\n",
       "color: red;\n",
       "font-style: italic;\n",
       "font-family: monospace;\n",
       "white-space: pre;\n",
       "display: block;\n",
       "}\n",
       "#unshowable {\n",
       "color: red;\n",
       "font-weight: bold;\n",
       "}\n",
       ".err-msg.in.collapse {\n",
       "padding-top: 0.7em;\n",
       "}\n",
       ".highlight-code {\n",
       "white-space: pre;\n",
       "font-family: monospace;\n",
       "}\n",
       ".suggestion-warning { \n",
       "font-weight: bold;\n",
       "color: rgb(200, 130, 0);\n",
       "}\n",
       ".suggestion-error { \n",
       "font-weight: bold;\n",
       "color: red;\n",
       "}\n",
       ".suggestion-name {\n",
       "font-weight: bold;\n",
       "}\n",
       "</style><div class=\"suggestion-name\" style=\"clear:both;\">Eta reduce</div><div class=\"suggestion-row\" style=\"float: left;\"><div class=\"suggestion-warning\">Found:</div><div class=\"highlight-code\" id=\"haskell\">reverse list = foldl (flip (:)) [] list</div></div><div class=\"suggestion-row\" style=\"float: left;\"><div class=\"suggestion-warning\">Why Not:</div><div class=\"highlight-code\" id=\"haskell\">reverse = foldl (flip (:)) []</div></div>"
      ],
      "text/plain": [
       "Line 2: Eta reduce\n",
       "Found:\n",
       "reverse list = foldl (flip (:)) [] list\n",
       "Why not:\n",
       "reverse = foldl (flip (:)) []"
      ]
     },
     "metadata": {},
     "output_type": "display_data"
    }
   ],
   "source": [
    "reverse :: [a] -> [a]\n",
    "reverse list = foldl (flip (:)) [] list"
   ]
  },
  {
   "cell_type": "markdown",
   "id": "crazy-filename",
   "metadata": {},
   "source": [
    "- `comp` `(.)` - стилизация кружка композиции - композиция двух функций"
   ]
  },
  {
   "cell_type": "code",
   "execution_count": 48,
   "id": "fixed-cooperation",
   "metadata": {},
   "outputs": [],
   "source": [
    "comp :: (b -> c) -> (a -> b) -> (a -> c)\n",
    "comp f g = fg where fg x = f (g x)"
   ]
  },
  {
   "cell_type": "code",
   "execution_count": 49,
   "id": "variable-printing",
   "metadata": {},
   "outputs": [],
   "source": [
    "(.) :: (b -> c) -> (a -> b) -> (a -> c)\n",
    "f . g = fg where fg x = f (g x)"
   ]
  },
  {
   "cell_type": "code",
   "execution_count": 50,
   "id": "upset-texas",
   "metadata": {},
   "outputs": [],
   "source": [
    "sqr :: (Num a) => a -> a\n",
    "sqr a = a * a\n",
    "power4 :: (Num a) => a -> a\n",
    "power4 = sqr .sqr"
   ]
  },
  {
   "cell_type": "markdown",
   "id": "silent-ordinance",
   "metadata": {},
   "source": [
    "### 03.3.5 Практика"
   ]
  },
  {
   "cell_type": "markdown",
   "id": "infinite-ribbon",
   "metadata": {},
   "source": [
    "#### 03.3.5.1 **Выбрать элементы из списка, делящиеся на 3**"
   ]
  },
  {
   "cell_type": "code",
   "execution_count": 51,
   "id": "marine-bunny",
   "metadata": {},
   "outputs": [],
   "source": [
    "filterList :: (a -> Bool) -> [a] -> [a]\n",
    "filterList _ [] = []\n",
    "filterList f (x:ls) | f x = x : filterList f ls\n",
    "                    | otherwise = filterList f ls"
   ]
  },
  {
   "cell_type": "code",
   "execution_count": 54,
   "id": "marked-agreement",
   "metadata": {},
   "outputs": [],
   "source": [
    "filterList :: (a -> Bool) -> [a] -> [a]\n",
    "filterList _ [] = []\n",
    "filterList f (x:ls) | f x = x : fls\n",
    "                    | otherwise = fls \n",
    "                    where fls = filterList f ls"
   ]
  },
  {
   "cell_type": "code",
   "execution_count": 58,
   "id": "occasional-secret",
   "metadata": {},
   "outputs": [
    {
     "data": {
      "text/plain": [
       "[3,6,9]"
      ]
     },
     "metadata": {},
     "output_type": "display_data"
    }
   ],
   "source": [
    "filterList (\\ x -> x `mod` 3 == 0) [1..9]"
   ]
  },
  {
   "cell_type": "markdown",
   "id": "affiliated-ethernet",
   "metadata": {},
   "source": [
    "Взять первые 10 таких элементов."
   ]
  },
  {
   "cell_type": "code",
   "execution_count": 61,
   "id": "practical-accountability",
   "metadata": {},
   "outputs": [
    {
     "data": {
      "text/plain": [
       "[3,6,9,12,15,18,21,24,27,30]"
      ]
     },
     "metadata": {},
     "output_type": "display_data"
    }
   ],
   "source": [
    "take 10 $ filterList (\\ x -> x `mod` 3 == 0) [1..100000]"
   ]
  },
  {
   "cell_type": "markdown",
   "id": "proud-chambers",
   "metadata": {},
   "source": [
    "> Есть встроенная функция `filter`!"
   ]
  },
  {
   "cell_type": "markdown",
   "id": "peaceful-status",
   "metadata": {},
   "source": [
    "#### 03.3.5.2 **Список индексов элементов делящиеся на 3**"
   ]
  },
  {
   "cell_type": "code",
   "execution_count": 65,
   "id": "opposed-pharmacology",
   "metadata": {},
   "outputs": [
    {
     "ename": "",
     "evalue": "",
     "output_type": "error",
     "traceback": [
      "<interactive>:2:13: error:\n    • Couldn't match type ‘Integer’ with ‘Int’\n      Expected type: [Int]\n        Actual type: [Integer]\n    • In the expression: map fst $ filter (\\ (i, x) -> f x) $ zip [0 .. length list - 1] list\n      In an equation for ‘fi’: fi f list = map fst $ filter (\\ (i, x) -> f x) $ zip [0 .. length list - 1] list\n<interactive>:2:17: error:\n    • Couldn't match type ‘Integer’ with ‘(Integer, b0)’\n      Expected type: Integer -> Integer\n        Actual type: (Integer, b0) -> Integer\n    • In the first argument of ‘map’, namely ‘fst’\n      In the expression: map fst\n      In the expression: map fst $ filter (\\ (i, x) -> f x) $ zip [0 .. length list - 1] list\n<interactive>:2:23: error:\n    • Couldn't match type ‘(Int, a)’ with ‘Integer’\n      Expected type: [Integer]\n        Actual type: [(Int, a)]\n    • In the second argument of ‘($)’, namely ‘filter (\\ (i, x) -> f x) $ zip [0 .. length list - 1] list’\n      In the expression: map fst $ filter (\\ (i, x) -> f x) $ zip [0 .. length list - 1] list\n      In an equation for ‘fi’: fi f list = map fst $ filter (\\ (i, x) -> f x) $ zip [0 .. length list - 1] list\n    • Relevant bindings include\n        list :: [a] (bound at <interactive>:2:6)\n        f :: a -> Bool (bound at <interactive>:2:4)\n        fi :: (a -> Bool) -> [a] -> [Int] (bound at <interactive>:2:1)"
     ]
    }
   ],
   "source": [
    "fi :: (a -> Bool) -> [a] -> [Int]\n",
    "fi f list = map fst $ filter (\\(i, x) -> f x) $ zip [0..length list-1] list"
   ]
  }
 ],
 "metadata": {
  "kernelspec": {
   "display_name": "Haskell",
   "language": "haskell",
   "name": "haskell"
  },
  "language_info": {
   "codemirror_mode": "ihaskell",
   "file_extension": ".hs",
   "mimetype": "text/x-haskell",
   "name": "haskell",
   "pygments_lexer": "Haskell",
   "version": "8.8.4"
  }
 },
 "nbformat": 4,
 "nbformat_minor": 5
}
