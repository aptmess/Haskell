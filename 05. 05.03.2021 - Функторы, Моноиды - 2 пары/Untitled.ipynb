{
 "cells": [
  {
   "cell_type": "code",
   "execution_count": 1,
   "id": "velvet-excerpt",
   "metadata": {},
   "outputs": [],
   "source": [
    "import numpy as np"
   ]
  },
  {
   "cell_type": "code",
   "execution_count": 23,
   "id": "finite-brighton",
   "metadata": {},
   "outputs": [],
   "source": [
    "def entropy(x):\n",
    "    _, counts = np.unique(x, return_counts=True)\n",
    "    \n",
    "    prob = counts / counts.sum()\n",
    "    entropy = np.sum(prob * -np.log2(prob))\n",
    "    return entropy"
   ]
  },
  {
   "cell_type": "code",
   "execution_count": 21,
   "id": "governing-magnitude",
   "metadata": {},
   "outputs": [],
   "source": [
    "s = [0, 1, 0, 1, 0, 1]"
   ]
  },
  {
   "cell_type": "code",
   "execution_count": 22,
   "id": "comic-mentor",
   "metadata": {},
   "outputs": [
    {
     "data": {
      "text/plain": [
       "1.0"
      ]
     },
     "execution_count": 22,
     "metadata": {},
     "output_type": "execute_result"
    }
   ],
   "source": [
    "entropy(s)"
   ]
  },
  {
   "cell_type": "code",
   "execution_count": 28,
   "id": "devoted-henry",
   "metadata": {},
   "outputs": [],
   "source": [
    "img = np.array([[[1, 2, 3],[2, 3, 4], [4, 5, 6]], \n",
    "                [[3, 1, 2],[4, 5, 2], [5, 3, 2]], \n",
    "                [[3, 1, 2],[4, 5, 2], [5, 3, 2]],\n",
    "               [[3, 1, 2],[4, 5, 2], [5, 3, 2]]])"
   ]
  },
  {
   "cell_type": "code",
   "execution_count": 32,
   "id": "promotional-beverage",
   "metadata": {},
   "outputs": [
    {
     "data": {
      "text/plain": [
       "(4, 3, 3)"
      ]
     },
     "execution_count": 32,
     "metadata": {},
     "output_type": "execute_result"
    }
   ],
   "source": [
    "img.shape"
   ]
  },
  {
   "cell_type": "code",
   "execution_count": null,
   "id": "killing-evening",
   "metadata": {},
   "outputs": [],
   "source": []
  }
 ],
 "metadata": {
  "kernelspec": {
   "display_name": "Python 3",
   "language": "python",
   "name": "python3"
  },
  "language_info": {
   "codemirror_mode": {
    "name": "ipython",
    "version": 3
   },
   "file_extension": ".py",
   "mimetype": "text/x-python",
   "name": "python",
   "nbconvert_exporter": "python",
   "pygments_lexer": "ipython3",
   "version": "3.8.5"
  }
 },
 "nbformat": 4,
 "nbformat_minor": 5
}
