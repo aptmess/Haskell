{
 "cells": [
  {
   "cell_type": "markdown",
   "id": "future-federation",
   "metadata": {},
   "source": [
    "# 05. Функторы, Моноиды\n",
    "\n",
    "<div style=\"text-align: right\"> \n",
    "    \n",
    "    Лекция 5.1 05/03/21 \n",
    "    \n",
    "    Кубенский Александр Александрович\n",
    "    \n",
    "    akoubensky@gmail.com\n",
    "</div> "
   ]
  },
  {
   "cell_type": "markdown",
   "id": "solved-excitement",
   "metadata": {},
   "source": [
    "## Класс типов `Functor`"
   ]
  },
  {
   "cell_type": "markdown",
   "id": "naval-tablet",
   "metadata": {},
   "source": [
    "Приступим к рассмотрению класса типов `Functor`, предназначенного для типов, **которые могут быть отображены друг в друга.**"
   ]
  },
  {
   "cell_type": "code",
   "execution_count": null,
   "id": "circular-public",
   "metadata": {},
   "outputs": [],
   "source": [
    "class Functor f\n",
    "        where fmap :: (a -> b) -> f a -> f b"
   ]
  },
  {
   "cell_type": "markdown",
   "id": "opposite-ballot",
   "metadata": {},
   "source": [
    "```haskell\n",
    "fmap :: (a -> b) -> f a -> f b\n",
    "```"
   ]
  },
  {
   "cell_type": "markdown",
   "id": "sunrise-encoding",
   "metadata": {},
   "source": [
    "Что-то мне напоминает объявление функции fmap - да, похожа на `map`:\n",
    "\n",
    "```haskell\n",
    "map :: (a -> b) -> [a] -> [b]\n",
    "```"
   ]
  },
  {
   "cell_type": "markdown",
   "id": "indoor-structure",
   "metadata": {},
   "source": [
    "Функция `map` берёт функцию из `a` в `b` и список элементов типа `а` и возвращает список элементов типа `b`. Фактически функция `map` – это \n",
    "функция `fmap`, которая работает только на списках. Вот как список \n",
    "сделан экземпляром класса Functor:"
   ]
  },
  {
   "cell_type": "code",
   "execution_count": null,
   "id": "missing-falls",
   "metadata": {},
   "outputs": [],
   "source": [
    "instance Functor [] where\n",
    "fmap = map"
   ]
  },
  {
   "cell_type": "markdown",
   "id": "married-glass",
   "metadata": {},
   "source": [
    "Из определния функции видим, что параметр `f` должен быть конструктором типов, принимающим один тип."
   ]
  },
  {
   "cell_type": "markdown",
   "id": "alpine-junction",
   "metadata": {},
   "source": [
    "Так как для списков функция `fmap` – это просто `map`, то мы получим одинаковые результаты при их использовании на списках:"
   ]
  },
  {
   "cell_type": "code",
   "execution_count": 3,
   "id": "artistic-crack",
   "metadata": {},
   "outputs": [
    {
     "data": {
      "text/plain": [
       "[2,4,6]"
      ]
     },
     "metadata": {},
     "output_type": "display_data"
    },
    {
     "data": {
      "text/plain": [
       "[2,4,6]"
      ]
     },
     "metadata": {},
     "output_type": "display_data"
    }
   ],
   "source": [
    "fmap (*2) [1..3]\n",
    "map (*2) [1..3]"
   ]
  },
  {
   "cell_type": "markdown",
   "id": "lesser-controversy",
   "metadata": {},
   "source": [
    "Что случится, если применить функцию map или fmap к пустому \n",
    "списку? Мы получим опять же пустой список. Но функция `fmap`\n",
    "преобразует пустой список типа `[a]` в пустой список типа `[b]`.\n"
   ]
  },
  {
   "cell_type": "markdown",
   "id": "multiple-prime",
   "metadata": {},
   "source": [
    "### Экземпляр класса Functor для типа Maybe"
   ]
  },
  {
   "cell_type": "markdown",
   "id": "historic-hello",
   "metadata": {},
   "source": [
    "А что ещё умеет быть контейнером для других типов? Например, тип `Maybe`. Он может быть  «пустой коробкой», и в этом случае имеет значение `Nothing`, или же  в нём хранится какое-то одно значение, например `\"ХА-ХА\"`, и тогда он равен `Just \"ХА-ХА\"`."
   ]
  },
  {
   "cell_type": "markdown",
   "id": "directed-lemon",
   "metadata": {},
   "source": [
    "Вот как тип `Maybe` сделан функтором:\n",
    "\n",
    "```haskell\n",
    "instance Functor Maybe where\n",
    "fmap f (Just x) = Just (f x)\n",
    "fmap f Nothing = Nothing\n",
    "\n",
    "```"
   ]
  },
  {
   "cell_type": "markdown",
   "id": "democratic-credit",
   "metadata": {},
   "source": [
    "Функтор принимает  конструктор типа с одним параметром, не конкретный тип. Если  вы мысленно замените параметр `f` на `Maybe`, функция `fmap` работает  как `(a –> b) –> Maybe a –> Maybe b`, только для типа `Maybe`, что вполне себя оправдывает"
   ]
  },
  {
   "cell_type": "markdown",
   "id": "awful-biodiversity",
   "metadata": {},
   "source": [
    "Если значение типа Maybe – это `Nothing`, *возвращается Nothing*. Если \n",
    "мы отображаем «пустую коробку», мы получим «пустую коробку», \n",
    "что логично. Точно так же функция `map` для пустого списка возвратит пустой список.\n",
    "\n",
    "Если это не пустое значение, а некоторое значение, упакованное в конструктор `Just`, то мы применяем функцию к содержимому `Just`:"
   ]
  },
  {
   "cell_type": "code",
   "execution_count": 5,
   "id": "preceding-garage",
   "metadata": {},
   "outputs": [
    {
     "data": {
      "text/plain": [
       "Just \"FUNNY JOKE. HI, I AM INSIDE JUST\""
      ]
     },
     "metadata": {},
     "output_type": "display_data"
    },
    {
     "data": {
      "text/plain": [
       "Nothing"
      ]
     },
     "metadata": {},
     "output_type": "display_data"
    },
    {
     "data": {
      "text/plain": [
       "Just 400"
      ]
     },
     "metadata": {},
     "output_type": "display_data"
    },
    {
     "data": {
      "text/plain": [
       "Nothing"
      ]
     },
     "metadata": {},
     "output_type": "display_data"
    }
   ],
   "source": [
    "fmap (++ \" HI, I AM INSIDE JUST\") (Just \"FUNNY JOKE.\")\n",
    "fmap (++ \" HI, I AM INSIDEИ JUST\") Nothing\n",
    "fmap (*2) (Just 200)\n",
    "fmap (*2) Nothing"
   ]
  },
  {
   "cell_type": "markdown",
   "id": "durable-empire",
   "metadata": {},
   "source": [
    "## Функторы - теория"
   ]
  },
  {
   "attachments": {},
   "cell_type": "markdown",
   "id": "suitable-contemporary",
   "metadata": {},
   "source": [
    "Для того, чтобы функции, заявленные в классе, имели бы один и тот же смысл для всех типов, которые определены как «экземпляры» этого класса, следует описать «контракт» – набор правил, которым должны удовлетворять функции.\n",
    "\n",
    "Такой контракт определяется неформально, то есть он никак не проверяется (да и не может быть проверен) системой. Описание контракта обычно описывается в виде уравнений, которым должны удовлетворять функции класса."
   ]
  },
  {
   "attachments": {},
   "cell_type": "markdown",
   "id": "swedish-lafayette",
   "metadata": {},
   "source": [
    "Контракт для класса Functor:\n",
    "\n",
    "```haskell\n",
    "fmap id         == id\n",
    "fmap (f . g)    == fmap f . fmap g\n",
    "```"
   ]
  },
  {
   "attachments": {},
   "cell_type": "markdown",
   "id": "aboriginal-knock",
   "metadata": {},
   "source": [
    "Конструктор `((->) a)` задает тип функций с заданным типом аргумента. Функцию можно рассматривать как «структуру», если считать, что функция – это некоторая «таблица». Тогда аргумент f функции fmap может применяться к «столбцу значений» таблицы, то есть к результатам работы функции. Отсюда:\n",
    "\n",
    "```haskell\n",
    "instance Functor ((->) a) where fmap f g == f . g\n",
    "```\n"
   ]
  },
  {
   "attachments": {},
   "cell_type": "markdown",
   "id": "veterinary-basics",
   "metadata": {},
   "source": [
    "Контракт класса Functor соблюдён для типа `((->) a)`!"
   ]
  },
  {
   "cell_type": "markdown",
   "id": "apparent-butler",
   "metadata": {},
   "source": [
    "## Класс Моноиды"
   ]
  },
  {
   "attachments": {},
   "cell_type": "markdown",
   "id": "connected-membrane",
   "metadata": {},
   "source": [
    "В алгебре моноид – это множество объектов с определенной на нем ассоциативной бинарной операцией и нейтральным элементом.\n",
    "\n",
    "**Опр**: В Haskell **Monoid** – это класс, в котором определен *нейтральный элемент* (константа) и *бинарная операция*, ассоциативность которой определена контрактом.\n",
    "\n",
    "```haskell\n",
    "class Monoid a where\n",
    "mempty  :: a\n",
    "mappend :: a -> a -> a\n",
    "mconcat :: [a] -> a\n",
    "mconcat = foldr mappend empty\n",
    "```\n",
    "\n",
    "Для функции mappend определен также синоним – оператор (`<>`).\n"
   ]
  },
  {
   "attachments": {},
   "cell_type": "markdown",
   "id": "found-culture",
   "metadata": {},
   "source": [
    "Контракт для моноида абсолютно естествен:\n",
    "\n",
    "```haskell\n",
    "mempty <> v    ==  v --проверяем, что элемент действительный нейтральный\n",
    "v <> mempty    ==  v --проверяем, что элемент действительный нейтральный\n",
    "(u <> v) <> w  ==  u <> (v <> w) -- поверка операции ассоциативности\n",
    "```"
   ]
  },
  {
   "attachments": {},
   "cell_type": "markdown",
   "id": "jewish-manhattan",
   "metadata": {},
   "source": [
    "Легко определить экземпляр типа списка для моноида:\n",
    "\n",
    "```haskell\n",
    "instance Monoid [] where\n",
    "mempty  =  [] --нейтральный элемент для списка\n",
    "mappend =  (++) -- конкатенация списков\n",
    "```"
   ]
  },
  {
   "cell_type": "markdown",
   "id": "casual-report",
   "metadata": {},
   "source": [
    "## Моноиды для числовых типов"
   ]
  },
  {
   "attachments": {},
   "cell_type": "markdown",
   "id": "fifteen-salad",
   "metadata": {},
   "source": [
    "Гораздо сложнее определить моноидные операции для числовых типов, "
   ]
  },
  {
   "attachments": {},
   "cell_type": "markdown",
   "id": "technological-terminal",
   "metadata": {},
   "source": [
    "```haskell\n",
    "instance Num a => Monoid a where\n",
    "mempty  =  0\n",
    "mappend =  (+)\n",
    "```\n",
    "\n",
    "Это определение работает, только непонятно, почему не\n",
    "\n",
    "```haskell\n",
    "instance Num a => Monoid a where\n",
    "mempty  =  1\n",
    "mappend =  (*)\n",
    "```"
   ]
  },
  {
   "attachments": {},
   "cell_type": "markdown",
   "id": "raising-calibration",
   "metadata": {},
   "source": [
    "Сделаем следующие определения типов:\n",
    "\n",
    "```haskell\n",
    "newtype Sum a = Sum { getSum :: a } deriving (Eq, Ord, Show)\n",
    "newtype Product a = Product {getProduct :: a } deriving (Eq, Ord, Show)\n",
    "```"
   ]
  },
  {
   "cell_type": "markdown",
   "id": "arabic-girlfriend",
   "metadata": {},
   "source": [
    "Теперь можем определить экземпляры Моноида для двух разных типов - `Sum` и `Product`."
   ]
  },
  {
   "attachments": {},
   "cell_type": "markdown",
   "id": "configured-retreat",
   "metadata": {},
   "source": [
    "Над значениями этих типов также определены все арифметические операции, поскольку имеются определения:\n",
    "\n",
    "```haskell\n",
    "instance Num a => Sum a where ...\n",
    "instance Num a => Product a where ...\n",
    "```"
   ]
  },
  {
   "attachments": {},
   "cell_type": "markdown",
   "id": "loaded-funeral",
   "metadata": {},
   "source": [
    "Теперь можно определить\n",
    "\n",
    "```haskell\n",
    "instance Num a => Monoid (Sum a) where\n",
    "mempty  =  Sum 0 -- нейтральный элемент для суммы\n",
    "mappend =  (+)\n",
    "\n",
    "instance Num a => Monoid (Product a) where\n",
    "mempty  =  Product 1 -- нейтральный элемент для произведения\n",
    "mappend =  (*)\n",
    "```"
   ]
  },
  {
   "cell_type": "markdown",
   "id": "material-pointer",
   "metadata": {},
   "source": [
    "## Свёртки структур данных"
   ]
  },
  {
   "attachments": {},
   "cell_type": "markdown",
   "id": "suitable-heart",
   "metadata": {},
   "source": [
    "Для списков определены операции свёртки `foldl` и `foldr`, которые позволяют «сворачивать» список с помощью любой бинарной операции (не обязательно ассоциативной). \n",
    "\n",
    "Но если бинарная операция **ассоциативна**, то возникает новая возможность выполнять свёртку «параллельно» с разными частями списка - логично.\n",
    "\n",
    "В качестве начального значения берётся нейтральный элемент.\n",
    "\n",
    "Такой «фокус» можно проделывать с любой структурой, содержащей упорядоченный набор элементов. Поэтому определён класс `Foldable` **сворачиваемых структур**."
   ]
  },
  {
   "attachments": {},
   "cell_type": "markdown",
   "id": "growing-momentum",
   "metadata": {},
   "source": [
    "В этом классе определены многие функции, которые раньше определялись нами только для списков:\n",
    "- `foldr`\n",
    "- `sum`\n",
    "- `maximum`\n",
    "- `null`\n",
    "- `length`\n",
    "- `elem`"
   ]
  },
  {
   "attachments": {},
   "cell_type": "markdown",
   "id": "thermal-potato",
   "metadata": {},
   "source": [
    "Все эти функции могут быть *определены* через **основную функцию** `foldMap`; ещё одна функция, определяемая через `foldMap` – это `fold`"
   ]
  },
  {
   "attachments": {},
   "cell_type": "markdown",
   "id": "abroad-assets",
   "metadata": {},
   "source": [
    "```haskell\n",
    "class Foldable t where\n",
    "foldMap :: Monoid m => (a -> m) -> t a -> m -- основная функция, говорит о том, как применять Моноидные операции. Может быть определена, если есть Monoid\n",
    "fold    :: Monoid m => t m -> m -- элементы структуры являются моноидами, тождественная функция\n",
    "fold s  =  foldMap id s\n",
    "```"
   ]
  },
  {
   "attachments": {},
   "cell_type": "markdown",
   "id": "statistical-elizabeth",
   "metadata": {},
   "source": [
    "Для списков свёртка выглядит следующим образом:\n",
    "\n",
    "```haskell\n",
    "instance Foldable [] where\n",
    "foldMap f list  =  foldr (<>) mempty (map f list)\n",
    "```"
   ]
  },
  {
   "cell_type": "markdown",
   "id": "bulgarian-visibility",
   "metadata": {},
   "source": [
    "Дерево является **сворачиваемой** структурой."
   ]
  },
  {
   "attachments": {},
   "cell_type": "markdown",
   "id": "appointed-judges",
   "metadata": {},
   "source": [
    "## Аппликативные функторы"
   ]
  },
  {
   "cell_type": "markdown",
   "id": "funded-aggregate",
   "metadata": {},
   "source": [
    "Поговорим про другие классы и закончим дело определением важного класса `Монада`. Определим класс **Аппликативных функторов**."
   ]
  },
  {
   "attachments": {},
   "cell_type": "markdown",
   "id": "noticed-mining",
   "metadata": {},
   "source": [
    "```haskell\n",
    "class Functor f => Applicative f where\n",
    "pure   :: a -> f a -- поднимает значение в структуру\n",
    "(<*>)  :: f (a -> b) -> f a -> f b -- первая структура содержит функцию, а вторая структура содержит элементы\n",
    "```"
   ]
  },
  {
   "attachments": {},
   "cell_type": "markdown",
   "id": "grateful-playlist",
   "metadata": {},
   "source": [
    "Функтор - класс, в котором определена операция отображения. \n",
    "\n",
    "Класс Functor содержит функцию fmap, с помощью которой можно применять одну функцию к элементам некоторой `структуры`. Если функций несколько, причем они находятся внутри такой же структуры, то можно попробовать **построить структуру из всевозможных применений всех функций к элементам базовой структуры.**\n",
    "\n",
    "Может оказаться, что функция находится внутри структуры данных. Нельзя ли применить данную функцию и сделать всевозможные операции. Тогда есть смысл применять эти функции ко всем другим структурам."
   ]
  },
  {
   "attachments": {},
   "cell_type": "markdown",
   "id": "equal-accuracy",
   "metadata": {},
   "source": [
    "Функция `pur`e обычно используется для того, чтобы **«поднять»** функцию или операцию в «структуру». \n",
    "\n",
    "Функция `(<*>)` применяет такую операцию ко всем элементам структуры так, как это делает **fmap, получая новую структуру.**"
   ]
  },
  {
   "attachments": {},
   "cell_type": "markdown",
   "id": "healthy-graduate",
   "metadata": {},
   "source": [
    "Удвоение всех элементов числового списка можно выполнить, применив `fmap`, но можно сделать это и с помощью операций **pure** и `(<*>)`."
   ]
  },
  {
   "cell_type": "code",
   "execution_count": 17,
   "id": "continuing-helmet",
   "metadata": {},
   "outputs": [
    {
     "data": {
      "text/plain": [
       "[6,14,18,2]"
      ]
     },
     "metadata": {},
     "output_type": "display_data"
    }
   ],
   "source": [
    "fmap (*2) [3,7,9,1]"
   ]
  },
  {
   "cell_type": "code",
   "execution_count": 18,
   "id": "forward-motor",
   "metadata": {},
   "outputs": [
    {
     "data": {
      "text/html": [
       "<style>/* Styles used for the Hoogle display in the pager */\n",
       ".hoogle-doc {\n",
       "display: block;\n",
       "padding-bottom: 1.3em;\n",
       "padding-left: 0.4em;\n",
       "}\n",
       ".hoogle-code {\n",
       "display: block;\n",
       "font-family: monospace;\n",
       "white-space: pre;\n",
       "}\n",
       ".hoogle-text {\n",
       "display: block;\n",
       "}\n",
       ".hoogle-name {\n",
       "color: green;\n",
       "font-weight: bold;\n",
       "}\n",
       ".hoogle-head {\n",
       "font-weight: bold;\n",
       "}\n",
       ".hoogle-sub {\n",
       "display: block;\n",
       "margin-left: 0.4em;\n",
       "}\n",
       ".hoogle-package {\n",
       "font-weight: bold;\n",
       "font-style: italic;\n",
       "}\n",
       ".hoogle-module {\n",
       "font-weight: bold;\n",
       "}\n",
       ".hoogle-class {\n",
       "font-weight: bold;\n",
       "}\n",
       ".get-type {\n",
       "color: green;\n",
       "font-weight: bold;\n",
       "font-family: monospace;\n",
       "display: block;\n",
       "white-space: pre-wrap;\n",
       "}\n",
       ".show-type {\n",
       "color: green;\n",
       "font-weight: bold;\n",
       "font-family: monospace;\n",
       "margin-left: 1em;\n",
       "}\n",
       ".mono {\n",
       "font-family: monospace;\n",
       "display: block;\n",
       "}\n",
       ".err-msg {\n",
       "color: red;\n",
       "font-style: italic;\n",
       "font-family: monospace;\n",
       "white-space: pre;\n",
       "display: block;\n",
       "}\n",
       "#unshowable {\n",
       "color: red;\n",
       "font-weight: bold;\n",
       "}\n",
       ".err-msg.in.collapse {\n",
       "padding-top: 0.7em;\n",
       "}\n",
       ".highlight-code {\n",
       "white-space: pre;\n",
       "font-family: monospace;\n",
       "}\n",
       ".suggestion-warning { \n",
       "font-weight: bold;\n",
       "color: rgb(200, 130, 0);\n",
       "}\n",
       ".suggestion-error { \n",
       "font-weight: bold;\n",
       "color: red;\n",
       "}\n",
       ".suggestion-name {\n",
       "font-weight: bold;\n",
       "}\n",
       "</style><div class=\"suggestion-name\" style=\"clear:both;\">Use <$></div><div class=\"suggestion-row\" style=\"float: left;\"><div class=\"suggestion-warning\">Found:</div><div class=\"highlight-code\" id=\"haskell\">pure (* 2) <*> [3, 7, 9, 1]</div></div><div class=\"suggestion-row\" style=\"float: left;\"><div class=\"suggestion-warning\">Why Not:</div><div class=\"highlight-code\" id=\"haskell\">(* 2) <$> [3, 7, 9, 1]</div></div>"
      ],
      "text/plain": [
       "Line 1: Use <$>\n",
       "Found:\n",
       "pure (* 2) <*> [3, 7, 9, 1]\n",
       "Why not:\n",
       "(* 2) <$> [3, 7, 9, 1]"
      ]
     },
     "metadata": {},
     "output_type": "display_data"
    },
    {
     "data": {
      "text/plain": [
       "[6,14,18,2]"
      ]
     },
     "metadata": {},
     "output_type": "display_data"
    }
   ],
   "source": [
    "pure (*2) <*> [3,7,9,1] -- операцию умножения поднимаем до уровня структуры данных\n",
    "-- образуя список из единственной функции, а затем применяем операцию \n",
    "-- из класса Applicative"
   ]
  },
  {
   "attachments": {},
   "cell_type": "markdown",
   "id": "surprised-conservative",
   "metadata": {},
   "source": [
    "Но, конечно, более интересно использовать функции нескольких аргументов для получения списка всевозможных результатов, например:\n",
    "\n",
    "Пусть есть два списка\n",
    "\n",
    "```haskell\n",
    "t1 = [2, 4]\n",
    "t2 = [3, 4, 5]\n",
    "```\n",
    "\n",
    "Поднимем бинарную операцию умножению в структуру предложения. Получаем список из двух функций - функция, умножающая на два и умножающая на 4:\n",
    "\n",
    "```haskell\n",
    "let t3 = [*2, *4]\n",
    "```\n",
    "\n",
    "Затем мы можем данные функции применять ко всем элементам списка [3,4,5] - можем проталкивать операцию внутрь структуры данных."
   ]
  },
  {
   "cell_type": "code",
   "execution_count": 22,
   "id": "confident-exchange",
   "metadata": {},
   "outputs": [
    {
     "data": {
      "text/html": [
       "<style>/* Styles used for the Hoogle display in the pager */\n",
       ".hoogle-doc {\n",
       "display: block;\n",
       "padding-bottom: 1.3em;\n",
       "padding-left: 0.4em;\n",
       "}\n",
       ".hoogle-code {\n",
       "display: block;\n",
       "font-family: monospace;\n",
       "white-space: pre;\n",
       "}\n",
       ".hoogle-text {\n",
       "display: block;\n",
       "}\n",
       ".hoogle-name {\n",
       "color: green;\n",
       "font-weight: bold;\n",
       "}\n",
       ".hoogle-head {\n",
       "font-weight: bold;\n",
       "}\n",
       ".hoogle-sub {\n",
       "display: block;\n",
       "margin-left: 0.4em;\n",
       "}\n",
       ".hoogle-package {\n",
       "font-weight: bold;\n",
       "font-style: italic;\n",
       "}\n",
       ".hoogle-module {\n",
       "font-weight: bold;\n",
       "}\n",
       ".hoogle-class {\n",
       "font-weight: bold;\n",
       "}\n",
       ".get-type {\n",
       "color: green;\n",
       "font-weight: bold;\n",
       "font-family: monospace;\n",
       "display: block;\n",
       "white-space: pre-wrap;\n",
       "}\n",
       ".show-type {\n",
       "color: green;\n",
       "font-weight: bold;\n",
       "font-family: monospace;\n",
       "margin-left: 1em;\n",
       "}\n",
       ".mono {\n",
       "font-family: monospace;\n",
       "display: block;\n",
       "}\n",
       ".err-msg {\n",
       "color: red;\n",
       "font-style: italic;\n",
       "font-family: monospace;\n",
       "white-space: pre;\n",
       "display: block;\n",
       "}\n",
       "#unshowable {\n",
       "color: red;\n",
       "font-weight: bold;\n",
       "}\n",
       ".err-msg.in.collapse {\n",
       "padding-top: 0.7em;\n",
       "}\n",
       ".highlight-code {\n",
       "white-space: pre;\n",
       "font-family: monospace;\n",
       "}\n",
       ".suggestion-warning { \n",
       "font-weight: bold;\n",
       "color: rgb(200, 130, 0);\n",
       "}\n",
       ".suggestion-error { \n",
       "font-weight: bold;\n",
       "color: red;\n",
       "}\n",
       ".suggestion-name {\n",
       "font-weight: bold;\n",
       "}\n",
       "</style><div class=\"suggestion-name\" style=\"clear:both;\">Use <$></div><div class=\"suggestion-row\" style=\"float: left;\"><div class=\"suggestion-warning\">Found:</div><div class=\"highlight-code\" id=\"haskell\">pure (*) <*> [2, 4]</div></div><div class=\"suggestion-row\" style=\"float: left;\"><div class=\"suggestion-warning\">Why Not:</div><div class=\"highlight-code\" id=\"haskell\">((*) <$> [2, 4])</div></div>"
      ],
      "text/plain": [
       "Line 1: Use <$>\n",
       "Found:\n",
       "pure (*) <*> [2, 4]\n",
       "Why not:\n",
       "((*) <$> [2, 4])"
      ]
     },
     "metadata": {},
     "output_type": "display_data"
    },
    {
     "data": {
      "text/plain": [
       "[6,8,10,12,16,20]"
      ]
     },
     "metadata": {},
     "output_type": "display_data"
    }
   ],
   "source": [
    "pure (*) <*> [2,4] <*> [3..5]"
   ]
  },
  {
   "cell_type": "markdown",
   "id": "recreational-benjamin",
   "metadata": {},
   "source": [
    "Еще один пример:"
   ]
  },
  {
   "cell_type": "code",
   "execution_count": 28,
   "id": "dietary-contribution",
   "metadata": {},
   "outputs": [
    {
     "data": {
      "text/html": [
       "<style>/* Styles used for the Hoogle display in the pager */\n",
       ".hoogle-doc {\n",
       "display: block;\n",
       "padding-bottom: 1.3em;\n",
       "padding-left: 0.4em;\n",
       "}\n",
       ".hoogle-code {\n",
       "display: block;\n",
       "font-family: monospace;\n",
       "white-space: pre;\n",
       "}\n",
       ".hoogle-text {\n",
       "display: block;\n",
       "}\n",
       ".hoogle-name {\n",
       "color: green;\n",
       "font-weight: bold;\n",
       "}\n",
       ".hoogle-head {\n",
       "font-weight: bold;\n",
       "}\n",
       ".hoogle-sub {\n",
       "display: block;\n",
       "margin-left: 0.4em;\n",
       "}\n",
       ".hoogle-package {\n",
       "font-weight: bold;\n",
       "font-style: italic;\n",
       "}\n",
       ".hoogle-module {\n",
       "font-weight: bold;\n",
       "}\n",
       ".hoogle-class {\n",
       "font-weight: bold;\n",
       "}\n",
       ".get-type {\n",
       "color: green;\n",
       "font-weight: bold;\n",
       "font-family: monospace;\n",
       "display: block;\n",
       "white-space: pre-wrap;\n",
       "}\n",
       ".show-type {\n",
       "color: green;\n",
       "font-weight: bold;\n",
       "font-family: monospace;\n",
       "margin-left: 1em;\n",
       "}\n",
       ".mono {\n",
       "font-family: monospace;\n",
       "display: block;\n",
       "}\n",
       ".err-msg {\n",
       "color: red;\n",
       "font-style: italic;\n",
       "font-family: monospace;\n",
       "white-space: pre;\n",
       "display: block;\n",
       "}\n",
       "#unshowable {\n",
       "color: red;\n",
       "font-weight: bold;\n",
       "}\n",
       ".err-msg.in.collapse {\n",
       "padding-top: 0.7em;\n",
       "}\n",
       ".highlight-code {\n",
       "white-space: pre;\n",
       "font-family: monospace;\n",
       "}\n",
       ".suggestion-warning { \n",
       "font-weight: bold;\n",
       "color: rgb(200, 130, 0);\n",
       "}\n",
       ".suggestion-error { \n",
       "font-weight: bold;\n",
       "color: red;\n",
       "}\n",
       ".suggestion-name {\n",
       "font-weight: bold;\n",
       "}\n",
       "</style><div class=\"suggestion-name\" style=\"clear:both;\">Use <$></div><div class=\"suggestion-row\" style=\"float: left;\"><div class=\"suggestion-warning\">Found:</div><div class=\"highlight-code\" id=\"haskell\">pure zip3 <*> [[4]]</div></div><div class=\"suggestion-row\" style=\"float: left;\"><div class=\"suggestion-warning\">Why Not:</div><div class=\"highlight-code\" id=\"haskell\">(zip3 <$> [[4]])</div></div>"
      ],
      "text/plain": [
       "Line 1: Use <$>\n",
       "Found:\n",
       "pure zip3 <*> [[4]]\n",
       "Why not:\n",
       "(zip3 <$> [[4]])"
      ]
     },
     "metadata": {},
     "output_type": "display_data"
    },
    {
     "data": {
      "text/plain": [
       "[[(4,4,1)],[(4,4,2)],[(4,5,1)],[(4,5,2)]]"
      ]
     },
     "metadata": {},
     "output_type": "display_data"
    }
   ],
   "source": [
    "pure zip3 <*> [[4]] <*> [[4],[5]] <*> [[1],[2]]"
   ]
  },
  {
   "cell_type": "markdown",
   "id": "pressing-rolling",
   "metadata": {},
   "source": [
    "## Контракт для класса Applicative"
   ]
  },
  {
   "cell_type": "markdown",
   "id": "worst-scottish",
   "metadata": {},
   "source": [
    "```haskell\n",
    "class Functor f => Applicative f where\n",
    "pure   :: a -> f a\n",
    "(<*>)  :: f (a -> b) -> f a -> f b\n",
    "\n",
    "```"
   ]
  },
  {
   "attachments": {},
   "cell_type": "markdown",
   "id": "inclusive-firewall",
   "metadata": {},
   "source": [
    "Контракт для функций этого класса содержит 4 правила:\n",
    "\n",
    " ```haskell \n",
    "1. pure id <*> v               =  v -- если тождественную функцию поднимаем в структуру данных, то она остается такой же\n",
    "2. pure (.) <*> u <*> v <*> w  =  u <*> (v <*> w) -- если поднимаем функцию композиций, то записываем по правилу композиций\n",
    "3. pure f <*> pure x           =  pure (f x) -- то же самое, неважно в каком порядке\n",
    "\n",
    "4. x <*> pure y                =  pure ($ y) <*> x -- если есть x и есть структура, в которой мы подняли y, то результат применения == если бы мы подняли операцию применения функции к аргументу y и затем мы бы это использовали для x\n",
    "\n",
    "$ y -- применение некоторой функци к аргументу y\n",
    "```"
   ]
  },
  {
   "attachments": {},
   "cell_type": "markdown",
   "id": "specified-thong",
   "metadata": {},
   "source": [
    "Проверим выполнение этого контракта для:\n",
    "\n",
    "```haskell\n",
    "instance Applicative Maybe where\n",
    "pure x                 =  Just x\n",
    "(Just f) <*> (Just v)  =  Just (f v) \n",
    "_ <*> _                =  Nothing\n",
    "```"
   ]
  },
  {
   "attachments": {},
   "cell_type": "markdown",
   "id": "copyrighted-cleaner",
   "metadata": {},
   "source": [
    "В пакете `Control.Applicative` определены ещё две удобные функции:\n",
    "\n",
    "```haskell\n",
    "liftA2 f a b    =  pure f <*> a <*> b\n",
    "liftA3 f a b c  =  pure f <*> a <*> b <*> c\n",
    "```"
   ]
  },
  {
   "attachments": {},
   "cell_type": "markdown",
   "id": "institutional-cache",
   "metadata": {},
   "source": [
    "Для функции одного аргумента подобная функция превращается в ещё один `fmap`:\n",
    "\n",
    "```haskell\n",
    "liftA :: Applicative f => (a -> b) -> f a -> f b\n",
    "liftA f a =  pure f <*> a\n",
    "```"
   ]
  },
  {
   "cell_type": "markdown",
   "id": "headed-closure",
   "metadata": {},
   "source": [
    "## Монады и последовательные вычисления"
   ]
  },
  {
   "attachments": {},
   "cell_type": "markdown",
   "id": "incorporated-fleece",
   "metadata": {},
   "source": [
    "Если мы хотим последовательно **применять разные функции** к некоторой структуре данных, то нам придется каждый раз «поднимать» очередную функцию в эту структуру с помощью `liftA` (или `fmap`)."
   ]
  },
  {
   "attachments": {},
   "cell_type": "markdown",
   "id": "strategic-words",
   "metadata": {},
   "source": [
    "Пусть, например, имеются 3 функции `f1, f2 и f3` типа `a -> Maybe a`. \n",
    "\n",
    "Мы хотим последовательно их применить к некоторому значению, но если в какой-то момент получается Nothing, то этот результат протаскивается дальше."
   ]
  },
  {
   "attachments": {},
   "cell_type": "markdown",
   "id": "behavioral-identity",
   "metadata": {},
   "source": [
    "```haskell\n",
    "(>>=) :: Maybe a -> (a -> Maybe a) -> Maybe a\n",
    "Nothing  >>= _   = Nothing\n",
    "(Just x) >>= f   = f x\n",
    "```"
   ]
  },
  {
   "attachments": {},
   "cell_type": "markdown",
   "id": "brilliant-notion",
   "metadata": {},
   "source": [
    "Тогда нужный результат получается так:\n",
    "\n",
    "```haskell\n",
    "pure x >>= f1 >>= f2 >>= f3\n",
    "```"
   ]
  },
  {
   "attachments": {},
   "cell_type": "markdown",
   "id": "democratic-browser",
   "metadata": {},
   "source": [
    "Если обобщить операцию `(>>=)` до произвольных структур, получим **класс `Monad`**:"
   ]
  },
  {
   "attachments": {},
   "cell_type": "markdown",
   "id": "centered-david",
   "metadata": {},
   "source": [
    "```haskell\n",
    "class Monad m where\n",
    "return  :: a -> m a -- поднятие до значения структуры данных\n",
    "(>>=)   :: m a -> (a -> m b) -> m b -- выполнение функции\n",
    "```"
   ]
  },
  {
   "attachments": {},
   "cell_type": "markdown",
   "id": "biblical-speaker",
   "metadata": {},
   "source": [
    "Операция `return` *поднимает значение в структуру данных (монаду)* так же, как это делала `pure` в *аппликативных функторах*, а **операция связывания (>>=)** *выполняет* заданную функцию `«под монадой»`.\n",
    "\n",
    "Класс `Monad` широко используется."
   ]
  },
  {
   "attachments": {},
   "cell_type": "markdown",
   "id": "twelve-broad",
   "metadata": {},
   "source": [
    "## Стандартные экземпляры и контракт для класса Monad"
   ]
  },
  {
   "attachments": {},
   "cell_type": "markdown",
   "id": "finnish-worth",
   "metadata": {},
   "source": [
    "Контракт дя класса `Monad` включает в себя следующие 4 правила:\n",
    "\n",
    "```haskell\n",
    "1. return value >>= f      == f value -- если мы берем значение и упрятываем в монаду а затем связываем f, то это то же самое, что и f к значению - будет Монада\n",
    "2. m >>= return            == m -- если мы берём некоторую функцию и погружаем её, то получаем Монаду\n",
    "3. m >>= (\\x -> f x >>= h) == (m >>= f) >>= h\n",
    "4. fmap f xs               == xs >>= return . f   -- для функторов\n",
    "```"
   ]
  },
  {
   "attachments": {},
   "cell_type": "markdown",
   "id": "experimental-night",
   "metadata": {},
   "source": [
    "Монада для Maybe\n",
    "\n",
    "```haskell\n",
    "instance Monad Maybe where\n",
    "return v       = Just v\n",
    "Nothing >>= _  = Nothing\n",
    "Just v  >>= f  = f v\n",
    "```\n",
    "\n",
    "Монада для списка\n",
    "\n",
    "```haskell\n",
    "instance Monad [] where\n",
    "return v       = [v]\n",
    "list >>= f     = foldr ((++) . f) [] list\n",
    "```\n",
    "\n",
    "Монада для `Either`\n",
    "\n",
    "```haskell\n",
    "instance Monad (Either e) where\n",
    "return              = Right\n",
    "Left  val >>= _     = Left val\n",
    "Right val >>= f     = f val\n",
    "```"
   ]
  },
  {
   "cell_type": "markdown",
   "id": "velvet-headquarters",
   "metadata": {},
   "source": [
    "## Ограниченный калькулятор"
   ]
  },
  {
   "cell_type": "markdown",
   "id": "lesser-court",
   "metadata": {},
   "source": [
    "Этот «калькулятор» вырабатывает правильный результат, только если он находится в интервале [0..100)"
   ]
  },
  {
   "cell_type": "code",
   "execution_count": 30,
   "id": "pediatric-steam",
   "metadata": {},
   "outputs": [],
   "source": [
    "calc :: Integral a => (a -> a) -> a -> Maybe a\n",
    "calc f x | result >= 0 && result < 100 = Just result\n",
    "         | otherwise                   = Nothing\n",
    "         where result = f x\n"
   ]
  },
  {
   "cell_type": "code",
   "execution_count": 31,
   "id": "extensive-selling",
   "metadata": {},
   "outputs": [
    {
     "data": {
      "text/html": [
       "<style>/* Styles used for the Hoogle display in the pager */\n",
       ".hoogle-doc {\n",
       "display: block;\n",
       "padding-bottom: 1.3em;\n",
       "padding-left: 0.4em;\n",
       "}\n",
       ".hoogle-code {\n",
       "display: block;\n",
       "font-family: monospace;\n",
       "white-space: pre;\n",
       "}\n",
       ".hoogle-text {\n",
       "display: block;\n",
       "}\n",
       ".hoogle-name {\n",
       "color: green;\n",
       "font-weight: bold;\n",
       "}\n",
       ".hoogle-head {\n",
       "font-weight: bold;\n",
       "}\n",
       ".hoogle-sub {\n",
       "display: block;\n",
       "margin-left: 0.4em;\n",
       "}\n",
       ".hoogle-package {\n",
       "font-weight: bold;\n",
       "font-style: italic;\n",
       "}\n",
       ".hoogle-module {\n",
       "font-weight: bold;\n",
       "}\n",
       ".hoogle-class {\n",
       "font-weight: bold;\n",
       "}\n",
       ".get-type {\n",
       "color: green;\n",
       "font-weight: bold;\n",
       "font-family: monospace;\n",
       "display: block;\n",
       "white-space: pre-wrap;\n",
       "}\n",
       ".show-type {\n",
       "color: green;\n",
       "font-weight: bold;\n",
       "font-family: monospace;\n",
       "margin-left: 1em;\n",
       "}\n",
       ".mono {\n",
       "font-family: monospace;\n",
       "display: block;\n",
       "}\n",
       ".err-msg {\n",
       "color: red;\n",
       "font-style: italic;\n",
       "font-family: monospace;\n",
       "white-space: pre;\n",
       "display: block;\n",
       "}\n",
       "#unshowable {\n",
       "color: red;\n",
       "font-weight: bold;\n",
       "}\n",
       ".err-msg.in.collapse {\n",
       "padding-top: 0.7em;\n",
       "}\n",
       ".highlight-code {\n",
       "white-space: pre;\n",
       "font-family: monospace;\n",
       "}\n",
       ".suggestion-warning { \n",
       "font-weight: bold;\n",
       "color: rgb(200, 130, 0);\n",
       "}\n",
       ".suggestion-error { \n",
       "font-weight: bold;\n",
       "color: red;\n",
       "}\n",
       ".suggestion-name {\n",
       "font-weight: bold;\n",
       "}\n",
       "</style><div class=\"suggestion-name\" style=\"clear:both;\">Monad law, left identity</div><div class=\"suggestion-row\" style=\"float: left;\"><div class=\"suggestion-warning\">Found:</div><div class=\"highlight-code\" id=\"haskell\">return 15 >>= calc (+ 10)</div></div><div class=\"suggestion-row\" style=\"float: left;\"><div class=\"suggestion-warning\">Why Not:</div><div class=\"highlight-code\" id=\"haskell\">calc (+ 10) 15</div></div>"
      ],
      "text/plain": [
       "Line 1: Monad law, left identity\n",
       "Found:\n",
       "return 15 >>= calc (+ 10)\n",
       "Why not:\n",
       "calc (+ 10) 15"
      ]
     },
     "metadata": {},
     "output_type": "display_data"
    },
    {
     "data": {
      "text/plain": [
       "Nothing"
      ]
     },
     "metadata": {},
     "output_type": "display_data"
    }
   ],
   "source": [
    "return 15 >>= calc (+10) >>= calc (*5) >>= calc (subtract 45)"
   ]
  },
  {
   "cell_type": "code",
   "execution_count": 32,
   "id": "gentle-spanish",
   "metadata": {},
   "outputs": [
    {
     "data": {
      "text/html": [
       "<style>/* Styles used for the Hoogle display in the pager */\n",
       ".hoogle-doc {\n",
       "display: block;\n",
       "padding-bottom: 1.3em;\n",
       "padding-left: 0.4em;\n",
       "}\n",
       ".hoogle-code {\n",
       "display: block;\n",
       "font-family: monospace;\n",
       "white-space: pre;\n",
       "}\n",
       ".hoogle-text {\n",
       "display: block;\n",
       "}\n",
       ".hoogle-name {\n",
       "color: green;\n",
       "font-weight: bold;\n",
       "}\n",
       ".hoogle-head {\n",
       "font-weight: bold;\n",
       "}\n",
       ".hoogle-sub {\n",
       "display: block;\n",
       "margin-left: 0.4em;\n",
       "}\n",
       ".hoogle-package {\n",
       "font-weight: bold;\n",
       "font-style: italic;\n",
       "}\n",
       ".hoogle-module {\n",
       "font-weight: bold;\n",
       "}\n",
       ".hoogle-class {\n",
       "font-weight: bold;\n",
       "}\n",
       ".get-type {\n",
       "color: green;\n",
       "font-weight: bold;\n",
       "font-family: monospace;\n",
       "display: block;\n",
       "white-space: pre-wrap;\n",
       "}\n",
       ".show-type {\n",
       "color: green;\n",
       "font-weight: bold;\n",
       "font-family: monospace;\n",
       "margin-left: 1em;\n",
       "}\n",
       ".mono {\n",
       "font-family: monospace;\n",
       "display: block;\n",
       "}\n",
       ".err-msg {\n",
       "color: red;\n",
       "font-style: italic;\n",
       "font-family: monospace;\n",
       "white-space: pre;\n",
       "display: block;\n",
       "}\n",
       "#unshowable {\n",
       "color: red;\n",
       "font-weight: bold;\n",
       "}\n",
       ".err-msg.in.collapse {\n",
       "padding-top: 0.7em;\n",
       "}\n",
       ".highlight-code {\n",
       "white-space: pre;\n",
       "font-family: monospace;\n",
       "}\n",
       ".suggestion-warning { \n",
       "font-weight: bold;\n",
       "color: rgb(200, 130, 0);\n",
       "}\n",
       ".suggestion-error { \n",
       "font-weight: bold;\n",
       "color: red;\n",
       "}\n",
       ".suggestion-name {\n",
       "font-weight: bold;\n",
       "}\n",
       "</style><div class=\"suggestion-name\" style=\"clear:both;\">Monad law, left identity</div><div class=\"suggestion-row\" style=\"float: left;\"><div class=\"suggestion-warning\">Found:</div><div class=\"highlight-code\" id=\"haskell\">return 15 >>= calc (+ 10)</div></div><div class=\"suggestion-row\" style=\"float: left;\"><div class=\"suggestion-warning\">Why Not:</div><div class=\"highlight-code\" id=\"haskell\">calc (+ 10) 15</div></div>"
      ],
      "text/plain": [
       "Line 1: Monad law, left identity\n",
       "Found:\n",
       "return 15 >>= calc (+ 10)\n",
       "Why not:\n",
       "calc (+ 10) 15"
      ]
     },
     "metadata": {},
     "output_type": "display_data"
    },
    {
     "data": {
      "text/plain": [
       "Just 30"
      ]
     },
     "metadata": {},
     "output_type": "display_data"
    }
   ],
   "source": [
    "return 15 >>= calc (+10) >>= calc (*3) >>= calc (subtract 45)\n"
   ]
  },
  {
   "cell_type": "code",
   "execution_count": 33,
   "id": "chinese-hundred",
   "metadata": {},
   "outputs": [
    {
     "data": {
      "text/html": [
       "<style>/* Styles used for the Hoogle display in the pager */\n",
       ".hoogle-doc {\n",
       "display: block;\n",
       "padding-bottom: 1.3em;\n",
       "padding-left: 0.4em;\n",
       "}\n",
       ".hoogle-code {\n",
       "display: block;\n",
       "font-family: monospace;\n",
       "white-space: pre;\n",
       "}\n",
       ".hoogle-text {\n",
       "display: block;\n",
       "}\n",
       ".hoogle-name {\n",
       "color: green;\n",
       "font-weight: bold;\n",
       "}\n",
       ".hoogle-head {\n",
       "font-weight: bold;\n",
       "}\n",
       ".hoogle-sub {\n",
       "display: block;\n",
       "margin-left: 0.4em;\n",
       "}\n",
       ".hoogle-package {\n",
       "font-weight: bold;\n",
       "font-style: italic;\n",
       "}\n",
       ".hoogle-module {\n",
       "font-weight: bold;\n",
       "}\n",
       ".hoogle-class {\n",
       "font-weight: bold;\n",
       "}\n",
       ".get-type {\n",
       "color: green;\n",
       "font-weight: bold;\n",
       "font-family: monospace;\n",
       "display: block;\n",
       "white-space: pre-wrap;\n",
       "}\n",
       ".show-type {\n",
       "color: green;\n",
       "font-weight: bold;\n",
       "font-family: monospace;\n",
       "margin-left: 1em;\n",
       "}\n",
       ".mono {\n",
       "font-family: monospace;\n",
       "display: block;\n",
       "}\n",
       ".err-msg {\n",
       "color: red;\n",
       "font-style: italic;\n",
       "font-family: monospace;\n",
       "white-space: pre;\n",
       "display: block;\n",
       "}\n",
       "#unshowable {\n",
       "color: red;\n",
       "font-weight: bold;\n",
       "}\n",
       ".err-msg.in.collapse {\n",
       "padding-top: 0.7em;\n",
       "}\n",
       ".highlight-code {\n",
       "white-space: pre;\n",
       "font-family: monospace;\n",
       "}\n",
       ".suggestion-warning { \n",
       "font-weight: bold;\n",
       "color: rgb(200, 130, 0);\n",
       "}\n",
       ".suggestion-error { \n",
       "font-weight: bold;\n",
       "color: red;\n",
       "}\n",
       ".suggestion-name {\n",
       "font-weight: bold;\n",
       "}\n",
       "</style><div class=\"suggestion-name\" style=\"clear:both;\">Monad law, left identity</div><div class=\"suggestion-row\" style=\"float: left;\"><div class=\"suggestion-warning\">Found:</div><div class=\"highlight-code\" id=\"haskell\">return 15 >>= calc (+ 10)</div></div><div class=\"suggestion-row\" style=\"float: left;\"><div class=\"suggestion-warning\">Why Not:</div><div class=\"highlight-code\" id=\"haskell\">calc (+ 10) 15</div></div>"
      ],
      "text/plain": [
       "Line 1: Monad law, left identity\n",
       "Found:\n",
       "return 15 >>= calc (+ 10)\n",
       "Why not:\n",
       "calc (+ 10) 15"
      ]
     },
     "metadata": {},
     "output_type": "display_data"
    },
    {
     "data": {
      "text/plain": [
       "Nothing"
      ]
     },
     "metadata": {},
     "output_type": "display_data"
    }
   ],
   "source": [
    "return 15 >>= calc (+10) >>= calc (+3) >>= calc (subtract 45)"
   ]
  }
 ],
 "metadata": {
  "kernelspec": {
   "display_name": "Haskell",
   "language": "haskell",
   "name": "haskell"
  },
  "language_info": {
   "codemirror_mode": "ihaskell",
   "file_extension": ".hs",
   "mimetype": "text/x-haskell",
   "name": "haskell",
   "pygments_lexer": "Haskell",
   "version": "8.8.4"
  }
 },
 "nbformat": 4,
 "nbformat_minor": 5
}
